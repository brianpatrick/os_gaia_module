{
 "cells": [
  {
   "cell_type": "code",
   "execution_count": null,
   "id": "43dcf733",
   "metadata": {},
   "outputs": [],
   "source": [
    "# PROCESS THE COMOVING STARS CATAOLOG:\n",
    "# https://zenodo.org/records/4435257\n",
    "# https://academic.oup.com/mnras/article/506/2/2269/6131876#\n",
    "#\n",
    "# ZACK REEVES\n",
    "# CREATED: 2024\n",
    "#\n",
    "# VERSIONS:\n",
    "#  1.1  JAN 2024 CREATE JUPYTER NOTEBOOK"
   ]
  },
  {
   "cell_type": "code",
   "execution_count": null,
   "id": "810c29aa",
   "metadata": {},
   "outputs": [],
   "source": [
    "# **STEPS TO RUN THIS CODE**\n",
    "\n",
    "# There are two ways you can generate this catalog:\n",
    "\n",
    "# The first (more straightforward) is to go to the above zenodo link to download the catalog\n",
    "# Download 'all_columns_catalog.fits.gz' - the csv.gz seems to be corrupt\n",
    "\n",
    "# The second way can be useful for updates with future data releases, but there are some kinks\n",
    "# Run el_badry_query.py, then run num_neighbors_edr3.py, then run find_binaries_edr3.py, which should generate the catalog\n",
    "\n",
    "# Once the catalog is obtained, run the rest of the processing code.  There should be ~1.8 million binary systems or >3 million stars, so it can be slow\n",
    "\n",
    "# If any errors occur, consider slicing the data down to the first 1000 rows (data[:1000]) to debug\n",
    "# Can also add \"select TOP 1000\" to the query to grab 1000 stars for testing"
   ]
  },
  {
   "cell_type": "code",
   "execution_count": null,
   "id": "bbbae899",
   "metadata": {},
   "outputs": [],
   "source": [
    "# Define the metadata for the data set. \n",
    "metadata = {}\n",
    "\n",
    "metadata['project'] = 'Digital Universe Atlas'\n",
    "metadata['sub_project'] = 'Comoving Stars'\n",
    "\n",
    "metadata['catalog'] = 'A million binaries from Gaia eDR3: sample selection and validation of Gaia parallax uncertainties (El-Badry+, 2021)'\n",
    "metadata['catalog_author'] = 'El-Badry+'\n",
    "metadata['catalog_year'] = '2021'\n",
    "metadata['catalog_doi'] = 'https://doi.org/10.1093/mnras/stab323'\n",
    "metadata['catalog_bibcode'] = '2021MNRAS.506.2269E'\n",
    "\n",
    "\n",
    "metadata['prepared_by'] = 'Zack Reeves (AMNH)'\n",
    "metadata['version'] = '1.1'\n",
    "\n",
    "metadata['dir'] = metadata['sub_project'].replace(' ', '_').lower()\n",
    "metadata['raw_data_dir'] = ''\n",
    "\n",
    "metadata['data_group_title'] = 'ComovingStars'\n",
    "metadata['data_group_desc'] = 'Comoving Star catalog'\n",
    "metadata['data_group_desc_long'] = 'Comoving Star catalog'\n",
    "metadata['fileroot'] = 'comov'\n",
    "\n",
    "file_functions.generate_license_file(metadata)\n",
    "file_functions.generate_asset_file(metadata)"
   ]
  },
  {
   "cell_type": "code",
   "execution_count": null,
   "id": "0e37b15e",
   "metadata": {},
   "outputs": [],
   "source": [
    "import pandas as pd\n",
    "import numpy as np\n",
    "import sys\n",
    "import collections\n",
    "\n",
    "from matplotlib import pyplot as plt, colors\n",
    "\n",
    "from astroquery.gaia import Gaia\n",
    "from astroquery.utils.tap.core import TapPlus\n",
    "\n",
    "from astropy.io import fits\n",
    "import astropy.table as table\n",
    "from astropy.table import Table, vstack\n",
    "\n",
    "sys.path.insert(0, '..')\n",
    "from common import file_functions, calculations, gaia_functions"
   ]
  },
  {
   "cell_type": "code",
   "execution_count": null,
   "id": "1e76256a",
   "metadata": {},
   "outputs": [],
   "source": [
    "# The following 4 cells are method 2 for generating the catalog - uncomment if you want to do it that way"
   ]
  },
  {
   "cell_type": "code",
   "execution_count": null,
   "id": "c2d0e5c8",
   "metadata": {},
   "outputs": [],
   "source": [
    "# #running code with -i allows us to run the .py files in the same namespace as our .ipynb\n",
    "# %run -i el_badry_query.py"
   ]
  },
  {
   "cell_type": "code",
   "execution_count": null,
   "id": "ed2af05f",
   "metadata": {},
   "outputs": [],
   "source": [
    "# data = Table.read('raw_data/1719240801275O-result.vot.gz') #edit with query results file name\n",
    "# data.write('raw_data/edr3_parallax_snr5_goodG.csv')"
   ]
  },
  {
   "cell_type": "code",
   "execution_count": null,
   "id": "9bbec586",
   "metadata": {
    "scrolled": true
   },
   "outputs": [],
   "source": [
    "# #running code with -i allows us to run the .py files in the same namespace as our .ipynb\n",
    "# %run -i num_neighbors_edr3.py"
   ]
  },
  {
   "cell_type": "code",
   "execution_count": null,
   "id": "81b716ee",
   "metadata": {},
   "outputs": [],
   "source": [
    "# %run -i find_binaries_edr3.py"
   ]
  },
  {
   "cell_type": "code",
   "execution_count": null,
   "id": "5dbd7a71",
   "metadata": {},
   "outputs": [],
   "source": [
    "# Method 1 - download 'all_columns_catalog.fits.gz' from https://zenodo.org/records/4435257\n",
    "# Make sure you grab the FITS.gz!!\n",
    "\n",
    "#Uncomment these lines if you want to see all of the columns in the table\n",
    "#binaries_table = Table.read('raw_data/all_columns_catalog.fits.gz')\n",
    "#binaries = binaries_table[['source_id1', 'source_id2', 'ra1', 'ra2', 'dec1', 'dec2', 'parallax1', 'parallax2', 'parallax_error1', 'parallax_error2', 'pmra1', 'pmra2', 'pmdec1', 'pmdec2', 'dr2_radial_velocity1', 'dr2_radial_velocity2', 'phot_g_mean_mag1', 'phot_g_mean_mag2', 'bp_rp1', 'bp_rp2']]\n",
    "\n",
    "#pares the table down to just the columns we want\n",
    "binaries = Table.read('raw_data/all_columns_catalog.fits.gz')[['source_id1', 'source_id2', 'ra1', 'ra2', 'dec1', 'dec2', 'parallax1', 'parallax2', 'parallax_error1', 'parallax_error2', 'pmra1', 'pmra2', 'pmdec1', 'pmdec2', 'dr2_radial_velocity1', 'dr2_radial_velocity2', 'phot_g_mean_mag1', 'phot_g_mean_mag2', 'bp_rp1', 'bp_rp2']]"
   ]
  },
  {
   "cell_type": "code",
   "execution_count": null,
   "id": "7f4ebffc",
   "metadata": {},
   "outputs": [],
   "source": [
    "binaries"
   ]
  },
  {
   "cell_type": "code",
   "execution_count": null,
   "id": "7536fa14",
   "metadata": {},
   "outputs": [],
   "source": [
    "#creating a table for the primary stars in the system\n",
    "data_1 = binaries[['source_id1', 'ra1', 'dec1', 'parallax1', 'parallax_error1', 'pmra1', 'pmdec1', 'dr2_radial_velocity1', 'phot_g_mean_mag1', 'bp_rp1']]"
   ]
  },
  {
   "cell_type": "code",
   "execution_count": null,
   "id": "fd7aa8be",
   "metadata": {},
   "outputs": [],
   "source": [
    "#creating a table for the secondary stars in the system\n",
    "data_2 = binaries[['source_id2', 'ra2', 'dec2', 'parallax2', 'parallax_error2', 'pmra2', 'pmdec2', 'dr2_radial_velocity2', 'phot_g_mean_mag2', 'bp_rp2']]"
   ]
  },
  {
   "cell_type": "code",
   "execution_count": null,
   "id": "525abbf1",
   "metadata": {},
   "outputs": [],
   "source": [
    "#renaming columns to remove the 1s and 2s to facilitate table stacking\n",
    "data_1.rename_columns(['source_id1', 'ra1', 'dec1', 'parallax1', 'parallax_error1', 'pmra1', 'pmdec1', 'dr2_radial_velocity1', 'phot_g_mean_mag1', 'bp_rp1'], ['source_id', 'ra', 'dec', 'parallax', 'parallax_error', 'pmra', 'pmdec', 'dr2_radial_velocity', 'phot_g_mean_mag', 'bp_rp']),\n",
    "data_2.rename_columns(['source_id2', 'ra2', 'dec2', 'parallax2', 'parallax_error2', 'pmra2', 'pmdec2', 'dr2_radial_velocity2', 'phot_g_mean_mag2', 'bp_rp2'], ['source_id', 'ra', 'dec', 'parallax', 'parallax_error', 'pmra', 'pmdec', 'dr2_radial_velocity', 'phot_g_mean_mag', 'bp_rp'])"
   ]
  },
  {
   "cell_type": "code",
   "execution_count": null,
   "id": "d2833007",
   "metadata": {},
   "outputs": [],
   "source": [
    "#adding a column to indicate which stars are primary or secondary\n",
    "data_1['binary_index']=[str(i)+'_1' for i in range(len(binaries))]\n",
    "data_2['binary_index']=[str(i)+'_2' for i in range(len(binaries))]"
   ]
  },
  {
   "cell_type": "code",
   "execution_count": null,
   "id": "32d397be",
   "metadata": {},
   "outputs": [],
   "source": [
    "#stacking the tables together for one whole dataset\n",
    "data = vstack([data_1, data_2])"
   ]
  },
  {
   "cell_type": "code",
   "execution_count": null,
   "id": "eacc52af",
   "metadata": {},
   "outputs": [],
   "source": [
    "data"
   ]
  },
  {
   "cell_type": "code",
   "execution_count": null,
   "id": "10014523",
   "metadata": {},
   "outputs": [],
   "source": [
    "#calculating distance in light years and parsecs\n",
    "#this dataset only uses gaia parallaxes to calculate distance to avoid the cpmutational expense of uploading >3 million stars to grab BJ distances\n",
    "calculations.get_distance(data, parallax='parallax', use='parallax')\n",
    "\n",
    "#setting metadata for dcalc\n",
    "data['dcalc'] = data.Column([3]*len(data),\n",
    "                            meta=collections.OrderedDict([('ucd', 'meta.dcalc')]),\n",
    "                            description='Distance Indicator: 1 indicates a Bailer-Jones photogeometric distance; 2 indicates a Bailer-Jones geometric distance; 3 indicates a Gaia parallax-based distance')"
   ]
  },
  {
   "cell_type": "code",
   "execution_count": null,
   "id": "5496456d",
   "metadata": {},
   "outputs": [],
   "source": [
    "#calculating cartesian coordinates\n",
    "calculations.get_cartesian(data, ra='ra', dec='dec', pmra='pmra', pmde='pmdec', radial_velocity='dr2_radial_velocity', frame='icrs')"
   ]
  },
  {
   "cell_type": "code",
   "execution_count": null,
   "id": "48d0ce7c",
   "metadata": {},
   "outputs": [],
   "source": [
    "#2D Visualization\n",
    "fig, ax = plt.subplots(1, 2)\n",
    "\n",
    "#XY Plane\n",
    "ax[0].scatter(data['x'], data['y'])\n",
    "ax[0].set_title('XY Plane')\n",
    "\n",
    "#XZ Plane\n",
    "ax[1].scatter(data['x'], data['z'])\n",
    "ax[1].set_title('XZ Plane')\n",
    "\n",
    "#set good spacing\n",
    "fig.tight_layout()\n",
    "fig.set_size_inches(10, 4, forward=True)\n",
    "plt.show"
   ]
  },
  {
   "cell_type": "code",
   "execution_count": null,
   "id": "e555a396",
   "metadata": {},
   "outputs": [],
   "source": [
    "#2D Density Visualization\n",
    "fig, ax = plt.subplots(1, 2)\n",
    "\n",
    "#XY Plane\n",
    "ax[0].hist2d(data['x'], data['y'], \n",
    "           bins = 200,  \n",
    "           norm = colors.LogNorm(),  \n",
    "           cmap = \"RdYlGn_r\",) \n",
    "ax[0].set_title('XY Plane')\n",
    "\n",
    "#XZ Plane\n",
    "ax[1].hist2d(data['x'], data['z'], \n",
    "           bins = 200,  \n",
    "           norm = colors.LogNorm(),  \n",
    "           cmap = \"RdYlGn_r\",) \n",
    "ax[1].set_title('XZ Plane')\n",
    "\n",
    "#set good spacing\n",
    "fig.tight_layout()\n",
    "fig.set_size_inches(10, 4, forward=True)\n",
    "#plt.show"
   ]
  },
  {
   "cell_type": "code",
   "execution_count": null,
   "id": "abc688b9",
   "metadata": {},
   "outputs": [],
   "source": [
    "# data quality test\n",
    "data['error_over_parallax']=[data['parallax_error'][i]/data['parallax'][i] for i in range(len(data))]\n",
    "len(data[data['error_over_parallax']>0.15])"
   ]
  },
  {
   "cell_type": "code",
   "execution_count": null,
   "id": "f4f50c2a",
   "metadata": {},
   "outputs": [],
   "source": [
    "gaia_functions.get_magnitudes(data)\n",
    "gaia_functions.get_luminosity(data)\n",
    "gaia_functions.get_bp_g_color(data, color='bp_rp')"
   ]
  },
  {
   "cell_type": "code",
   "execution_count": null,
   "id": "2274686c",
   "metadata": {},
   "outputs": [],
   "source": [
    "#construct a speck comment column\n",
    "data['speck_label'] = data.Column(data=['#__'+str(name) for name in data['source_id']], \n",
    "                                  meta=collections.OrderedDict([('ucd', 'meta.id')]),\n",
    "                                  description='Gaia EDR3 Source ID')\n",
    "\n",
    "#construct a label column\n",
    "data['label'] = ['GaiaEDR3_'+ str(source) for source in data['source_id']]  #leaving for now in case we want to add other labels"
   ]
  },
  {
   "cell_type": "code",
   "execution_count": null,
   "id": "3e508427",
   "metadata": {},
   "outputs": [],
   "source": [
    "#setting texture number column\n",
    "data['texnum'] = data.Column(data=[1]*len(data), \n",
    "                                  meta=collections.OrderedDict([('ucd', 'meta.texnum')]),\n",
    "                                  description='Texture Number')"
   ]
  },
  {
   "cell_type": "code",
   "execution_count": null,
   "id": "c0d2c88f",
   "metadata": {},
   "outputs": [],
   "source": [
    "#Getting the column metadata\n",
    "columns = file_functions.get_metadata(data, columns=['x', 'y', 'z', 'color', 'lum', 'absmag', 'appmag', 'texnum', 'dist_ly', 'dcalc', 'u', 'v', 'w', 'speed', 'speck_label'])\n",
    "columns"
   ]
  },
  {
   "cell_type": "code",
   "execution_count": null,
   "id": "2b4b6556",
   "metadata": {},
   "outputs": [],
   "source": [
    "# Print the speck file using the to_speck function in file_functions\n",
    "file_functions.to_speck(metadata, Table.to_pandas(data), columns)"
   ]
  },
  {
   "cell_type": "code",
   "execution_count": null,
   "id": "f256aec4",
   "metadata": {},
   "outputs": [],
   "source": [
    "# Print the label file using the to_label function in file_functions\n",
    "file_functions.to_label(metadata, Table.to_pandas(data))"
   ]
  },
  {
   "cell_type": "code",
   "execution_count": null,
   "id": "44d752aa",
   "metadata": {},
   "outputs": [],
   "source": [
    "# Print the csv file using the to_csv function in file_functions\n",
    "file_functions.to_csv(metadata, Table.to_pandas(data), columns)"
   ]
  }
 ],
 "metadata": {
  "kernelspec": {
   "display_name": "Python 3 (ipykernel)",
   "language": "python",
   "name": "python3"
  },
  "language_info": {
   "codemirror_mode": {
    "name": "ipython",
    "version": 3
   },
   "file_extension": ".py",
   "mimetype": "text/x-python",
   "name": "python",
   "nbconvert_exporter": "python",
   "pygments_lexer": "ipython3",
   "version": "3.11.7"
  }
 },
 "nbformat": 4,
 "nbformat_minor": 5
}

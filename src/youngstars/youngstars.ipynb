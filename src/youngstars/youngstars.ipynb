{
 "cells": [
  {
   "cell_type": "code",
   "execution_count": null,
   "id": "6a0da7c8",
   "metadata": {},
   "outputs": [],
   "source": [
    "# PROCESS THE YOUNG STARS CATAOLOG:\n",
    "# https://cdsarc.cds.unistra.fr/viz-bin/cat/J/A+A/620/A172\n",
    "#\n",
    "#\n",
    "# ZACK REEVES\n",
    "# CREATED: 2023\n",
    "#\n",
    "# VERSIONS:\n",
    "#  1.1  OCT 2023 CREATE JUPYTER NOTEBOOK"
   ]
  },
  {
   "cell_type": "code",
   "execution_count": null,
   "id": "75a2d7ca",
   "metadata": {},
   "outputs": [],
   "source": [
    "import pandas as pd\n",
    "import numpy as np\n",
    "import sys\n",
    "import collections\n",
    "\n",
    "from astropy.io import ascii\n",
    "import astropy.units as u\n",
    "import astropy.coordinates\n",
    "from astropy.coordinates import Angle\n",
    "from astropy.table import unique, vstack, Table, join\n",
    "\n",
    "from astroquery.vizier import Vizier\n",
    "\n",
    "sys.path.insert(0, '..')\n",
    "from common import file_functions, calculations, get_bailer_jones, gaia_functions\n",
    "\n",
    "from matplotlib import pyplot as plt, colors"
   ]
  },
  {
   "cell_type": "code",
   "execution_count": null,
   "id": "8b78cae2",
   "metadata": {},
   "outputs": [],
   "source": [
    "# Define the metadata for the data set.  NEED TO EDIT\n",
    "#https://www.aanda.org/articles/aa/full_html/2023/06/aa43964-22/aa43964-22.html\n",
    "metadata = {}\n",
    "\n",
    "metadata['project'] = 'Digital Universe Atlas Gaia Subsets'\n",
    "metadata['sub_project'] = 'Young Stars'\n",
    "\n",
    "metadata['catalog'] = '3D mapping of young stars in the solar neighbourhood with Gaia DR2 (Zari+, 2023)'  #need to edit\n",
    "metadata['catalog_author'] = 'Zari+'\n",
    "metadata['catalog_year'] = '2023'\n",
    "metadata['catalog_doi'] = 'doi:10.1051/0004-6361/202039498' #need to fix\n",
    "metadata['catalog_bibcode'] = '2021A&A...649A...6G' #need to fix\n",
    "\n",
    "metadata['prepared_by'] = 'Brian Abbott, Zack Reeves'\n",
    "metadata['version'] = '1.1'\n",
    "\n",
    "metadata['dir'] = metadata['sub_project'].replace(' ', '_').lower()\n",
    "metadata['raw_data_dir'] = ''\n",
    "\n",
    "metadata['data_group_title'] = 'Young'\n",
    "metadata['data_group_desc'] = 'Young Stars'\n",
    "metadata['data_group_desc_long'] = 'Young Stars in the Milky Way mapped by Gaia'\n",
    "metadata['fileroot'] = 'young'\n",
    "\n",
    "file_functions.generate_asset_file(metadata)\n",
    "file_functions.generate_license_file(metadata)"
   ]
  },
  {
   "cell_type": "code",
   "execution_count": null,
   "id": "75556a06",
   "metadata": {},
   "outputs": [],
   "source": [
    "#Reading in the catalog with Vizier\n",
    "#We specify the row limit to make sure we get all the stars in the catalog\n",
    "#We place constraints on the Parallax as a preliminary thresh\n",
    "#We specify columns = ['**'] to get all of the columns, not just the default ones\n",
    "catalog = Vizier(catalog='J/A+A/620/A172', columns=['**'], row_limit=-1).query_constraints(Plx='> 0.0')"
   ]
  },
  {
   "cell_type": "code",
   "execution_count": null,
   "id": "16d5a196",
   "metadata": {},
   "outputs": [],
   "source": [
    "#This catalog comes with 4 tables:\n",
    "# - Pre main sequence (has SIMBAD column)\n",
    "# - Upper main sequence (has SIMBAD column)\n",
    "# - Pre main sequence S=2 tangential velocity\n",
    "# - Pre main sequence S=3 tangential velocity\n",
    "\n",
    "#We first label each object with the table it came from\n",
    "catalog[0]['table'] = catalog[0].Column(data=['Pre-main sequence']*len(catalog[0]),\n",
    "                                        meta = collections.OrderedDict([('ucd', 'meta.table')]),\n",
    "                                        description='Catalog Table')\n",
    "\n",
    "catalog[1]['table'] = catalog[1].Column(data=['Upper main sequence']*len(catalog[1]),\n",
    "                                        meta = collections.OrderedDict([('ucd', 'meta.table')]),\n",
    "                                        description='Catalog Table')\n",
    "\n",
    "catalog[2]['table'] = catalog[2].Column(data=['Pre-main sequence S=2']*len(catalog[2]),\n",
    "                                        meta = collections.OrderedDict([('ucd', 'meta.table')]),\n",
    "                                        description='Catalog Table')\n",
    "\n",
    "catalog[3]['table'] = catalog[3].Column(data=['Pre-main sequence S=3']*len(catalog[3]),\n",
    "                                        meta = collections.OrderedDict([('ucd', 'meta.table')]),\n",
    "                                        description='Catalog Table')\n",
    "\n",
    "\n",
    "#We concatenate these tables into one for a full catalog\n",
    "#Some stars exist in multiple tables and present as duplicate objects\n",
    "#We remove duplicate objects using the unique function\n",
    "data = unique(vstack([catalog[0], catalog[1], catalog[2], catalog[3]], \n",
    "              metadata_conflicts='silent'), keys='Source', keep='first')"
   ]
  },
  {
   "cell_type": "code",
   "execution_count": null,
   "id": "74478176",
   "metadata": {
    "scrolled": true
   },
   "outputs": [],
   "source": [
    "data"
   ]
  },
  {
   "cell_type": "code",
   "execution_count": null,
   "id": "6fbc6106",
   "metadata": {},
   "outputs": [],
   "source": [
    "#querying Gaia for bailer-jones distances\n",
    "distances = get_bailer_jones.get_bj_distances(data, source_id='Source')\n",
    "distances"
   ]
  },
  {
   "cell_type": "code",
   "execution_count": null,
   "id": "93b76200",
   "metadata": {},
   "outputs": [],
   "source": [
    "data = join(data, distances, keys='Source', join_type='inner')"
   ]
  },
  {
   "cell_type": "code",
   "execution_count": null,
   "id": "8b0debd6",
   "metadata": {},
   "outputs": [],
   "source": [
    "gaia_functions.set_bj_distance(data)"
   ]
  },
  {
   "cell_type": "code",
   "execution_count": null,
   "id": "717a3dc4",
   "metadata": {},
   "outputs": [],
   "source": [
    "# #fixing parallax units (Vizier labels it as a magnitude, probably meant milliarcseconds (mag versus mas))\n",
    "# data['Plx'].unit=u.mas"
   ]
  },
  {
   "cell_type": "code",
   "execution_count": null,
   "id": "ad0be52a",
   "metadata": {},
   "outputs": [],
   "source": [
    "# #thresh on parallax error (cutting on >10% error removes 1614 stars)\n",
    "# data['parallax_over_error'] = [data['Plx'][i] / data['e_Plx'][i] for i in range(len(data))]\n",
    "# data.remove_rows(np.where(data['parallax_over_error']<10)[0])"
   ]
  },
  {
   "cell_type": "code",
   "execution_count": null,
   "id": "d498eeb5",
   "metadata": {},
   "outputs": [],
   "source": [
    "#calculating distance in light years and parsecs\n",
    "#calculations.get_distance(data, parallax='Plx', use='parallax')"
   ]
  },
  {
   "cell_type": "code",
   "execution_count": null,
   "id": "095ea6de",
   "metadata": {},
   "outputs": [],
   "source": [
    "calculations.get_distance(data, dist='bj_distance', use='distance')"
   ]
  },
  {
   "cell_type": "code",
   "execution_count": null,
   "id": "f648b1d6",
   "metadata": {},
   "outputs": [],
   "source": [
    "len(data)"
   ]
  },
  {
   "cell_type": "code",
   "execution_count": null,
   "id": "04fd436c",
   "metadata": {},
   "outputs": [],
   "source": [
    "#threshing on distance\n",
    "data.remove_rows(np.where(data['dist_pc']<0.10)[0])"
   ]
  },
  {
   "cell_type": "code",
   "execution_count": null,
   "id": "af7a02d8",
   "metadata": {},
   "outputs": [],
   "source": [
    "data"
   ]
  },
  {
   "cell_type": "code",
   "execution_count": null,
   "id": "d3adc371",
   "metadata": {},
   "outputs": [],
   "source": [
    "#calculating cartesian coordinates\n",
    "calculations.get_cartesian(data, glon='GLON', glat='GLAT', pmglon='pmGLON', pmglat='pmGLAT', \n",
    "                           radial_velocity='RV', frame='galactic')"
   ]
  },
  {
   "cell_type": "code",
   "execution_count": null,
   "id": "e2b930f7",
   "metadata": {},
   "outputs": [],
   "source": [
    "gaia_functions.get_magnitudes(data, gmag='Gmag')\n",
    "gaia_functions.get_luminosity(data)\n",
    "data['bp_rp'] = [data['BPmag'][i] - data['RPmag'][i] for i in range(len(data))]\n",
    "gaia_functions.get_bp_g_color(data, color='bp_rp')"
   ]
  },
  {
   "cell_type": "code",
   "execution_count": null,
   "id": "fb48a30d",
   "metadata": {},
   "outputs": [],
   "source": [
    "#2D Visualization\n",
    "fig, ax = plt.subplots(1, 2)\n",
    "\n",
    "#XY Plane\n",
    "ax[0].scatter(data['x'], data['y'])\n",
    "ax[0].set_title('XY Plane')\n",
    "\n",
    "#XZ Plane\n",
    "ax[1].scatter(data['x'], data['z'])\n",
    "ax[1].set_title('XZ Plane')\n",
    "\n",
    "#set good spacing\n",
    "fig.tight_layout()\n",
    "fig.set_size_inches(10, 4, forward=True)\n",
    "plt.show"
   ]
  },
  {
   "cell_type": "code",
   "execution_count": null,
   "id": "6233bb94",
   "metadata": {},
   "outputs": [],
   "source": [
    "#2D Density Visualization\n",
    "fig, ax = plt.subplots(1, 2)\n",
    "\n",
    "#XY Plane\n",
    "ax[0].hist2d(data['x'], data['y'], \n",
    "           bins = 200,  \n",
    "           norm = colors.LogNorm(),  \n",
    "           cmap = \"RdYlGn_r\",) \n",
    "ax[0].set_title('XY Plane')\n",
    "\n",
    "#XZ Plane\n",
    "ax[1].hist2d(data['x'], data['z'], \n",
    "           bins = 200,  \n",
    "           norm = colors.LogNorm(),  \n",
    "           cmap = \"RdYlGn_r\",) \n",
    "ax[1].set_title('XZ Plane')\n",
    "\n",
    "#set good spacing\n",
    "fig.tight_layout()\n",
    "fig.set_size_inches(10, 4, forward=True)\n",
    "plt.show"
   ]
  },
  {
   "cell_type": "code",
   "execution_count": null,
   "id": "bb861b17",
   "metadata": {},
   "outputs": [],
   "source": [
    "#setting texture number column\n",
    "data['texnum'] = data.Column(data=[1]*len(data), \n",
    "                                  meta=collections.OrderedDict([('ucd', 'meta.texnum')]),\n",
    "                                  description='Texture Number')"
   ]
  },
  {
   "cell_type": "code",
   "execution_count": null,
   "id": "cad20ddf",
   "metadata": {},
   "outputs": [],
   "source": [
    "#construct a speck comment column\n",
    "data['speck_label'] = data.Column(data=['#__'+str(name) for name in data['Source']], \n",
    "                                  meta=collections.OrderedDict([('ucd', 'meta.id')]),\n",
    "                                 description='Gaia DR2 Source ID')\n",
    "\n",
    "#construct a label column\n",
    "data['label'] = ['GaiaDR2_'+ str(source) for source in data['Source']]  #leaving for now in case we want to add other labels"
   ]
  },
  {
   "cell_type": "code",
   "execution_count": null,
   "id": "907cce81",
   "metadata": {},
   "outputs": [],
   "source": [
    "#construct a metadata table\n",
    "columns = file_functions.get_metadata(data, columns=['x', 'y', 'z', 'color', 'lum', 'appmag', 'absmag', 'texnum', 'dist_ly', 'dcalc', 'u', 'v', 'w', 'speed', 'speck_label'])\n",
    "columns"
   ]
  },
  {
   "cell_type": "code",
   "execution_count": null,
   "id": "ed39a102",
   "metadata": {},
   "outputs": [],
   "source": [
    "# Print the speck file using the to_speck function in file_functions\n",
    "file_functions.to_speck(metadata, Table.to_pandas(data), columns)"
   ]
  },
  {
   "cell_type": "code",
   "execution_count": null,
   "id": "b2641509",
   "metadata": {},
   "outputs": [],
   "source": [
    "# Print the label file using the to_label function in file_functions\n",
    "file_functions.to_label(metadata, Table.to_pandas(data))"
   ]
  },
  {
   "cell_type": "code",
   "execution_count": null,
   "id": "9a7904f4",
   "metadata": {},
   "outputs": [],
   "source": [
    "# Print the csv file using the to_label function in file_functions\n",
    "file_functions.to_csv(metadata, Table.to_pandas(data), columns)"
   ]
  },
  {
   "cell_type": "code",
   "execution_count": null,
   "id": "fc71f914",
   "metadata": {},
   "outputs": [],
   "source": []
  }
 ],
 "metadata": {
  "kernelspec": {
   "display_name": "Python 3 (ipykernel)",
   "language": "python",
   "name": "python3"
  },
  "language_info": {
   "codemirror_mode": {
    "name": "ipython",
    "version": 3
   },
   "file_extension": ".py",
   "mimetype": "text/x-python",
   "name": "python",
   "nbconvert_exporter": "python",
   "pygments_lexer": "ipython3",
   "version": "3.11.7"
  }
 },
 "nbformat": 4,
 "nbformat_minor": 5
}

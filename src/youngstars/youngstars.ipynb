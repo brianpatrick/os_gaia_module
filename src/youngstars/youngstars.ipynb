{
 "cells": [
  {
   "cell_type": "code",
   "execution_count": 1,
   "id": "6a0da7c8",
   "metadata": {},
   "outputs": [],
   "source": [
    "# PROCESS THE YOUNG STARS CATAOLOG:\n",
    "# https://cdsarc.cds.unistra.fr/viz-bin/cat/J/A+A/620/A172\n",
    "#\n",
    "#\n",
    "# ZACK REEVES\n",
    "# CREATED: 2023\n",
    "#\n",
    "# VERSIONS:\n",
    "#  1.1  OCT 2023 CREATE JUPYTER NOTEBOOK"
   ]
  },
  {
   "cell_type": "code",
   "execution_count": 2,
   "id": "75a2d7ca",
   "metadata": {},
   "outputs": [],
   "source": [
    "import pandas as pd\n",
    "import numpy as np\n",
    "import sys\n",
    "import collections\n",
    "\n",
    "from astropy.io import ascii\n",
    "import astropy.units as u\n",
    "import astropy.coordinates\n",
    "from astropy.coordinates import Angle\n",
    "from astropy.table import unique, vstack, Table, join\n",
    "\n",
    "from astroquery.vizier import Vizier\n",
    "\n",
    "sys.path.insert(0, '..')\n",
    "from common import file_functions, calculations, get_bailer_jones, gaia_functions\n",
    "\n",
    "from matplotlib import pyplot as plt, colors"
   ]
  },
  {
   "cell_type": "code",
   "execution_count": 3,
   "id": "8b78cae2",
   "metadata": {},
   "outputs": [],
   "source": [
    "# Define the metadata for the data set.  NEED TO EDIT\n",
    "#https://www.aanda.org/articles/aa/full_html/2023/06/aa43964-22/aa43964-22.html\n",
    "metadata = {}\n",
    "\n",
    "metadata['project'] = 'Digital Universe Atlas Gaia Subsets'\n",
    "metadata['sub_project'] = 'Young Stars'\n",
    "\n",
    "metadata['catalog'] = '3D mapping of young stars in the solar neighbourhood with Gaia DR2 (Zari+, 2023)'  #need to edit\n",
    "metadata['catalog_author'] = 'Zari+'\n",
    "metadata['catalog_year'] = '2023'\n",
    "metadata['catalog_doi'] = 'doi:10.1051/0004-6361/202039498' #need to fix\n",
    "metadata['catalog_bibcode'] = '2021A&A...649A...6G' #need to fix\n",
    "\n",
    "metadata['prepared_by'] = 'Brian Abbott, Zack Reeves'\n",
    "metadata['version'] = '1.1'\n",
    "\n",
    "metadata['dir'] = metadata['sub_project'].replace(' ', '_').lower()\n",
    "metadata['raw_data_dir'] = ''\n",
    "\n",
    "metadata['data_group_title'] = 'Young'\n",
    "metadata['data_group_desc'] = 'Young Stars'\n",
    "metadata['data_group_desc_long'] = 'Young Stars in the Milky Way mapped by Gaia'\n",
    "metadata['fileroot'] = 'young_stars'\n",
    "\n",
    "file_functions.generate_asset_file(metadata)\n",
    "file_functions.generate_license_file(metadata)"
   ]
  },
  {
   "cell_type": "code",
   "execution_count": 4,
   "id": "75556a06",
   "metadata": {},
   "outputs": [],
   "source": [
    "#Reading in the catalog with Vizier\n",
    "#We specify the row limit to make sure we get all the stars in the catalog\n",
    "#We place constraints on the Parallax as a preliminary thresh\n",
    "#We specify columns = ['**'] to get all of the columns, not just the default ones\n",
    "catalog = Vizier(catalog='J/A+A/620/A172', columns=['**'], row_limit=-1).query_constraints(Plx='> 0.0')"
   ]
  },
  {
   "cell_type": "code",
   "execution_count": 5,
   "id": "16d5a196",
   "metadata": {},
   "outputs": [],
   "source": [
    "#This catalog comes with 4 tables:\n",
    "# - Pre main sequence (has SIMBAD column)\n",
    "# - Upper main sequence (has SIMBAD column)\n",
    "# - Pre main sequence S=2 tangential velocity\n",
    "# - Pre main sequence S=3 tangential velocity\n",
    "\n",
    "#We first label each object with the table it came from\n",
    "catalog[0]['table'] = catalog[0].Column(data=['Pre-main sequence']*len(catalog[0]),\n",
    "                                        meta = collections.OrderedDict([('ucd', 'meta.table')]),\n",
    "                                        description='Catalog Table')\n",
    "\n",
    "catalog[1]['table'] = catalog[1].Column(data=['Upper main sequence']*len(catalog[1]),\n",
    "                                        meta = collections.OrderedDict([('ucd', 'meta.table')]),\n",
    "                                        description='Catalog Table')\n",
    "\n",
    "catalog[2]['table'] = catalog[2].Column(data=['Pre-main sequence S=2']*len(catalog[2]),\n",
    "                                        meta = collections.OrderedDict([('ucd', 'meta.table')]),\n",
    "                                        description='Catalog Table')\n",
    "\n",
    "catalog[3]['table'] = catalog[3].Column(data=['Pre-main sequence S=3']*len(catalog[3]),\n",
    "                                        meta = collections.OrderedDict([('ucd', 'meta.table')]),\n",
    "                                        description='Catalog Table')\n",
    "\n",
    "\n",
    "#We concatenate these tables into one for a full catalog\n",
    "#Some stars exist in multiple tables and present as duplicate objects\n",
    "#We remove duplicate objects using the unique function\n",
    "data = unique(vstack([catalog[0], catalog[1], catalog[2], catalog[3]], \n",
    "              metadata_conflicts='silent'), keys='Source', keep='first')"
   ]
  },
  {
   "cell_type": "code",
   "execution_count": 6,
   "id": "74478176",
   "metadata": {
    "scrolled": true
   },
   "outputs": [
    {
     "data": {
      "text/html": [
       "<div><i>Table length=129821</i>\n",
       "<table id=\"table140176861927600\" class=\"table-striped table-bordered table-condensed\">\n",
       "<thead><tr><th>recno</th><th>Source</th><th>GLON</th><th>GLAT</th><th>Plx</th><th>e_Plx</th><th>pmGLON</th><th>e_pmGLON</th><th>pmGLAT</th><th>e_pmGLAT</th><th>pmlbcorr</th><th>RV</th><th>e_RV</th><th>Gmag</th><th>BPmag</th><th>RPmag</th><th>E_BR_RP_</th><th>chi2AL</th><th>NgAL</th><th>AG</th><th>E_BP-RP_</th><th>UWE</th><th>Simbad</th><th>_RA.icrs</th><th>_DE.icrs</th><th>table</th></tr></thead>\n",
       "<thead><tr><th></th><th></th><th>deg</th><th>deg</th><th>mag</th><th>mag</th><th>mas / yr</th><th>mas / yr</th><th>mas / yr</th><th>mas / yr</th><th></th><th>km / s</th><th>km / s</th><th>mag</th><th>mag</th><th>mag</th><th></th><th></th><th></th><th>mag</th><th>mag</th><th></th><th></th><th>deg</th><th>deg</th><th></th></tr></thead>\n",
       "<thead><tr><th>int32</th><th>int64</th><th>float64</th><th>float64</th><th>float64</th><th>float32</th><th>float64</th><th>float32</th><th>float64</th><th>float32</th><th>float32</th><th>float64</th><th>float32</th><th>float64</th><th>float64</th><th>float64</th><th>float64</th><th>float64</th><th>int16</th><th>float32</th><th>float32</th><th>float32</th><th>str6</th><th>float64</th><th>float64</th><th>str21</th></tr></thead>\n",
       "<tr><td>78256</td><td>915553884118144</td><td>175.08323524451</td><td>-47.08903941868</td><td>2.1634</td><td>0.0734</td><td>-0.639</td><td>0.116</td><td>-6.936</td><td>0.116</td><td>0.0000</td><td>--</td><td>--</td><td>9.07101</td><td>9.12869</td><td>8.99339</td><td>1.15283</td><td>487.73</td><td>115</td><td>0.6006</td><td>0.3019</td><td>--</td><td>Simbad</td><td>45.40817337014</td><td>2.16826997394</td><td>Upper main sequence</td></tr>\n",
       "<tr><td>79083</td><td>1195551392247936</td><td>173.61179863296</td><td>-48.25887009822</td><td>6.1016</td><td>0.1752</td><td>12.503</td><td>0.192</td><td>-4.343</td><td>0.194</td><td>0.0000</td><td>--</td><td>--</td><td>6.57496</td><td>6.58252</td><td>6.62812</td><td>1.13375</td><td>764.03</td><td>120</td><td>0.3309</td><td>0.1706</td><td>--</td><td>Simbad</td><td>43.88155084926</td><td>2.01821675745</td><td>Upper main sequence</td></tr>\n",
       "<tr><td>77712</td><td>1402912413121792</td><td>173.24716308805</td><td>-47.28239584380</td><td>2.0920</td><td>0.1177</td><td>15.205</td><td>0.145</td><td>-5.333</td><td>0.146</td><td>0.0000</td><td>--</td><td>--</td><td>10.36702</td><td>10.42734</td><td>10.21292</td><td>1.18454</td><td>657.79</td><td>103</td><td>0.2829</td><td>0.1369</td><td>--</td><td>Simbad</td><td>44.37518745590</td><td>2.89590163789</td><td>Upper main sequence</td></tr>\n",
       "<tr><td>77714</td><td>1546703623466880</td><td>171.67621197870</td><td>-48.22301132547</td><td>2.8533</td><td>0.0463</td><td>0.033</td><td>0.084</td><td>2.348</td><td>0.084</td><td>0.0000</td><td>--</td><td>--</td><td>10.03341</td><td>10.22926</td><td>9.74427</td><td>1.16817</td><td>352.2</td><td>119</td><td>0.6511</td><td>0.3200</td><td>--</td><td>Simbad</td><td>42.95930603592</td><td>2.92045698074</td><td>Upper main sequence</td></tr>\n",
       "<tr><td>6592</td><td>1939920764151808</td><td>173.72413813809</td><td>-45.85198831324</td><td>8.9190</td><td>0.0799</td><td>7.783</td><td>0.149</td><td>-4.880</td><td>0.148</td><td>0.1680</td><td>--</td><td>--</td><td>14.35860</td><td>15.91036</td><td>13.13935</td><td>1.48514</td><td>785.87</td><td>129</td><td>0.2365</td><td>0.1311</td><td>2.5175</td><td>Simbad</td><td>45.59978350959</td><td>3.70765186755</td><td>Pre-main sequence</td></tr>\n",
       "<tr><td>76614</td><td>2015099871749760</td><td>173.17076762967</td><td>-46.47763857888</td><td>3.3820</td><td>0.0579</td><td>5.135</td><td>0.095</td><td>-2.605</td><td>0.095</td><td>0.0000</td><td>--</td><td>--</td><td>8.68511</td><td>8.82983</td><td>8.48334</td><td>1.15470</td><td>417.61</td><td>128</td><td>0.4080</td><td>0.2112</td><td>--</td><td>Simbad</td><td>44.88972814394</td><td>3.51754443653</td><td>Upper main sequence</td></tr>\n",
       "<tr><td>76617</td><td>2058736739430272</td><td>172.01741960546</td><td>-47.25019918480</td><td>11.5396</td><td>0.0779</td><td>30.559</td><td>0.188</td><td>10.503</td><td>0.191</td><td>0.0000</td><td>--</td><td>--</td><td>6.83826</td><td>7.00734</td><td>6.59841</td><td>1.15877</td><td>412.67</td><td>115</td><td>0.2558</td><td>0.1399</td><td>--</td><td>Simbad</td><td>43.78416203685</td><td>3.48681352980</td><td>Upper main sequence</td></tr>\n",
       "<tr><td>42696</td><td>2151508033360512</td><td>173.09229505935</td><td>-45.83072638291</td><td>2.2418</td><td>0.1239</td><td>3.453</td><td>0.232</td><td>0.079</td><td>0.231</td><td>0.1644</td><td>--</td><td>--</td><td>17.02869</td><td>18.47479</td><td>15.83597</td><td>1.47147</td><td>341.35</td><td>151</td><td>0.4778</td><td>0.2324</td><td>1.5291</td><td>Simbad</td><td>45.29430901433</td><td>4.02594774947</td><td>Pre-main sequence</td></tr>\n",
       "<tr><td>77095</td><td>2261149958207104</td><td>177.29718893780</td><td>-44.92809050156</td><td>4.9264</td><td>0.0345</td><td>3.914</td><td>0.060</td><td>-4.741</td><td>0.060</td><td>0.0000</td><td>24.578</td><td>4.181</td><td>9.56074</td><td>9.77539</td><td>9.21141</td><td>1.18935</td><td>436.33</td><td>163</td><td>0.3555</td><td>0.1885</td><td>--</td><td>Simbad</td><td>48.02959451012</td><td>2.58407382750</td><td>Upper main sequence</td></tr>\n",
       "<tr><td>...</td><td>...</td><td>...</td><td>...</td><td>...</td><td>...</td><td>...</td><td>...</td><td>...</td><td>...</td><td>...</td><td>...</td><td>...</td><td>...</td><td>...</td><td>...</td><td>...</td><td>...</td><td>...</td><td>...</td><td>...</td><td>...</td><td>...</td><td>...</td><td>...</td><td>...</td></tr>\n",
       "<tr><td>1883</td><td>6916288611022161024</td><td>47.69507275874</td><td>-30.30271379195</td><td>2.3297</td><td>0.0990</td><td>8.375</td><td>0.204</td><td>-8.006</td><td>0.244</td><td>-0.1013</td><td>--</td><td>--</td><td>10.02088</td><td>10.15941</td><td>9.80191</td><td>1.16656</td><td>819.27</td><td>106</td><td>0.2632</td><td>0.1348</td><td>--</td><td>Simbad</td><td>316.20611099695</td><td>-1.96395437284</td><td>Upper main sequence</td></tr>\n",
       "<tr><td>2864</td><td>6916387670147820672</td><td>48.15296095126</td><td>-30.08015831395</td><td>4.3832</td><td>0.0415</td><td>13.729</td><td>0.073</td><td>-5.376</td><td>0.080</td><td>-0.5048</td><td>-14.090</td><td>0.833</td><td>10.18307</td><td>10.43081</td><td>9.81237</td><td>1.18298</td><td>407.97</td><td>136</td><td>0.4852</td><td>0.2527</td><td>--</td><td>Simbad</td><td>316.21660005306</td><td>-1.51001739607</td><td>Upper main sequence</td></tr>\n",
       "<tr><td>2863</td><td>6916440618503985280</td><td>45.22886220033</td><td>-29.03516358837</td><td>2.8936</td><td>0.0476</td><td>-5.592</td><td>0.064</td><td>-2.620</td><td>0.080</td><td>-0.1231</td><td>25.956</td><td>1.012</td><td>10.43241</td><td>10.63619</td><td>10.10398</td><td>1.18420</td><td>1595.2</td><td>427</td><td>0.3795</td><td>0.1908</td><td>--</td><td>Simbad</td><td>314.03504681488</td><td>-3.18636805507</td><td>Upper main sequence</td></tr>\n",
       "<tr><td>2876</td><td>6916469618124518272</td><td>45.46442635259</td><td>-28.70471306285</td><td>2.0457</td><td>0.0625</td><td>-7.410</td><td>0.074</td><td>-2.792</td><td>0.096</td><td>-0.1700</td><td>31.612</td><td>1.153</td><td>10.55336</td><td>10.77069</td><td>10.21229</td><td>1.18341</td><td>1899.8</td><td>402</td><td>0.4538</td><td>0.2222</td><td>--</td><td>Simbad</td><td>313.84874072928</td><td>-2.84411356309</td><td>Upper main sequence</td></tr>\n",
       "<tr><td>3874</td><td>6916564481065957632</td><td>45.82840961636</td><td>-28.96067589791</td><td>2.3694</td><td>0.0436</td><td>-1.432</td><td>0.052</td><td>-0.486</td><td>0.065</td><td>-0.0527</td><td>24.403</td><td>0.869</td><td>9.76261</td><td>9.97097</td><td>9.44272</td><td>1.17713</td><td>1632.5</td><td>587</td><td>0.4356</td><td>0.2217</td><td>--</td><td>Simbad</td><td>314.22933838262</td><td>-2.69354017701</td><td>Upper main sequence</td></tr>\n",
       "<tr><td>16002</td><td>6916579947244073088</td><td>46.15775744109</td><td>-29.30175913278</td><td>2.5321</td><td>0.0275</td><td>-9.631</td><td>0.038</td><td>0.258</td><td>0.045</td><td>-0.3821</td><td>--</td><td>--</td><td>13.99050</td><td>14.63583</td><td>13.22364</td><td>1.26796</td><td>340.82</td><td>446</td><td>0.2440</td><td>0.1252</td><td>0.8791</td><td>Simbad</td><td>314.66874192193</td><td>-2.61329183398</td><td>Pre-main sequence</td></tr>\n",
       "<tr><td>4621</td><td>6916792977622637824</td><td>45.56837135619</td><td>-27.68635978508</td><td>5.2873</td><td>0.0483</td><td>-7.378</td><td>0.070</td><td>-17.239</td><td>0.089</td><td>-0.0971</td><td>--</td><td>--</td><td>8.91229</td><td>9.10564</td><td>8.61835</td><td>1.17204</td><td>930.48</td><td>307</td><td>0.3420</td><td>0.1761</td><td>--</td><td>Simbad</td><td>313.00772461441</td><td>-2.26141577219</td><td>Upper main sequence</td></tr>\n",
       "<tr><td>5480</td><td>6916828436872169088</td><td>45.97876008539</td><td>-28.26728530353</td><td>2.4276</td><td>0.0488</td><td>-9.875</td><td>0.058</td><td>-0.804</td><td>0.071</td><td>-0.3930</td><td>17.440</td><td>0.517</td><td>10.76926</td><td>10.98235</td><td>10.42887</td><td>1.18540</td><td>1167.2</td><td>379</td><td>0.3461</td><td>0.1657</td><td>--</td><td>Simbad</td><td>313.69244201498</td><td>-2.23475098846</td><td>Upper main sequence</td></tr>\n",
       "<tr><td>5481</td><td>6916936051573032576</td><td>46.49379840749</td><td>-27.85642295843</td><td>2.0492</td><td>0.0735</td><td>-5.410</td><td>0.081</td><td>-0.760</td><td>0.100</td><td>-0.3349</td><td>14.502</td><td>2.011</td><td>11.03630</td><td>11.24974</td><td>10.70930</td><td>1.17806</td><td>1619.4</td><td>341</td><td>0.4538</td><td>0.2222</td><td>--</td><td>Simbad</td><td>313.56310893424</td><td>-1.63586889484</td><td>Upper main sequence</td></tr>\n",
       "</table></div>"
      ],
      "text/plain": [
       "<Table length=129821>\n",
       "recno        Source       ...     _DE.icrs           table       \n",
       "                          ...       deg                          \n",
       "int32        int64        ...     float64            str21       \n",
       "----- ------------------- ... --------------- -------------------\n",
       "78256     915553884118144 ...   2.16826997394 Upper main sequence\n",
       "79083    1195551392247936 ...   2.01821675745 Upper main sequence\n",
       "77712    1402912413121792 ...   2.89590163789 Upper main sequence\n",
       "77714    1546703623466880 ...   2.92045698074 Upper main sequence\n",
       " 6592    1939920764151808 ...   3.70765186755   Pre-main sequence\n",
       "76614    2015099871749760 ...   3.51754443653 Upper main sequence\n",
       "76617    2058736739430272 ...   3.48681352980 Upper main sequence\n",
       "42696    2151508033360512 ...   4.02594774947   Pre-main sequence\n",
       "77095    2261149958207104 ...   2.58407382750 Upper main sequence\n",
       "  ...                 ... ...             ...                 ...\n",
       " 1883 6916288611022161024 ...  -1.96395437284 Upper main sequence\n",
       " 2864 6916387670147820672 ...  -1.51001739607 Upper main sequence\n",
       " 2863 6916440618503985280 ...  -3.18636805507 Upper main sequence\n",
       " 2876 6916469618124518272 ...  -2.84411356309 Upper main sequence\n",
       " 3874 6916564481065957632 ...  -2.69354017701 Upper main sequence\n",
       "16002 6916579947244073088 ...  -2.61329183398   Pre-main sequence\n",
       " 4621 6916792977622637824 ...  -2.26141577219 Upper main sequence\n",
       " 5480 6916828436872169088 ...  -2.23475098846 Upper main sequence\n",
       " 5481 6916936051573032576 ...  -1.63586889484 Upper main sequence"
      ]
     },
     "execution_count": 6,
     "metadata": {},
     "output_type": "execute_result"
    }
   ],
   "source": [
    "data"
   ]
  },
  {
   "cell_type": "code",
   "execution_count": 7,
   "id": "6fbc6106",
   "metadata": {},
   "outputs": [
    {
     "name": "stdout",
     "output_type": "stream",
     "text": [
      "INFO: Login to gaia TAP server [astroquery.gaia.core]\n",
      "INFO: OK [astroquery.utils.tap.core]\n",
      "INFO: Login to gaia data server [astroquery.gaia.core]\n",
      "INFO: OK [astroquery.utils.tap.core]\n",
      "INFO: Sending pytable. [astroquery.utils.tap.core]\n",
      "INFO: Uploaded table 'gaia_ids'. [astroquery.utils.tap.core]\n",
      "INFO: Query finished. [astroquery.utils.tap.core]\n",
      "INFO: Table 'gaia_ids' deleted. [astroquery.utils.tap.core]\n",
      "INFO: Removed jobs: '1722284454854O'. [astroquery.utils.tap.core]\n",
      "INFO: Gaia TAP server logout OK [astroquery.gaia.core]\n",
      "INFO: Gaia data server logout OK [astroquery.gaia.core]\n"
     ]
    },
    {
     "data": {
      "text/html": [
       "<div><i>Table length=122226</i>\n",
       "<table id=\"table140172939296896\" class=\"table-striped table-bordered table-condensed\">\n",
       "<thead><tr><th>Source</th><th>parallax</th><th>parallax_error</th><th>r_med_geo</th><th>r_hi_geo</th><th>r_lo_geo</th><th>r_med_photogeo</th><th>r_hi_photogeo</th><th>r_lo_photogeo</th><th>bj_distance</th><th>dcalc</th><th>e_bj_dist</th><th>bj_error_over_distance</th></tr></thead>\n",
       "<thead><tr><th></th><th>mas</th><th>mas</th><th>pc</th><th>pc</th><th>pc</th><th>pc</th><th>pc</th><th>pc</th><th>pc</th><th></th><th>pc</th><th></th></tr></thead>\n",
       "<thead><tr><th>int64</th><th>float64</th><th>float32</th><th>float32</th><th>float32</th><th>float32</th><th>float32</th><th>float32</th><th>float32</th><th>float32</th><th>int64</th><th>float64</th><th>float64</th></tr></thead>\n",
       "<tr><td>915553884118144</td><td>2.41657315711544</td><td>0.06503937</td><td>406.31906</td><td>417.35565</td><td>396.11472</td><td>409.35403</td><td>420.52148</td><td>399.11896</td><td>406.31906</td><td>2</td><td>10.620468139648438</td><td>0.026138247381773966</td></tr>\n",
       "<tr><td>1195551392247936</td><td>6.7012607524697705</td><td>0.0594965</td><td>148.4821</td><td>149.79608</td><td>147.0819</td><td>148.69157</td><td>150.24179</td><td>147.50731</td><td>148.4821</td><td>2</td><td>1.3570938110351562</td><td>0.00913978047097896</td></tr>\n",
       "<tr><td>1402912413121792</td><td>1.8936555032255389</td><td>0.061270323</td><td>518.9543</td><td>537.28906</td><td>501.37936</td><td>517.29974</td><td>531.94476</td><td>499.68994</td><td>517.29974</td><td>1</td><td>16.127410888671875</td><td>0.031176143206269314</td></tr>\n",
       "<tr><td>1546703623466880</td><td>2.9731512357879484</td><td>0.018662702</td><td>333.30548</td><td>335.44525</td><td>331.08746</td><td>333.03543</td><td>334.96265</td><td>330.85434</td><td>333.30548</td><td>2</td><td>2.17889404296875</td><td>0.0065372283609390945</td></tr>\n",
       "<tr><td>1939920764151808</td><td>8.93541259252894</td><td>0.060772028</td><td>111.08601</td><td>112.14075</td><td>110.252</td><td>111.400505</td><td>112.143616</td><td>110.72438</td><td>111.08601</td><td>2</td><td>0.9443740844726562</td><td>0.008501286995718348</td></tr>\n",
       "<tr><td>2015099871749760</td><td>3.3999269413063447</td><td>0.025680088</td><td>291.0515</td><td>293.18393</td><td>289.08463</td><td>291.3948</td><td>293.83084</td><td>288.98767</td><td>291.0515</td><td>2</td><td>2.049652099609375</td><td>0.00704223136911807</td></tr>\n",
       "<tr><td>2058736739430272</td><td>11.645760038670751</td><td>0.026301257</td><td>85.561905</td><td>85.77035</td><td>85.34285</td><td>85.603134</td><td>85.80466</td><td>85.4444</td><td>85.561905</td><td>2</td><td>0.21374893188476562</td><td>0.002498178741070927</td></tr>\n",
       "<tr><td>2151508033360512</td><td>2.2027587681506633</td><td>0.09944266</td><td>446.50943</td><td>466.66574</td><td>430.14502</td><td>447.3506</td><td>468.94974</td><td>431.3175</td><td>446.50943</td><td>2</td><td>18.260360717773438</td><td>0.040895800835760734</td></tr>\n",
       "<tr><td>2261149958207104</td><td>5.049378243991673</td><td>0.016813846</td><td>196.84981</td><td>197.42075</td><td>196.26378</td><td>196.89368</td><td>197.53741</td><td>196.1137</td><td>196.84981</td><td>2</td><td>0.5784835815429688</td><td>0.002938705341837129</td></tr>\n",
       "<tr><td>...</td><td>...</td><td>...</td><td>...</td><td>...</td><td>...</td><td>...</td><td>...</td><td>...</td><td>...</td><td>...</td><td>...</td><td>...</td></tr>\n",
       "<tr><td>6916288611022161024</td><td>2.2913786116387493</td><td>0.027964976</td><td>431.4271</td><td>437.21603</td><td>426.01144</td><td>430.0844</td><td>434.95935</td><td>425.1044</td><td>431.4271</td><td>2</td><td>5.602294921875</td><td>0.012985496289418627</td></tr>\n",
       "<tr><td>6916387670147820672</td><td>4.468338301951556</td><td>0.015828943</td><td>222.20746</td><td>223.12366</td><td>221.45813</td><td>222.37729</td><td>223.16936</td><td>221.51364</td><td>222.20746</td><td>2</td><td>0.832763671875</td><td>0.0037476855075485207</td></tr>\n",
       "<tr><td>6916440618503985280</td><td>2.789508494444249</td><td>0.026335672</td><td>355.321</td><td>358.10434</td><td>351.89508</td><td>355.16336</td><td>358.63446</td><td>351.6104</td><td>355.321</td><td>2</td><td>3.1046295166015625</td><td>0.008737534203561078</td></tr>\n",
       "<tr><td>6916469618124518272</td><td>2.4447581155589373</td><td>0.049593765</td><td>403.942</td><td>413.365</td><td>395.89087</td><td>403.06287</td><td>411.10474</td><td>396.30936</td><td>403.942</td><td>2</td><td>8.737060546875</td><td>0.021629493461614215</td></tr>\n",
       "<tr><td>6916564481065957632</td><td>2.432393391562506</td><td>0.01799162</td><td>406.9364</td><td>409.7911</td><td>404.26666</td><td>406.118</td><td>408.99878</td><td>402.65204</td><td>406.9364</td><td>2</td><td>2.7622222900390625</td><td>0.006787847636040428</td></tr>\n",
       "<tr><td>6916579947244073088</td><td>2.47010114572504</td><td>0.028498668</td><td>396.87424</td><td>401.85284</td><td>391.8295</td><td>395.83438</td><td>398.9909</td><td>392.10275</td><td>396.87424</td><td>2</td><td>5.0116729736328125</td><td>0.012627861689264136</td></tr>\n",
       "<tr><td>6916792977622637824</td><td>5.3314601121402125</td><td>0.03528539</td><td>186.35854</td><td>187.64035</td><td>185.28749</td><td>186.32623</td><td>187.36946</td><td>185.2245</td><td>186.35854</td><td>2</td><td>1.1764297485351562</td><td>0.006312722643456138</td></tr>\n",
       "<tr><td>6916828436872169088</td><td>2.3787267122837084</td><td>0.01929908</td><td>415.42236</td><td>418.36847</td><td>412.84998</td><td>415.95758</td><td>420.06195</td><td>412.7377</td><td>415.42236</td><td>2</td><td>2.759246826171875</td><td>0.006642027656811063</td></tr>\n",
       "<tr><td>6916936051573032576</td><td>2.1003213385950206</td><td>0.027769797</td><td>465.7779</td><td>471.17688</td><td>460.44815</td><td>467.22876</td><td>472.33725</td><td>462.25537</td><td>465.7779</td><td>2</td><td>5.3643646240234375</td><td>0.01151700135166921</td></tr>\n",
       "</table></div>"
      ],
      "text/plain": [
       "<Table length=122226>\n",
       "       Source            parallax      ... bj_error_over_distance\n",
       "                           mas         ...                       \n",
       "       int64             float64       ...        float64        \n",
       "------------------- ------------------ ... ----------------------\n",
       "    915553884118144   2.41657315711544 ...   0.026138247381773966\n",
       "   1195551392247936 6.7012607524697705 ...    0.00913978047097896\n",
       "   1402912413121792 1.8936555032255389 ...   0.031176143206269314\n",
       "   1546703623466880 2.9731512357879484 ...  0.0065372283609390945\n",
       "   1939920764151808   8.93541259252894 ...   0.008501286995718348\n",
       "   2015099871749760 3.3999269413063447 ...    0.00704223136911807\n",
       "   2058736739430272 11.645760038670751 ...   0.002498178741070927\n",
       "   2151508033360512 2.2027587681506633 ...   0.040895800835760734\n",
       "   2261149958207104  5.049378243991673 ...   0.002938705341837129\n",
       "                ...                ... ...                    ...\n",
       "6916288611022161024 2.2913786116387493 ...   0.012985496289418627\n",
       "6916387670147820672  4.468338301951556 ...  0.0037476855075485207\n",
       "6916440618503985280  2.789508494444249 ...   0.008737534203561078\n",
       "6916469618124518272 2.4447581155589373 ...   0.021629493461614215\n",
       "6916564481065957632  2.432393391562506 ...   0.006787847636040428\n",
       "6916579947244073088   2.47010114572504 ...   0.012627861689264136\n",
       "6916792977622637824 5.3314601121402125 ...   0.006312722643456138\n",
       "6916828436872169088 2.3787267122837084 ...   0.006642027656811063\n",
       "6916936051573032576 2.1003213385950206 ...    0.01151700135166921"
      ]
     },
     "execution_count": 7,
     "metadata": {},
     "output_type": "execute_result"
    }
   ],
   "source": [
    "#querying Gaia for bailer-jones distances\n",
    "distances = get_bailer_jones.get_bj_distances(data, source_id='Source')\n",
    "distances"
   ]
  },
  {
   "cell_type": "code",
   "execution_count": 8,
   "id": "93b76200",
   "metadata": {},
   "outputs": [
    {
     "name": "stderr",
     "output_type": "stream",
     "text": [
      "WARNING: MergeConflictWarning: In merged column 'Source' the 'description' attribute does not match (Unique source identifier (unique within a single release) (source_id) != Unique source identifier (unique within a single release)\n",
      "     (source_id)).  Using Unique source identifier (unique within a single release)\n",
      "     (source_id) for merged output [astropy.utils.metadata.merge]\n"
     ]
    }
   ],
   "source": [
    "data = join(data, distances, keys='Source', join_type='inner')"
   ]
  },
  {
   "cell_type": "code",
   "execution_count": 9,
   "id": "8b0debd6",
   "metadata": {},
   "outputs": [],
   "source": [
    "gaia_functions.set_bj_distance(data)"
   ]
  },
  {
   "cell_type": "code",
   "execution_count": 10,
   "id": "717a3dc4",
   "metadata": {},
   "outputs": [],
   "source": [
    "# #fixing parallax units (Vizier labels it as a magnitude, probably meant milliarcseconds (mag versus mas))\n",
    "# data['Plx'].unit=u.mas"
   ]
  },
  {
   "cell_type": "code",
   "execution_count": 11,
   "id": "ad0be52a",
   "metadata": {},
   "outputs": [],
   "source": [
    "# #thresh on parallax error (cutting on >10% error removes 1614 stars)\n",
    "# data['parallax_over_error'] = [data['Plx'][i] / data['e_Plx'][i] for i in range(len(data))]\n",
    "# data.remove_rows(np.where(data['parallax_over_error']<10)[0])"
   ]
  },
  {
   "cell_type": "code",
   "execution_count": 12,
   "id": "d498eeb5",
   "metadata": {},
   "outputs": [],
   "source": [
    "#calculating distance in light years and parsecs\n",
    "#calculations.get_distance(data, parallax='Plx', use='parallax')"
   ]
  },
  {
   "cell_type": "code",
   "execution_count": 13,
   "id": "095ea6de",
   "metadata": {},
   "outputs": [],
   "source": [
    "calculations.get_distance(data, dist='bj_distance', use='distance')"
   ]
  },
  {
   "cell_type": "code",
   "execution_count": 14,
   "id": "f648b1d6",
   "metadata": {},
   "outputs": [
    {
     "data": {
      "text/plain": [
       "122226"
      ]
     },
     "execution_count": 14,
     "metadata": {},
     "output_type": "execute_result"
    }
   ],
   "source": [
    "len(data)"
   ]
  },
  {
   "cell_type": "code",
   "execution_count": 15,
   "id": "04fd436c",
   "metadata": {},
   "outputs": [],
   "source": [
    "#threshing on distance\n",
    "data.remove_rows(np.where(data['dist_pc']<0.10)[0])"
   ]
  },
  {
   "cell_type": "code",
   "execution_count": 16,
   "id": "af7a02d8",
   "metadata": {},
   "outputs": [
    {
     "data": {
      "text/html": [
       "<div><i>Table length=122226</i>\n",
       "<table id=\"table140173187089040\" class=\"table-striped table-bordered table-condensed\">\n",
       "<thead><tr><th>recno</th><th>Source</th><th>GLON</th><th>GLAT</th><th>Plx</th><th>e_Plx</th><th>pmGLON</th><th>e_pmGLON</th><th>pmGLAT</th><th>e_pmGLAT</th><th>pmlbcorr</th><th>RV</th><th>e_RV</th><th>Gmag</th><th>BPmag</th><th>RPmag</th><th>E_BR_RP_</th><th>chi2AL</th><th>NgAL</th><th>AG</th><th>E_BP-RP_</th><th>UWE</th><th>Simbad</th><th>_RA.icrs</th><th>_DE.icrs</th><th>table</th><th>parallax</th><th>parallax_error</th><th>r_med_geo</th><th>r_hi_geo</th><th>r_lo_geo</th><th>r_med_photogeo</th><th>r_hi_photogeo</th><th>r_lo_photogeo</th><th>bj_distance</th><th>dcalc</th><th>e_bj_dist</th><th>bj_error_over_distance</th><th>dist_pc</th><th>dist_ly</th></tr></thead>\n",
       "<thead><tr><th></th><th></th><th>deg</th><th>deg</th><th>mag</th><th>mag</th><th>mas / yr</th><th>mas / yr</th><th>mas / yr</th><th>mas / yr</th><th></th><th>km / s</th><th>km / s</th><th>mag</th><th>mag</th><th>mag</th><th></th><th></th><th></th><th>mag</th><th>mag</th><th></th><th></th><th>deg</th><th>deg</th><th></th><th>mas</th><th>mas</th><th>pc</th><th>pc</th><th>pc</th><th>pc</th><th>pc</th><th>pc</th><th>pc</th><th></th><th>pc</th><th></th><th>pc</th><th>lyr</th></tr></thead>\n",
       "<thead><tr><th>int32</th><th>int64</th><th>float64</th><th>float64</th><th>float64</th><th>float32</th><th>float64</th><th>float32</th><th>float64</th><th>float32</th><th>float32</th><th>float64</th><th>float32</th><th>float64</th><th>float64</th><th>float64</th><th>float64</th><th>float64</th><th>int16</th><th>float32</th><th>float32</th><th>float32</th><th>str6</th><th>float64</th><th>float64</th><th>str21</th><th>float64</th><th>float32</th><th>float32</th><th>float32</th><th>float32</th><th>float32</th><th>float32</th><th>float32</th><th>float32</th><th>int64</th><th>float64</th><th>float64</th><th>float32</th><th>float32</th></tr></thead>\n",
       "<tr><td>78256</td><td>915553884118144</td><td>175.08323524451</td><td>-47.08903941868</td><td>2.1634</td><td>0.0734</td><td>-0.639</td><td>0.116</td><td>-6.936</td><td>0.116</td><td>0.0000</td><td>--</td><td>--</td><td>9.07101</td><td>9.12869</td><td>8.99339</td><td>1.15283</td><td>487.73</td><td>115</td><td>0.6006</td><td>0.3019</td><td>--</td><td>Simbad</td><td>45.40817337014</td><td>2.16826997394</td><td>Upper main sequence</td><td>2.41657315711544</td><td>0.06503937</td><td>406.31906</td><td>417.35565</td><td>396.11472</td><td>409.35403</td><td>420.52148</td><td>399.11896</td><td>406.31906</td><td>2</td><td>10.620468139648438</td><td>0.026138247381773966</td><td>406.319061</td><td>1325.2</td></tr>\n",
       "<tr><td>79083</td><td>1195551392247936</td><td>173.61179863296</td><td>-48.25887009822</td><td>6.1016</td><td>0.1752</td><td>12.503</td><td>0.192</td><td>-4.343</td><td>0.194</td><td>0.0000</td><td>--</td><td>--</td><td>6.57496</td><td>6.58252</td><td>6.62812</td><td>1.13375</td><td>764.03</td><td>120</td><td>0.3309</td><td>0.1706</td><td>--</td><td>Simbad</td><td>43.88155084926</td><td>2.01821675745</td><td>Upper main sequence</td><td>6.7012607524697705</td><td>0.0594965</td><td>148.4821</td><td>149.79608</td><td>147.0819</td><td>148.69157</td><td>150.24179</td><td>147.50731</td><td>148.4821</td><td>2</td><td>1.3570938110351562</td><td>0.00913978047097896</td><td>148.482101</td><td>484.3</td></tr>\n",
       "<tr><td>77712</td><td>1402912413121792</td><td>173.24716308805</td><td>-47.28239584380</td><td>2.0920</td><td>0.1177</td><td>15.205</td><td>0.145</td><td>-5.333</td><td>0.146</td><td>0.0000</td><td>--</td><td>--</td><td>10.36702</td><td>10.42734</td><td>10.21292</td><td>1.18454</td><td>657.79</td><td>103</td><td>0.2829</td><td>0.1369</td><td>--</td><td>Simbad</td><td>44.37518745590</td><td>2.89590163789</td><td>Upper main sequence</td><td>1.8936555032255389</td><td>0.061270323</td><td>518.9543</td><td>537.28906</td><td>501.37936</td><td>517.29974</td><td>531.94476</td><td>499.68994</td><td>517.29974</td><td>1</td><td>16.127410888671875</td><td>0.031176143206269314</td><td>517.299744</td><td>1687.2</td></tr>\n",
       "<tr><td>77714</td><td>1546703623466880</td><td>171.67621197870</td><td>-48.22301132547</td><td>2.8533</td><td>0.0463</td><td>0.033</td><td>0.084</td><td>2.348</td><td>0.084</td><td>0.0000</td><td>--</td><td>--</td><td>10.03341</td><td>10.22926</td><td>9.74427</td><td>1.16817</td><td>352.2</td><td>119</td><td>0.6511</td><td>0.3200</td><td>--</td><td>Simbad</td><td>42.95930603592</td><td>2.92045698074</td><td>Upper main sequence</td><td>2.9731512357879484</td><td>0.018662702</td><td>333.30548</td><td>335.44525</td><td>331.08746</td><td>333.03543</td><td>334.96265</td><td>330.85434</td><td>333.30548</td><td>2</td><td>2.17889404296875</td><td>0.0065372283609390945</td><td>333.305481</td><td>1087.1</td></tr>\n",
       "<tr><td>6592</td><td>1939920764151808</td><td>173.72413813809</td><td>-45.85198831324</td><td>8.9190</td><td>0.0799</td><td>7.783</td><td>0.149</td><td>-4.880</td><td>0.148</td><td>0.1680</td><td>--</td><td>--</td><td>14.35860</td><td>15.91036</td><td>13.13935</td><td>1.48514</td><td>785.87</td><td>129</td><td>0.2365</td><td>0.1311</td><td>2.5175</td><td>Simbad</td><td>45.59978350959</td><td>3.70765186755</td><td>Pre-main sequence</td><td>8.93541259252894</td><td>0.060772028</td><td>111.08601</td><td>112.14075</td><td>110.252</td><td>111.400505</td><td>112.143616</td><td>110.72438</td><td>111.08601</td><td>2</td><td>0.9443740844726562</td><td>0.008501286995718348</td><td>111.086014</td><td>362.3</td></tr>\n",
       "<tr><td>76614</td><td>2015099871749760</td><td>173.17076762967</td><td>-46.47763857888</td><td>3.3820</td><td>0.0579</td><td>5.135</td><td>0.095</td><td>-2.605</td><td>0.095</td><td>0.0000</td><td>--</td><td>--</td><td>8.68511</td><td>8.82983</td><td>8.48334</td><td>1.15470</td><td>417.61</td><td>128</td><td>0.4080</td><td>0.2112</td><td>--</td><td>Simbad</td><td>44.88972814394</td><td>3.51754443653</td><td>Upper main sequence</td><td>3.3999269413063447</td><td>0.025680088</td><td>291.0515</td><td>293.18393</td><td>289.08463</td><td>291.3948</td><td>293.83084</td><td>288.98767</td><td>291.0515</td><td>2</td><td>2.049652099609375</td><td>0.00704223136911807</td><td>291.051514</td><td>949.3</td></tr>\n",
       "<tr><td>76617</td><td>2058736739430272</td><td>172.01741960546</td><td>-47.25019918480</td><td>11.5396</td><td>0.0779</td><td>30.559</td><td>0.188</td><td>10.503</td><td>0.191</td><td>0.0000</td><td>--</td><td>--</td><td>6.83826</td><td>7.00734</td><td>6.59841</td><td>1.15877</td><td>412.67</td><td>115</td><td>0.2558</td><td>0.1399</td><td>--</td><td>Simbad</td><td>43.78416203685</td><td>3.48681352980</td><td>Upper main sequence</td><td>11.645760038670751</td><td>0.026301257</td><td>85.561905</td><td>85.77035</td><td>85.34285</td><td>85.603134</td><td>85.80466</td><td>85.4444</td><td>85.561905</td><td>2</td><td>0.21374893188476562</td><td>0.002498178741070927</td><td>85.561905</td><td>279.1</td></tr>\n",
       "<tr><td>42696</td><td>2151508033360512</td><td>173.09229505935</td><td>-45.83072638291</td><td>2.2418</td><td>0.1239</td><td>3.453</td><td>0.232</td><td>0.079</td><td>0.231</td><td>0.1644</td><td>--</td><td>--</td><td>17.02869</td><td>18.47479</td><td>15.83597</td><td>1.47147</td><td>341.35</td><td>151</td><td>0.4778</td><td>0.2324</td><td>1.5291</td><td>Simbad</td><td>45.29430901433</td><td>4.02594774947</td><td>Pre-main sequence</td><td>2.2027587681506633</td><td>0.09944266</td><td>446.50943</td><td>466.66574</td><td>430.14502</td><td>447.3506</td><td>468.94974</td><td>431.3175</td><td>446.50943</td><td>2</td><td>18.260360717773438</td><td>0.040895800835760734</td><td>446.509430</td><td>1456.3</td></tr>\n",
       "<tr><td>77095</td><td>2261149958207104</td><td>177.29718893780</td><td>-44.92809050156</td><td>4.9264</td><td>0.0345</td><td>3.914</td><td>0.060</td><td>-4.741</td><td>0.060</td><td>0.0000</td><td>24.578</td><td>4.181</td><td>9.56074</td><td>9.77539</td><td>9.21141</td><td>1.18935</td><td>436.33</td><td>163</td><td>0.3555</td><td>0.1885</td><td>--</td><td>Simbad</td><td>48.02959451012</td><td>2.58407382750</td><td>Upper main sequence</td><td>5.049378243991673</td><td>0.016813846</td><td>196.84981</td><td>197.42075</td><td>196.26378</td><td>196.89368</td><td>197.53741</td><td>196.1137</td><td>196.84981</td><td>2</td><td>0.5784835815429688</td><td>0.002938705341837129</td><td>196.849808</td><td>642.0</td></tr>\n",
       "<tr><td>...</td><td>...</td><td>...</td><td>...</td><td>...</td><td>...</td><td>...</td><td>...</td><td>...</td><td>...</td><td>...</td><td>...</td><td>...</td><td>...</td><td>...</td><td>...</td><td>...</td><td>...</td><td>...</td><td>...</td><td>...</td><td>...</td><td>...</td><td>...</td><td>...</td><td>...</td><td>...</td><td>...</td><td>...</td><td>...</td><td>...</td><td>...</td><td>...</td><td>...</td><td>...</td><td>...</td><td>...</td><td>...</td><td>...</td><td>...</td></tr>\n",
       "<tr><td>1883</td><td>6916288611022161024</td><td>47.69507275874</td><td>-30.30271379195</td><td>2.3297</td><td>0.0990</td><td>8.375</td><td>0.204</td><td>-8.006</td><td>0.244</td><td>-0.1013</td><td>--</td><td>--</td><td>10.02088</td><td>10.15941</td><td>9.80191</td><td>1.16656</td><td>819.27</td><td>106</td><td>0.2632</td><td>0.1348</td><td>--</td><td>Simbad</td><td>316.20611099695</td><td>-1.96395437284</td><td>Upper main sequence</td><td>2.2913786116387493</td><td>0.027964976</td><td>431.4271</td><td>437.21603</td><td>426.01144</td><td>430.0844</td><td>434.95935</td><td>425.1044</td><td>431.4271</td><td>2</td><td>5.602294921875</td><td>0.012985496289418627</td><td>431.427094</td><td>1407.1</td></tr>\n",
       "<tr><td>2864</td><td>6916387670147820672</td><td>48.15296095126</td><td>-30.08015831395</td><td>4.3832</td><td>0.0415</td><td>13.729</td><td>0.073</td><td>-5.376</td><td>0.080</td><td>-0.5048</td><td>-14.090</td><td>0.833</td><td>10.18307</td><td>10.43081</td><td>9.81237</td><td>1.18298</td><td>407.97</td><td>136</td><td>0.4852</td><td>0.2527</td><td>--</td><td>Simbad</td><td>316.21660005306</td><td>-1.51001739607</td><td>Upper main sequence</td><td>4.468338301951556</td><td>0.015828943</td><td>222.20746</td><td>223.12366</td><td>221.45813</td><td>222.37729</td><td>223.16936</td><td>221.51364</td><td>222.20746</td><td>2</td><td>0.832763671875</td><td>0.0037476855075485207</td><td>222.207458</td><td>724.7</td></tr>\n",
       "<tr><td>2863</td><td>6916440618503985280</td><td>45.22886220033</td><td>-29.03516358837</td><td>2.8936</td><td>0.0476</td><td>-5.592</td><td>0.064</td><td>-2.620</td><td>0.080</td><td>-0.1231</td><td>25.956</td><td>1.012</td><td>10.43241</td><td>10.63619</td><td>10.10398</td><td>1.18420</td><td>1595.2</td><td>427</td><td>0.3795</td><td>0.1908</td><td>--</td><td>Simbad</td><td>314.03504681488</td><td>-3.18636805507</td><td>Upper main sequence</td><td>2.789508494444249</td><td>0.026335672</td><td>355.321</td><td>358.10434</td><td>351.89508</td><td>355.16336</td><td>358.63446</td><td>351.6104</td><td>355.321</td><td>2</td><td>3.1046295166015625</td><td>0.008737534203561078</td><td>355.321014</td><td>1158.9</td></tr>\n",
       "<tr><td>2876</td><td>6916469618124518272</td><td>45.46442635259</td><td>-28.70471306285</td><td>2.0457</td><td>0.0625</td><td>-7.410</td><td>0.074</td><td>-2.792</td><td>0.096</td><td>-0.1700</td><td>31.612</td><td>1.153</td><td>10.55336</td><td>10.77069</td><td>10.21229</td><td>1.18341</td><td>1899.8</td><td>402</td><td>0.4538</td><td>0.2222</td><td>--</td><td>Simbad</td><td>313.84874072928</td><td>-2.84411356309</td><td>Upper main sequence</td><td>2.4447581155589373</td><td>0.049593765</td><td>403.942</td><td>413.365</td><td>395.89087</td><td>403.06287</td><td>411.10474</td><td>396.30936</td><td>403.942</td><td>2</td><td>8.737060546875</td><td>0.021629493461614215</td><td>403.941986</td><td>1317.5</td></tr>\n",
       "<tr><td>3874</td><td>6916564481065957632</td><td>45.82840961636</td><td>-28.96067589791</td><td>2.3694</td><td>0.0436</td><td>-1.432</td><td>0.052</td><td>-0.486</td><td>0.065</td><td>-0.0527</td><td>24.403</td><td>0.869</td><td>9.76261</td><td>9.97097</td><td>9.44272</td><td>1.17713</td><td>1632.5</td><td>587</td><td>0.4356</td><td>0.2217</td><td>--</td><td>Simbad</td><td>314.22933838262</td><td>-2.69354017701</td><td>Upper main sequence</td><td>2.432393391562506</td><td>0.01799162</td><td>406.9364</td><td>409.7911</td><td>404.26666</td><td>406.118</td><td>408.99878</td><td>402.65204</td><td>406.9364</td><td>2</td><td>2.7622222900390625</td><td>0.006787847636040428</td><td>406.936401</td><td>1327.2</td></tr>\n",
       "<tr><td>16002</td><td>6916579947244073088</td><td>46.15775744109</td><td>-29.30175913278</td><td>2.5321</td><td>0.0275</td><td>-9.631</td><td>0.038</td><td>0.258</td><td>0.045</td><td>-0.3821</td><td>--</td><td>--</td><td>13.99050</td><td>14.63583</td><td>13.22364</td><td>1.26796</td><td>340.82</td><td>446</td><td>0.2440</td><td>0.1252</td><td>0.8791</td><td>Simbad</td><td>314.66874192193</td><td>-2.61329183398</td><td>Pre-main sequence</td><td>2.47010114572504</td><td>0.028498668</td><td>396.87424</td><td>401.85284</td><td>391.8295</td><td>395.83438</td><td>398.9909</td><td>392.10275</td><td>396.87424</td><td>2</td><td>5.0116729736328125</td><td>0.012627861689264136</td><td>396.874237</td><td>1294.4</td></tr>\n",
       "<tr><td>4621</td><td>6916792977622637824</td><td>45.56837135619</td><td>-27.68635978508</td><td>5.2873</td><td>0.0483</td><td>-7.378</td><td>0.070</td><td>-17.239</td><td>0.089</td><td>-0.0971</td><td>--</td><td>--</td><td>8.91229</td><td>9.10564</td><td>8.61835</td><td>1.17204</td><td>930.48</td><td>307</td><td>0.3420</td><td>0.1761</td><td>--</td><td>Simbad</td><td>313.00772461441</td><td>-2.26141577219</td><td>Upper main sequence</td><td>5.3314601121402125</td><td>0.03528539</td><td>186.35854</td><td>187.64035</td><td>185.28749</td><td>186.32623</td><td>187.36946</td><td>185.2245</td><td>186.35854</td><td>2</td><td>1.1764297485351562</td><td>0.006312722643456138</td><td>186.358536</td><td>607.8</td></tr>\n",
       "<tr><td>5480</td><td>6916828436872169088</td><td>45.97876008539</td><td>-28.26728530353</td><td>2.4276</td><td>0.0488</td><td>-9.875</td><td>0.058</td><td>-0.804</td><td>0.071</td><td>-0.3930</td><td>17.440</td><td>0.517</td><td>10.76926</td><td>10.98235</td><td>10.42887</td><td>1.18540</td><td>1167.2</td><td>379</td><td>0.3461</td><td>0.1657</td><td>--</td><td>Simbad</td><td>313.69244201498</td><td>-2.23475098846</td><td>Upper main sequence</td><td>2.3787267122837084</td><td>0.01929908</td><td>415.42236</td><td>418.36847</td><td>412.84998</td><td>415.95758</td><td>420.06195</td><td>412.7377</td><td>415.42236</td><td>2</td><td>2.759246826171875</td><td>0.006642027656811063</td><td>415.422363</td><td>1354.9</td></tr>\n",
       "<tr><td>5481</td><td>6916936051573032576</td><td>46.49379840749</td><td>-27.85642295843</td><td>2.0492</td><td>0.0735</td><td>-5.410</td><td>0.081</td><td>-0.760</td><td>0.100</td><td>-0.3349</td><td>14.502</td><td>2.011</td><td>11.03630</td><td>11.24974</td><td>10.70930</td><td>1.17806</td><td>1619.4</td><td>341</td><td>0.4538</td><td>0.2222</td><td>--</td><td>Simbad</td><td>313.56310893424</td><td>-1.63586889484</td><td>Upper main sequence</td><td>2.1003213385950206</td><td>0.027769797</td><td>465.7779</td><td>471.17688</td><td>460.44815</td><td>467.22876</td><td>472.33725</td><td>462.25537</td><td>465.7779</td><td>2</td><td>5.3643646240234375</td><td>0.01151700135166921</td><td>465.777893</td><td>1519.2</td></tr>\n",
       "</table></div>"
      ],
      "text/plain": [
       "<Table length=122226>\n",
       "recno        Source             GLON      ...  dist_pc   dist_ly\n",
       "                                deg       ...     pc       lyr  \n",
       "int32        int64            float64     ...  float32   float32\n",
       "----- ------------------- --------------- ... ---------- -------\n",
       "78256     915553884118144 175.08323524451 ... 406.319061  1325.2\n",
       "79083    1195551392247936 173.61179863296 ... 148.482101   484.3\n",
       "77712    1402912413121792 173.24716308805 ... 517.299744  1687.2\n",
       "77714    1546703623466880 171.67621197870 ... 333.305481  1087.1\n",
       " 6592    1939920764151808 173.72413813809 ... 111.086014   362.3\n",
       "76614    2015099871749760 173.17076762967 ... 291.051514   949.3\n",
       "76617    2058736739430272 172.01741960546 ...  85.561905   279.1\n",
       "42696    2151508033360512 173.09229505935 ... 446.509430  1456.3\n",
       "77095    2261149958207104 177.29718893780 ... 196.849808   642.0\n",
       "  ...                 ...             ... ...        ...     ...\n",
       " 1883 6916288611022161024  47.69507275874 ... 431.427094  1407.1\n",
       " 2864 6916387670147820672  48.15296095126 ... 222.207458   724.7\n",
       " 2863 6916440618503985280  45.22886220033 ... 355.321014  1158.9\n",
       " 2876 6916469618124518272  45.46442635259 ... 403.941986  1317.5\n",
       " 3874 6916564481065957632  45.82840961636 ... 406.936401  1327.2\n",
       "16002 6916579947244073088  46.15775744109 ... 396.874237  1294.4\n",
       " 4621 6916792977622637824  45.56837135619 ... 186.358536   607.8\n",
       " 5480 6916828436872169088  45.97876008539 ... 415.422363  1354.9\n",
       " 5481 6916936051573032576  46.49379840749 ... 465.777893  1519.2"
      ]
     },
     "execution_count": 16,
     "metadata": {},
     "output_type": "execute_result"
    }
   ],
   "source": [
    "data"
   ]
  },
  {
   "cell_type": "code",
   "execution_count": 17,
   "id": "d3adc371",
   "metadata": {},
   "outputs": [],
   "source": [
    "#calculating cartesian coordinates\n",
    "calculations.get_cartesian(data, glon='GLON', glat='GLAT', pmglon='pmGLON', pmglat='pmGLAT', \n",
    "                           radial_velocity='RV', frame='galactic')"
   ]
  },
  {
   "cell_type": "code",
   "execution_count": 18,
   "id": "e2b930f7",
   "metadata": {},
   "outputs": [],
   "source": [
    "gaia_functions.get_magnitudes(data, gmag='Gmag')\n",
    "gaia_functions.get_luminosity(data)\n",
    "data['bp_rp'] = [data['BPmag'][i] - data['RPmag'][i] for i in range(len(data))]\n",
    "gaia_functions.get_bp_g_color(data, color='bp_rp')"
   ]
  },
  {
   "cell_type": "code",
   "execution_count": 19,
   "id": "fb48a30d",
   "metadata": {},
   "outputs": [
    {
     "data": {
      "text/plain": [
       "<function matplotlib.pyplot.show(close=None, block=None)>"
      ]
     },
     "execution_count": 19,
     "metadata": {},
     "output_type": "execute_result"
    },
    {
     "data": {
      "image/png": "[encoded data removed]",
      "text/plain": [
       "<Figure size 1000x400 with 2 Axes>"
      ]
     },
     "metadata": {},
     "output_type": "display_data"
    }
   ],
   "source": [
    "#2D Visualization\n",
    "fig, ax = plt.subplots(1, 2)\n",
    "\n",
    "#XY Plane\n",
    "ax[0].scatter(data['x'], data['y'])\n",
    "ax[0].set_title('XY Plane')\n",
    "\n",
    "#XZ Plane\n",
    "ax[1].scatter(data['x'], data['z'])\n",
    "ax[1].set_title('XZ Plane')\n",
    "\n",
    "#set good spacing\n",
    "fig.tight_layout()\n",
    "fig.set_size_inches(10, 4, forward=True)\n",
    "plt.show"
   ]
  },
  {
   "cell_type": "code",
   "execution_count": 20,
   "id": "6233bb94",
   "metadata": {},
   "outputs": [
    {
     "data": {
      "text/plain": [
       "<function matplotlib.pyplot.show(close=None, block=None)>"
      ]
     },
     "execution_count": 20,
     "metadata": {},
     "output_type": "execute_result"
    },
    {
     "data": {
      "image/png": "[encoded data removed]",
      "text/plain": [
       "<Figure size 1000x400 with 2 Axes>"
      ]
     },
     "metadata": {},
     "output_type": "display_data"
    }
   ],
   "source": [
    "#2D Density Visualization\n",
    "fig, ax = plt.subplots(1, 2)\n",
    "\n",
    "#XY Plane\n",
    "ax[0].hist2d(data['x'], data['y'], \n",
    "           bins = 200,  \n",
    "           norm = colors.LogNorm(),  \n",
    "           cmap = \"RdYlGn_r\",) \n",
    "ax[0].set_title('XY Plane')\n",
    "\n",
    "#XZ Plane\n",
    "ax[1].hist2d(data['x'], data['z'], \n",
    "           bins = 200,  \n",
    "           norm = colors.LogNorm(),  \n",
    "           cmap = \"RdYlGn_r\",) \n",
    "ax[1].set_title('XZ Plane')\n",
    "\n",
    "#set good spacing\n",
    "fig.tight_layout()\n",
    "fig.set_size_inches(10, 4, forward=True)\n",
    "plt.show"
   ]
  },
  {
   "cell_type": "code",
   "execution_count": 21,
   "id": "bb861b17",
   "metadata": {},
   "outputs": [],
   "source": [
    "#setting texture number column\n",
    "data['texnum'] = data.Column(data=[1]*len(data), \n",
    "                                  meta=collections.OrderedDict([('ucd', 'meta.texnum')]),\n",
    "                                  description='Texture Number')"
   ]
  },
  {
   "cell_type": "code",
   "execution_count": 22,
   "id": "cad20ddf",
   "metadata": {},
   "outputs": [],
   "source": [
    "#construct a speck comment column\n",
    "data['speck_label'] = data.Column(data=['#__'+str(name) for name in data['Source']], \n",
    "                                  meta=collections.OrderedDict([('ucd', 'meta.id')]),\n",
    "                                 description='Gaia DR2 Source ID')\n",
    "\n",
    "#construct a label column\n",
    "data['label'] = ['GaiaDR2_'+ str(source) for source in data['Source']]  #leaving for now in case we want to add other labels"
   ]
  },
  {
   "cell_type": "code",
   "execution_count": 23,
   "id": "907cce81",
   "metadata": {},
   "outputs": [
    {
     "data": {
      "text/html": [
       "<div>\n",
       "<style scoped>\n",
       "    .dataframe tbody tr th:only-of-type {\n",
       "        vertical-align: middle;\n",
       "    }\n",
       "\n",
       "    .dataframe tbody tr th {\n",
       "        vertical-align: top;\n",
       "    }\n",
       "\n",
       "    .dataframe thead th {\n",
       "        text-align: right;\n",
       "    }\n",
       "</style>\n",
       "<table border=\"1\" class=\"dataframe\">\n",
       "  <thead>\n",
       "    <tr style=\"text-align: right;\">\n",
       "      <th></th>\n",
       "      <th>name</th>\n",
       "      <th>unit</th>\n",
       "      <th>datatype</th>\n",
       "      <th>width</th>\n",
       "      <th>precision</th>\n",
       "      <th>arraysize</th>\n",
       "      <th>ucd</th>\n",
       "      <th>description</th>\n",
       "    </tr>\n",
       "  </thead>\n",
       "  <tbody>\n",
       "    <tr>\n",
       "      <th>0</th>\n",
       "      <td>x</td>\n",
       "      <td>pc</td>\n",
       "      <td>float64</td>\n",
       "      <td></td>\n",
       "      <td>6</td>\n",
       "      <td></td>\n",
       "      <td>pos.cartesian.x</td>\n",
       "      <td>x position (galactic cartesian coordinates) in...</td>\n",
       "    </tr>\n",
       "    <tr>\n",
       "      <th>1</th>\n",
       "      <td>y</td>\n",
       "      <td>pc</td>\n",
       "      <td>float64</td>\n",
       "      <td></td>\n",
       "      <td>6</td>\n",
       "      <td></td>\n",
       "      <td>pos.cartesian.y</td>\n",
       "      <td>Position (y coordinate) in parsecs</td>\n",
       "    </tr>\n",
       "    <tr>\n",
       "      <th>2</th>\n",
       "      <td>z</td>\n",
       "      <td>pc</td>\n",
       "      <td>float64</td>\n",
       "      <td></td>\n",
       "      <td>6</td>\n",
       "      <td></td>\n",
       "      <td>pos.cartesian.z</td>\n",
       "      <td>Position (z coordinate) in parsecs</td>\n",
       "    </tr>\n",
       "    <tr>\n",
       "      <th>3</th>\n",
       "      <td>color</td>\n",
       "      <td>solLum</td>\n",
       "      <td>float64</td>\n",
       "      <td></td>\n",
       "      <td>2</td>\n",
       "      <td></td>\n",
       "      <td>phys.color</td>\n",
       "      <td>Gaia BP-G color</td>\n",
       "    </tr>\n",
       "    <tr>\n",
       "      <th>4</th>\n",
       "      <td>lum</td>\n",
       "      <td>solLum</td>\n",
       "      <td>float64</td>\n",
       "      <td></td>\n",
       "      <td>6</td>\n",
       "      <td></td>\n",
       "      <td>phys.luminosity</td>\n",
       "      <td>Stellar Luminosity</td>\n",
       "    </tr>\n",
       "    <tr>\n",
       "      <th>5</th>\n",
       "      <td>appmag</td>\n",
       "      <td>mag</td>\n",
       "      <td>float64</td>\n",
       "      <td></td>\n",
       "      <td>6</td>\n",
       "      <td></td>\n",
       "      <td>phot.mag;em.opt.G</td>\n",
       "      <td>Apparent magnitude in Gaia G-band</td>\n",
       "    </tr>\n",
       "    <tr>\n",
       "      <th>6</th>\n",
       "      <td>absmag</td>\n",
       "      <td>mag</td>\n",
       "      <td>float64</td>\n",
       "      <td></td>\n",
       "      <td>6</td>\n",
       "      <td></td>\n",
       "      <td>phot.magAbs;em.opt.G</td>\n",
       "      <td>Absolute magnitude in Gaia G-band</td>\n",
       "    </tr>\n",
       "    <tr>\n",
       "      <th>7</th>\n",
       "      <td>texnum</td>\n",
       "      <td></td>\n",
       "      <td>int64</td>\n",
       "      <td></td>\n",
       "      <td></td>\n",
       "      <td></td>\n",
       "      <td>meta.texnum</td>\n",
       "      <td>Texture Number</td>\n",
       "    </tr>\n",
       "    <tr>\n",
       "      <th>8</th>\n",
       "      <td>dist_ly</td>\n",
       "      <td>lyr</td>\n",
       "      <td>float32</td>\n",
       "      <td></td>\n",
       "      <td>1</td>\n",
       "      <td></td>\n",
       "      <td>pos.distance</td>\n",
       "      <td>Distance from Sun (lyr)</td>\n",
       "    </tr>\n",
       "    <tr>\n",
       "      <th>9</th>\n",
       "      <td>dcalc</td>\n",
       "      <td></td>\n",
       "      <td>int64</td>\n",
       "      <td></td>\n",
       "      <td></td>\n",
       "      <td></td>\n",
       "      <td>meta.dcalc</td>\n",
       "      <td>Distance Indicator: 1 indicates a Bailer-Jones...</td>\n",
       "    </tr>\n",
       "    <tr>\n",
       "      <th>10</th>\n",
       "      <td>u</td>\n",
       "      <td>km / s</td>\n",
       "      <td>float64</td>\n",
       "      <td></td>\n",
       "      <td>6</td>\n",
       "      <td></td>\n",
       "      <td>vel.cartesian.u</td>\n",
       "      <td>Heliocentric velocity towards Galactic Center</td>\n",
       "    </tr>\n",
       "    <tr>\n",
       "      <th>11</th>\n",
       "      <td>v</td>\n",
       "      <td>km / s</td>\n",
       "      <td>float64</td>\n",
       "      <td></td>\n",
       "      <td>6</td>\n",
       "      <td></td>\n",
       "      <td>vel.cartesian.v</td>\n",
       "      <td>Heliocentric velocity towards Galactic Rotation</td>\n",
       "    </tr>\n",
       "    <tr>\n",
       "      <th>12</th>\n",
       "      <td>w</td>\n",
       "      <td>km / s</td>\n",
       "      <td>float64</td>\n",
       "      <td></td>\n",
       "      <td>6</td>\n",
       "      <td></td>\n",
       "      <td>vel.cartesian.w</td>\n",
       "      <td>Heliocentric velocity towards Galactic North Pole</td>\n",
       "    </tr>\n",
       "    <tr>\n",
       "      <th>13</th>\n",
       "      <td>speed</td>\n",
       "      <td></td>\n",
       "      <td>float64</td>\n",
       "      <td></td>\n",
       "      <td>6</td>\n",
       "      <td></td>\n",
       "      <td>vel.speed</td>\n",
       "      <td>Total heliocentric velocity</td>\n",
       "    </tr>\n",
       "    <tr>\n",
       "      <th>14</th>\n",
       "      <td>speck_label</td>\n",
       "      <td></td>\n",
       "      <td>str</td>\n",
       "      <td></td>\n",
       "      <td></td>\n",
       "      <td>*</td>\n",
       "      <td>meta.id</td>\n",
       "      <td>Gaia DR2 Source ID</td>\n",
       "    </tr>\n",
       "  </tbody>\n",
       "</table>\n",
       "</div>"
      ],
      "text/plain": [
       "           name    unit datatype width precision arraysize  \\\n",
       "0             x      pc  float64               6             \n",
       "1             y      pc  float64               6             \n",
       "2             z      pc  float64               6             \n",
       "3         color  solLum  float64               2             \n",
       "4           lum  solLum  float64               6             \n",
       "5        appmag     mag  float64               6             \n",
       "6        absmag     mag  float64               6             \n",
       "7        texnum            int64                             \n",
       "8       dist_ly     lyr  float32               1             \n",
       "9         dcalc            int64                             \n",
       "10            u  km / s  float64               6             \n",
       "11            v  km / s  float64               6             \n",
       "12            w  km / s  float64               6             \n",
       "13        speed          float64               6             \n",
       "14  speck_label              str                         *   \n",
       "\n",
       "                     ucd                                        description  \n",
       "0        pos.cartesian.x  x position (galactic cartesian coordinates) in...  \n",
       "1        pos.cartesian.y                 Position (y coordinate) in parsecs  \n",
       "2        pos.cartesian.z                 Position (z coordinate) in parsecs  \n",
       "3             phys.color                                    Gaia BP-G color  \n",
       "4        phys.luminosity                                 Stellar Luminosity  \n",
       "5      phot.mag;em.opt.G                  Apparent magnitude in Gaia G-band  \n",
       "6   phot.magAbs;em.opt.G                  Absolute magnitude in Gaia G-band  \n",
       "7            meta.texnum                                     Texture Number  \n",
       "8           pos.distance                            Distance from Sun (lyr)  \n",
       "9             meta.dcalc  Distance Indicator: 1 indicates a Bailer-Jones...  \n",
       "10       vel.cartesian.u      Heliocentric velocity towards Galactic Center  \n",
       "11       vel.cartesian.v    Heliocentric velocity towards Galactic Rotation  \n",
       "12       vel.cartesian.w  Heliocentric velocity towards Galactic North Pole  \n",
       "13             vel.speed                        Total heliocentric velocity  \n",
       "14               meta.id                                 Gaia DR2 Source ID  "
      ]
     },
     "execution_count": 23,
     "metadata": {},
     "output_type": "execute_result"
    }
   ],
   "source": [
    "#construct a metadata table\n",
    "columns = file_functions.get_metadata(data, columns=['x', 'y', 'z', 'color', 'lum', 'appmag', 'absmag', 'texnum', 'dist_ly', 'dcalc', 'u', 'v', 'w', 'speed', 'speck_label'])\n",
    "columns"
   ]
  },
  {
   "cell_type": "code",
   "execution_count": 24,
   "id": "ed39a102",
   "metadata": {},
   "outputs": [
    {
     "name": "stderr",
     "output_type": "stream",
     "text": [
      "/home/abbott/Projects/Gaia_Subsets/os_gaia_module/src/youngstars/../common/file_functions.py:144: FutureWarning: A value is trying to be set on a copy of a DataFrame or Series through chained assignment using an inplace method.\n",
      "The behavior will change in pandas 3.0. This inplace method will never work because the intermediate object on which we are setting values always behaves as a copy.\n",
      "\n",
      "For example, when doing 'df[col].method(value, inplace=True)', try using 'df.method({col: value}, inplace=True)' or df[col] = df[col].method(value) instead, to perform the operation inplace on the original object.\n",
      "\n",
      "\n",
      "  df_speck.loc[0:len(df_speck),'speck_label'].replace(' ', '__', regex=True, inplace=True)\n"
     ]
    }
   ],
   "source": [
    "# Print the speck file using the to_speck function in file_functions\n",
    "file_functions.to_speck(metadata, Table.to_pandas(data), columns)"
   ]
  },
  {
   "cell_type": "code",
   "execution_count": 25,
   "id": "b2641509",
   "metadata": {},
   "outputs": [],
   "source": [
    "# Print the label file using the to_label function in file_functions\n",
    "file_functions.to_label(metadata, Table.to_pandas(data))"
   ]
  },
  {
   "cell_type": "code",
   "execution_count": 26,
   "id": "9a7904f4",
   "metadata": {},
   "outputs": [],
   "source": [
    "# Print the csv file using the to_label function in file_functions\n",
    "file_functions.to_csv(metadata, Table.to_pandas(data), columns)"
   ]
  },
  {
   "cell_type": "code",
   "execution_count": null,
   "id": "fc71f914",
   "metadata": {},
   "outputs": [],
   "source": []
  }
 ],
 "metadata": {
  "kernelspec": {
   "display_name": "Python 3 (ipykernel)",
   "language": "python",
   "name": "python3"
  },
  "language_info": {
   "codemirror_mode": {
    "name": "ipython",
    "version": 3
   },
   "file_extension": ".py",
   "mimetype": "text/x-python",
   "name": "python",
   "nbconvert_exporter": "python",
   "pygments_lexer": "ipython3",
   "version": "3.12.4"
  }
 },
 "nbformat": 4,
 "nbformat_minor": 5
}

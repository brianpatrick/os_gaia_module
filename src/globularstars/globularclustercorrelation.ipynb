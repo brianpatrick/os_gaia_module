{
 "cells": [
  {
   "cell_type": "code",
   "execution_count": 1,
   "id": "b6af0533-deec-48f7-b98b-c969cf814539",
   "metadata": {},
   "outputs": [],
   "source": [
    "import pandas as pd"
   ]
  },
  {
   "cell_type": "code",
   "execution_count": 5,
   "id": "2801727d-13fe-4202-be93-f73811b3f6f7",
   "metadata": {},
   "outputs": [],
   "source": [
    "data = pd.read_csv('globclusters.csv')[['Name', 'OName', 'bonus_column']]"
   ]
  },
  {
   "cell_type": "code",
   "execution_count": 6,
   "id": "6f32e4e3-0a22-4e86-9ca7-143de3526dfb",
   "metadata": {},
   "outputs": [
    {
     "data": {
      "text/html": [
       "<div>\n",
       "<style scoped>\n",
       "    .dataframe tbody tr th:only-of-type {\n",
       "        vertical-align: middle;\n",
       "    }\n",
       "\n",
       "    .dataframe tbody tr th {\n",
       "        vertical-align: top;\n",
       "    }\n",
       "\n",
       "    .dataframe thead th {\n",
       "        text-align: right;\n",
       "    }\n",
       "</style>\n",
       "<table border=\"1\" class=\"dataframe\">\n",
       "  <thead>\n",
       "    <tr style=\"text-align: right;\">\n",
       "      <th></th>\n",
       "      <th>Name</th>\n",
       "      <th>OName</th>\n",
       "      <th>bonus_column</th>\n",
       "    </tr>\n",
       "  </thead>\n",
       "  <tbody>\n",
       "    <tr>\n",
       "      <th>0</th>\n",
       "      <td>NGC 104</td>\n",
       "      <td>47 Tuc</td>\n",
       "      <td>AM_1</td>\n",
       "    </tr>\n",
       "    <tr>\n",
       "      <th>1</th>\n",
       "      <td>NGC 288</td>\n",
       "      <td>NaN</td>\n",
       "      <td>AM_4</td>\n",
       "    </tr>\n",
       "    <tr>\n",
       "      <th>2</th>\n",
       "      <td>NGC 362</td>\n",
       "      <td>NaN</td>\n",
       "      <td>Arp_2</td>\n",
       "    </tr>\n",
       "    <tr>\n",
       "      <th>3</th>\n",
       "      <td>Whiting 1</td>\n",
       "      <td>NaN</td>\n",
       "      <td>BH_140</td>\n",
       "    </tr>\n",
       "    <tr>\n",
       "      <th>4</th>\n",
       "      <td>NGC 1261</td>\n",
       "      <td>NaN</td>\n",
       "      <td>BH_176</td>\n",
       "    </tr>\n",
       "    <tr>\n",
       "      <th>...</th>\n",
       "      <td>...</td>\n",
       "      <td>...</td>\n",
       "      <td>...</td>\n",
       "    </tr>\n",
       "    <tr>\n",
       "      <th>165</th>\n",
       "      <td>NGC 7089</td>\n",
       "      <td>M 2</td>\n",
       "      <td>Ton2_Pismis26</td>\n",
       "    </tr>\n",
       "    <tr>\n",
       "      <th>166</th>\n",
       "      <td>NGC 7099</td>\n",
       "      <td>M 30</td>\n",
       "      <td>UKS_1</td>\n",
       "    </tr>\n",
       "    <tr>\n",
       "      <th>167</th>\n",
       "      <td>Pal 12</td>\n",
       "      <td>NaN</td>\n",
       "      <td>VVV_CL001</td>\n",
       "    </tr>\n",
       "    <tr>\n",
       "      <th>168</th>\n",
       "      <td>Pal 13</td>\n",
       "      <td>NaN</td>\n",
       "      <td>VVV_CL002</td>\n",
       "    </tr>\n",
       "    <tr>\n",
       "      <th>169</th>\n",
       "      <td>NGC 7492</td>\n",
       "      <td>NaN</td>\n",
       "      <td>Whiting_1</td>\n",
       "    </tr>\n",
       "  </tbody>\n",
       "</table>\n",
       "<p>170 rows × 3 columns</p>\n",
       "</div>"
      ],
      "text/plain": [
       "          Name   OName   bonus_column\n",
       "0      NGC 104  47 Tuc           AM_1\n",
       "1      NGC 288     NaN           AM_4\n",
       "2      NGC 362     NaN          Arp_2\n",
       "3    Whiting 1     NaN         BH_140\n",
       "4     NGC 1261     NaN         BH_176\n",
       "..         ...     ...            ...\n",
       "165   NGC 7089     M 2  Ton2_Pismis26\n",
       "166   NGC 7099    M 30          UKS_1\n",
       "167     Pal 12     NaN      VVV_CL001\n",
       "168     Pal 13     NaN      VVV_CL002\n",
       "169   NGC 7492     NaN      Whiting_1\n",
       "\n",
       "[170 rows x 3 columns]"
      ]
     },
     "execution_count": 6,
     "metadata": {},
     "output_type": "execute_result"
    }
   ],
   "source": [
    "data"
   ]
  },
  {
   "cell_type": "code",
   "execution_count": 7,
   "id": "be609713-5a50-4569-9c15-ef86069d3242",
   "metadata": {},
   "outputs": [],
   "source": [
    "star_cluster_names = data['bonus_column']\n",
    "data['final_correlation_column'] = ['nope']*len(data)"
   ]
  },
  {
   "cell_type": "code",
   "execution_count": null,
   "id": "b7db6117-389e-4666-a83f-a16efbb8ed17",
   "metadata": {},
   "outputs": [],
   "source": [
    "for i in range(len(data)):\n",
    "    id = data['bonus_column'][i]\n",
    "    fixed_id = id.replace('_', ' ')\n",
    "    \n",
    "    if(fixed_id in data['Name']):\n",
    "        data['final_correlation_column'][data['Name'].index(id)] = id\n",
    "    elif(fixed_id in data['OName']):"
   ]
  }
 ],
 "metadata": {
  "kernelspec": {
   "display_name": "Python 3 (ipykernel)",
   "language": "python",
   "name": "python3"
  },
  "language_info": {
   "codemirror_mode": {
    "name": "ipython",
    "version": 3
   },
   "file_extension": ".py",
   "mimetype": "text/x-python",
   "name": "python",
   "nbconvert_exporter": "python",
   "pygments_lexer": "ipython3",
   "version": "3.11.8"
  }
 },
 "nbformat": 4,
 "nbformat_minor": 5
}

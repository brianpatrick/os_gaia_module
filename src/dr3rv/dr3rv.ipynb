{
 "cells": [
  {
   "cell_type": "code",
   "execution_count": null,
   "id": "d65d5d90",
   "metadata": {},
   "outputs": [],
   "source": [
    "# PROCESS THE GAIA DR3 RADIAL VELOCITY CATALOG:\n",
    "# https://gea.esac.esa.int/archive/\n",
    "#\n",
    "#\n",
    "# ZACK REEVES\n",
    "# CREATED: 2024\n",
    "#\n",
    "# VERSIONS:\n",
    "#  1.1  MAR 2024 CREATE JUPYTER NOTEBOOK"
   ]
  },
  {
   "cell_type": "code",
   "execution_count": null,
   "id": "c44b430f",
   "metadata": {},
   "outputs": [],
   "source": [
    "# **STEPS TO RUN THIS CODE**\n",
    "\n",
    "# There are two queries you can run to generate this catalog\n",
    "# The first is a query to grab every star in Gaia with a radial velocity (and a gmag) ~33 million stars\n",
    "# The second is a query to grab every Gaia star with a radial velocity AND which pass some data quality tests (parallax error) ~29 million stars\n",
    "\n",
    "# First choose a query, then run it.  \n",
    "# If you have a decent internet connection and can run the code for hours, the code will execute the query and download the table\n",
    "# If the code times out, the query results should still be available on your gaia archive account\n",
    "\n",
    "# Download the data either from the code or from the gaia archive, then run the rest of the processing code.  This can take several hours\n",
    "# Recommended to download as a vot.gz - this is the smallest file size the gaia server offers\n",
    "# If any errors occur, consider slicing the data down to the first 1000 rows (data[:1000]) to debug\n",
    "# Can also add \"select TOP 1000\" to the query to grab 1000 stars for testing"
   ]
  },
  {
   "cell_type": "code",
   "execution_count": null,
   "id": "07007465",
   "metadata": {},
   "outputs": [],
   "source": [
    "#This code pulls a catalogue from Gaia DR3 of each star that has a reliable radial velocity\n",
    "#Based on https://www.aanda.org/articles/aa/full_html/2023/06/aa44220-22/aa44220-22.html#S14,\n",
    "#We correct radial velocities for stars of high magnitude grvs_mag>11 by Katz et al.\n",
    "#We also correct stars of high effective temperature 14500>rv_template_teff>8500 and 6>grvs_mag>12 by Blomme et al. as recommended by Katz^"
   ]
  },
  {
   "cell_type": "code",
   "execution_count": null,
   "id": "942207ef",
   "metadata": {},
   "outputs": [],
   "source": [
    "import pandas as pd\n",
    "import numpy as np\n",
    "import sys\n",
    "import os\n",
    "import collections\n",
    "\n",
    "import astropy.units as u\n",
    "import astropy.coordinates\n",
    "from astropy.table import Table\n",
    "from astropy.io import ascii\n",
    "\n",
    "from astroquery.gaia import Gaia\n",
    "\n",
    "sys.path.insert(0, '..')\n",
    "from common import file_functions, calculations, gaia_functions\n",
    "\n",
    "from matplotlib import pyplot as plt, colors"
   ]
  },
  {
   "cell_type": "code",
   "execution_count": null,
   "id": "e3e34b29",
   "metadata": {},
   "outputs": [],
   "source": [
    "# Define the metadata for the data set. \n",
    "metadata = {}\n",
    "\n",
    "metadata['project'] = 'Digital Universe Atlas Gaia Subsets'\n",
    "metadata['sub_project'] = 'Gaia DR3 Radial Velocities'\n",
    "\n",
    "metadata['catalog'] = 'Gaia Data Release 3: Properties and validation of the radial velocities (Katz et al., 2023)'\n",
    "metadata['catalog_author'] = 'Katz et al.'\n",
    "metadata['catalog_year'] = '2023'\n",
    "metadata['prepared_by'] = 'Zack Reeves (AMNH)'\n",
    "metadata['version'] = '1.1'\n",
    "\n",
    "metadata['dir'] = metadata['sub_project'].replace(' ', '_').lower()\n",
    "metadata['raw_data_dir'] = ''\n",
    "\n",
    "metadata['data_group_title'] = 'RadialVelocityStars'\n",
    "metadata['data_group_desc'] = 'Gaia DR3 Radial Velocity'\n",
    "metadata['data_group_desc_long'] = 'Gaia DR3 Radial Velocity' #need to expand\n",
    "\n",
    "metadata['fileroot'] = 'gdr3rv'\n",
    "\n",
    "file_functions.generate_asset_file(metadata)\n",
    "file_functions.generate_license_file(metadata)"
   ]
  },
  {
   "cell_type": "code",
   "execution_count": null,
   "id": "64f8e168",
   "metadata": {},
   "outputs": [],
   "source": [
    "#query the catalogue from Gaia\n",
    "#https://gea.esac.esa.int/archive/\n",
    "#The query pulls the source id, positional data, velocity data as well as teff and magnitude for correction purposes\n",
    "#corrective data included in the query was informed by https://www.aanda.org/articles/aa/full_html/2023/06/aa44220-22/aa44220-22.html#S14"
   ]
  },
  {
   "cell_type": "code",
   "execution_count": null,
   "id": "59e8f91b",
   "metadata": {},
   "outputs": [],
   "source": [
    "#QUERY #1 - 33 million stars\n",
    "\n",
    "#log in to Gaia Server - Can change to different credentials file for a different user\n",
    "#query runs in a little over an hour\n",
    "#file is 3.2 gigabytes, 33,653,049 objects\n",
    "Gaia.login(credentials_file='../common/gaia_credentials.txt')\n",
    "\n",
    "#Query Gaia DR3 source for parallaxes\n",
    "job = Gaia.launch_job_async(\"select a.source_id, a.ra, a.dec, a.pmra, a.pmdec, a.parallax, a.parallax_error, a.phot_g_mean_mag, a.bp_g, a.radial_velocity, a.radial_velocity_error, a.grvs_mag, a.rv_template_teff, \"\n",
    "                            \"bj.r_med_geo, bj.r_hi_geo, bj.r_lo_geo, bj.r_med_photogeo, bj.r_hi_photogeo, bj.r_lo_photogeo \"\n",
    "                            \"from gaiadr3.gaia_source a left join external.gaiaedr3_distance bj on a.source_id = bj.source_id \"\n",
    "                            \"where a.radial_velocity is not null and a.phot_g_mean_mag > 0 and parallax > 0\",\n",
    "                            dump_to_file=False)\n",
    "\n",
    "#Put the resulting table into a Table\n",
    "data = job.get_results()\n",
    "    \n",
    "#Gaia.remove_jobs(job.jobid) # UNCOMMENT THIS LINE IF YOU WANT TO PURELY READ THE DATA FROM NOTEBOOK CODE - otherwise remember to delete the job from the gaia archive to not clog your memory\n",
    "\n",
    "Gaia.logout()"
   ]
  },
  {
   "cell_type": "code",
   "execution_count": null,
   "id": "7e82dc3a",
   "metadata": {},
   "outputs": [],
   "source": [
    "#QUERY #2 - 29 million stars\n",
    "\n",
    "#log in to Gaia Server - Can change to different credentials file for a different user\n",
    "#query runs in a little over an hour\n",
    "#file is 2.8 gigabytes, 29,946,388 objects\n",
    "Gaia.login(credentials_file='../common/gaia_credentials.txt')\n",
    "\n",
    "#Query Gaia DR3 source for parallaxes\n",
    "job = Gaia.launch_job_async(\"select a.source_id, a.ra, a.dec, a.pmra, a.pmdec, a.parallax, a.parallax_error, a.phot_g_mean_mag, a.bp_g, a.radial_velocity, a.radial_velocity_error, a.grvs_mag, a.rv_template_teff, \"\n",
    "                            \"bj.r_med_geo, bj.r_hi_geo, bj.r_lo_geo, bj.r_med_photogeo, bj.r_hi_photogeo, bj.r_lo_photogeo \"\n",
    "                            \"from gaiadr3.gaia_source a left join external.gaiaedr3_distance bj on a.source_id = bj.source_id \"\n",
    "                            \"where a.radial_velocity is not null and a.phot_g_mean_mag > 0 and parallax > 0 and a.parallax / a.parallax_error > 5\",\n",
    "                            dump_to_file=False)\n",
    "\n",
    "#Put the resulting table into a Table\n",
    "data = job.get_results()\n",
    "    \n",
    "Gaia.remove_jobs(job.jobid)\n",
    "\n",
    "Gaia.logout()"
   ]
  },
  {
   "cell_type": "code",
   "execution_count": null,
   "id": "d58909d4",
   "metadata": {},
   "outputs": [],
   "source": [
    "data = Table.read('raw_data/1719451450953O-result.vot.gz')"
   ]
  },
  {
   "cell_type": "code",
   "execution_count": null,
   "id": "d6d5660e",
   "metadata": {
    "scrolled": true
   },
   "outputs": [],
   "source": [
    "data"
   ]
  },
  {
   "cell_type": "code",
   "execution_count": null,
   "id": "ab156f2d",
   "metadata": {},
   "outputs": [],
   "source": [
    "gaia_functions.set_bj_distance(data)"
   ]
  },
  {
   "cell_type": "code",
   "execution_count": null,
   "id": "7b1c66d5",
   "metadata": {},
   "outputs": [],
   "source": [
    "data"
   ]
  },
  {
   "cell_type": "code",
   "execution_count": null,
   "id": "672efcbf",
   "metadata": {},
   "outputs": [],
   "source": [
    "#calculating distance in light years and parsecs\n",
    "calculations.get_distance(data, dist='bj_distance', use='distance')"
   ]
  },
  {
   "cell_type": "code",
   "execution_count": null,
   "id": "af55e065",
   "metadata": {},
   "outputs": [],
   "source": [
    "# data quality check\n",
    "data.remove_rows(np.where(data['dist_pc']<=0)[0])"
   ]
  },
  {
   "cell_type": "code",
   "execution_count": null,
   "id": "8c89a456",
   "metadata": {},
   "outputs": [],
   "source": [
    "gaia_functions.get_magnitudes(data)"
   ]
  },
  {
   "cell_type": "code",
   "execution_count": null,
   "id": "67e162bf",
   "metadata": {},
   "outputs": [],
   "source": [
    "gaia_functions.get_luminosity(data)"
   ]
  },
  {
   "cell_type": "code",
   "execution_count": null,
   "id": "0d5254d8",
   "metadata": {},
   "outputs": [],
   "source": [
    "gaia_functions.get_bp_g_color(data) #may want to change to bp_rp"
   ]
  },
  {
   "cell_type": "code",
   "execution_count": null,
   "id": "06f22a79",
   "metadata": {},
   "outputs": [],
   "source": [
    "# data check on the G mag\n",
    "x = data['phot_g_mean_mag']\n",
    "q25, q75 = np.percentile(x, [25, 75])\n",
    "bin_width = 2 * (q75 - q25) * len(x) ** (-1/3)\n",
    "bins = round((x.max() - x.min()) / bin_width)\n",
    "print(\"Freedman–Diaconis number of bins:\", bins)\n",
    "plt.hist(x, bins=bins);"
   ]
  },
  {
   "cell_type": "code",
   "execution_count": null,
   "id": "b2a815af",
   "metadata": {},
   "outputs": [],
   "source": [
    "#applying corrections from papers\n",
    "data['radial_velocity_correction'] = [0.0]*len(data)\n",
    "\n",
    "#Katz correction\n",
    "katz_indexes = np.where(data['grvs_mag']>11)[0]\n",
    "data['radial_velocity_correction'][katz_indexes] = [(0.02755*data['grvs_mag'][i]**2 - 0.55863*data['grvs_mag'][i] + 2.81129) for i in katz_indexes]\n",
    "\n",
    "#Blomme correction\n",
    "blomme_indexes = np.where((data['grvs_mag']>11)&(data['rv_template_teff']>8500)&(data['rv_template_teff']<14500))[0]\n",
    "data['radial_velocity_correction'][blomme_indexes] = [7.98 - 1.135*data['grvs_mag'][i] for i in blomme_indexes]\n",
    "\n",
    "data['corrected_radial_velocity'] = np.subtract(data['radial_velocity'], data['radial_velocity_correction'])\n",
    "data['corrected_radial_velocity'].unit=u.km/u.s"
   ]
  },
  {
   "cell_type": "code",
   "execution_count": null,
   "id": "49a2b1af",
   "metadata": {},
   "outputs": [],
   "source": [
    "#calculating cartesian coordinates\n",
    "calculations.get_cartesian(data, ra='ra', dec='dec', pmra='pmra', pmde='pmdec', radial_velocity='corrected_radial_velocity', frame='icrs')"
   ]
  },
  {
   "cell_type": "code",
   "execution_count": null,
   "id": "08045cb2",
   "metadata": {},
   "outputs": [],
   "source": [
    "data"
   ]
  },
  {
   "cell_type": "code",
   "execution_count": null,
   "id": "ac2e6be3",
   "metadata": {},
   "outputs": [],
   "source": [
    "#2D Visualization\n",
    "fig, ax = plt.subplots(1, 2)\n",
    "\n",
    "#XY Plane\n",
    "ax[0].scatter(data['x'], data['y'])\n",
    "ax[0].set_title('XY Plane')\n",
    "\n",
    "#XZ Plane\n",
    "ax[1].scatter(data['x'], data['z'])\n",
    "ax[1].set_title('XZ Plane')\n",
    "\n",
    "#set good spacing\n",
    "fig.tight_layout()\n",
    "fig.set_size_inches(10, 4, forward=True)\n",
    "plt.show"
   ]
  },
  {
   "cell_type": "code",
   "execution_count": null,
   "id": "35fe8ec7",
   "metadata": {},
   "outputs": [],
   "source": [
    "#2D Density Visualization\n",
    "fig, ax = plt.subplots(1, 2)\n",
    "\n",
    "#XY Plane\n",
    "ax[0].hist2d(data['x'], data['y'], \n",
    "           bins = 200,  \n",
    "           norm = colors.LogNorm(),  \n",
    "           cmap = \"RdYlGn_r\",) \n",
    "ax[0].set_title('XY Plane')\n",
    "\n",
    "#XZ Plane\n",
    "ax[1].hist2d(data['x'], data['z'], \n",
    "           bins = 200,  \n",
    "           norm = colors.LogNorm(),  \n",
    "           cmap = \"RdYlGn_r\",) \n",
    "ax[1].set_title('XZ Plane')\n",
    "\n",
    "#set good spacing\n",
    "fig.tight_layout()\n",
    "fig.set_size_inches(10, 4, forward=True)\n",
    "#plt.show"
   ]
  },
  {
   "cell_type": "code",
   "execution_count": null,
   "id": "98602980",
   "metadata": {},
   "outputs": [],
   "source": [
    "#construct a speck comment column\n",
    "data['speck_label'] = data.Column(data=['#__'+str(name) for name in data['SOURCE_ID']], \n",
    "                                  meta=collections.OrderedDict([('ucd', 'meta.id')]),\n",
    "                                  description='Gaia DR3 Source ID')\n",
    "\n",
    "#construct a label column\n",
    "data['label'] = ['GaiaDR3_'+ str(source) for source in data['source_id']]  #leaving for now in case we want to add other labels"
   ]
  },
  {
   "cell_type": "code",
   "execution_count": null,
   "id": "78f6d185",
   "metadata": {},
   "outputs": [],
   "source": [
    "data['label'] = ['GaiaDR3_'+ str(source) for source in data['SOURCE_ID']]  #leaving for now in case we want to add other labels"
   ]
  },
  {
   "cell_type": "code",
   "execution_count": null,
   "id": "1d842ab2",
   "metadata": {},
   "outputs": [],
   "source": [
    "#setting texture number column\n",
    "data['texnum'] = data.Column(data=[1]*len(data), \n",
    "                                  meta=collections.OrderedDict([('ucd', 'meta.texnum')]),\n",
    "                                  description='Texture Number')"
   ]
  },
  {
   "cell_type": "code",
   "execution_count": null,
   "id": "c754e4f7",
   "metadata": {},
   "outputs": [],
   "source": [
    "#Getting the column metadata\n",
    "columns = file_functions.get_metadata(data, columns=['x', 'y', 'z', 'color', 'lum', 'absmag', 'appmag', 'texnum', 'dist_ly', 'dcalc', 'u', 'v', 'w', 'speed', 'speck_label'])\n",
    "columns"
   ]
  },
  {
   "cell_type": "code",
   "execution_count": null,
   "id": "acf0d7c6",
   "metadata": {},
   "outputs": [],
   "source": [
    "# Print the csv file using the to_csv function in file_functions\n",
    "file_functions.to_csv(metadata, Table.to_pandas(data), columns)"
   ]
  },
  {
   "cell_type": "code",
   "execution_count": null,
   "id": "38e1e9ba",
   "metadata": {},
   "outputs": [],
   "source": [
    "# Print the speck file using the to_speck function in file_functions\n",
    "file_functions.to_speck(metadata, Table.to_pandas(data), columns)"
   ]
  },
  {
   "cell_type": "code",
   "execution_count": null,
   "id": "f852e0f3",
   "metadata": {},
   "outputs": [],
   "source": [
    "# Print the label file using the to_label function in file_functions\n",
    "file_functions.to_label(metadata, Table.to_pandas(data))"
   ]
  },
  {
   "cell_type": "code",
   "execution_count": null,
   "id": "558e2d1b",
   "metadata": {},
   "outputs": [],
   "source": []
  }
 ],
 "metadata": {
  "kernelspec": {
   "display_name": "Python 3 (ipykernel)",
   "language": "python",
   "name": "python3"
  },
  "language_info": {
   "codemirror_mode": {
    "name": "ipython",
    "version": 3
   },
   "file_extension": ".py",
   "mimetype": "text/x-python",
   "name": "python",
   "nbconvert_exporter": "python",
   "pygments_lexer": "ipython3",
   "version": "3.11.7"
  }
 },
 "nbformat": 4,
 "nbformat_minor": 5
}

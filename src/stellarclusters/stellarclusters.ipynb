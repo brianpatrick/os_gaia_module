{
 "cells": [
  {
   "cell_type": "code",
   "execution_count": 1,
   "id": "6a0da7c8",
   "metadata": {},
   "outputs": [],
   "source": [
    "# PROCESS THE STELLAR CLUSTER CATAOLOG:\n",
    "# https://arxiv.org/abs/2308.04546\n",
    "# https://zenodo.org/records/10042028\n",
    "#\n",
    "#\n",
    "# ZACK REEVES\n",
    "# CREATED: 2023\n",
    "#\n",
    "# VERSIONS:\n",
    "#  1.1  OCT 2023 CREATE JUPYTER NOTEBOOK"
   ]
  },
  {
   "cell_type": "code",
   "execution_count": 2,
   "id": "1e8c0e2a",
   "metadata": {},
   "outputs": [],
   "source": [
    "# Define the metadata for the data set. \n",
    "metadata = {}\n",
    "\n",
    "metadata['project'] = 'Digital Universe Atlas'\n",
    "metadata['sub_project'] = 'Stellar Clusters'\n",
    "\n",
    "metadata['catalog'] = 'The Unified Cluster Catalogue: towards a comprehensive and homogeneous data base of stellar clusters (Perren+, 2023)'\n",
    "metadata['author'] = 'Perren+'\n",
    "metadata['prepared_by'] = 'Zack Reeves (AMNH)'\n",
    "metadata['version'] = '1.1'\n",
    "\n",
    "metadata['dir'] = metadata['sub_project'].replace(' ', '_').lower()\n",
    "metadata['raw_data_dir'] = ''\n",
    "\n",
    "metadata['data_group_title'] = 'Stellar Clusters'\n",
    "metadata['data_group_desc'] = 'Stellar Cluster catalog'\n",
    "metadata['fileroot'] = 'sc'"
   ]
  },
  {
   "cell_type": "code",
   "execution_count": 3,
   "id": "75a2d7ca",
   "metadata": {},
   "outputs": [],
   "source": [
    "import pandas as pd\n",
    "import numpy as np\n",
    "import sys\n",
    "import collections\n",
    "\n",
    "from astropy.io import ascii\n",
    "import astropy.units as u\n",
    "import astropy.coordinates\n",
    "from astropy.coordinates import Angle\n",
    "from astropy.table import Table\n",
    "\n",
    "from astroquery.vizier import Vizier\n",
    "\n",
    "sys.path.insert(0, '..')\n",
    "from common import file_functions, calculations\n",
    "\n",
    "import matplotlib.pyplot as plt"
   ]
  },
  {
   "cell_type": "code",
   "execution_count": 6,
   "id": "75556a06",
   "metadata": {},
   "outputs": [],
   "source": [
    "#Reading data into Astropy Table\n",
    "\n",
    "#The catalog is downloaded from https://zenodo.org/records/10042028\n",
    "#The catalog that should be downloaded to view the 14,000 clusters is UCC_cat.csv.gz, \n",
    "#the other catalog is the 1,300,000 stellar members\n",
    "\n",
    "data = Table.from_pandas(pd.read_csv('../catalogs/UCC_cat.csv'))"
   ]
  },
  {
   "cell_type": "code",
   "execution_count": 7,
   "id": "16d5a196",
   "metadata": {},
   "outputs": [
    {
     "data": {
      "text/html": [
       "<div><i>Table length=15640</i>\n",
       "<table id=\"table6129952784\" class=\"table-striped table-bordered table-condensed\">\n",
       "<thead><tr><th>ID</th><th>RA_ICRS</th><th>DE_ICRS</th><th>plx</th><th>pmRA</th><th>pmDE</th><th>UCC_ID</th><th>N_50</th><th>r_50</th><th>RA_ICRS_m</th><th>DE_ICRS_m</th><th>plx_m</th><th>pmRA_m</th><th>pmDE_m</th><th>Rv_m</th><th>N_Rv</th><th>C1</th><th>C2</th><th>C3</th></tr></thead>\n",
       "<thead><tr><th>str118</th><th>float64</th><th>float64</th><th>float64</th><th>float64</th><th>float64</th><th>str16</th><th>float64</th><th>float64</th><th>float64</th><th>float64</th><th>float64</th><th>float64</th><th>float64</th><th>float64</th><th>float64</th><th>float64</th><th>float64</th><th>str2</th></tr></thead>\n",
       "<tr><td>Dutra-Bica 58</td><td>266.268</td><td>-28.848</td><td>--</td><td>--</td><td>--</td><td>UCC G000.0+00.1</td><td>77.0</td><td>8.6</td><td>266.274</td><td>-28.858</td><td>0.429</td><td>-0.112</td><td>-0.43</td><td>-11.754</td><td>1.0</td><td>0.87</td><td>0.6</td><td>AB</td></tr>\n",
       "<tr><td>ESO 456 05;AL 2;Andrews-Lindsay 2;MWSC 2734</td><td>268.2709</td><td>-29.8888</td><td>--</td><td>--</td><td>--</td><td>UCC G000.0-01.8</td><td>37.0</td><td>6.0</td><td>268.23</td><td>-29.875</td><td>0.362</td><td>-0.282</td><td>-1.936</td><td>23.022</td><td>3.0</td><td>0.93</td><td>1.0</td><td>AA</td></tr>\n",
       "<tr><td>VVV 151;VVV-CL 151</td><td>267.8215</td><td>-29.6568</td><td>--</td><td>--</td><td>--</td><td>UCC G000.0-01.4</td><td>0.0</td><td>3.1</td><td>267.841</td><td>-29.652</td><td>0.174</td><td>-1.905</td><td>-4.303</td><td>--</td><td>0.0</td><td>0.31</td><td>0.68</td><td>CB</td></tr>\n",
       "<tr><td>DB 1;Dutra-Bica 1</td><td>266.7061</td><td>-29.0613</td><td>--</td><td>--</td><td>--</td><td>UCC G000.0-00.2</td><td>0.0</td><td>1.8</td><td>266.714</td><td>-29.057</td><td>0.398</td><td>-1.338</td><td>-2.951</td><td>24.157</td><td>4.0</td><td>0.63</td><td>0.28</td><td>BC</td></tr>\n",
       "<tr><td>FSR 0001;MWSC 2622</td><td>263.0968</td><td>-27.0623</td><td>--</td><td>--</td><td>--</td><td>UCC G000.0+03.4</td><td>34.0</td><td>7.6</td><td>263.061</td><td>-27.122</td><td>0.052</td><td>-4.299</td><td>-2.589</td><td>-52.549</td><td>3.0</td><td>0.09</td><td>0.51</td><td>DB</td></tr>\n",
       "<tr><td>FSR 0002;MWSC 2623</td><td>263.1351</td><td>-27.0684</td><td>--</td><td>--</td><td>--</td><td>UCC G000.0+03.4a</td><td>0.0</td><td>6.9</td><td>263.163</td><td>-27.111</td><td>0.048</td><td>-4.502</td><td>-6.769</td><td>-0.852</td><td>2.0</td><td>0.43</td><td>0.54</td><td>CB</td></tr>\n",
       "<tr><td>...</td><td>...</td><td>...</td><td>...</td><td>...</td><td>...</td><td>...</td><td>...</td><td>...</td><td>...</td><td>...</td><td>...</td><td>...</td><td>...</td><td>...</td><td>...</td><td>...</td><td>...</td><td>...</td></tr>\n",
       "<tr><td>FoF 1624</td><td>266.582</td><td>-29.175</td><td>0.48</td><td>1.705</td><td>-0.777</td><td>UCC G359.8-00.2c</td><td>479.0</td><td>7.1</td><td>266.579</td><td>-29.168</td><td>0.483</td><td>1.72</td><td>-0.795</td><td>-34.924</td><td>29.0</td><td>1.0</td><td>0.89</td><td>AA</td></tr>\n",
       "<tr><td>UBC 571</td><td>267.346</td><td>-29.574</td><td>0.334</td><td>-1.07</td><td>-2.876</td><td>UCC G359.8-01.0</td><td>57.0</td><td>9.7</td><td>267.362</td><td>-29.552</td><td>0.379</td><td>-1.115</td><td>-2.88</td><td>-19.163</td><td>5.0</td><td>0.77</td><td>1.0</td><td>AA</td></tr>\n",
       "<tr><td>MKN 1;MKN ab</td><td>266.4468</td><td>-29.0874</td><td>--</td><td>--</td><td>--</td><td>UCC G359.8-00.1</td><td>79.0</td><td>4.4</td><td>266.462</td><td>-29.095</td><td>0.489</td><td>1.753</td><td>-0.777</td><td>-25.868</td><td>5.0</td><td>0.86</td><td>0.75</td><td>AA</td></tr>\n",
       "<tr><td>MWSC 5326</td><td>248.1925</td><td>-17.143</td><td>--</td><td>--</td><td>--</td><td>UCC G359.9+20.4</td><td>0.0</td><td>4.6</td><td>248.189</td><td>-17.148</td><td>0.09</td><td>-3.735</td><td>-5.86</td><td>67.828</td><td>1.0</td><td>0.11</td><td>0.2</td><td>DD</td></tr>\n",
       "<tr><td>HSC 2986</td><td>285.3171</td><td>-36.8834</td><td>6.694</td><td>2.209</td><td>-27.556</td><td>UCC G359.9-17.7</td><td>0.0</td><td>22.5</td><td>285.298</td><td>-36.941</td><td>6.532</td><td>3.67</td><td>-27.737</td><td>-5.275</td><td>8.0</td><td>0.72</td><td>1.0</td><td>BA</td></tr>\n",
       "<tr><td>VVV 149;VVV-CL 149</td><td>267.338</td><td>-29.464</td><td>--</td><td>--</td><td>--</td><td>UCC G359.9-00.9</td><td>0.0</td><td>2.6</td><td>267.351</td><td>-29.455</td><td>0.352</td><td>-0.674</td><td>-2.78</td><td>-39.904</td><td>3.0</td><td>0.45</td><td>0.46</td><td>CC</td></tr>\n",
       "<tr><td>Ryu 535</td><td>266.5884</td><td>-29.0573</td><td>--</td><td>--</td><td>--</td><td>UCC G359.9-00.2</td><td>61.0</td><td>2.1</td><td>266.606</td><td>-29.055</td><td>0.376</td><td>-0.153</td><td>-2.099</td><td>-33.921</td><td>4.0</td><td>0.88</td><td>0.31</td><td>AC</td></tr>\n",
       "</table></div>"
      ],
      "text/plain": [
       "<Table length=15640>\n",
       "                     ID                     RA_ICRS  DE_ICRS  ...    C2    C3 \n",
       "                   str118                   float64  float64  ... float64 str2\n",
       "------------------------------------------- -------- -------- ... ------- ----\n",
       "                              Dutra-Bica 58  266.268  -28.848 ...     0.6   AB\n",
       "ESO 456 05;AL 2;Andrews-Lindsay 2;MWSC 2734 268.2709 -29.8888 ...     1.0   AA\n",
       "                         VVV 151;VVV-CL 151 267.8215 -29.6568 ...    0.68   CB\n",
       "                          DB 1;Dutra-Bica 1 266.7061 -29.0613 ...    0.28   BC\n",
       "                         FSR 0001;MWSC 2622 263.0968 -27.0623 ...    0.51   DB\n",
       "                         FSR 0002;MWSC 2623 263.1351 -27.0684 ...    0.54   CB\n",
       "                                        ...      ...      ... ...     ...  ...\n",
       "                                   FoF 1624  266.582  -29.175 ...    0.89   AA\n",
       "                                    UBC 571  267.346  -29.574 ...     1.0   AA\n",
       "                               MKN 1;MKN ab 266.4468 -29.0874 ...    0.75   AA\n",
       "                                  MWSC 5326 248.1925  -17.143 ...     0.2   DD\n",
       "                                   HSC 2986 285.3171 -36.8834 ...     1.0   BA\n",
       "                         VVV 149;VVV-CL 149  267.338  -29.464 ...    0.46   CC\n",
       "                                    Ryu 535 266.5884 -29.0573 ...    0.31   AC"
      ]
     },
     "execution_count": 7,
     "metadata": {},
     "output_type": "execute_result"
    }
   ],
   "source": [
    "#view the data\n",
    "data"
   ]
  },
  {
   "cell_type": "code",
   "execution_count": 33,
   "id": "ecf53918",
   "metadata": {},
   "outputs": [],
   "source": [
    "#setting units and metadata for important columns (ID, RA, DEC, parallax, N_50, r_50)\n",
    "\n",
    "data['ID'] = data.MaskedColumn(data=data['ID'], \n",
    "                               meta = collections.OrderedDict([('ucd', 'meta.id')]),\n",
    "                               description='Median parallax estimated using the selected members')\n",
    "\n",
    "data['RA_ICRS_m'] = data.MaskedColumn(data=data['RA_ICRS_m'], \n",
    "                                      unit=u.deg,\n",
    "                                      meta = collections.OrderedDict([('ucd', 'pos.eq.ra')]),\n",
    "                                      format='{:.6f}', \n",
    "                                      description='Median RA estimated using the selected members')\n",
    "\n",
    "data['DE_ICRS_m'] = data.MaskedColumn(data=data['DE_ICRS_m'], \n",
    "                                      unit=u.deg,\n",
    "                                      meta = collections.OrderedDict([('ucd', 'pos.eq.de')]),\n",
    "                                      format='{:.6f}', \n",
    "                                      description='Median DE estimated using the selected members')\n",
    "\n",
    "data['plx_m'] = data.MaskedColumn(data=data['plx_m'], \n",
    "                                  unit=u.mas,\n",
    "                                  meta = collections.OrderedDict([('ucd', 'pos.parallax.trig')]),\n",
    "                                  format='{:.6f}', \n",
    "                                  description='Median parallax estimated using the selected members')\n",
    "\n",
    "data['N_50'] = data.MaskedColumn(data=data['N_50'], \n",
    "                                 dtype=int,\n",
    "                                 meta = collections.OrderedDict([('ucd', 'meta.number')]),\n",
    "                                 description='Number of estimated members with P>0.5')\n",
    "\n",
    "data['r_50'] = data.MaskedColumn(data=data['r_50'], \n",
    "                                 unit=u.arcmin,\n",
    "                                 meta = collections.OrderedDict([('ucd', 'phys.ang.size')]),\n",
    "                                 format='{:.6f}',\n",
    "                                 description='Radius that contains half the members (in arcmin)')"
   ]
  },
  {
   "cell_type": "code",
   "execution_count": 18,
   "id": "7c41096c",
   "metadata": {},
   "outputs": [],
   "source": [
    "#Thresh data based on parallax\n",
    "#some rows have plx_m <= 0 so we start there\n",
    "\n",
    "data.remove_rows(np.where(data['plx_m']<=0.0)[0])"
   ]
  },
  {
   "cell_type": "code",
   "execution_count": 19,
   "id": "87793d74",
   "metadata": {},
   "outputs": [],
   "source": [
    "#calculating distance in light years and parsecs\n",
    "calculations.get_distance(data, parallax='plx_m', use='parallax')"
   ]
  },
  {
   "cell_type": "code",
   "execution_count": 20,
   "id": "625731a2",
   "metadata": {},
   "outputs": [],
   "source": [
    "#calculating cartesian coordinates\n",
    "calculations.get_cartesian(data, ra='RA_ICRS_m', dec='DE_ICRS_m')"
   ]
  },
  {
   "cell_type": "code",
   "execution_count": 25,
   "id": "8ca40c22",
   "metadata": {},
   "outputs": [],
   "source": [
    "#playing around with threshing on distance\n",
    "data.remove_rows(np.where(data['dist_pc']>20000)[0])"
   ]
  },
  {
   "cell_type": "code",
   "execution_count": 26,
   "id": "f8ef1a29",
   "metadata": {},
   "outputs": [
    {
     "data": {
      "text/plain": [
       "<function matplotlib.pyplot.show(close=None, block=None)>"
      ]
     },
     "execution_count": 26,
     "metadata": {},
     "output_type": "execute_result"
    },
    {
     "data": {
      "image/png": "[encoded data removed]",
      "text/plain": [
       "<Figure size 1000x400 with 2 Axes>"
      ]
     },
     "metadata": {},
     "output_type": "display_data"
    }
   ],
   "source": [
    "#2D Visualization\n",
    "fig, ax = plt.subplots(1, 2)\n",
    "\n",
    "#XY Plane\n",
    "ax[0].scatter(data['x'], data['y'])\n",
    "ax[0].set_title('XY Plane')\n",
    "\n",
    "#XZ Plane\n",
    "ax[1].scatter(data['x'], data['z'])\n",
    "ax[1].set_title('XZ Plane')\n",
    "\n",
    "#set good spacing\n",
    "fig.tight_layout()\n",
    "fig.set_size_inches(10, 4, forward=True)\n",
    "plt.show"
   ]
  },
  {
   "cell_type": "code",
   "execution_count": 27,
   "id": "89bf4e03",
   "metadata": {},
   "outputs": [],
   "source": [
    "#construct a speck comment column\n",
    "data['speck_label'] = data.Column(data=['#__'+name for name in data['ID']], \n",
    "                                  meta=collections.OrderedDict([('ucd', 'meta.id')]),\n",
    "                                 description='Object ID')\n",
    "\n",
    "#construct a label column\n",
    "data['label'] = data['ID']  #leaving for now in case we want to add other labels"
   ]
  },
  {
   "cell_type": "code",
   "execution_count": 34,
   "id": "9ddb58b1",
   "metadata": {},
   "outputs": [
    {
     "data": {
      "text/html": [
       "<div>\n",
       "<style scoped>\n",
       "    .dataframe tbody tr th:only-of-type {\n",
       "        vertical-align: middle;\n",
       "    }\n",
       "\n",
       "    .dataframe tbody tr th {\n",
       "        vertical-align: top;\n",
       "    }\n",
       "\n",
       "    .dataframe thead th {\n",
       "        text-align: right;\n",
       "    }\n",
       "</style>\n",
       "<table border=\"1\" class=\"dataframe\">\n",
       "  <thead>\n",
       "    <tr style=\"text-align: right;\">\n",
       "      <th></th>\n",
       "      <th>name</th>\n",
       "      <th>unit</th>\n",
       "      <th>datatype</th>\n",
       "      <th>width</th>\n",
       "      <th>precision</th>\n",
       "      <th>arraysize</th>\n",
       "      <th>ucd</th>\n",
       "      <th>description</th>\n",
       "    </tr>\n",
       "  </thead>\n",
       "  <tbody>\n",
       "    <tr>\n",
       "      <th>0</th>\n",
       "      <td>x</td>\n",
       "      <td>pc</td>\n",
       "      <td>float64</td>\n",
       "      <td></td>\n",
       "      <td>6</td>\n",
       "      <td></td>\n",
       "      <td>pos.cartesian.x</td>\n",
       "      <td>Position (x coordinate) in parsecs</td>\n",
       "    </tr>\n",
       "    <tr>\n",
       "      <th>1</th>\n",
       "      <td>y</td>\n",
       "      <td>pc</td>\n",
       "      <td>float64</td>\n",
       "      <td></td>\n",
       "      <td>6</td>\n",
       "      <td></td>\n",
       "      <td>pos.cartesian.y</td>\n",
       "      <td>Position (y coordinate) in parsecs</td>\n",
       "    </tr>\n",
       "    <tr>\n",
       "      <th>2</th>\n",
       "      <td>z</td>\n",
       "      <td>pc</td>\n",
       "      <td>float64</td>\n",
       "      <td></td>\n",
       "      <td>6</td>\n",
       "      <td></td>\n",
       "      <td>pos.cartesian.z</td>\n",
       "      <td>Position (z coordinate) in parsecs</td>\n",
       "    </tr>\n",
       "    <tr>\n",
       "      <th>3</th>\n",
       "      <td>dist_ly</td>\n",
       "      <td>lyr</td>\n",
       "      <td>float64</td>\n",
       "      <td></td>\n",
       "      <td>1</td>\n",
       "      <td></td>\n",
       "      <td>pos.distance</td>\n",
       "      <td>Distance from Sun (lyr)</td>\n",
       "    </tr>\n",
       "    <tr>\n",
       "      <th>4</th>\n",
       "      <td>N_50</td>\n",
       "      <td></td>\n",
       "      <td>int64</td>\n",
       "      <td></td>\n",
       "      <td></td>\n",
       "      <td></td>\n",
       "      <td>meta.number</td>\n",
       "      <td>Number of estimated members with P&gt;0.5</td>\n",
       "    </tr>\n",
       "    <tr>\n",
       "      <th>5</th>\n",
       "      <td>r_50</td>\n",
       "      <td>arcmin</td>\n",
       "      <td>float64</td>\n",
       "      <td></td>\n",
       "      <td>6</td>\n",
       "      <td></td>\n",
       "      <td>phys.ang.size</td>\n",
       "      <td>Radius that contains half the members (in arcmin)</td>\n",
       "    </tr>\n",
       "    <tr>\n",
       "      <th>6</th>\n",
       "      <td>speck_label</td>\n",
       "      <td></td>\n",
       "      <td>str</td>\n",
       "      <td></td>\n",
       "      <td></td>\n",
       "      <td>*</td>\n",
       "      <td>meta.id</td>\n",
       "      <td>Object ID</td>\n",
       "    </tr>\n",
       "  </tbody>\n",
       "</table>\n",
       "</div>"
      ],
      "text/plain": [
       "          name    unit datatype width precision arraysize              ucd  \\\n",
       "0            x      pc  float64               6            pos.cartesian.x   \n",
       "1            y      pc  float64               6            pos.cartesian.y   \n",
       "2            z      pc  float64               6            pos.cartesian.z   \n",
       "3      dist_ly     lyr  float64               1               pos.distance   \n",
       "4         N_50            int64                                meta.number   \n",
       "5         r_50  arcmin  float64               6              phys.ang.size   \n",
       "6  speck_label              str                         *          meta.id   \n",
       "\n",
       "                                         description  \n",
       "0                 Position (x coordinate) in parsecs  \n",
       "1                 Position (y coordinate) in parsecs  \n",
       "2                 Position (z coordinate) in parsecs  \n",
       "3                            Distance from Sun (lyr)  \n",
       "4             Number of estimated members with P>0.5  \n",
       "5  Radius that contains half the members (in arcmin)  \n",
       "6                                          Object ID  "
      ]
     },
     "execution_count": 34,
     "metadata": {},
     "output_type": "execute_result"
    }
   ],
   "source": [
    "#construct a metadata table\n",
    "columns = file_functions.get_metadata(data, columns=['x', 'y', 'z', 'dist_ly', 'N_50', 'r_50', 'speck_label'])\n",
    "columns"
   ]
  },
  {
   "cell_type": "code",
   "execution_count": 35,
   "id": "955bd28b",
   "metadata": {},
   "outputs": [],
   "source": [
    "# Print the speck file using the to_speck function in file_functions\n",
    "file_functions.to_speck(metadata, Table.to_pandas(data), columns)"
   ]
  },
  {
   "cell_type": "code",
   "execution_count": 36,
   "id": "b0fe9595",
   "metadata": {},
   "outputs": [],
   "source": [
    "# Print the label file using the to_label function in file_functions\n",
    "file_functions.to_label(metadata, Table.to_pandas(data))"
   ]
  }
 ],
 "metadata": {
  "kernelspec": {
   "display_name": "Python 3 (ipykernel)",
   "language": "python",
   "name": "python3"
  },
  "language_info": {
   "codemirror_mode": {
    "name": "ipython",
    "version": 3
   },
   "file_extension": ".py",
   "mimetype": "text/x-python",
   "name": "python",
   "nbconvert_exporter": "python",
   "pygments_lexer": "ipython3",
   "version": "3.11.4"
  }
 },
 "nbformat": 4,
 "nbformat_minor": 5
}

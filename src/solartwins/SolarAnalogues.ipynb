{
 "cells": [
  {
   "cell_type": "code",
   "execution_count": null,
   "id": "c5986431-8ae0-40d1-b168-1910ebe9bc5a",
   "metadata": {},
   "outputs": [],
   "source": [
    "# PROCESS THE GAIA CATALOG OF SOlAR ANALOGUES:\n",
    "# Gaia has astrophysical parameters which can be used to find stars similar to the Sun\n",
    "# Based on https://ui.adsabs.harvard.edu/abs/2023A%26A...674A..39G/abstract , we use Teff, logg, and M/H to find solar analogues\n",
    "#\n",
    "#\n",
    "# ZACK REEVES\n",
    "# CREATED: 2024\n",
    "#\n",
    "# VERSIONS:\n",
    "#  1.1  JUN 2024 CREATE JUPYTER NOTEBOOK"
   ]
  },
  {
   "cell_type": "code",
   "execution_count": null,
   "id": "ef64777c-a869-4091-ab3c-12ae7ff92405",
   "metadata": {},
   "outputs": [],
   "source": [
    "import pandas as pd\n",
    "import numpy as np\n",
    "import sys\n",
    "import os\n",
    "import collections\n",
    "\n",
    "import astropy.units as u\n",
    "import astropy.coordinates\n",
    "from astropy.table import Table, join, vstack\n",
    "from astropy.io import ascii\n",
    "\n",
    "from astroquery.gaia import Gaia\n",
    "\n",
    "sys.path.insert(0, '..')\n",
    "from common import file_functions, calculations, gaia_functions\n",
    "\n",
    "from matplotlib import pyplot as plt, colors"
   ]
  },
  {
   "cell_type": "code",
   "execution_count": null,
   "id": "d15be949-f812-4d9f-a82e-601b1d2d6d0a",
   "metadata": {},
   "outputs": [],
   "source": [
    "# Define the metadata for the data set.  NEED TO EDIT\n",
    "#https://ui.adsabs.harvard.edu/abs/2023A%26A...674A..39G/abstract\n",
    "metadata = {}\n",
    "\n",
    "metadata['project'] = 'Digital Universe Atlas Gaia Subsets'\n",
    "metadata['sub_project'] = 'Solar Analogues'\n",
    "\n",
    "metadata['catalog'] = 'Gaia Data Release 3. A golden sample of astrophysical parameters (Gaia Collaboration, 2023)'\n",
    "metadata['catalog_author'] = 'Gaia Collaboration'\n",
    "metadata['catalog_year'] = '2023'\n",
    "metadata['catalog_doi'] = 'doi:10.1051/0004-6361/202243800'\n",
    "metadata['catalog_bibcode'] = '2023A&A...674A..39G'\n",
    "\n",
    "metadata['prepared_by'] = 'Brian Abbott, Zack Reeves'\n",
    "metadata['version'] = '1.1'\n",
    "\n",
    "metadata['dir'] = metadata['sub_project'].replace(' ', '_').lower()\n",
    "metadata['raw_data_dir'] = ''\n",
    "\n",
    "metadata['data_group_title'] = 'SolarAnalogues'\n",
    "metadata['data_group_desc'] = 'Stars similar to the Sun in the Milky Way mapped by Gaia'\n",
    "metadata['data_group_desc_long'] = 'The Sun is the reference point in much of stellar astronomy and astrophysics. Solar analogues are stars that resemble the Sun in terms of a restricted set of parameters. In contrast to the Sun, they can be observed in the night sky and with the very same instruments used to study stars in the Milky Way.'\n",
    "metadata['fileroot'] = 'solar_twins'\n",
    "\n",
    "file_functions.generate_license_file(metadata)\n",
    "file_functions.generate_asset_file(metadata)"
   ]
  },
  {
   "cell_type": "code",
   "execution_count": null,
   "id": "9c765f42-d841-46e5-ad36-509c594ecc98",
   "metadata": {},
   "outputs": [],
   "source": [
    "#query Gaia\n",
    "\n",
    "#based on the paper, we want to find stars with teff, logg, and M/H within reasonable error of the Sun's\n",
    "#we first select candiates based on their data reliability.  We constrain our selection to stars with apparent magnitude brighter than G<16.  We also use parallax/parallax error > 20 to ensure reliable distance metrics\n",
    "#we then choose candidates based on the following GSP Spec criteria:\n",
    "# - Teff must be within 100K of 5772K\n",
    "# - logg must be within 0.25 of 4.44\n",
    "# - [M/H] must be within 0.2 of 0.0\n",
    "# - good gspspec flag: 0 for characters 1-13 except for 8 which can be 0 or 1\n",
    "#we then futher thresh our sample by checking the FLAME parameters:\n",
    "# - stellar mass measured by FLAME must be within 0.05 M. of 1 M.\n",
    "# - stellar radius measured by FLAME must be within 0.2 R. of 1 R.\n",
    "\n",
    "#we don't actually have to craft this query ourselves, this list is published in the Gaia archive\n",
    "\n",
    "#log in to Gaia Server - Can change to different credentials file for a different user\n",
    "#query runs in less than a minute\n",
    "#file is small, 5683 objects\n",
    "Gaia.login(credentials_file='../common/gaia_credentials.txt')\n",
    "\n",
    "#Query Gaia DR3 **we can add more params later, maybe get metallicity\n",
    "\n",
    "job = Gaia.launch_job_async(\"select a.source_id, \"\n",
    "                            \"b.ra, b.dec, b.pmra, b.pmdec, b.parallax, b.parallax_error, b.phot_g_mean_mag, b.bp_g, b.radial_velocity, b.radial_velocity_error, b.grvs_mag, b.rv_template_teff, \"\n",
    "                            \"bj.r_med_geo, bj.r_hi_geo, bj.r_lo_geo, bj.r_med_photogeo, bj.r_hi_photogeo, bj.r_lo_photogeo \"\n",
    "                            \"from gaiadr3.gold_sample_solar_analogues a inner join gaiadr3.gaia_source b on a.source_id = b.source_id \"\n",
    "                            \"left join external.gaiaedr3_distance bj on a.source_id = bj.source_id\",\n",
    "                            dump_to_file=False)\n",
    "\n",
    "#Put the resulting table into a Table\n",
    "data = job.get_results()\n",
    "\n",
    "Gaia.remove_jobs(job.jobid)\n",
    "\n",
    "Gaia.logout()"
   ]
  },
  {
   "cell_type": "code",
   "execution_count": null,
   "id": "f7f52023-d441-4e0e-bf9c-5636f40fcd1e",
   "metadata": {},
   "outputs": [],
   "source": [
    "data"
   ]
  },
  {
   "cell_type": "code",
   "execution_count": null,
   "id": "41e210ca-e14a-4662-aa6c-dbf367c32c03",
   "metadata": {},
   "outputs": [],
   "source": [
    "gaia_functions.set_bj_distance(data)"
   ]
  },
  {
   "cell_type": "code",
   "execution_count": null,
   "id": "8bb74c96-1bbc-4f6a-a241-e36d537624e8",
   "metadata": {},
   "outputs": [],
   "source": [
    "calculations.get_distance(data, dist='bj_distance', use='distance')"
   ]
  },
  {
   "cell_type": "code",
   "execution_count": null,
   "id": "d6d930e0-e4ec-405a-bae1-b12b8179ddc1",
   "metadata": {},
   "outputs": [],
   "source": [
    "calculations.get_cartesian(data)"
   ]
  },
  {
   "cell_type": "code",
   "execution_count": null,
   "id": "ff87b1fe-7dfc-4059-b5a6-c02daec9452e",
   "metadata": {},
   "outputs": [],
   "source": [
    "gaia_functions.get_magnitudes(data)"
   ]
  },
  {
   "cell_type": "code",
   "execution_count": null,
   "id": "b7a82645-94af-4590-ac8c-05c49a9d937d",
   "metadata": {},
   "outputs": [],
   "source": [
    "gaia_functions.get_luminosity(data)"
   ]
  },
  {
   "cell_type": "code",
   "execution_count": null,
   "id": "452d88e6-8706-4783-8fcd-10ce37a74756",
   "metadata": {},
   "outputs": [],
   "source": [
    "gaia_functions.get_bp_g_color(data)"
   ]
  },
  {
   "cell_type": "code",
   "execution_count": null,
   "id": "aa13e62c-59ff-47ce-b25f-1f56d98555aa",
   "metadata": {},
   "outputs": [],
   "source": [
    "#2D Visualization\n",
    "fig, ax = plt.subplots(1, 2)\n",
    "\n",
    "#XY Plane\n",
    "ax[0].scatter(data['x'], data['y'])\n",
    "ax[0].set_title('XY Plane')\n",
    "\n",
    "#XZ Plane\n",
    "ax[1].scatter(data['x'], data['z'])\n",
    "ax[1].set_title('XZ Plane')\n",
    "\n",
    "#set good spacing\n",
    "fig.tight_layout()\n",
    "fig.set_size_inches(10, 4, forward=True)\n",
    "plt.show"
   ]
  },
  {
   "cell_type": "code",
   "execution_count": null,
   "id": "65044275-1d76-4eda-b488-e93a2eb79ff7",
   "metadata": {},
   "outputs": [],
   "source": [
    "#2D Density Visualization\n",
    "fig, ax = plt.subplots(1, 2)\n",
    "\n",
    "#XY Plane\n",
    "ax[0].hist2d(data['x'], data['y'], \n",
    "           bins = 200,  \n",
    "           norm = colors.LogNorm(),  \n",
    "           cmap = \"RdYlGn_r\",) \n",
    "ax[0].set_title('XY Plane')\n",
    "\n",
    "#XZ Plane\n",
    "ax[1].hist2d(data['x'], data['z'], \n",
    "           bins = 200,  \n",
    "           norm = colors.LogNorm(),  \n",
    "           cmap = \"RdYlGn_r\",) \n",
    "ax[1].set_title('XZ Plane')\n",
    "\n",
    "#set good spacing\n",
    "fig.tight_layout()\n",
    "fig.set_size_inches(10, 4, forward=True)\n",
    "#plt.show"
   ]
  },
  {
   "cell_type": "code",
   "execution_count": null,
   "id": "68dbbd37-734e-4371-a8fe-14c09ca5c9b8",
   "metadata": {},
   "outputs": [],
   "source": [
    "#construct a speck comment column\n",
    "data['speck_label'] = data.Column(data=['#__'+str(name) for name in data['SOURCE_ID']], \n",
    "                                  meta=collections.OrderedDict([('ucd', 'meta.id')]),\n",
    "                                  description='Gaia DR3 Source ID')\n",
    "\n",
    "#construct a label column\n",
    "data['label'] = ['GaiaDR3_'+ str(source) for source in data['SOURCE_ID']]  #leaving for now in case we want to add other labels"
   ]
  },
  {
   "cell_type": "code",
   "execution_count": null,
   "id": "2263feb4-934f-4ab4-8ef1-1f7d3754cbd0",
   "metadata": {},
   "outputs": [],
   "source": [
    "#setting texture number column\n",
    "data['texnum'] = data.Column(data=[1]*len(data), \n",
    "                                  meta=collections.OrderedDict([('ucd', 'meta.texnum')]),\n",
    "                                  description='Texture Number')"
   ]
  },
  {
   "cell_type": "code",
   "execution_count": null,
   "id": "f6f89a32-4a50-4680-83a9-8a58652df121",
   "metadata": {},
   "outputs": [],
   "source": [
    "#Getting the column metadata\n",
    "columns = file_functions.get_metadata(data, columns=['x', 'y', 'z', 'color', 'lum', 'absmag', 'appmag', 'texnum', 'dist_ly', 'dcalc', 'u', 'v', 'w', 'speed', 'speck_label'])\n",
    "columns"
   ]
  },
  {
   "cell_type": "code",
   "execution_count": null,
   "id": "5baf6ae4-9717-4ed9-928c-cac02937860c",
   "metadata": {},
   "outputs": [],
   "source": [
    "# Print the csv file using the to_csv function in file_functions\n",
    "file_functions.to_csv(metadata, Table.to_pandas(data), columns)"
   ]
  },
  {
   "cell_type": "code",
   "execution_count": null,
   "id": "453640db-90dc-4e63-b675-23c10616d567",
   "metadata": {},
   "outputs": [],
   "source": [
    "# Print the speck file using the to_speck function in file_functions\n",
    "file_functions.to_speck(metadata, Table.to_pandas(data), columns)"
   ]
  },
  {
   "cell_type": "code",
   "execution_count": null,
   "id": "b6ed7beb-69e1-4576-a823-a78805116f44",
   "metadata": {},
   "outputs": [],
   "source": [
    "# Print the label file using the to_label function in file_functions\n",
    "file_functions.to_label(metadata, Table.to_pandas(data))"
   ]
  },
  {
   "cell_type": "code",
   "execution_count": null,
   "id": "5d4a814c",
   "metadata": {},
   "outputs": [],
   "source": []
  }
 ],
 "metadata": {
  "kernelspec": {
   "display_name": "Python 3 (ipykernel)",
   "language": "python",
   "name": "python3"
  },
  "language_info": {
   "codemirror_mode": {
    "name": "ipython",
    "version": 3
   },
   "file_extension": ".py",
   "mimetype": "text/x-python",
   "name": "python",
   "nbconvert_exporter": "python",
   "pygments_lexer": "ipython3",
   "version": "3.12.4"
  }
 },
 "nbformat": 4,
 "nbformat_minor": 5
}

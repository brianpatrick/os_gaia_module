{
 "cells": [
  {
   "cell_type": "code",
   "execution_count": 2,
   "id": "2cdbc92e",
   "metadata": {},
   "outputs": [],
   "source": [
    "# PROCESS THE OPEN CLUSTER CATAOLOG:\n",
    "# https://cdsarc.cds.unistra.fr/viz-bin/cat/J/A+A/673/A114\n",
    "#\n",
    "#\n",
    "# ZACK REEVES\n",
    "# CREATED: 2023\n",
    "#\n",
    "# VERSIONS:\n",
    "#  1.1  OCT 2023 CREATE JUPYTER NOTEBOOK"
   ]
  },
  {
   "cell_type": "code",
   "execution_count": 3,
   "id": "4d235e96",
   "metadata": {},
   "outputs": [],
   "source": [
    "# Define the metadata for the data set. \n",
    "metadata = {}\n",
    "\n",
    "metadata['project'] = 'Digital Universe Atlas'\n",
    "metadata['sub_project'] = 'Open Clusters'\n",
    "\n",
    "metadata['catalog'] = 'Improving the open cluster census. II. An all-sky cluster catalogue with Gaia DR3 (Hunt+, 2023)'\n",
    "metadata['author'] = 'Hunt+'\n",
    "metadata['prepared_by'] = 'Zack Reeves (AMNH)'\n",
    "metadata['version'] = '1.1'\n",
    "\n",
    "metadata['dir'] = metadata['sub_project'].replace(' ', '_').lower()\n",
    "metadata['raw_data_dir'] = ''\n",
    "\n",
    "metadata['data_group_title'] = 'Open Clusters'\n",
    "metadata['data_group_desc'] = 'Open Cluster catalog'\n",
    "metadata['fileroot'] = 'oc'"
   ]
  },
  {
   "cell_type": "code",
   "execution_count": 4,
   "id": "7e4a5cd3",
   "metadata": {},
   "outputs": [],
   "source": [
    "import pandas as pd\n",
    "import numpy as np\n",
    "import sys\n",
    "import collections\n",
    "\n",
    "from astropy.io import ascii\n",
    "import astropy.units as u\n",
    "import astropy.coordinates\n",
    "from astropy.coordinates import Angle\n",
    "from astropy.table import Table\n",
    "\n",
    "from astroquery.vizier import Vizier\n",
    "\n",
    "sys.path.insert(0, '..')\n",
    "from common import file_functions, calculations\n",
    "\n",
    "import matplotlib.pyplot as plt"
   ]
  },
  {
   "cell_type": "code",
   "execution_count": 5,
   "id": "bc8744d7",
   "metadata": {},
   "outputs": [],
   "source": [
    "#Reading in the catalog with Vizier\n",
    "#We specify the row limit to make sure we get all the stars in the catalog\n",
    "#We place constraints on the Parallax and Probability of being a White Dwarf as a preliminary thresh\n",
    "#We specify columns = ['**'] to get all of the columns, not just the default ones\n",
    "catalog = Vizier(catalog='J/A+A/673/A114/clusters', columns=['**'], row_limit=-1).query_constraints(dist50='> 0.0')\n",
    "data = catalog[0]"
   ]
  },
  {
   "cell_type": "code",
   "execution_count": 6,
   "id": "d4b7aa9e",
   "metadata": {},
   "outputs": [
    {
     "data": {
      "text/html": [
       "<div><i>Table length=7167</i>\n",
       "<table id=\"table4473296848\" class=\"table-striped table-bordered table-condensed\">\n",
       "<thead><tr><th>recno</th><th>Name</th><th>ID</th><th>AllNames</th><th>Type</th><th>CST</th><th>N</th><th>CSTt</th><th>Nt</th><th>RA_ICRS</th><th>DE_ICRS</th><th>GLON</th><th>GLAT</th><th>r50</th><th>rc</th><th>rt</th><th>rtot</th><th>r50pc</th><th>rcpc</th><th>rtpc</th><th>rtotpc</th><th>pmRA</th><th>s_pmRA</th><th>e_pmRA</th><th>pmDE</th><th>s_pmDE</th><th>e_pmDE</th><th>Plx</th><th>s_Plx</th><th>e_Plx</th><th>dist16</th><th>dist50</th><th>dist84</th><th>Ndist</th><th>globalPlx</th><th>X</th><th>Y</th><th>Z</th><th>RV</th><th>s_RV</th><th>e_RV</th><th>n_RV</th><th>CMDCl2.5</th><th>CMDCl16</th><th>CMDCl50</th><th>CMDCl84</th><th>CMDCl97.5</th><th>CMDClHuman</th><th>logAge16</th><th>logAge50</th><th>logAge84</th><th>AV16</th><th>AV50</th><th>AV84</th><th>diffAV16</th><th>diffAV50</th><th>diffAV84</th><th>MOD16</th><th>MOD50</th><th>MOD84</th><th>minClSize</th><th>isMerged</th><th>isGMMMemb</th><th>NXmatches</th><th>XmatchType</th><th>_RA.icrs</th><th>_DE.icrs</th></tr></thead>\n",
       "<thead><tr><th></th><th></th><th></th><th></th><th></th><th></th><th></th><th></th><th></th><th>deg</th><th>deg</th><th>deg</th><th>deg</th><th>deg</th><th>deg</th><th>deg</th><th>deg</th><th>pc</th><th>pc</th><th>pc</th><th>pc</th><th>mas / yr</th><th>mas / yr</th><th>mas / yr</th><th>mas / yr</th><th>mas / yr</th><th>mas / yr</th><th>mas</th><th>mas</th><th>mas</th><th>pc</th><th>pc</th><th>pc</th><th></th><th></th><th>pc</th><th>pc</th><th>pc</th><th>km / s</th><th>km / s</th><th>km / s</th><th></th><th></th><th></th><th></th><th></th><th></th><th></th><th>log(yr)</th><th>log(yr)</th><th>log(yr)</th><th>mag</th><th>mag</th><th>mag</th><th>mag</th><th>mag</th><th>mag</th><th>mag</th><th>mag</th><th>mag</th><th></th><th></th><th></th><th></th><th></th><th>deg</th><th>deg</th></tr></thead>\n",
       "<thead><tr><th>int32</th><th>str20</th><th>int16</th><th>str246</th><th>str1</th><th>float64</th><th>int32</th><th>float64</th><th>int32</th><th>float64</th><th>float64</th><th>float64</th><th>float32</th><th>float64</th><th>float64</th><th>float64</th><th>float64</th><th>float64</th><th>float64</th><th>float64</th><th>float64</th><th>float64</th><th>float64</th><th>float64</th><th>float64</th><th>float64</th><th>float64</th><th>float64</th><th>float64</th><th>float64</th><th>float64</th><th>float64</th><th>float64</th><th>int32</th><th>uint8</th><th>float64</th><th>float64</th><th>float64</th><th>float64</th><th>float64</th><th>float64</th><th>int16</th><th>float32</th><th>float32</th><th>float64</th><th>float64</th><th>float64</th><th>str3</th><th>float64</th><th>float64</th><th>float64</th><th>float32</th><th>float64</th><th>float64</th><th>float32</th><th>float64</th><th>float64</th><th>float64</th><th>float64</th><th>float64</th><th>int16</th><th>uint8</th><th>uint8</th><th>int16</th><th>str3</th><th>float64</th><th>float64</th></tr></thead>\n",
       "<tr><td>1</td><td>1636-283</td><td>0</td><td>1636-283,C1636-283,ESO_452-11,MWSC_2436</td><td>o</td><td>8.10614082</td><td>38</td><td>8.79495092</td><td>32</td><td>249.85574296</td><td>-28.39919379</td><td>351.91030597</td><td>12.1</td><td>0.01631940</td><td>0.00742385</td><td>0.12584063</td><td>0.22651419</td><td>1.72703758</td><td>0.78564634</td><td>13.31739299</td><td>23.97150627</td><td>-1.45490226</td><td>0.15886797</td><td>0.02808415</td><td>-6.52578330</td><td>0.17334299</td><td>0.03064300</td><td>0.13138146</td><td>0.04140242</td><td>0.00731898</td><td>5791.24202555</td><td>6063.45669451</td><td>6362.52422040</td><td>38</td><td>0</td><td>-2248.91644206</td><td>-834.32990523</td><td>1276.42855260</td><td>16.78638176</td><td>2.27406709</td><td>1.01699372</td><td>5</td><td>0.000378</td><td>0.00207</td><td>0.04005899</td><td>0.06837487</td><td>0.25756931</td><td></td><td>8.02525997</td><td>8.48795652</td><td>8.89044094</td><td>2.66</td><td>3.09364164</td><td>3.48359799</td><td>0.914</td><td>1.47147715</td><td>1.94626451</td><td>13.77143288</td><td>14.00199080</td><td>14.18769836</td><td>20</td><td>0</td><td>0</td><td>2</td><td>1:m</td><td>249.85575031</td><td>-28.39916479</td></tr>\n",
       "<tr><td>2</td><td>ADS_16795</td><td>1</td><td>ADS_16795,AR_Cas</td><td>o</td><td>6.83219864</td><td>41</td><td>6.83219864</td><td>41</td><td>352.59216492</td><td>58.55341329</td><td>112.50889463</td><td>-2.67</td><td>2.65315906</td><td>3.25585879</td><td>8.48997672</td><td>8.48997672</td><td>9.56715258</td><td>11.74470786</td><td>30.81841428</td><td>30.81841428</td><td>18.65660390</td><td>1.30185671</td><td>0.20331586</td><td>2.84661253</td><td>1.25803641</td><td>0.19647228</td><td>4.75961052</td><td>0.10161330</td><td>0.01586933</td><td>206.28167669</td><td>206.45788462</td><td>206.63439385</td><td>32</td><td>0</td><td>-8200.94946741</td><td>190.52326760</td><td>11.39159669</td><td>-13.35774436</td><td>1.63019018</td><td>0.57635926</td><td>8</td><td>0.172</td><td>0.68</td><td>0.82842210</td><td>0.99782628</td><td>0.99885023</td><td></td><td>7.38828087</td><td>7.75518608</td><td>8.01615334</td><td>3.4e-07</td><td>0.17429753</td><td>0.26427069</td><td>0.00758</td><td>0.47076963</td><td>0.69389004</td><td>6.49167442</td><td>6.64998174</td><td>6.81462669</td><td>40</td><td>0</td><td>0</td><td>1</td><td>1:1</td><td>352.59200598</td><td>58.55340064</td></tr>\n",
       "<tr><td>3</td><td>AH03_J0748+26.9</td><td>2</td><td>AH03_J0748+26.9,AH03_J0748-26.9,AH03_J0748_26.9,FSR_1315,MWSC_1347,MWSC_1348</td><td>o</td><td>11.58552411</td><td>68</td><td>11.78130859</td><td>66</td><td>117.15588690</td><td>-26.97267949</td><td>243.20021931</td><td>-0.628</td><td>0.03410633</td><td>0.02795489</td><td>0.14630377</td><td>0.18884691</td><td>2.36860928</td><td>1.94140513</td><td>10.16049478</td><td>13.11504695</td><td>-2.46548955</td><td>0.04241582</td><td>0.00522103</td><td>3.18503456</td><td>0.05193567</td><td>0.00639284</td><td>0.20935812</td><td>0.03312631</td><td>0.00407757</td><td>3919.58056456</td><td>3979.06488330</td><td>4040.38251600</td><td>68</td><td>0</td><td>-9916.03213687</td><td>-3551.44898508</td><td>-18.19460187</td><td>79.36052331</td><td>16.09866262</td><td>4.64728360</td><td>1</td><td>0.996</td><td>1</td><td>0.99993774</td><td>1.00000000</td><td>1.00000000</td><td>TP</td><td>7.84066010</td><td>8.06174040</td><td>8.30396652</td><td>0.766</td><td>1.03666890</td><td>1.23329210</td><td>0.649</td><td>1.07900274</td><td>1.45545292</td><td>13.32692337</td><td>13.52147055</td><td>13.70749378</td><td>10</td><td>0</td><td>0</td><td>2</td><td>1:m</td><td>117.15589920</td><td>-26.97269365</td></tr>\n",
       "<tr><td>4</td><td>ASCC_5</td><td>3</td><td>ASCC_5,MWSC_93</td><td>o</td><td>8.31642236</td><td>25</td><td>8.31642236</td><td>25</td><td>14.46908222</td><td>55.82917381</td><td>123.84274797</td><td>-7.03</td><td>0.05449062</td><td>0.04499025</td><td>0.23229151</td><td>0.23229151</td><td>1.65574640</td><td>1.36706904</td><td>7.05842277</td><td>7.05842277</td><td>-2.40663082</td><td>0.08267997</td><td>0.01653599</td><td>-1.91881768</td><td>0.09263841</td><td>0.01852768</td><td>0.53819722</td><td>0.03764309</td><td>0.00752862</td><td>1721.68750605</td><td>1740.98320690</td><td>1760.71632064</td><td>24</td><td>0</td><td>-9084.80322366</td><td>1435.13376878</td><td>-189.84723555</td><td>--</td><td>--</td><td>--</td><td>0</td><td>0.99</td><td>0.999</td><td>0.99965981</td><td>1.00000000</td><td>1.00000000</td><td></td><td>6.96985722</td><td>7.32589102</td><td>7.54225826</td><td>0.893</td><td>1.17621279</td><td>1.39558959</td><td>0.18</td><td>0.72346848</td><td>1.06781185</td><td>11.04681301</td><td>11.21208572</td><td>11.37013721</td><td>10</td><td>0</td><td>0</td><td>1</td><td>1:1</td><td>14.46910126</td><td>55.82918234</td></tr>\n",
       "<tr><td>5</td><td>ASCC_6</td><td>4</td><td>ASCC_6,MWSC_141,Theia_2326</td><td>o</td><td>19.25857004</td><td>209</td><td>19.25857004</td><td>209</td><td>26.84215882</td><td>57.73860678</td><td>130.36368620</td><td>-4.32</td><td>0.14360169</td><td>0.08214515</td><td>0.86658699</td><td>0.86658699</td><td>3.76421798</td><td>2.15326025</td><td>22.71744990</td><td>22.71744990</td><td>-0.83414476</td><td>0.10924057</td><td>0.00755633</td><td>0.14917466</td><td>0.08861240</td><td>0.00612945</td><td>0.62966733</td><td>0.05078960</td><td>0.00351319</td><td>1497.86275470</td><td>1501.88586403</td><td>1505.93064289</td><td>208</td><td>0</td><td>-9092.16756942</td><td>1141.10435903</td><td>-89.94835549</td><td>-28.83784149</td><td>22.55436438</td><td>10.08661839</td><td>5</td><td>0.991</td><td>0.998</td><td>0.99927860</td><td>0.99999702</td><td>0.99999702</td><td></td><td>7.77257586</td><td>7.96103024</td><td>8.18482685</td><td>0.495</td><td>0.65653390</td><td>0.86468059</td><td>0.316</td><td>0.75796357</td><td>1.10452962</td><td>10.70322323</td><td>10.89065027</td><td>11.05589581</td><td>80</td><td>0</td><td>0</td><td>2</td><td>1:m</td><td>26.84216577</td><td>57.73860612</td></tr>\n",
       "<tr><td>6</td><td>ASCC_9</td><td>5</td><td>ASCC_9,Theia_1659</td><td>o</td><td>17.56655281</td><td>136</td><td>17.87814090</td><td>132</td><td>41.62390108</td><td>57.77684685</td><td>137.80668710</td><td>-1.73</td><td>0.13843873</td><td>0.33496984</td><td>0.33496984</td><td>0.41285353</td><td>5.55555124</td><td>13.44247880</td><td>13.44247880</td><td>16.56808168</td><td>0.16875807</td><td>0.06185135</td><td>0.00538347</td><td>-1.13867954</td><td>0.06851403</td><td>0.00596338</td><td>0.40228194</td><td>0.02596851</td><td>0.00226027</td><td>2288.40541567</td><td>2299.27724834</td><td>2310.25287464</td><td>136</td><td>0</td><td>-9824.86028517</td><td>1543.56812999</td><td>-44.38768079</td><td>-23.79108670</td><td>23.51118663</td><td>16.62491950</td><td>2</td><td>0.995</td><td>0.999</td><td>0.99968752</td><td>1.00000000</td><td>1.00000000</td><td>TP</td><td>7.24895716</td><td>7.46564054</td><td>7.64690161</td><td>2.3</td><td>2.49999785</td><td>2.67397833</td><td>0.628</td><td>1.07768381</td><td>1.36920285</td><td>11.67746544</td><td>11.84186172</td><td>11.97904491</td><td>40</td><td>0</td><td>0</td><td>2</td><td>1:m</td><td>41.62389967</td><td>57.77685191</td></tr>\n",
       "<tr><td>...</td><td>...</td><td>...</td><td>...</td><td>...</td><td>...</td><td>...</td><td>...</td><td>...</td><td>...</td><td>...</td><td>...</td><td>...</td><td>...</td><td>...</td><td>...</td><td>...</td><td>...</td><td>...</td><td>...</td><td>...</td><td>...</td><td>...</td><td>...</td><td>...</td><td>...</td><td>...</td><td>...</td><td>...</td><td>...</td><td>...</td><td>...</td><td>...</td><td>...</td><td>...</td><td>...</td><td>...</td><td>...</td><td>...</td><td>...</td><td>...</td><td>...</td><td>...</td><td>...</td><td>...</td><td>...</td><td>...</td><td>...</td><td>...</td><td>...</td><td>...</td><td>...</td><td>...</td><td>...</td><td>...</td><td>...</td><td>...</td><td>...</td><td>...</td><td>...</td><td>...</td><td>...</td><td>...</td><td>...</td><td>...</td><td>...</td><td>...</td></tr>\n",
       "<tr><td>7162</td><td>vdBergh_83</td><td>7161</td><td>vdBergh_83</td><td>o</td><td>12.55282627</td><td>92</td><td>12.70275010</td><td>88</td><td>99.99174303</td><td>-27.18196104</td><td>236.42983239</td><td>-14.4</td><td>0.13874419</td><td>0.08939043</td><td>0.74241232</td><td>0.87897760</td><td>2.18833026</td><td>1.40990087</td><td>11.71026413</td><td>13.86465588</td><td>-2.85122948</td><td>0.17430570</td><td>0.01858105</td><td>3.29425333</td><td>0.22035639</td><td>0.02349007</td><td>1.04329333</td><td>0.09604953</td><td>0.01023891</td><td>900.87556415</td><td>903.69077507</td><td>906.52363606</td><td>73</td><td>0</td><td>-8606.64946898</td><td>-729.45741476</td><td>-201.99580861</td><td>39.77336014</td><td>25.53054188</td><td>6.82332433</td><td>14</td><td>0.175</td><td>0.587</td><td>0.75113809</td><td>0.99145555</td><td>0.99659514</td><td></td><td>6.58469677</td><td>6.79823589</td><td>6.94319201</td><td>0.0691</td><td>0.22106126</td><td>0.31980121</td><td>0.85</td><td>1.34532815</td><td>1.84676659</td><td>9.63040066</td><td>9.77845192</td><td>9.98121929</td><td>80</td><td>0</td><td>0</td><td>1</td><td>1:1</td><td>99.99175728</td><td>-27.18197568</td></tr>\n",
       "<tr><td>7163</td><td>vdBergh_85</td><td>7162</td><td>vdBergh_85</td><td>o</td><td>11.84759667</td><td>105</td><td>11.84759667</td><td>105</td><td>101.72013398</td><td>1.32425587</td><td>211.23381683</td><td>-0.41</td><td>0.14286150</td><td>0.22154118</td><td>0.40579627</td><td>0.40579627</td><td>4.19045465</td><td>6.49832845</td><td>11.90310711</td><td>11.90310711</td><td>-0.95754527</td><td>0.13443911</td><td>0.01311991</td><td>0.39534433</td><td>0.15056393</td><td>0.01469354</td><td>0.53994463</td><td>0.05217107</td><td>0.00509138</td><td>1670.41114946</td><td>1680.61277235</td><td>1690.93976870</td><td>103</td><td>0</td><td>-9558.98548174</td><td>-871.42745862</td><td>12.45407114</td><td>-1.14747455</td><td>48.87217209</td><td>19.95198071</td><td>6</td><td>0.0526</td><td>0.158</td><td>0.45771724</td><td>0.71523404</td><td>0.89004934</td><td></td><td>7.40986872</td><td>7.65357804</td><td>7.86504889</td><td>0.792</td><td>0.99017018</td><td>1.18920636</td><td>1.76</td><td>2.15911734</td><td>2.50546074</td><td>10.93175888</td><td>11.12510872</td><td>11.26469135</td><td>80</td><td>0</td><td>0</td><td>1</td><td>1:1</td><td>101.72013824</td><td>1.32425411</td></tr>\n",
       "<tr><td>7164</td><td>vdBergh_92</td><td>7163</td><td>vdBergh_92</td><td>o</td><td>21.99555372</td><td>345</td><td>21.99555372</td><td>345</td><td>106.03650220</td><td>-11.44233764</td><td>224.55690296</td><td>-2.41</td><td>0.13099768</td><td>0.13055751</td><td>0.48072091</td><td>0.48072091</td><td>2.52677710</td><td>2.51828687</td><td>9.27269091</td><td>9.27269091</td><td>-4.38546687</td><td>0.20818824</td><td>0.01120848</td><td>1.58268094</td><td>0.13962664</td><td>0.00751725</td><td>0.87527043</td><td>0.06420844</td><td>0.00345687</td><td>1102.87737104</td><td>1105.16012672</td><td>1107.45235177</td><td>311</td><td>0</td><td>-8908.87822234</td><td>-774.71068282</td><td>-23.73101021</td><td>22.27212332</td><td>25.37389476</td><td>4.55728603</td><td>31</td><td>0.558</td><td>0.806</td><td>0.87614879</td><td>0.96876705</td><td>0.98401594</td><td></td><td>6.49958229</td><td>6.64309669</td><td>6.74674368</td><td>0.928</td><td>1.10850686</td><td>1.32054150</td><td>1.98</td><td>2.38174677</td><td>2.71096063</td><td>10.04060173</td><td>10.19162464</td><td>10.33854675</td><td>40</td><td>0</td><td>0</td><td>1</td><td>m:1</td><td>106.03652209</td><td>-11.44234467</td></tr>\n",
       "<tr><td>7165</td><td>vdBergh_113</td><td>7164</td><td>UBC_1005,UFMG_84,vdBergh_113</td><td>o</td><td>15.77019936</td><td>163</td><td>15.82935485</td><td>152</td><td>272.16549231</td><td>-21.44147760</td><td>9.09545195</td><td>-0.743</td><td>0.12603208</td><td>0.12577082</td><td>0.46219009</td><td>0.59023213</td><td>3.10439423</td><td>3.09795893</td><td>11.38479283</td><td>14.53895824</td><td>-0.71922687</td><td>0.11536402</td><td>0.00935726</td><td>-1.42279467</td><td>0.15713836</td><td>0.01274560</td><td>0.65397461</td><td>0.04086196</td><td>0.00331434</td><td>1406.04964718</td><td>1411.29470732</td><td>1416.57904583</td><td>161</td><td>0</td><td>-6728.59210296</td><td>223.07700367</td><td>-1.06451077</td><td>-38.17529772</td><td>14.54455562</td><td>5.49732530</td><td>7</td><td>0.00804</td><td>0.0233</td><td>0.14687137</td><td>0.23908016</td><td>0.56688946</td><td></td><td>7.30892515</td><td>7.54174900</td><td>7.74857044</td><td>1.77</td><td>1.96130526</td><td>2.16042519</td><td>2.38</td><td>2.64954829</td><td>2.98568487</td><td>10.59900379</td><td>10.74843550</td><td>10.88548088</td><td>80</td><td>0</td><td>0</td><td>3</td><td>1:m</td><td>272.16549574</td><td>-21.44147128</td></tr>\n",
       "<tr><td>7166</td><td>vdBergh_130</td><td>7165</td><td>vdBergh_130</td><td>o</td><td>11.43036888</td><td>162</td><td>12.84249387</td><td>131</td><td>304.51744669</td><td>39.36664652</td><td>76.96222457</td><td>2.02</td><td>0.10676434</td><td>0.23862318</td><td>0.23862318</td><td>0.43863569</td><td>3.12613486</td><td>6.98708661</td><td>6.98708661</td><td>12.84379707</td><td>-3.54760079</td><td>0.20348398</td><td>0.01777848</td><td>-5.12650325</td><td>0.16508161</td><td>0.01442325</td><td>0.58106074</td><td>0.03468467</td><td>0.00303041</td><td>1672.52439019</td><td>1677.65870723</td><td>1682.82464400</td><td>141</td><td>0</td><td>-7743.58849368</td><td>1633.39301638</td><td>79.03126567</td><td>-8.69984343</td><td>36.33950756</td><td>14.83554184</td><td>6</td><td>0.305</td><td>0.59</td><td>0.71115896</td><td>0.93439162</td><td>0.96318197</td><td></td><td>6.50080872</td><td>6.66133642</td><td>6.76660776</td><td>2.2</td><td>2.43280709</td><td>2.65610313</td><td>2.23</td><td>2.57429767</td><td>2.92941809</td><td>10.99637890</td><td>11.14358568</td><td>11.29626942</td><td>80</td><td>0</td><td>0</td><td>1</td><td>1:1</td><td>304.51746708</td><td>39.36666930</td></tr>\n",
       "<tr><td>7167</td><td>vdBergh_152</td><td>7166</td><td>OCSN_37,PTB_3,vdBergh_152</td><td>o</td><td>7.82561803</td><td>25</td><td>7.82561803</td><td>25</td><td>333.36282740</td><td>70.17629104</td><td>110.22493282</td><td>11.3</td><td>0.23501714</td><td>0.32037881</td><td>0.70969732</td><td>0.70969732</td><td>1.52294210</td><td>2.07610694</td><td>4.59914171</td><td>4.59914171</td><td>5.26545365</td><td>0.33753175</td><td>0.06750635</td><td>0.94264996</td><td>0.28876030</td><td>0.05775206</td><td>2.67478772</td><td>0.02927219</td><td>0.00585444</td><td>370.64438995</td><td>371.28213111</td><td>371.92207068</td><td>22</td><td>0</td><td>-8247.64986381</td><td>341.62828427</td><td>93.91603245</td><td>-34.11092425</td><td>17.59516724</td><td>5.30514253</td><td>11</td><td>0.864</td><td>0.967</td><td>0.98304564</td><td>0.99995017</td><td>0.99995017</td><td></td><td>6.45722961</td><td>6.60168576</td><td>6.70879126</td><td>0.259</td><td>0.47275291</td><td>0.62248254</td><td>0.0489</td><td>0.70040685</td><td>0.96676821</td><td>7.60293293</td><td>7.76294875</td><td>7.91214228</td><td>20</td><td>0</td><td>0</td><td>3</td><td>1:m</td><td>333.36275839</td><td>70.17628685</td></tr>\n",
       "</table></div>"
      ],
      "text/plain": [
       "<Table length=7167>\n",
       "recno       Name        ID  ... XmatchType   _RA.icrs     _DE.icrs  \n",
       "                            ...                deg          deg     \n",
       "int32      str20      int16 ...    str3      float64      float64   \n",
       "----- --------------- ----- ... ---------- ------------ ------------\n",
       "    1        1636-283     0 ...        1:m 249.85575031 -28.39916479\n",
       "    2       ADS_16795     1 ...        1:1 352.59200598  58.55340064\n",
       "    3 AH03_J0748+26.9     2 ...        1:m 117.15589920 -26.97269365\n",
       "    4          ASCC_5     3 ...        1:1  14.46910126  55.82918234\n",
       "    5          ASCC_6     4 ...        1:m  26.84216577  57.73860612\n",
       "    6          ASCC_9     5 ...        1:m  41.62389967  57.77685191\n",
       "  ...             ...   ... ...        ...          ...          ...\n",
       " 7162      vdBergh_83  7161 ...        1:1  99.99175728 -27.18197568\n",
       " 7163      vdBergh_85  7162 ...        1:1 101.72013824   1.32425411\n",
       " 7164      vdBergh_92  7163 ...        m:1 106.03652209 -11.44234467\n",
       " 7165     vdBergh_113  7164 ...        1:m 272.16549574 -21.44147128\n",
       " 7166     vdBergh_130  7165 ...        1:1 304.51746708  39.36666930\n",
       " 7167     vdBergh_152  7166 ...        1:m 333.36275839  70.17628685"
      ]
     },
     "execution_count": 6,
     "metadata": {},
     "output_type": "execute_result"
    }
   ],
   "source": [
    "data"
   ]
  },
  {
   "cell_type": "code",
   "execution_count": 7,
   "id": "c06b5475",
   "metadata": {},
   "outputs": [],
   "source": [
    "#calculating distance in light years and parsecs\n",
    "calculations.get_distance(data, dist='dist50', use='distance')"
   ]
  },
  {
   "cell_type": "code",
   "execution_count": 8,
   "id": "e440bcb2",
   "metadata": {},
   "outputs": [],
   "source": [
    "#calculating cartesian coordinates\n",
    "calculations.get_cartesian(data, ra='RA_ICRS', dec='DE_ICRS')"
   ]
  },
  {
   "cell_type": "code",
   "execution_count": 12,
   "id": "eb05101b",
   "metadata": {},
   "outputs": [],
   "source": [
    "#playing around with threshing on distance\n",
    "data.remove_rows(np.where(data['dist_pc']>20000)[0])"
   ]
  },
  {
   "cell_type": "code",
   "execution_count": 13,
   "id": "76376f4b",
   "metadata": {},
   "outputs": [
    {
     "data": {
      "text/plain": [
       "<function matplotlib.pyplot.show(close=None, block=None)>"
      ]
     },
     "execution_count": 13,
     "metadata": {},
     "output_type": "execute_result"
    },
    {
     "data": {
      "image/png": "[encoded data removed]",
      "text/plain": [
       "<Figure size 1000x400 with 2 Axes>"
      ]
     },
     "metadata": {},
     "output_type": "display_data"
    }
   ],
   "source": [
    "#2D Visualization\n",
    "fig, ax = plt.subplots(1, 2)\n",
    "\n",
    "#XY Plane\n",
    "ax[0].scatter(data['x'], data['y'])\n",
    "ax[0].set_title('XY Plane')\n",
    "\n",
    "#XZ Plane\n",
    "ax[1].scatter(data['x'], data['z'])\n",
    "ax[1].set_title('XZ Plane')\n",
    "\n",
    "#set good spacing\n",
    "fig.tight_layout()\n",
    "fig.set_size_inches(10, 4, forward=True)\n",
    "plt.show"
   ]
  },
  {
   "cell_type": "code",
   "execution_count": 15,
   "id": "e8b33043",
   "metadata": {},
   "outputs": [],
   "source": [
    "#construct a speck comment column\n",
    "data['speck_label'] = data.Column(data=['#__'+name for name in data['Name']], \n",
    "                                  meta=collections.OrderedDict([('ucd', 'meta.id')]),\n",
    "                                 description='Object ID')\n",
    "\n",
    "#construct a label column\n",
    "data['label'] = data['Name']  #leaving for now in case we want to add other labels"
   ]
  },
  {
   "cell_type": "code",
   "execution_count": 17,
   "id": "44cac11f",
   "metadata": {},
   "outputs": [
    {
     "data": {
      "text/html": [
       "<div>\n",
       "<style scoped>\n",
       "    .dataframe tbody tr th:only-of-type {\n",
       "        vertical-align: middle;\n",
       "    }\n",
       "\n",
       "    .dataframe tbody tr th {\n",
       "        vertical-align: top;\n",
       "    }\n",
       "\n",
       "    .dataframe thead th {\n",
       "        text-align: right;\n",
       "    }\n",
       "</style>\n",
       "<table border=\"1\" class=\"dataframe\">\n",
       "  <thead>\n",
       "    <tr style=\"text-align: right;\">\n",
       "      <th></th>\n",
       "      <th>name</th>\n",
       "      <th>unit</th>\n",
       "      <th>datatype</th>\n",
       "      <th>width</th>\n",
       "      <th>precision</th>\n",
       "      <th>arraysize</th>\n",
       "      <th>ucd</th>\n",
       "      <th>description</th>\n",
       "    </tr>\n",
       "  </thead>\n",
       "  <tbody>\n",
       "    <tr>\n",
       "      <th>0</th>\n",
       "      <td>x</td>\n",
       "      <td>pc</td>\n",
       "      <td>float64</td>\n",
       "      <td></td>\n",
       "      <td>6</td>\n",
       "      <td></td>\n",
       "      <td>pos.cartesian.x</td>\n",
       "      <td>Position (x coordinate) in parsecs</td>\n",
       "    </tr>\n",
       "    <tr>\n",
       "      <th>1</th>\n",
       "      <td>y</td>\n",
       "      <td>pc</td>\n",
       "      <td>float64</td>\n",
       "      <td></td>\n",
       "      <td>6</td>\n",
       "      <td></td>\n",
       "      <td>pos.cartesian.y</td>\n",
       "      <td>Position (y coordinate) in parsecs</td>\n",
       "    </tr>\n",
       "    <tr>\n",
       "      <th>2</th>\n",
       "      <td>z</td>\n",
       "      <td>pc</td>\n",
       "      <td>float64</td>\n",
       "      <td></td>\n",
       "      <td>6</td>\n",
       "      <td></td>\n",
       "      <td>pos.cartesian.z</td>\n",
       "      <td>Position (z coordinate) in parsecs</td>\n",
       "    </tr>\n",
       "    <tr>\n",
       "      <th>3</th>\n",
       "      <td>dist_ly</td>\n",
       "      <td>lyr</td>\n",
       "      <td>float64</td>\n",
       "      <td></td>\n",
       "      <td>1</td>\n",
       "      <td></td>\n",
       "      <td>pos.distance</td>\n",
       "      <td>Distance from Sun (lyr)</td>\n",
       "    </tr>\n",
       "    <tr>\n",
       "      <th>4</th>\n",
       "      <td>N</td>\n",
       "      <td></td>\n",
       "      <td>int32</td>\n",
       "      <td></td>\n",
       "      <td></td>\n",
       "      <td></td>\n",
       "      <td>NUMBER</td>\n",
       "      <td>[10/153797] Number of member stars</td>\n",
       "    </tr>\n",
       "    <tr>\n",
       "      <th>5</th>\n",
       "      <td>r50</td>\n",
       "      <td>deg</td>\n",
       "      <td>float64</td>\n",
       "      <td>11</td>\n",
       "      <td>8</td>\n",
       "      <td></td>\n",
       "      <td>EXTENSION_RAD</td>\n",
       "      <td>Radius containing 50% of members within the ti...</td>\n",
       "    </tr>\n",
       "    <tr>\n",
       "      <th>6</th>\n",
       "      <td>speck_label</td>\n",
       "      <td></td>\n",
       "      <td>str</td>\n",
       "      <td></td>\n",
       "      <td></td>\n",
       "      <td>*</td>\n",
       "      <td>meta.id</td>\n",
       "      <td>Object ID</td>\n",
       "    </tr>\n",
       "  </tbody>\n",
       "</table>\n",
       "</div>"
      ],
      "text/plain": [
       "          name unit datatype width precision arraysize              ucd  \\\n",
       "0            x   pc  float64               6            pos.cartesian.x   \n",
       "1            y   pc  float64               6            pos.cartesian.y   \n",
       "2            z   pc  float64               6            pos.cartesian.z   \n",
       "3      dist_ly  lyr  float64               1               pos.distance   \n",
       "4            N         int32                                     NUMBER   \n",
       "5          r50  deg  float64    11         8              EXTENSION_RAD   \n",
       "6  speck_label           str                         *          meta.id   \n",
       "\n",
       "                                         description  \n",
       "0                 Position (x coordinate) in parsecs  \n",
       "1                 Position (y coordinate) in parsecs  \n",
       "2                 Position (z coordinate) in parsecs  \n",
       "3                            Distance from Sun (lyr)  \n",
       "4                 [10/153797] Number of member stars  \n",
       "5  Radius containing 50% of members within the ti...  \n",
       "6                                          Object ID  "
      ]
     },
     "execution_count": 17,
     "metadata": {},
     "output_type": "execute_result"
    }
   ],
   "source": [
    "#construct a metadata table\n",
    "columns = file_functions.get_metadata(data, columns=['x', 'y', 'z', 'dist_ly', 'N', 'r50', 'speck_label'])\n",
    "columns"
   ]
  },
  {
   "cell_type": "code",
   "execution_count": 18,
   "id": "39a62582",
   "metadata": {},
   "outputs": [],
   "source": [
    "# Print the speck file using the to_speck function in file_functions\n",
    "file_functions.to_speck(metadata, Table.to_pandas(data), columns)"
   ]
  },
  {
   "cell_type": "code",
   "execution_count": 19,
   "id": "6249eb15",
   "metadata": {},
   "outputs": [],
   "source": [
    "# Print the label file using the to_label function in file_functions\n",
    "file_functions.to_label(metadata, Table.to_pandas(data))"
   ]
  }
 ],
 "metadata": {
  "kernelspec": {
   "display_name": "Python 3 (ipykernel)",
   "language": "python",
   "name": "python3"
  },
  "language_info": {
   "codemirror_mode": {
    "name": "ipython",
    "version": 3
   },
   "file_extension": ".py",
   "mimetype": "text/x-python",
   "name": "python",
   "nbconvert_exporter": "python",
   "pygments_lexer": "ipython3",
   "version": "3.11.4"
  }
 },
 "nbformat": 4,
 "nbformat_minor": 5
}

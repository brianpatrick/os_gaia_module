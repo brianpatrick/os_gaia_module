{
 "cells": [
  {
   "cell_type": "code",
   "execution_count": 1,
   "id": "ecbebf66-4d1a-4a0a-89f1-7fa3052ea753",
   "metadata": {},
   "outputs": [],
   "source": [
    "# PROCESS THE GAIA CATALOG OF STARS in DWARF GALAXIES:\n",
    "# https://www.aanda.org/articles/aa/full_html/2022/01/aa41528-21/aa41528-21.html\n",
    "# \n",
    "#\n",
    "#\n",
    "# ZACK REEVES\n",
    "# CREATED: 2024\n",
    "#\n",
    "# VERSIONS:\n",
    "#  1.1  MAY 2024 CREATE JUPYTER NOTEBOOK"
   ]
  },
  {
   "cell_type": "code",
   "execution_count": 2,
   "id": "cfacf763-b826-4918-87a6-b12908afde8e",
   "metadata": {},
   "outputs": [],
   "source": [
    "import pandas as pd\n",
    "import numpy as np\n",
    "import sys\n",
    "import os\n",
    "import collections\n",
    "\n",
    "import astropy.units as u\n",
    "import astropy.coordinates\n",
    "from astropy.table import Table, join, vstack\n",
    "\n",
    "from astroquery.gaia import Gaia\n",
    "from astroquery.vizier import Vizier\n",
    "\n",
    "sys.path.insert(0, '..')\n",
    "from common import file_functions, calculations\n",
    "\n",
    "from matplotlib import pyplot as plt, colors"
   ]
  },
  {
   "cell_type": "code",
   "execution_count": 3,
   "id": "f02486be-b6c4-4850-b6b2-5d9cf4d330af",
   "metadata": {},
   "outputs": [],
   "source": [
    "# Define the metadata for the data set. #FIX LATER\n",
    "metadata = {}\n",
    "\n",
    "metadata['project'] = 'Digital Universe Atlas Gaia Subsets'\n",
    "metadata['sub_project'] = 'Gaia Catalog of Nearby Stars'\n",
    "\n",
    "metadata['catalog'] = 'The Gaia Catalogue of Nearby Stars (Gaia Collaboration, 2021)'\n",
    "metadata['catalog_author'] = 'Gaia Collaboration'\n",
    "metadata['catalog_year'] = '2021'\n",
    "metadata['catalog_doi'] = 'doi:10.1051/0004-6361/202039498'\n",
    "metadata['catalog_bibcode'] = '2021A&A...649A...6G'\n",
    "\n",
    "metadata['prepared_by'] = 'Brian Abbott, Zack Reeves'\n",
    "metadata['version'] = '1.1'\n",
    "\n",
    "metadata['dir'] = metadata['sub_project'].replace(' ', '_').lower()\n",
    "metadata['raw_data_dir'] = ''\n",
    "\n",
    "metadata['data_group_title'] = 'dGal'\n",
    "metadata['data_group_desc'] = 'Nearby stars in the Milky Way mapped by Gaia'\n",
    "metadata['data_group_desc_long'] = 'Have you ever wondered what’s out there in space? Now, thanks to Gaia EDR3, the solar neighbourhood has been mapped with great precision out to 100 pc (326 light years)'\n",
    "metadata['fileroot'] = 'gcns'\n",
    "\n",
    "file_functions.generate_license_file(metadata)"
   ]
  },
  {
   "cell_type": "code",
   "execution_count": 4,
   "id": "75059e8b-a415-43a1-8d6f-91389b9baf16",
   "metadata": {},
   "outputs": [
    {
     "data": {
      "text/html": [
       "<div><i>Table length=645720</i>\n",
       "<table id=\"table11113821968\" class=\"table-striped table-bordered table-condensed\">\n",
       "<thead><tr><th>recno</th><th>Galaxy</th><th>GaiaEDR3</th><th>RA_ICRS</th><th>DE_ICRS</th><th>Pmemb</th><th>_RA.icrs</th><th>_DE.icrs</th></tr></thead>\n",
       "<thead><tr><th></th><th></th><th></th><th>deg</th><th>deg</th><th></th><th>deg</th><th>deg</th></tr></thead>\n",
       "<thead><tr><th>int32</th><th>str15</th><th>int64</th><th>float64</th><th>float64</th><th>float64</th><th>float64</th><th>float64</th></tr></thead>\n",
       "<tr><td>1</td><td>AntliaII</td><td>5419369633646204672</td><td>146.775514261911069980</td><td>-41.23352175894937233</td><td>2.249888770970627e-59</td><td>146.775514261911098401</td><td>-41.23352175894937233</td></tr>\n",
       "<tr><td>2</td><td>AntliaII</td><td>5419375131204392832</td><td>146.906114586123237586</td><td>-41.17527931166872435</td><td>5.762638418730926e-72</td><td>146.906114586123266008</td><td>-41.17527931166872435</td></tr>\n",
       "<tr><td>3</td><td>AntliaII</td><td>5419375513456471168</td><td>146.787348116358884909</td><td>-41.20346246108170618</td><td>1.186667715815127e-10</td><td>146.787348116358884909</td><td>-41.20346246108170618</td></tr>\n",
       "<tr><td>4</td><td>AntliaII</td><td>5419375650902893440</td><td>146.811841903187513481</td><td>-41.18018303040114603</td><td>0</td><td>146.811841903187541902</td><td>-41.18018303040113892</td></tr>\n",
       "<tr><td>5</td><td>AntliaII</td><td>5419375857057564544</td><td>146.887510496388301817</td><td>-41.16502998085414333</td><td>0.0001039622176970977</td><td>146.887510496388301817</td><td>-41.16502998085414333</td></tr>\n",
       "<tr><td>6</td><td>AntliaII</td><td>5419375857059237632</td><td>146.884375128020820966</td><td>-41.18011943877903747</td><td>0</td><td>146.884375128020820966</td><td>-41.18011943877903036</td></tr>\n",
       "<tr><td>...</td><td>...</td><td>...</td><td>...</td><td>...</td><td>...</td><td>...</td><td>...</td></tr>\n",
       "<tr><td>645715</td><td>SextansB</td><td>3849402028594586624</td><td>150.045241342187949840</td><td>5.36643105901516471</td><td>0</td><td>150.045241342187949840</td><td>5.36643105901516471</td></tr>\n",
       "<tr><td>645716</td><td>SextansB</td><td>3849402303472253568</td><td>149.985921698564823146</td><td>5.35660882439083874</td><td>0</td><td>149.985921698564823146</td><td>5.35660882439083785</td></tr>\n",
       "<tr><td>645717</td><td>SextansB</td><td>3849402303472254080</td><td>149.983084322997655136</td><td>5.35667002115684632</td><td>0</td><td>149.983084322997655136</td><td>5.35667002115684632</td></tr>\n",
       "<tr><td>645718</td><td>SextansB</td><td>3849402612709907840</td><td>149.975451667892571095</td><td>5.37867038287632226</td><td>0</td><td>149.975451667892571095</td><td>5.37867038287632226</td></tr>\n",
       "<tr><td>645719</td><td>SextansB</td><td>3849406426641302400</td><td>149.972371083603633224</td><td>5.44597699556534476</td><td>0</td><td>149.972371083603661646</td><td>5.44597699556534476</td></tr>\n",
       "<tr><td>645720</td><td>SextansB</td><td>3849407285634368768</td><td>149.954039351768898314</td><td>5.47180432153853857</td><td>0</td><td>149.954039351768898314</td><td>5.47180432153853857</td></tr>\n",
       "</table></div>"
      ],
      "text/plain": [
       "<Table length=645720>\n",
       "recno   Galaxy  ...        _RA.icrs               _DE.icrs      \n",
       "                ...          deg                    deg         \n",
       "int32   str15   ...        float64                float64       \n",
       "------ -------- ... ---------------------- ---------------------\n",
       "     1 AntliaII ... 146.775514261911098401 -41.23352175894937233\n",
       "     2 AntliaII ... 146.906114586123266008 -41.17527931166872435\n",
       "     3 AntliaII ... 146.787348116358884909 -41.20346246108170618\n",
       "     4 AntliaII ... 146.811841903187541902 -41.18018303040113892\n",
       "     5 AntliaII ... 146.887510496388301817 -41.16502998085414333\n",
       "     6 AntliaII ... 146.884375128020820966 -41.18011943877903036\n",
       "   ...      ... ...                    ...                   ...\n",
       "645715 SextansB ... 150.045241342187949840   5.36643105901516471\n",
       "645716 SextansB ... 149.985921698564823146   5.35660882439083785\n",
       "645717 SextansB ... 149.983084322997655136   5.35667002115684632\n",
       "645718 SextansB ... 149.975451667892571095   5.37867038287632226\n",
       "645719 SextansB ... 149.972371083603661646   5.44597699556534476\n",
       "645720 SextansB ... 149.954039351768898314   5.47180432153853857"
      ]
     },
     "execution_count": 4,
     "metadata": {},
     "output_type": "execute_result"
    }
   ],
   "source": [
    "#reading in the catalogue\n",
    "catalog = Vizier(catalog='J/A+A/657/A54', columns=['**'], row_limit=-1).query_constraints()\n",
    "catalog[0]"
   ]
  },
  {
   "cell_type": "code",
   "execution_count": 5,
   "id": "97f840c4-ac7b-4d83-8467-576feae66d8f",
   "metadata": {},
   "outputs": [
    {
     "data": {
      "text/plain": [
       "array(['AntliaII', 'AquariusII', 'BootesI', 'BootesII', 'BootesIII',\n",
       "       'BootesIV', 'CanesVenaticiI', 'CanesVenaticiII', 'Carina',\n",
       "       'CarinaII', 'CarinaIII', 'CentaurusI', 'CetusII', 'CetusIII',\n",
       "       'ColumbaI', 'ComaBerenices', 'CraterI', 'CraterII', 'Delve1',\n",
       "       'Delve2', 'DESJ0225+0304', 'Draco', 'DracoII', 'EridanusII',\n",
       "       'EridanusIII', 'Fornax', 'GrusI', 'GrusII', 'Hercules',\n",
       "       'HorologiumI', 'HorologiumII', 'HydraII', 'HydrusI', 'IndusI',\n",
       "       'IndusII', 'LeoI', 'LeoII', 'LeoIV', 'LeoV', 'LeoT', 'PegasusIII',\n",
       "       'Phoenix', 'PhoenixII', 'PictorII', 'PictorI', 'PiscesII',\n",
       "       'ReticulumII', 'ReticulumIII', 'SagittariusII', 'Sculptor',\n",
       "       'Segue1', 'Segue2', 'Sextans', 'TriangulumII', 'TucanaII',\n",
       "       'TucanaIII', 'TucanaIV', 'TucanaV', 'UrsaMajorI', 'UrsaMajorII',\n",
       "       'UrsaMinor', 'VirgoI', 'Willman1', 'LeoA', 'IC1613', 'NGC6822',\n",
       "       'Peg-dIrr', 'WLM', 'Sg-dIrr', 'UGC4879', 'NGC3109', 'SextansA',\n",
       "       'M33', 'SextansB'], dtype=object)"
      ]
     },
     "execution_count": 5,
     "metadata": {},
     "output_type": "execute_result"
    }
   ],
   "source": [
    "data=catalog[0]\n",
    "Table.to_pandas(data)['Galaxy'].unique()"
   ]
  },
  {
   "cell_type": "code",
   "execution_count": 6,
   "id": "6cbbe088-f257-4320-a945-2f78d6b4c184",
   "metadata": {},
   "outputs": [
    {
     "data": {
      "text/plain": [
       "TableList with 1 tables:\n",
       "\t'0:J/A+A/657/A54/pmem' with 8 column(s) and 645720 row(s) "
      ]
     },
     "execution_count": 6,
     "metadata": {},
     "output_type": "execute_result"
    }
   ],
   "source": [
    "catalog"
   ]
  },
  {
   "cell_type": "code",
   "execution_count": 7,
   "id": "3a310967-d784-4bf8-9ed1-9c02b94328c5",
   "metadata": {},
   "outputs": [
    {
     "data": {
      "text/plain": [
       "53320"
      ]
     },
     "execution_count": 7,
     "metadata": {},
     "output_type": "execute_result"
    }
   ],
   "source": [
    "len(data[data['Pmemb']>0.5])"
   ]
  },
  {
   "cell_type": "code",
   "execution_count": 8,
   "id": "a1f3d235-9202-44c5-bfb8-02d516c26f78",
   "metadata": {},
   "outputs": [],
   "source": [
    "data.remove_rows(np.where(data['Pmemb']<0.5)[0])"
   ]
  },
  {
   "cell_type": "code",
   "execution_count": 9,
   "id": "ce1d349e-7f55-44d6-811c-e75b89c07054",
   "metadata": {},
   "outputs": [
    {
     "name": "stdout",
     "output_type": "stream",
     "text": [
      "INFO: Login to gaia TAP server [astroquery.gaia.core]\n",
      "OK\n",
      "INFO: Login to gaia data server [astroquery.gaia.core]\n",
      "OK\n",
      "Sending pytable.\n",
      "Uploaded table 'd_gal'.\n",
      "INFO: Query finished. [astroquery.utils.tap.core]\n",
      "Table 'd_gal' deleted.\n",
      "Removed jobs: '1717481792163O'.\n",
      "INFO: Gaia TAP server logout OK [astroquery.gaia.core]\n",
      "INFO: Gaia data server logout OK [astroquery.gaia.core]\n"
     ]
    }
   ],
   "source": [
    "#Query Gaia ESA ADQL server using Gaia EDR3 IDs to obtain proper motion to calculate uvw as well as photometric data\n",
    "\n",
    "#log in to Gaia Server - Can change to different credentials file for a different user\n",
    "Gaia.login(credentials_file='../common/gaia_credentials.txt')\n",
    "\n",
    "#grab username from file\n",
    "file = open('../common/gaia_credentials.txt', 'r')\n",
    "username = file.readline().strip()\n",
    "\n",
    "#Upload table (table name will be forced to lowercase)\n",
    "job = Gaia.upload_table(upload_resource=data[['GaiaEDR3']], table_name=\"d_gal\", format=\"csv\")\n",
    "\n",
    "#Query Gaia DR3 source for parallaxes\n",
    "#Potentially want Bailer Jones distances pending figuring out the parallax error issue\n",
    "job = Gaia.launch_job_async(\"select a.GaiaEDR3, \"\n",
    "                            \"bj.r_med_geo, bj.r_hi_geo, bj.r_lo_geo, bj.r_med_photogeo, bj.r_hi_photogeo, bj.r_lo_photogeo, \"\n",
    "                            \"c.pmra, c.pmdec, c.radial_velocity, c.phot_g_mean_mag, c.bp_g, c.teff_gspphot \"\n",
    "                            \"from user_\"+username+\".d_gal a inner join external.gaiaedr3_distance bj on a.GaiaEDR3 = bj.source_id \"\n",
    "                            \"inner join gaiadr3.gaia_source c on a.GaiaEDR3 = c.source_id\",\n",
    "                            dump_to_file=False)\n",
    "\n",
    "#put the resulting table into a dataframe and drop the unnecessary index column\n",
    "data = join(data, job.get_results(), keys='GaiaEDR3', join_type='left')\n",
    "# data.remove_column('xhip_main_oid')\n",
    "#Deleting table and job from Gaia ESA server so we don't clog the memory\n",
    "Gaia.delete_user_table('d_gal')\n",
    "Gaia.remove_jobs(job.jobid)\n",
    "\n",
    "Gaia.logout()"
   ]
  },
  {
   "cell_type": "code",
   "execution_count": 10,
   "id": "6b7f30aa-0c6d-4364-9b20-c4b576cbd592",
   "metadata": {},
   "outputs": [
    {
     "data": {
      "text/html": [
       "<div><i>Table length=53404</i>\n",
       "<table id=\"table11338135568\" class=\"table-striped table-bordered table-condensed\">\n",
       "<thead><tr><th>recno</th><th>Galaxy</th><th>GaiaEDR3</th><th>RA_ICRS</th><th>DE_ICRS</th><th>Pmemb</th><th>_RA.icrs</th><th>_DE.icrs</th><th>r_med_geo</th><th>r_hi_geo</th><th>r_lo_geo</th><th>r_med_photogeo</th><th>r_hi_photogeo</th><th>r_lo_photogeo</th><th>pmra</th><th>pmdec</th><th>radial_velocity</th><th>phot_g_mean_mag</th><th>bp_g</th><th>teff_gspphot</th></tr></thead>\n",
       "<thead><tr><th></th><th></th><th></th><th>deg</th><th>deg</th><th></th><th>deg</th><th>deg</th><th>pc</th><th>pc</th><th>pc</th><th>pc</th><th>pc</th><th>pc</th><th>mas / yr</th><th>mas / yr</th><th>km / s</th><th>mag</th><th>mag</th><th>K</th></tr></thead>\n",
       "<thead><tr><th>int32</th><th>str15</th><th>int64</th><th>float64</th><th>float64</th><th>float64</th><th>float64</th><th>float64</th><th>float32</th><th>float32</th><th>float32</th><th>float32</th><th>float32</th><th>float32</th><th>float64</th><th>float64</th><th>float32</th><th>float32</th><th>float32</th><th>float32</th></tr></thead>\n",
       "<tr><td>586270</td><td>Segue2</td><td>87195223452752384</td><td>34.814229508135383639</td><td>20.05514584511052334</td><td>0.8514055398626356</td><td>34.814229508135376534</td><td>20.05514584511051979</td><td>1173.5038</td><td>1801.9487</td><td>635.55457</td><td>1460.0697</td><td>4089.0916</td><td>707.81586</td><td>3.1150425831386492</td><td>0.5880428278915883</td><td>--</td><td>20.656168</td><td>0.35815048</td><td>--</td></tr>\n",
       "<tr><td>586289</td><td>Segue2</td><td>87200377413712384</td><td>34.878286017882501824</td><td>20.07036080281766033</td><td>0.6378775499316831</td><td>34.878286017882508929</td><td>20.07036080281766033</td><td>716.9044</td><td>1468.7169</td><td>361.76837</td><td>5845.947</td><td>6785.251</td><td>4723.3667</td><td>1.6659116282230717</td><td>2.5258634906084723</td><td>--</td><td>20.747362</td><td>0.315073</td><td>--</td></tr>\n",
       "<tr><td>586290</td><td>Segue2</td><td>87200583572213248</td><td>34.883528091308086516</td><td>20.09618854352710215</td><td>0.6398731147832003</td><td>34.883528091308093622</td><td>20.09618854352710215</td><td>2724.1025</td><td>6040.3174</td><td>1829.2607</td><td>4384.1826</td><td>5364.3535</td><td>3770.474</td><td>0.8902226989790806</td><td>-1.1261354337510479</td><td>--</td><td>19.383242</td><td>0.5799141</td><td>--</td></tr>\n",
       "<tr><td>586294</td><td>Segue2</td><td>87201171982969088</td><td>34.844632344785786415</td><td>20.07869982122890562</td><td>0.9870701291424898</td><td>34.844632344785786415</td><td>20.07869982122890562</td><td>3882.5327</td><td>7143.307</td><td>2431.45</td><td>4314.216</td><td>5383.5625</td><td>3617.1875</td><td>1.1788856622940787</td><td>-0.37779727431494703</td><td>--</td><td>18.834503</td><td>0.4973774</td><td>4541.5156</td></tr>\n",
       "<tr><td>586296</td><td>Segue2</td><td>87201648723742592</td><td>34.836949720454335022</td><td>20.13165911588282597</td><td>0.9783842076583982</td><td>34.836949720454335022</td><td>20.13165911588282597</td><td>1040.6174</td><td>1981.5366</td><td>614.79895</td><td>10142.45</td><td>12388.1455</td><td>8601.18</td><td>0.7224026673255213</td><td>1.804989889952867</td><td>--</td><td>20.583813</td><td>0.50066566</td><td>--</td></tr>\n",
       "<tr><td>586297</td><td>Segue2</td><td>87201648724314880</td><td>34.838024554660506737</td><td>20.12784766639461154</td><td>0.9999855967296054</td><td>34.838024554660513843</td><td>20.12784766639461154</td><td>2806.3806</td><td>4366.701</td><td>1789.7737</td><td>2235.8586</td><td>2676.366</td><td>1662.9287</td><td>1.3649950859013835</td><td>-0.05442406676168796</td><td>--</td><td>18.91141</td><td>0.10320282</td><td>7486.2812</td></tr>\n",
       "<tr><td>...</td><td>...</td><td>...</td><td>...</td><td>...</td><td>...</td><td>...</td><td>...</td><td>...</td><td>...</td><td>...</td><td>...</td><td>...</td><td>...</td><td>...</td><td>...</td><td>...</td><td>...</td><td>...</td><td>...</td></tr>\n",
       "<tr><td>574137</td><td>SagittariusII</td><td>6864423822905581056</td><td>298.160226862305250961</td><td>-22.03519863660448053</td><td>0.9854682580239882</td><td>298.160226862305250961</td><td>-22.03519863660448053</td><td>2094.9224</td><td>4350.291</td><td>1092.4371</td><td>505.226</td><td>577.0592</td><td>451.44675</td><td>-1.9196707581802555</td><td>-1.8890903006632824</td><td>--</td><td>19.869478</td><td>0.020242691</td><td>--</td></tr>\n",
       "<tr><td>574139</td><td>SagittariusII</td><td>6864423852970125056</td><td>298.190457706357335610</td><td>-22.03676142773700519</td><td>0.9941303107275336</td><td>298.190457706357335610</td><td>-22.03676142773700519</td><td>3157.5967</td><td>6626.443</td><td>1965.754</td><td>3413.4883</td><td>3998.7961</td><td>2864.3218</td><td>-0.7559516990174615</td><td>-0.9124450651253653</td><td>--</td><td>18.839373</td><td>0.5322952</td><td>4425.0205</td></tr>\n",
       "<tr><td>574144</td><td>SagittariusII</td><td>6864423960349370752</td><td>298.193023272765458387</td><td>-22.02219415413420833</td><td>0.8467141988464039</td><td>298.193023272765458387</td><td>-22.02219415413420833</td><td>4554.514</td><td>8065.9556</td><td>1843.1896</td><td>6290.3857</td><td>8605.79</td><td>4853.7163</td><td>-0.8746650435406427</td><td>-1.4789277810855805</td><td>--</td><td>19.317196</td><td>0.4539814</td><td>--</td></tr>\n",
       "<tr><td>574441</td><td>SagittariusII</td><td>6864798962533747584</td><td>298.025533402076632683</td><td>-22.06175467999048578</td><td>0.9452461387736898</td><td>298.025533402076632683</td><td>-22.06175467999048578</td><td>4040.1987</td><td>6191.028</td><td>1896.8545</td><td>337.4366</td><td>391.6328</td><td>283.77194</td><td>-0.12917529306621384</td><td>-1.2327278309223506</td><td>--</td><td>19.896572</td><td>0.04838562</td><td>--</td></tr>\n",
       "<tr><td>574463</td><td>SagittariusII</td><td>6864799374846231424</td><td>298.111542506482749104</td><td>-22.02661713905617447</td><td>0.699983215442498</td><td>298.111542506482749104</td><td>-22.02661713905617447</td><td>3212.1008</td><td>4953.1885</td><td>1494.7235</td><td>10155.182</td><td>12461.176</td><td>8962.731</td><td>0.22614538768126805</td><td>-1.086714893837382</td><td>--</td><td>20.564362</td><td>0.082113266</td><td>--</td></tr>\n",
       "<tr><td>574666</td><td>SagittariusII</td><td>6865175854499004928</td><td>298.072129055611981130</td><td>-21.95903140563251199</td><td>0.9823293741980924</td><td>298.072129055611981130</td><td>-21.95903140563251199</td><td>4185.1484</td><td>6584.481</td><td>2084.287</td><td>589.98895</td><td>630.09357</td><td>506.68948</td><td>-0.6754407640770047</td><td>-0.9002240032313094</td><td>--</td><td>19.94249</td><td>-0.008558273</td><td>--</td></tr>\n",
       "</table></div>"
      ],
      "text/plain": [
       "<Table length=53404>\n",
       "recno      Galaxy          GaiaEDR3      ...     bp_g     teff_gspphot\n",
       "                                         ...     mag           K      \n",
       "int32      str15            int64        ...   float32      float32   \n",
       "------ ------------- ------------------- ... ------------ ------------\n",
       "586270        Segue2   87195223452752384 ...   0.35815048           --\n",
       "586289        Segue2   87200377413712384 ...     0.315073           --\n",
       "586290        Segue2   87200583572213248 ...    0.5799141           --\n",
       "586294        Segue2   87201171982969088 ...    0.4973774    4541.5156\n",
       "586296        Segue2   87201648723742592 ...   0.50066566           --\n",
       "586297        Segue2   87201648724314880 ...   0.10320282    7486.2812\n",
       "   ...           ...                 ... ...          ...          ...\n",
       "574137 SagittariusII 6864423822905581056 ...  0.020242691           --\n",
       "574139 SagittariusII 6864423852970125056 ...    0.5322952    4425.0205\n",
       "574144 SagittariusII 6864423960349370752 ...    0.4539814           --\n",
       "574441 SagittariusII 6864798962533747584 ...   0.04838562           --\n",
       "574463 SagittariusII 6864799374846231424 ...  0.082113266           --\n",
       "574666 SagittariusII 6865175854499004928 ... -0.008558273           --"
      ]
     },
     "execution_count": 10,
     "metadata": {},
     "output_type": "execute_result"
    }
   ],
   "source": [
    "data"
   ]
  },
  {
   "cell_type": "code",
   "execution_count": 11,
   "id": "7a8977ca-1ff1-4938-9f74-c3616565c15e",
   "metadata": {},
   "outputs": [],
   "source": [
    "#setting dcalc based on r_med_geo (if>500pc and photogeo exists, we choose photogeo and set dcalc to 1, else geo and dcalc to 2)\n",
    "data['dcalc'] = [1 if((not(np.ma.is_masked(data['r_med_photogeo'][i])))and(data['r_med_geo'][i]>500)) else 2 for i in range(len(data))]\n",
    "\n",
    "#setting metadata for dcalc\n",
    "data['dcalc'] = data.Column(data['dcalc'],\n",
    "                            meta=collections.OrderedDict([('ucd', 'meta.dcalc')]),\n",
    "                            description='Distance Indicator: 1 indicates a Bailer-Jones photogeometric distance; 2 indicates a Bailer-Jones geometric distance')\n",
    "\n",
    "#Choosing distance based on dcalc\n",
    "data['bj_distance'] = [data['r_med_photogeo'][i] if data['dcalc'][i]==1 else data['r_med_geo'][i] for i in range(len(data))]\n",
    "data['bj_distance'].unit=u.pc\n",
    "\n",
    "#Choosing and calculating distance error based on the distance we chose\n",
    "data['e_bj_dist'] = [((data['r_hi_photogeo'][i]-data['r_lo_photogeo'][i])/2)*u.pc if((not(np.ma.is_masked(data['r_med_photogeo'][i])))and(data['r_med_geo'][i]>500)) else ((data['r_hi_geo'][i]-data['r_lo_geo'][i])/2)*u.pc for i in range(len(data))]"
   ]
  },
  {
   "cell_type": "code",
   "execution_count": 12,
   "id": "1cd3ebbb-1e25-485d-bd0b-c38e835b3ae1",
   "metadata": {},
   "outputs": [],
   "source": [
    "#calculating distance in light years and parsecs\n",
    "calculations.get_distance(data, dist='bj_distance', use='distance')"
   ]
  },
  {
   "cell_type": "code",
   "execution_count": 13,
   "id": "597e3b41-4be9-4ec5-9ebb-650cb3fb51ed",
   "metadata": {},
   "outputs": [],
   "source": [
    "#calculating cartesian coordinates\n",
    "calculations.get_cartesian(data, ra='RA_ICRS', dec='DE_ICRS', pmra='pmra', pmde='pmdec', radial_velocity='radial_velocity', frame='icrs')"
   ]
  },
  {
   "cell_type": "code",
   "execution_count": 14,
   "id": "9500d986-2e9f-4f28-a5c2-10b2d0e7602d",
   "metadata": {},
   "outputs": [],
   "source": [
    "#calculating absolute magnitudes\n",
    "#calculate absolute V mag based on apparent magnitude and distance\n",
    "data['appmag'] = data.MaskedColumn(data=data['phot_g_mean_mag'],\n",
    "                             unit=u.mag,\n",
    "                             meta=collections.OrderedDict([('ucd', 'phot.mag;em.opt.G')]),\n",
    "                             format='{:.6f}',\n",
    "                             description='Apparent magnitude in Gaia G-band')\n",
    "data['absmag'] = data.MaskedColumn(data=[data['appmag'][i]+5-5*np.log10(data['dist_pc'][i]) for i in range(len(data))],\n",
    "                             unit=u.mag,\n",
    "                             meta=collections.OrderedDict([('ucd', 'phot.magAbs;em.opt.G')]),\n",
    "                             format='{:.6f}',\n",
    "                             description='Absolute magnitude in Gaia G-band')"
   ]
  },
  {
   "cell_type": "code",
   "execution_count": 15,
   "id": "f47bb36a-939d-468d-87d1-ffdd7709bf64",
   "metadata": {},
   "outputs": [],
   "source": [
    "#calculate luminosity based on absolute magnitude\n",
    "data['lum'] = [10**(1.89 - 0.4*data['absmag'][i]) for i in range(len(data))]\n",
    "small_luminosities = np.where((data['lum']>0.0) & (data['lum']<0.001))[0]\n",
    "data['lum'][small_luminosities] = [0.001]*len(small_luminosities)\n",
    "\n",
    "data['lum'] = data.MaskedColumn(data=data['lum'],\n",
    "                             unit=u.solLum,\n",
    "                             meta=collections.OrderedDict([('ucd', 'phys.luminosity')]),\n",
    "                             format='{:.6f}',\n",
    "                             description='Stellar Luminosity')"
   ]
  },
  {
   "cell_type": "code",
   "execution_count": 16,
   "id": "4d4aa5f1-2f84-471f-b1c3-c99f2eeb2e17",
   "metadata": {},
   "outputs": [
    {
     "data": {
      "text/plain": [
       "(array([  2.,   1.,   0.,   0.,   0.,   0.,   1.,   0.,   0.,   0.,   0.,\n",
       "          1.,   0.,   1.,   2.,   2.,   1.,   2.,   1.,   2.,   2.,   1.,\n",
       "          5.,   5.,   4.,   3.,  10.,   3.,   7.,   8.,  11.,  19.,   9.,\n",
       "         14.,  26.,  26.,  16.,  19.,  26.,  33.,  22.,  41.,  41.,  41.,\n",
       "         33.,  40.,  48.,  47.,  71.,  66.,  53.,  67.,  55.,  97.,  98.,\n",
       "         84., 107., 107., 126., 139., 126., 134., 142., 173., 157., 178.,\n",
       "        189., 203., 214., 235., 257., 246., 235., 282., 324., 334., 323.,\n",
       "        299., 345., 367., 385., 349., 367., 391., 411., 378., 391., 402.,\n",
       "        408., 385., 410., 377., 391., 401., 413., 406., 413., 406., 425.,\n",
       "        424., 448., 445., 462., 431., 461., 530., 542., 548., 543., 565.,\n",
       "        594., 584., 639., 588., 620., 656., 683., 712., 721., 810., 790.,\n",
       "        814., 773., 844., 919., 930., 962., 886., 869., 869., 902., 849.,\n",
       "        826., 834., 742., 752., 752., 713., 701., 694., 639., 611., 558.,\n",
       "        559., 556., 514., 469., 416., 433., 384., 347., 329., 289., 267.,\n",
       "        278., 266., 225., 226., 195., 186., 172., 165., 152., 137., 123.,\n",
       "        118., 114., 114.,  87.,  82.,  91.,  80.,  74.,  69.,  69.,  62.,\n",
       "         75.,  64.,  54.,  66.,  57.,  53.,  44.,  53.,  44.,  45.,  46.,\n",
       "         39.,  47.,  45.,  42.,  41.,  54.,  30.,  56.,  37.,  38.,  40.,\n",
       "         33.,  22.,  36.,  21.,  29.,  23.,  28.,  24.,  19.,  15.,  15.,\n",
       "         23.,  22.,  12.,  16.,  16.,  14.,  19.,  12.,   8.,   6.,  12.,\n",
       "         13.,  13.,   8.,   8.,  12.,   7.,   4.,   5.,   8.,   3.,   2.,\n",
       "          1.,   3.,   7.,   2.,   1.,   3.,   0.,   2.,   0.,   2.,   1.,\n",
       "          0.,   1.,   0.,   1.,   0.,   0.,   0.,   1.]),\n",
       " array([-0.65533257, -0.64628899, -0.63724536, -0.62820178, -0.61915815,\n",
       "        -0.61011457, -0.60107094, -0.59202737, -0.58298373, -0.57394016,\n",
       "        -0.56489652, -0.55585295, -0.54680932, -0.53776574, -0.52872217,\n",
       "        -0.51967853, -0.51063496, -0.50159132, -0.49254772, -0.48350412,\n",
       "        -0.47446051, -0.46541694, -0.45637333, -0.44732973, -0.43828613,\n",
       "        -0.42924252, -0.42019892, -0.41115531, -0.40211171, -0.3930681 ,\n",
       "        -0.3840245 , -0.3749809 , -0.36593729, -0.35689369, -0.34785008,\n",
       "        -0.33880651, -0.32976291, -0.3207193 , -0.3116757 , -0.30263209,\n",
       "        -0.29358849, -0.28454489, -0.27550128, -0.26645768, -0.25741407,\n",
       "        -0.24837047, -0.23932688, -0.23028328, -0.22123967, -0.21219607,\n",
       "        -0.20315246, -0.19410886, -0.18506525, -0.17602167, -0.16697806,\n",
       "        -0.15793446, -0.14889085, -0.13984725, -0.13080364, -0.12176005,\n",
       "        -0.11271644, -0.10367285, -0.09462924, -0.08558564, -0.07654203,\n",
       "        -0.06749844, -0.05845483, -0.04941123, -0.04036763, -0.03132403,\n",
       "        -0.02228043, -0.01323682, -0.00419322,  0.00485038,  0.01389398,\n",
       "         0.02293758,  0.03198119,  0.04102479,  0.05006839,  0.05911199,\n",
       "         0.06815559,  0.0771992 ,  0.08624279,  0.0952864 ,  0.10433   ,\n",
       "         0.11337361,  0.1224172 ,  0.1314608 ,  0.1405044 ,  0.14954801,\n",
       "         0.15859161,  0.16763522,  0.17667882,  0.18572243,  0.19476601,\n",
       "         0.20380962,  0.21285322,  0.22189683,  0.23094043,  0.23998404,\n",
       "         0.24902764,  0.25807124,  0.26711485,  0.27615845,  0.28520206,\n",
       "         0.29424563,  0.30328923,  0.31233284,  0.32137644,  0.33042005,\n",
       "         0.33946365,  0.34850726,  0.35755086,  0.36659446,  0.37563807,\n",
       "         0.38468167,  0.39372528,  0.40276888,  0.41181248,  0.42085606,\n",
       "         0.42989966,  0.43894327,  0.44798687,  0.45703048,  0.46607408,\n",
       "         0.47511768,  0.48416129,  0.49320489,  0.50224847,  0.5112921 ,\n",
       "         0.52033567,  0.52937931,  0.53842288,  0.54746652,  0.55651009,\n",
       "         0.56555372,  0.5745973 ,  0.58364093,  0.59268451,  0.60172808,\n",
       "         0.61077172,  0.61981529,  0.62885892,  0.6379025 ,  0.64694613,\n",
       "         0.65598971,  0.66503334,  0.67407691,  0.68312055,  0.69216412,\n",
       "         0.70120776,  0.71025133,  0.71929497,  0.72833854,  0.73738211,\n",
       "         0.74642575,  0.75546932,  0.76451296,  0.77355653,  0.78260016,\n",
       "         0.79164374,  0.80068737,  0.80973095,  0.81877458,  0.82781816,\n",
       "         0.83686179,  0.84590536,  0.85494894,  0.86399257,  0.87303615,\n",
       "         0.88207978,  0.89112335,  0.90016699,  0.90921056,  0.9182542 ,\n",
       "         0.92729777,  0.9363414 ,  0.94538498,  0.95442861,  0.96347219,\n",
       "         0.97251582,  0.9815594 ,  0.99060297,  0.9996466 ,  1.00869024,\n",
       "         1.01773381,  1.02677739,  1.03582096,  1.04486465,  1.05390823,\n",
       "         1.0629518 ,  1.07199538,  1.08103907,  1.09008265,  1.09912622,\n",
       "         1.10816979,  1.11721337,  1.12625706,  1.13530064,  1.14434421,\n",
       "         1.15338778,  1.16243148,  1.17147505,  1.18051863,  1.1895622 ,\n",
       "         1.1986059 ,  1.20764947,  1.21669304,  1.22573662,  1.23478019,\n",
       "         1.24382389,  1.25286746,  1.26191103,  1.27095461,  1.2799983 ,\n",
       "         1.28904188,  1.29808545,  1.30712903,  1.31617272,  1.32521629,\n",
       "         1.33425987,  1.34330344,  1.35234714,  1.36139071,  1.37043428,\n",
       "         1.37947786,  1.38852143,  1.39756513,  1.4066087 ,  1.41565228,\n",
       "         1.42469585,  1.43373954,  1.44278312,  1.45182669,  1.46087027,\n",
       "         1.46991396,  1.47895753,  1.48800111,  1.49704468,  1.50608826,\n",
       "         1.51513195,  1.52417552,  1.5332191 ,  1.54226267,  1.55130637,\n",
       "         1.56034994,  1.56939352,  1.57843709,  1.58748078,  1.59652436,\n",
       "         1.60556793]),\n",
       " <BarContainer object of 250 artists>)"
      ]
     },
     "execution_count": 16,
     "metadata": {},
     "output_type": "execute_result"
    },
    {
     "data": {
      "image/png": "[encoded data removed]",
      "text/plain": [
       "<Figure size 640x480 with 1 Axes>"
      ]
     },
     "metadata": {},
     "output_type": "display_data"
    }
   ],
   "source": [
    "#setting color and visualizing\n",
    "data['color'] = data.MaskedColumn(data=data['bp_g'],\n",
    "                             unit=u.solLum,\n",
    "                             meta=collections.OrderedDict([('ucd', 'phys.color')]),\n",
    "                             format='{:.2f}',\n",
    "                             description='Gaia BP-G color')\n",
    "plt.hist(data['color'], bins=250)"
   ]
  },
  {
   "cell_type": "code",
   "execution_count": 17,
   "id": "09aafb4a-33a6-421b-8071-ee766b5502ca",
   "metadata": {},
   "outputs": [
    {
     "data": {
      "text/plain": [
       "<function matplotlib.pyplot.show(close=None, block=None)>"
      ]
     },
     "execution_count": 17,
     "metadata": {},
     "output_type": "execute_result"
    },
    {
     "data": {
      "image/png": "[encoded data removed]",
      "text/plain": [
       "<Figure size 1000x400 with 2 Axes>"
      ]
     },
     "metadata": {},
     "output_type": "display_data"
    }
   ],
   "source": [
    "#2D Visualization\n",
    "fig, ax = plt.subplots(1, 2)\n",
    "\n",
    "#XY Plane\n",
    "ax[0].scatter(data['x'], data['y'])\n",
    "ax[0].set_title('XY Plane')\n",
    "\n",
    "#XZ Plane\n",
    "ax[1].scatter(data['x'], data['z'])\n",
    "ax[1].set_title('XZ Plane')\n",
    "\n",
    "#set good spacing\n",
    "fig.tight_layout()\n",
    "fig.set_size_inches(10, 4, forward=True)\n",
    "plt.show"
   ]
  },
  {
   "cell_type": "code",
   "execution_count": 18,
   "id": "c730cb4c-7058-4f08-9fbf-a3f1fdef0bb9",
   "metadata": {},
   "outputs": [
    {
     "data": {
      "image/png": "[encoded data removed]",
      "text/plain": [
       "<Figure size 1000x400 with 2 Axes>"
      ]
     },
     "metadata": {},
     "output_type": "display_data"
    }
   ],
   "source": [
    "#2D Density Visualization\n",
    "fig, ax = plt.subplots(1, 2)\n",
    "\n",
    "#XY Plane\n",
    "ax[0].hist2d(data['x'], data['y'], \n",
    "           bins = 200,  \n",
    "           norm = colors.LogNorm(),  \n",
    "           cmap = \"RdYlGn_r\",) \n",
    "ax[0].set_title('XY Plane')\n",
    "\n",
    "#XZ Plane\n",
    "ax[1].hist2d(data['x'], data['z'], \n",
    "           bins = 200,  \n",
    "           norm = colors.LogNorm(),  \n",
    "           cmap = \"RdYlGn_r\",) \n",
    "ax[1].set_title('XZ Plane')\n",
    "\n",
    "#set good spacing\n",
    "fig.tight_layout()\n",
    "fig.set_size_inches(10, 4, forward=True)\n",
    "#plt.show"
   ]
  },
  {
   "cell_type": "code",
   "execution_count": 19,
   "id": "66d2bff2-5c52-4c6f-bee9-f34ab66f931d",
   "metadata": {},
   "outputs": [],
   "source": [
    "#construct a speck comment column\n",
    "data['speck_label'] = data.Column(data=['#__'+str(name) for name in data['GaiaEDR3']], \n",
    "                                  meta=collections.OrderedDict([('ucd', 'meta.id')]),\n",
    "                                  description='Gaia EDR3 Source ID')\n",
    "\n",
    "#construct a label column\n",
    "data['label'] = ['GaiaEDR3_'+ str(source) for source in data['GaiaEDR3']]  #leaving for now in case we want to add other labels"
   ]
  },
  {
   "cell_type": "code",
   "execution_count": 20,
   "id": "790e4cff-1758-43f9-b3c4-3cbe83e7a0f5",
   "metadata": {},
   "outputs": [],
   "source": [
    "#setting texture number column\n",
    "data['texnum'] = data.Column(data=[1]*len(data), \n",
    "                                  meta=collections.OrderedDict([('ucd', 'meta.texnum')]),\n",
    "                                  description='Texture Number')"
   ]
  },
  {
   "cell_type": "code",
   "execution_count": 21,
   "id": "c07afed8-ba7e-43a0-9718-c8a11bbd8569",
   "metadata": {},
   "outputs": [
    {
     "data": {
      "text/html": [
       "<div>\n",
       "<style scoped>\n",
       "    .dataframe tbody tr th:only-of-type {\n",
       "        vertical-align: middle;\n",
       "    }\n",
       "\n",
       "    .dataframe tbody tr th {\n",
       "        vertical-align: top;\n",
       "    }\n",
       "\n",
       "    .dataframe thead th {\n",
       "        text-align: right;\n",
       "    }\n",
       "</style>\n",
       "<table border=\"1\" class=\"dataframe\">\n",
       "  <thead>\n",
       "    <tr style=\"text-align: right;\">\n",
       "      <th></th>\n",
       "      <th>name</th>\n",
       "      <th>unit</th>\n",
       "      <th>datatype</th>\n",
       "      <th>width</th>\n",
       "      <th>precision</th>\n",
       "      <th>arraysize</th>\n",
       "      <th>ucd</th>\n",
       "      <th>description</th>\n",
       "    </tr>\n",
       "  </thead>\n",
       "  <tbody>\n",
       "    <tr>\n",
       "      <th>0</th>\n",
       "      <td>x</td>\n",
       "      <td>pc</td>\n",
       "      <td>float64</td>\n",
       "      <td></td>\n",
       "      <td>6</td>\n",
       "      <td></td>\n",
       "      <td>pos.cartesian.x</td>\n",
       "      <td>Position (x coordinate) in pc</td>\n",
       "    </tr>\n",
       "    <tr>\n",
       "      <th>1</th>\n",
       "      <td>y</td>\n",
       "      <td>pc</td>\n",
       "      <td>float64</td>\n",
       "      <td></td>\n",
       "      <td>6</td>\n",
       "      <td></td>\n",
       "      <td>pos.cartesian.y</td>\n",
       "      <td>Position (y coordinate) in pc</td>\n",
       "    </tr>\n",
       "    <tr>\n",
       "      <th>2</th>\n",
       "      <td>z</td>\n",
       "      <td>pc</td>\n",
       "      <td>float64</td>\n",
       "      <td></td>\n",
       "      <td>6</td>\n",
       "      <td></td>\n",
       "      <td>pos.cartesian.z</td>\n",
       "      <td>Position (z coordinate) in pc</td>\n",
       "    </tr>\n",
       "    <tr>\n",
       "      <th>3</th>\n",
       "      <td>color</td>\n",
       "      <td>solLum</td>\n",
       "      <td>float32</td>\n",
       "      <td></td>\n",
       "      <td>2</td>\n",
       "      <td></td>\n",
       "      <td>phys.color</td>\n",
       "      <td>Gaia BP-G color</td>\n",
       "    </tr>\n",
       "    <tr>\n",
       "      <th>4</th>\n",
       "      <td>lum</td>\n",
       "      <td>solLum</td>\n",
       "      <td>float64</td>\n",
       "      <td></td>\n",
       "      <td>6</td>\n",
       "      <td></td>\n",
       "      <td>phys.luminosity</td>\n",
       "      <td>Stellar Luminosity</td>\n",
       "    </tr>\n",
       "    <tr>\n",
       "      <th>5</th>\n",
       "      <td>absmag</td>\n",
       "      <td>mag</td>\n",
       "      <td>float64</td>\n",
       "      <td></td>\n",
       "      <td>6</td>\n",
       "      <td></td>\n",
       "      <td>phot.magAbs;em.opt.G</td>\n",
       "      <td>Absolute magnitude in Gaia G-band</td>\n",
       "    </tr>\n",
       "    <tr>\n",
       "      <th>6</th>\n",
       "      <td>appmag</td>\n",
       "      <td>mag</td>\n",
       "      <td>float32</td>\n",
       "      <td></td>\n",
       "      <td>6</td>\n",
       "      <td></td>\n",
       "      <td>phot.mag;em.opt.G</td>\n",
       "      <td>Apparent magnitude in Gaia G-band</td>\n",
       "    </tr>\n",
       "    <tr>\n",
       "      <th>7</th>\n",
       "      <td>texnum</td>\n",
       "      <td></td>\n",
       "      <td>int64</td>\n",
       "      <td></td>\n",
       "      <td></td>\n",
       "      <td></td>\n",
       "      <td>meta.texnum</td>\n",
       "      <td>Texture Number</td>\n",
       "    </tr>\n",
       "    <tr>\n",
       "      <th>8</th>\n",
       "      <td>dist_ly</td>\n",
       "      <td>lyr</td>\n",
       "      <td>float32</td>\n",
       "      <td></td>\n",
       "      <td>1</td>\n",
       "      <td></td>\n",
       "      <td>pos.distance</td>\n",
       "      <td>Distance from Sun (lyr)</td>\n",
       "    </tr>\n",
       "    <tr>\n",
       "      <th>9</th>\n",
       "      <td>dcalc</td>\n",
       "      <td></td>\n",
       "      <td>int64</td>\n",
       "      <td></td>\n",
       "      <td></td>\n",
       "      <td></td>\n",
       "      <td>meta.dcalc</td>\n",
       "      <td>Distance Indicator: 1 indicates a Bailer-Jones...</td>\n",
       "    </tr>\n",
       "    <tr>\n",
       "      <th>10</th>\n",
       "      <td>u</td>\n",
       "      <td>km / s</td>\n",
       "      <td>float64</td>\n",
       "      <td></td>\n",
       "      <td>6</td>\n",
       "      <td></td>\n",
       "      <td>vel.cartesian.u</td>\n",
       "      <td>Heliocentric velocity towards Galactic Center</td>\n",
       "    </tr>\n",
       "    <tr>\n",
       "      <th>11</th>\n",
       "      <td>v</td>\n",
       "      <td>km / s</td>\n",
       "      <td>float64</td>\n",
       "      <td></td>\n",
       "      <td>6</td>\n",
       "      <td></td>\n",
       "      <td>vel.cartesian.v</td>\n",
       "      <td>Heliocentric velocity towards Galactic Rotation</td>\n",
       "    </tr>\n",
       "    <tr>\n",
       "      <th>12</th>\n",
       "      <td>w</td>\n",
       "      <td>km / s</td>\n",
       "      <td>float64</td>\n",
       "      <td></td>\n",
       "      <td>6</td>\n",
       "      <td></td>\n",
       "      <td>vel.cartesian.w</td>\n",
       "      <td>Heliocentric velocity towards Galactic North Pole</td>\n",
       "    </tr>\n",
       "    <tr>\n",
       "      <th>13</th>\n",
       "      <td>speed</td>\n",
       "      <td></td>\n",
       "      <td>float64</td>\n",
       "      <td></td>\n",
       "      <td>6</td>\n",
       "      <td></td>\n",
       "      <td>vel.speed</td>\n",
       "      <td>Total heliocentric velocity</td>\n",
       "    </tr>\n",
       "    <tr>\n",
       "      <th>14</th>\n",
       "      <td>speck_label</td>\n",
       "      <td></td>\n",
       "      <td>str</td>\n",
       "      <td></td>\n",
       "      <td></td>\n",
       "      <td>*</td>\n",
       "      <td>meta.id</td>\n",
       "      <td>Gaia EDR3 Source ID</td>\n",
       "    </tr>\n",
       "  </tbody>\n",
       "</table>\n",
       "</div>"
      ],
      "text/plain": [
       "           name    unit datatype width precision arraysize  \\\n",
       "0             x      pc  float64               6             \n",
       "1             y      pc  float64               6             \n",
       "2             z      pc  float64               6             \n",
       "3         color  solLum  float32               2             \n",
       "4           lum  solLum  float64               6             \n",
       "5        absmag     mag  float64               6             \n",
       "6        appmag     mag  float32               6             \n",
       "7        texnum            int64                             \n",
       "8       dist_ly     lyr  float32               1             \n",
       "9         dcalc            int64                             \n",
       "10            u  km / s  float64               6             \n",
       "11            v  km / s  float64               6             \n",
       "12            w  km / s  float64               6             \n",
       "13        speed          float64               6             \n",
       "14  speck_label              str                         *   \n",
       "\n",
       "                     ucd                                        description  \n",
       "0        pos.cartesian.x                      Position (x coordinate) in pc  \n",
       "1        pos.cartesian.y                      Position (y coordinate) in pc  \n",
       "2        pos.cartesian.z                      Position (z coordinate) in pc  \n",
       "3             phys.color                                    Gaia BP-G color  \n",
       "4        phys.luminosity                                 Stellar Luminosity  \n",
       "5   phot.magAbs;em.opt.G                  Absolute magnitude in Gaia G-band  \n",
       "6      phot.mag;em.opt.G                  Apparent magnitude in Gaia G-band  \n",
       "7            meta.texnum                                     Texture Number  \n",
       "8           pos.distance                            Distance from Sun (lyr)  \n",
       "9             meta.dcalc  Distance Indicator: 1 indicates a Bailer-Jones...  \n",
       "10       vel.cartesian.u      Heliocentric velocity towards Galactic Center  \n",
       "11       vel.cartesian.v    Heliocentric velocity towards Galactic Rotation  \n",
       "12       vel.cartesian.w  Heliocentric velocity towards Galactic North Pole  \n",
       "13             vel.speed                        Total heliocentric velocity  \n",
       "14               meta.id                                Gaia EDR3 Source ID  "
      ]
     },
     "execution_count": 21,
     "metadata": {},
     "output_type": "execute_result"
    }
   ],
   "source": [
    "#Getting the column metadata\n",
    "columns = file_functions.get_metadata(data, columns=['x', 'y', 'z', 'color', 'lum', 'absmag', 'appmag', 'texnum', 'dist_ly', 'dcalc', 'u', 'v', 'w', 'speed', 'speck_label'])\n",
    "columns"
   ]
  },
  {
   "cell_type": "code",
   "execution_count": 22,
   "id": "9c4fa2d2-8e98-449f-bdca-143be661f9dc",
   "metadata": {},
   "outputs": [],
   "source": [
    "# Print the csv file using the to_csv function in file_functions\n",
    "file_functions.to_csv(metadata, Table.to_pandas(data), columns)"
   ]
  },
  {
   "cell_type": "code",
   "execution_count": 23,
   "id": "7498023a-f13a-4246-96e1-54dc6d45e644",
   "metadata": {},
   "outputs": [],
   "source": [
    "# Print the speck file using the to_speck function in file_functions\n",
    "file_functions.to_speck(metadata, Table.to_pandas(data), columns)"
   ]
  },
  {
   "cell_type": "code",
   "execution_count": 24,
   "id": "576e51a8-cac4-418f-860f-66cea2e0373c",
   "metadata": {},
   "outputs": [],
   "source": [
    "# Print the label file using the to_label function in file_functions\n",
    "file_functions.to_label(metadata, Table.to_pandas(data))"
   ]
  },
  {
   "cell_type": "code",
   "execution_count": null,
   "id": "e2dc8825-03c5-4b0b-ba8d-52a828022015",
   "metadata": {},
   "outputs": [],
   "source": []
  }
 ],
 "metadata": {
  "kernelspec": {
   "display_name": "Python 3 (ipykernel)",
   "language": "python",
   "name": "python3"
  },
  "language_info": {
   "codemirror_mode": {
    "name": "ipython",
    "version": 3
   },
   "file_extension": ".py",
   "mimetype": "text/x-python",
   "name": "python",
   "nbconvert_exporter": "python",
   "pygments_lexer": "ipython3",
   "version": "3.11.8"
  }
 },
 "nbformat": 4,
 "nbformat_minor": 5
}

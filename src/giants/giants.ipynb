{
 "cells": [
  {
   "cell_type": "code",
   "execution_count": null,
   "id": "89ee447d",
   "metadata": {},
   "outputs": [],
   "source": [
    "# PROCESS THE GAIA CATALOG OF RGB Stars:\n",
    "# https://ui.adsabs.harvard.edu/abs/2023ApJS..267....8A/abstract\n",
    "# https://zenodo.org/records/7945154\n",
    "#\n",
    "#\n",
    "# ZACK REEVES\n",
    "# CREATED: 2024\n",
    "#\n",
    "# VERSIONS:\n",
    "#  1.1  JUN 2024 CREATE JUPYTER NOTEBOOK"
   ]
  },
  {
   "cell_type": "code",
   "execution_count": null,
   "id": "264bf0f9",
   "metadata": {},
   "outputs": [],
   "source": [
    "import pandas as pd\n",
    "import numpy as np\n",
    "import sys\n",
    "import os\n",
    "import collections\n",
    "\n",
    "import astropy.units as u\n",
    "import astropy.coordinates\n",
    "from astropy.table import Table, join, vstack\n",
    "from astropy.io import ascii\n",
    "\n",
    "from astroquery.gaia import Gaia\n",
    "\n",
    "sys.path.insert(0, '..')\n",
    "from common import file_functions, calculations, gaia_functions\n",
    "\n",
    "from matplotlib import pyplot as plt, colors"
   ]
  },
  {
   "cell_type": "code",
   "execution_count": null,
   "id": "1063e0ba",
   "metadata": {},
   "outputs": [],
   "source": [
    "# Define the metadata for the data set.  NEED TO EDIT\n",
    "#https://ui.adsabs.harvard.edu/abs/2023A%26A...674A..39G/abstract\n",
    "metadata = {}\n",
    "\n",
    "metadata['project'] = 'Digital Universe Atlas Gaia Subsets'\n",
    "metadata['sub_project'] = 'Red Giant Branch Stars'\n",
    "\n",
    "metadata['catalog'] = 'Robust Data-driven Metallicities for 175 Million Stars from Gaia XP Spectra (Andrae, 2023)'\n",
    "metadata['catalog_author'] = 'Andrae+'\n",
    "metadata['catalog_year'] = '2023'\n",
    "metadata['catalog_doi'] = 'doi:10.3847/1538-4365/acd53e'\n",
    "metadata['catalog_bibcode'] = '2023ApJS..267....8A'\n",
    "\n",
    "metadata['prepared_by'] = 'Brian Abbott, Zack Reeves'\n",
    "metadata['version'] = '1.1'\n",
    "\n",
    "metadata['dir'] = metadata['sub_project'].replace(' ', '_').lower()\n",
    "metadata['raw_data_dir'] = ''\n",
    "\n",
    "metadata['data_group_title'] = 'Giants'\n",
    "metadata['data_group_desc'] = 'Red Giant Branch Stars' #need to fix\n",
    "metadata['data_group_desc_long'] = 'The Sun is the reference point in much of stellar astronomy and astrophysics. Solar analogues are stars that resemble the Sun in terms of a restricted set of parameters. In contrast to the Sun, they can be observed in the night sky and with the very same instruments used to study stars in the Milky Way.'\n",
    "metadata['fileroot'] = 'giant'\n",
    "\n",
    "file_functions.generate_license_file(metadata)\n",
    "file_functions.generate_asset_file(metadata)"
   ]
  },
  {
   "cell_type": "code",
   "execution_count": null,
   "id": "276b6992",
   "metadata": {},
   "outputs": [],
   "source": [
    "#download the data from https://zenodo.org/records/7945154 \n",
    "#~12 million stars\n",
    "data = Table.read('raw_data/table_2_catwise.fits.gz')\n",
    "data"
   ]
  },
  {
   "cell_type": "code",
   "execution_count": null,
   "id": "7941f570",
   "metadata": {},
   "outputs": [],
   "source": [
    "#calculating distance in light years and parsecs\n",
    "#this dataset only uses gaia parallaxes to calculate distance to avoid the cpmutational expense of uploading >3 million stars to grab BJ distances\n",
    "\n",
    "data['parallax'].unit=u.mas\n",
    "calculations.get_distance(data, parallax='parallax')\n",
    "\n",
    "#setting metadata for dcalc\n",
    "data['dcalc'] = data.Column([3]*len(data),\n",
    "                            meta=collections.OrderedDict([('ucd', 'meta.dcalc')]),\n",
    "                            description='Distance Indicator: 1 indicates a Bailer-Jones photogeometric distance; 2 indicates a Bailer-Jones geometric distance; 3 indicates a Gaia parallax-based distance')\n"
   ]
  },
  {
   "cell_type": "code",
   "execution_count": null,
   "id": "515fd0a4",
   "metadata": {},
   "outputs": [],
   "source": [
    "#setting necessary units and calculating galactic cartesian XYZ\n",
    "data['ra'].unit=u.deg\n",
    "data['dec'].unit=u.deg\n",
    "data['pmra'].unit=u.mas/u.yr\n",
    "data['pmdec'].unit=u.mas/u.yr\n",
    "data['radial_velocity'].unit=u.km/u.s\n",
    "calculations.get_cartesian(data)"
   ]
  },
  {
   "cell_type": "code",
   "execution_count": null,
   "id": "0a188ea3",
   "metadata": {},
   "outputs": [],
   "source": [
    "#setting necessary units\n",
    "data['phot_g_mean_mag'].unit=u.mag\n",
    "data['phot_bp_mean_mag'].unit=u.mag\n",
    "data['phot_rp_mean_mag'].unit=u.mag"
   ]
  },
  {
   "cell_type": "code",
   "execution_count": null,
   "id": "92325125",
   "metadata": {},
   "outputs": [],
   "source": [
    "#calculating absolute and apparent magnitudes, luminosity, and color\n",
    "gaia_functions.get_magnitudes(data)\n",
    "gaia_functions.get_luminosity(data)\n",
    "data['bp_rp'] = [data['phot_bp_mean_mag'][i]-data['phot_rp_mean_mag'][i] for i in range(len(data))]\n",
    "gaia_functions.get_bp_g_color(data, color='bp_rp')"
   ]
  },
  {
   "cell_type": "code",
   "execution_count": null,
   "id": "a5344451",
   "metadata": {},
   "outputs": [],
   "source": [
    "data"
   ]
  },
  {
   "cell_type": "code",
   "execution_count": null,
   "id": "5d3025a1",
   "metadata": {},
   "outputs": [],
   "source": [
    "plt.hist(data['bp_rp'], bins=250);"
   ]
  },
  {
   "cell_type": "code",
   "execution_count": null,
   "id": "2236e219",
   "metadata": {},
   "outputs": [],
   "source": [
    "#2D Visualization\n",
    "fig, ax = plt.subplots(1, 2)\n",
    "\n",
    "#XY Plane\n",
    "ax[0].scatter(data['x'], data['y'])\n",
    "ax[0].set_title('XY Plane')\n",
    "\n",
    "#XZ Plane\n",
    "ax[1].scatter(data['x'], data['z'])\n",
    "ax[1].set_title('XZ Plane')\n",
    "\n",
    "#set good spacing\n",
    "fig.tight_layout()\n",
    "fig.set_size_inches(10, 4, forward=True)\n",
    "plt.show"
   ]
  },
  {
   "cell_type": "code",
   "execution_count": null,
   "id": "f6be2929",
   "metadata": {},
   "outputs": [],
   "source": [
    "#2D Density Visualization\n",
    "fig, ax = plt.subplots(1, 2)\n",
    "\n",
    "#XY Plane\n",
    "ax[0].hist2d(data['x'], data['y'], \n",
    "           bins = 200,  \n",
    "           norm = colors.LogNorm(),  \n",
    "           cmap = \"RdYlGn_r\",) \n",
    "ax[0].set_title('XY Plane')\n",
    "\n",
    "#XZ Plane\n",
    "ax[1].hist2d(data['x'], data['z'], \n",
    "           bins = 200,  \n",
    "           norm = colors.LogNorm(),  \n",
    "           cmap = \"RdYlGn_r\",) \n",
    "ax[1].set_title('XZ Plane')\n",
    "\n",
    "#set good spacing\n",
    "fig.tight_layout()\n",
    "fig.set_size_inches(10, 4, forward=True)\n",
    "#plt.show"
   ]
  },
  {
   "cell_type": "code",
   "execution_count": null,
   "id": "a3cc0d4f",
   "metadata": {},
   "outputs": [],
   "source": [
    "#construct a speck comment column\n",
    "data['speck_label'] = data.Column(data=['#__'+str(name) for name in data['source_id']], \n",
    "                                  meta=collections.OrderedDict([('ucd', 'meta.id')]),\n",
    "                                  description='Gaia EDR3 Source ID')\n",
    "\n",
    "#construct a label column\n",
    "data['label'] = ['GaiaEDR3_'+ str(source) for source in data['source_id']]  #leaving for now in case we want to add other labels"
   ]
  },
  {
   "cell_type": "code",
   "execution_count": null,
   "id": "e087923d",
   "metadata": {},
   "outputs": [],
   "source": [
    "#setting texture number column\n",
    "data['texnum'] = data.Column(data=[1]*len(data), \n",
    "                                  meta=collections.OrderedDict([('ucd', 'meta.texnum')]),\n",
    "                                  description='Texture Number')"
   ]
  },
  {
   "cell_type": "code",
   "execution_count": null,
   "id": "382145b1",
   "metadata": {},
   "outputs": [],
   "source": [
    "#Getting the column metadata\n",
    "columns = file_functions.get_metadata(data, columns=['x', 'y', 'z', 'color', 'lum', 'absmag', 'appmag', 'texnum', 'dist_ly', 'dcalc', 'u', 'v', 'w', 'speed', 'speck_label'])\n",
    "columns"
   ]
  },
  {
   "cell_type": "code",
   "execution_count": null,
   "id": "c45c494e",
   "metadata": {},
   "outputs": [],
   "source": [
    "# Print the csv file using the to_csv function in file_functions\n",
    "file_functions.to_csv(metadata, Table.to_pandas(data), columns)"
   ]
  },
  {
   "cell_type": "code",
   "execution_count": null,
   "id": "624f7e85",
   "metadata": {},
   "outputs": [],
   "source": [
    "# Print the speck file using the to_speck function in file_functions\n",
    "file_functions.to_speck(metadata, Table.to_pandas(data), columns)"
   ]
  },
  {
   "cell_type": "code",
   "execution_count": null,
   "id": "c4a6b75a",
   "metadata": {},
   "outputs": [],
   "source": [
    "# Print the label file using the to_label function in file_functions\n",
    "file_functions.to_label(metadata, Table.to_pandas(data))"
   ]
  }
 ],
 "metadata": {
  "kernelspec": {
   "display_name": "Python 3 (ipykernel)",
   "language": "python",
   "name": "python3"
  },
  "language_info": {
   "codemirror_mode": {
    "name": "ipython",
    "version": 3
   },
   "file_extension": ".py",
   "mimetype": "text/x-python",
   "name": "python",
   "nbconvert_exporter": "python",
   "pygments_lexer": "ipython3",
   "version": "3.11.7"
  }
 },
 "nbformat": 4,
 "nbformat_minor": 5
}

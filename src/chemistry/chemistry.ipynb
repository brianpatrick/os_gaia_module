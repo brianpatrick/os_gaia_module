{
 "cells": [
  {
   "cell_type": "code",
   "execution_count": 1,
   "id": "97f24c4b-3a93-4504-ae4a-cb19a5f9d5db",
   "metadata": {},
   "outputs": [],
   "source": [
    "# PROCESS THE GAIA CATALOG OF STARS with CHEMISTRY from APOGEE and GALAH:\n",
    "#currently just has apogee\n",
    "# \n",
    "# \n",
    "#\n",
    "#\n",
    "# ZACK REEVES\n",
    "# CREATED: 2024\n",
    "#\n",
    "# VERSIONS:\n",
    "#  1.1  JUNE 2024 CREATE JUPYTER NOTEBOOK"
   ]
  },
  {
   "cell_type": "code",
   "execution_count": 14,
   "id": "39d6c168-6344-44d5-8b8e-cadcf8e2cff2",
   "metadata": {},
   "outputs": [],
   "source": [
    "import pandas as pd\n",
    "import numpy as np\n",
    "import sys\n",
    "import os\n",
    "import collections\n",
    "\n",
    "import astropy.units as u\n",
    "import astropy.coordinates\n",
    "from astropy.table import Table, join, unique, vstack\n",
    "\n",
    "from astroquery.gaia import Gaia\n",
    "from astroquery.vizier import Vizier\n",
    "\n",
    "import SciServer\n",
    "from SciServer import CasJobs\n",
    "\n",
    "sys.path.insert(0, '..')\n",
    "from common import file_functions, calculations\n",
    "\n",
    "from matplotlib import pyplot as plt, colors"
   ]
  },
  {
   "cell_type": "code",
   "execution_count": 4,
   "id": "c97af4a1-5b21-4696-95ce-eca0efabbf28",
   "metadata": {},
   "outputs": [],
   "source": [
    "# Define the metadata for the data set. #FIX LATER\n",
    "metadata = {}\n",
    "\n",
    "metadata['project'] = 'Digital Universe Atlas Gaia Subsets'\n",
    "metadata['sub_project'] = 'Gaia Catalog of Nearby Stars'\n",
    "\n",
    "metadata['catalog'] = 'The Gaia Catalogue of Nearby Stars (Gaia Collaboration, 2021)'\n",
    "metadata['catalog_author'] = 'Gaia Collaboration'\n",
    "metadata['catalog_year'] = '2021'\n",
    "metadata['catalog_doi'] = 'doi:10.1051/0004-6361/202039498'\n",
    "metadata['catalog_bibcode'] = '2021A&A...649A...6G'\n",
    "\n",
    "metadata['prepared_by'] = 'Brian Abbott, Zack Reeves'\n",
    "metadata['version'] = '1.1'\n",
    "\n",
    "metadata['dir'] = metadata['sub_project'].replace(' ', '_').lower()\n",
    "metadata['raw_data_dir'] = ''\n",
    "\n",
    "metadata['data_group_title'] = 'Chemistry'\n",
    "metadata['data_group_desc'] = 'Chemistry of stars in the Milky Way mapped by Gaia and measured by APOGEE/GALAH'\n",
    "metadata['data_group_desc_long'] = 'Have you ever wondered what’s out there in space? Now, thanks to Gaia EDR3, the solar neighbourhood has been mapped with great precision out to 100 pc (326 light years)'\n",
    "metadata['fileroot'] = 'chem'\n",
    "\n",
    "file_functions.generate_license_file(metadata)\n",
    "file_functions.generate_asset_file(metadata)"
   ]
  },
  {
   "cell_type": "code",
   "execution_count": 9,
   "id": "41da58ef-479c-4ff5-95c2-491ba27fe93d",
   "metadata": {},
   "outputs": [
    {
     "name": "stdin",
     "output_type": "stream",
     "text": [
      "Enter SciServer user name:  ········\n",
      "Enter SciServer password:  ········\n"
     ]
    }
   ],
   "source": [
    "#logging into CasJobs\n",
    "#to make a new account: https://apps.sciserver.org/login-portal/Account/Login\n",
    "from SciServer import Authentication\n",
    "\n",
    "# #fill in with username and password\n",
    "# Authentication_loginName = ''\n",
    "# Authentication_loginPassword = ''\n",
    "\n",
    "# manualtoken = Authentication.login(Authentication_loginName, Authentication_loginPassword)\n",
    "manualtoken = Authentication.login()\n",
    "manualtokenvalue = Authentication.token.value"
   ]
  },
  {
   "cell_type": "code",
   "execution_count": 10,
   "id": "4f49845e-d16e-4aa0-9b51-507196b23b86",
   "metadata": {},
   "outputs": [
    {
     "data": {
      "text/html": [
       "<div><i>Table length=733901</i>\n",
       "<table id=\"table5986163216\" class=\"table-striped table-bordered table-condensed\">\n",
       "<thead><tr><th>apogee_id</th><th>c_fe</th></tr></thead>\n",
       "<thead><tr><th>str19</th><th>float64</th></tr></thead>\n",
       "<tr><td>2M00431825+6154402</td><td>-9999.0</td></tr>\n",
       "<tr><td>2M00443718+4040456</td><td>0.07516199</td></tr>\n",
       "<tr><td>2M01362271+5415023</td><td>0.0265215</td></tr>\n",
       "<tr><td>2M01473847+6041574</td><td>-9999.0</td></tr>\n",
       "<tr><td>2M03585942+5611127</td><td>0.3874499</td></tr>\n",
       "<tr><td>2M04052283+4911567</td><td>0.01136851</td></tr>\n",
       "<tr><td>...</td><td>...</td></tr>\n",
       "<tr><td>2M12442925-6056120</td><td>0.01517273</td></tr>\n",
       "<tr><td>2M12443185-6059137</td><td>-0.10975</td></tr>\n",
       "<tr><td>2M12443190-6035373</td><td>0.062637</td></tr>\n",
       "<tr><td>2M12444201-6107172</td><td>-0.01302701</td></tr>\n",
       "<tr><td>2M12444829-6058335</td><td>0.048518</td></tr>\n",
       "<tr><td>2M12445933-6039552</td><td>0.0013661</td></tr>\n",
       "<tr><td>2M12450461-6054410</td><td>0.10935</td></tr>\n",
       "</table></div>"
      ],
      "text/plain": [
       "<Table length=733901>\n",
       "    apogee_id          c_fe   \n",
       "      str19          float64  \n",
       "------------------ -----------\n",
       "2M00431825+6154402     -9999.0\n",
       "2M00443718+4040456  0.07516199\n",
       "2M01362271+5415023   0.0265215\n",
       "2M01473847+6041574     -9999.0\n",
       "2M03585942+5611127   0.3874499\n",
       "2M04052283+4911567  0.01136851\n",
       "               ...         ...\n",
       "2M12442925-6056120  0.01517273\n",
       "2M12443185-6059137    -0.10975\n",
       "2M12443190-6035373    0.062637\n",
       "2M12444201-6107172 -0.01302701\n",
       "2M12444829-6058335    0.048518\n",
       "2M12445933-6039552   0.0013661\n",
       "2M12450461-6054410     0.10935"
      ]
     },
     "execution_count": 10,
     "metadata": {},
     "output_type": "execute_result"
    }
   ],
   "source": [
    "#Querying the aspcapStar table from SDSS to get chemistry info\n",
    "\n",
    "#we select the apogee_id (2MASS style ID) and any chemistry info we want\n",
    "#we may want to thresh the quality of the chemistry data\n",
    "query = 'select apogee_id as apogee_id, c_fe from dr18.aspcapStar'\n",
    "apogee = Table.from_pandas(CasJobs.executeQuery(query, context='DR18', format='pandas'))\n",
    "apogee"
   ]
  },
  {
   "cell_type": "code",
   "execution_count": 11,
   "id": "c4c43e69-a494-49f0-866d-bbc99a6d0d6b",
   "metadata": {},
   "outputs": [
    {
     "data": {
      "text/html": [
       "<div><i>Table length=733901</i>\n",
       "<table id=\"table5986163216\" class=\"table-striped table-bordered table-condensed\">\n",
       "<thead><tr><th>apogee_id</th><th>c_fe</th><th>twomass_id</th></tr></thead>\n",
       "<thead><tr><th>str19</th><th>float64</th><th>str18</th></tr></thead>\n",
       "<tr><td>2M00431825+6154402</td><td>-9999.0</td><td>00431825+6154402</td></tr>\n",
       "<tr><td>2M00443718+4040456</td><td>0.07516199</td><td>00443718+4040456</td></tr>\n",
       "<tr><td>2M01362271+5415023</td><td>0.0265215</td><td>01362271+5415023</td></tr>\n",
       "<tr><td>2M01473847+6041574</td><td>-9999.0</td><td>01473847+6041574</td></tr>\n",
       "<tr><td>2M03585942+5611127</td><td>0.3874499</td><td>03585942+5611127</td></tr>\n",
       "<tr><td>2M04052283+4911567</td><td>0.01136851</td><td>04052283+4911567</td></tr>\n",
       "<tr><td>...</td><td>...</td><td>...</td></tr>\n",
       "<tr><td>2M12442925-6056120</td><td>0.01517273</td><td>12442925-6056120</td></tr>\n",
       "<tr><td>2M12443185-6059137</td><td>-0.10975</td><td>12443185-6059137</td></tr>\n",
       "<tr><td>2M12443190-6035373</td><td>0.062637</td><td>12443190-6035373</td></tr>\n",
       "<tr><td>2M12444201-6107172</td><td>-0.01302701</td><td>12444201-6107172</td></tr>\n",
       "<tr><td>2M12444829-6058335</td><td>0.048518</td><td>12444829-6058335</td></tr>\n",
       "<tr><td>2M12445933-6039552</td><td>0.0013661</td><td>12445933-6039552</td></tr>\n",
       "<tr><td>2M12450461-6054410</td><td>0.10935</td><td>12450461-6054410</td></tr>\n",
       "</table></div>"
      ],
      "text/plain": [
       "<Table length=733901>\n",
       "    apogee_id          c_fe       twomass_id   \n",
       "      str19          float64        str18      \n",
       "------------------ ----------- ----------------\n",
       "2M00431825+6154402     -9999.0 00431825+6154402\n",
       "2M00443718+4040456  0.07516199 00443718+4040456\n",
       "2M01362271+5415023   0.0265215 01362271+5415023\n",
       "2M01473847+6041574     -9999.0 01473847+6041574\n",
       "2M03585942+5611127   0.3874499 03585942+5611127\n",
       "2M04052283+4911567  0.01136851 04052283+4911567\n",
       "               ...         ...              ...\n",
       "2M12442925-6056120  0.01517273 12442925-6056120\n",
       "2M12443185-6059137    -0.10975 12443185-6059137\n",
       "2M12443190-6035373    0.062637 12443190-6035373\n",
       "2M12444201-6107172 -0.01302701 12444201-6107172\n",
       "2M12444829-6058335    0.048518 12444829-6058335\n",
       "2M12445933-6039552   0.0013661 12445933-6039552\n",
       "2M12450461-6054410     0.10935 12450461-6054410"
      ]
     },
     "execution_count": 11,
     "metadata": {},
     "output_type": "execute_result"
    }
   ],
   "source": [
    "#creating a new column of apogee IDS without the 2M string in front\n",
    "apogee['twomass_id'] = [apogee['apogee_id'][i][2:] if apogee['apogee_id'][i][:2]=='2M' else apogee['apogee_id'][i] for i in range(len(apogee))]\n",
    "apogee"
   ]
  },
  {
   "cell_type": "code",
   "execution_count": 12,
   "id": "a53b9318-264f-46cb-875a-c238bf0a0417",
   "metadata": {},
   "outputs": [],
   "source": [
    "apogee['survey'] = ['apogee']*len(apogee)"
   ]
  },
  {
   "cell_type": "code",
   "execution_count": 3,
   "id": "03965b49-ae70-415a-8677-c3e955c7ac69",
   "metadata": {},
   "outputs": [
    {
     "data": {
      "text/html": [
       "<div><i>Table length=588571</i>\n",
       "<table id=\"table5985594192\" class=\"table-striped table-bordered table-condensed\">\n",
       "<thead><tr><th>recno</th><th>_2MASS</th><th>GALAH</th><th>GaiaDR2</th><th>GaiaEDR3</th><th>Survey</th><th>Field</th><th>flagRepeat</th><th>WG4Field</th><th>WG4Pipeline</th><th>Flagsp</th><th>Teff</th><th>e_Teff</th><th>Teffirfm</th><th>E_B-V_irfm</th><th>r_E_B-V_irfm</th><th>logg</th><th>e_logg</th><th>__Fe_H_</th><th>e__Fe_H_</th><th>q__Fe_H_</th><th>__Fe_H_atmo</th><th>Vmic</th><th>Vbroad</th><th>e_Vbroad</th><th>chi2sp</th><th>__alpha_Fe_</th><th>e__alpha_Fe_</th><th>o__alpha_Fe_</th><th>f__alpha_Fe_</th><th>FluxAFe</th><th>chiAFe</th><th>__Li_Fe_</th><th>e__Li_Fe_</th><th>o__Li_Fe_</th><th>f__Li_Fe_</th><th>__C_Fe_</th><th>e__C_Fe_</th><th>o__C_Fe_</th><th>f__C_Fe_</th><th>__O_Fe_</th><th>e__O_Fe_</th><th>o__O_Fe_</th><th>f__O_Fe_</th><th>__Na_Fe_</th><th>e__Na_Fe_</th><th>o__Na_Fe_</th><th>f__Na_Fe_</th><th>__Mg_Fe_</th><th>e__Mg_Fe_</th><th>o__Mg_Fe_</th><th>f__Mg_Fe_</th><th>__Al_Fe_</th><th>e__Al_Fe_</th><th>o__Al_Fe_</th><th>f__Al_Fe_</th><th>__Si_Fe_</th><th>e__Si_Fe_</th><th>o__Si_Fe_</th><th>f__Si_Fe_</th><th>__K_Fe_</th><th>e__K_Fe_</th><th>o__K_Fe_</th><th>f__K_Fe_</th><th>__Ca_Fe_</th><th>e__Ca_Fe_</th><th>o__Ca_Fe_</th><th>f__Ca_Fe_</th><th>__Sc_Fe_</th><th>e__Sc_Fe_</th><th>o__Sc_Fe_</th><th>f__Sc_Fe_</th><th>__Sc2_Fe_</th><th>e__Sc2_Fe_</th><th>o__Sc2_Fe_</th><th>f__Sc2_Fe_</th><th>__Ti_Fe_</th><th>e__Ti_Fe_</th><th>o__Ti_Fe_</th><th>f__Ti_Fe_</th><th>__Ti2_Fe_</th><th>e__Ti2_Fe_</th><th>o__Ti2_Fe_</th><th>f__Ti2_Fe_</th><th>__V_Fe_</th><th>e__V_Fe_</th><th>o__V_Fe_</th><th>f__V_Fe_</th><th>__Cr_Fe_</th><th>e__Cr_Fe_</th><th>o__Cr_Fe_</th><th>f__Cr_Fe_</th><th>__Cr2_Fe_</th><th>e__Cr2_Fe_</th><th>o__Cr2_Fe_</th><th>f__Cr2_Fe_</th><th>__Mn_Fe_</th><th>e__Mn_Fe_</th><th>o__Mn_Fe_</th><th>f__Mn_Fe_</th><th>__Co_Fe_</th><th>e__Co_Fe_</th><th>o__Co_Fe_</th><th>f__Co_Fe_</th><th>__Ni_Fe_</th><th>e__Ni_Fe_</th><th>o__Ni_Fe_</th><th>f__Ni_Fe_</th><th>__Cu_Fe_</th><th>e__Cu_Fe_</th><th>o__Cu_Fe_</th><th>f__Cu_Fe_</th><th>__Zn_Fe_</th><th>e__Zn_Fe_</th><th>o__Zn_Fe_</th><th>f__Zn_Fe_</th><th>__Rb_Fe_</th><th>e__Rb_Fe_</th><th>o__Rb_Fe_</th><th>f__Rb_Fe_</th><th>__Sr_Fe_</th><th>e__Sr_Fe_</th><th>o__Sr_Fe_</th><th>f__Sr_Fe_</th><th>__Y_Fe_</th><th>e__Y_Fe_</th><th>o__Y_Fe_</th><th>f__Y_Fe_</th><th>__Zr_Fe_</th><th>e__Zr_Fe_</th><th>o__Zr_Fe_</th><th>f__Zr_Fe_</th><th>__Mo_Fe_</th><th>e__Mo_Fe_</th><th>o__Mo_Fe_</th><th>f__Mo_Fe_</th><th>__Ru_Fe_</th><th>e__Ru_Fe_</th><th>o__Ru_Fe_</th><th>f__Ru_Fe_</th><th>__Ba_Fe_</th><th>e__Ba_Fe_</th><th>o__Ba_Fe_</th><th>f__Ba_Fe_</th><th>__La_Fe_</th><th>e__La_Fe_</th><th>o__La_Fe_</th><th>f__La_Fe_</th><th>__Ce_Fe_</th><th>e__Ce_Fe_</th><th>o__Ce_Fe_</th><th>f__Ce_Fe_</th><th>__Nd_Fe_</th><th>e__Nd_Fe_</th><th>o__Nd_Fe_</th><th>f__Nd_Fe_</th><th>__Sm_Fe_</th><th>e__Sm_Fe_</th><th>o__Sm_Fe_</th><th>f__Sm_Fe_</th><th>__Eu_Fe_</th><th>e__Eu_Fe_</th><th>o__Eu_Fe_</th><th>f__Eu_Fe_</th><th>RA_ICRS</th><th>DE_ICRS</th><th>plx</th><th>e_plx</th><th>rest</th><th>b_rest</th><th>B_rest</th><th>rlen</th><th>RVgalah</th><th>e_RVgalah</th><th>RVGaiaDR2</th><th>e_RVGaiaDR2</th><th>redflag</th><th>E_B-V_</th><th>snrc1iraf</th><th>snrc2iraf</th><th>snrc3iraf</th><th>snrc4iraf</th><th>flagGUESS</th><th>Vmag</th><th>Jmag</th><th>e_Jmag</th><th>Hmag</th><th>e_Hmag</th><th>Ksmag</th><th>e_Ksmag</th><th>Qflg2MASS</th><th>W2mag</th><th>e_W2mag</th><th>QflgWISE</th><th>AKs</th><th>e_AKs</th><th>BCKs</th><th>RUWE</th><th>_RA.icrs</th><th>_DE.icrs</th></tr></thead>\n",
       "<thead><tr><th></th><th></th><th></th><th></th><th></th><th></th><th></th><th></th><th></th><th></th><th></th><th>K</th><th>K</th><th>K</th><th>mag</th><th></th><th>log(cm.s**-2)</th><th>log(cm.s**-2)</th><th></th><th></th><th></th><th></th><th>km / s</th><th>km / s</th><th>km / s</th><th></th><th></th><th></th><th></th><th></th><th></th><th></th><th></th><th></th><th></th><th></th><th></th><th></th><th></th><th></th><th></th><th></th><th></th><th></th><th></th><th></th><th></th><th></th><th></th><th></th><th></th><th></th><th></th><th></th><th></th><th></th><th></th><th></th><th></th><th></th><th></th><th></th><th></th><th></th><th></th><th></th><th></th><th></th><th></th><th></th><th></th><th></th><th></th><th></th><th></th><th></th><th></th><th></th><th></th><th></th><th></th><th></th><th></th><th></th><th></th><th></th><th></th><th></th><th></th><th></th><th></th><th></th><th></th><th></th><th></th><th></th><th></th><th></th><th></th><th></th><th></th><th></th><th></th><th></th><th></th><th></th><th></th><th></th><th></th><th></th><th></th><th></th><th></th><th></th><th></th><th></th><th></th><th></th><th></th><th></th><th></th><th></th><th></th><th></th><th></th><th></th><th></th><th></th><th></th><th></th><th></th><th></th><th></th><th></th><th></th><th></th><th></th><th></th><th></th><th></th><th></th><th></th><th></th><th></th><th></th><th></th><th></th><th></th><th></th><th></th><th></th><th></th><th></th><th></th><th></th><th></th><th></th><th></th><th></th><th></th><th></th><th></th><th></th><th></th><th>deg</th><th>deg</th><th>mas</th><th>mas</th><th>pc</th><th>pc</th><th>pc</th><th>pc</th><th>km / s</th><th>km / s</th><th>km / s</th><th>km / s</th><th></th><th>mag</th><th></th><th></th><th></th><th></th><th></th><th>mag</th><th>mag</th><th>mag</th><th>mag</th><th>mag</th><th>mag</th><th>mag</th><th></th><th>mag</th><th>mag</th><th></th><th>mag</th><th>mag</th><th>mag</th><th></th><th>deg</th><th>deg</th></tr></thead>\n",
       "<thead><tr><th>int32</th><th>str16</th><th>int64</th><th>int64</th><th>int64</th><th>str11</th><th>int16</th><th>uint8</th><th>str6</th><th>str4</th><th>int16</th><th>float32</th><th>float32</th><th>int16</th><th>float64</th><th>str3</th><th>float64</th><th>float64</th><th>float64</th><th>float64</th><th>int16</th><th>float64</th><th>float64</th><th>float64</th><th>float64</th><th>float64</th><th>float64</th><th>float64</th><th>int16</th><th>int16</th><th>float64</th><th>float64</th><th>float64</th><th>float64</th><th>uint8</th><th>int16</th><th>float64</th><th>float64</th><th>uint8</th><th>int16</th><th>float64</th><th>float64</th><th>uint8</th><th>int16</th><th>float64</th><th>float64</th><th>uint8</th><th>int16</th><th>float64</th><th>float64</th><th>uint8</th><th>int16</th><th>float64</th><th>float64</th><th>uint8</th><th>int16</th><th>float64</th><th>float64</th><th>uint8</th><th>int16</th><th>float64</th><th>float64</th><th>uint8</th><th>int16</th><th>float64</th><th>float64</th><th>uint8</th><th>int16</th><th>float64</th><th>float64</th><th>uint8</th><th>int16</th><th>float32</th><th>float32</th><th>uint8</th><th>uint8</th><th>float64</th><th>float64</th><th>int16</th><th>int16</th><th>float64</th><th>float64</th><th>int16</th><th>int16</th><th>float64</th><th>float64</th><th>uint8</th><th>int16</th><th>float64</th><th>float64</th><th>uint8</th><th>int16</th><th>float64</th><th>float64</th><th>uint8</th><th>uint8</th><th>float64</th><th>float64</th><th>uint8</th><th>int16</th><th>float64</th><th>float64</th><th>int16</th><th>int16</th><th>float64</th><th>float64</th><th>uint8</th><th>int16</th><th>float64</th><th>float64</th><th>uint8</th><th>int16</th><th>float64</th><th>float64</th><th>uint8</th><th>int16</th><th>float64</th><th>float64</th><th>uint8</th><th>int16</th><th>float64</th><th>float64</th><th>uint8</th><th>int16</th><th>float64</th><th>float64</th><th>uint8</th><th>int16</th><th>float64</th><th>float64</th><th>int16</th><th>int16</th><th>float64</th><th>float64</th><th>uint8</th><th>int16</th><th>float64</th><th>float64</th><th>uint8</th><th>int16</th><th>float64</th><th>float64</th><th>uint8</th><th>int16</th><th>float64</th><th>float64</th><th>uint8</th><th>int16</th><th>float64</th><th>float64</th><th>uint8</th><th>int16</th><th>float64</th><th>float64</th><th>uint8</th><th>int16</th><th>float64</th><th>float64</th><th>uint8</th><th>int16</th><th>float64</th><th>float64</th><th>uint8</th><th>int16</th><th>float64</th><th>float64</th><th>float64</th><th>float32</th><th>float64</th><th>float64</th><th>float64</th><th>float64</th><th>float64</th><th>float64</th><th>float64</th><th>float64</th><th>int16</th><th>float32</th><th>float64</th><th>float64</th><th>float64</th><th>float64</th><th>uint8</th><th>float64</th><th>float32</th><th>float32</th><th>float32</th><th>float32</th><th>float32</th><th>float32</th><th>str3</th><th>float32</th><th>float32</th><th>str4</th><th>float32</th><th>float32</th><th>float64</th><th>float64</th><th>float64</th><th>float64</th></tr></thead>\n",
       "<tr><td>1</td><td>03325271-6840304</td><td>131116000501002</td><td>4667368899326729856</td><td>4667368899326729856</td><td>galah_main</td><td>138</td><td>0</td><td>10k_2</td><td>lbol</td><td>0</td><td>4553.35</td><td>137.06</td><td>4138</td><td>0.048000</td><td>sfd</td><td>4.714953</td><td>0.201216</td><td>-0.335019</td><td>0.120219</td><td>0</td><td>-0.109347</td><td>0.948537</td><td>9.345594</td><td>2.508091</td><td>0.58739</td><td>0.351368</td><td>0.0791933</td><td>405</td><td>0</td><td>0.73447</td><td>0.80795</td><td>-0.183756</td><td>0.1285484</td><td>1</td><td>1</td><td>--</td><td>--</td><td>--</td><td>32</td><td>1.214647</td><td>0.2138376</td><td>1</td><td>1</td><td>0.145268</td><td>0.1148905</td><td>1</td><td>0</td><td>-0.088498</td><td>0.1915507</td><td>1</td><td>0</td><td>0.467331</td><td>0.1186181</td><td>1</td><td>0</td><td>--</td><td>--</td><td>1</td><td>32</td><td>0.440389</td><td>0.1647182</td><td>1</td><td>0</td><td>0.402228</td><td>0.1276182</td><td>1</td><td>0</td><td>0.427332</td><td>0.1062085</td><td>1</td><td>0</td><td>--</td><td>--</td><td>0</td><td>0</td><td>0.690977</td><td>0.2073125</td><td>18</td><td>0</td><td>--</td><td>--</td><td>--</td><td>32</td><td>0.855374</td><td>0.3077088</td><td>2</td><td>0</td><td>0.242551</td><td>0.1522073</td><td>1</td><td>0</td><td>--</td><td>--</td><td>0</td><td>0</td><td>-0.113757</td><td>0.1864620</td><td>1</td><td>0</td><td>0.645332</td><td>0.0957444</td><td>6</td><td>0</td><td>--</td><td>--</td><td>--</td><td>32</td><td>0.188081</td><td>0.1349587</td><td>2</td><td>0</td><td>--</td><td>--</td><td>--</td><td>32</td><td>--</td><td>--</td><td>--</td><td>32</td><td>0.527863</td><td>0.1533885</td><td>1</td><td>1</td><td>--</td><td>--</td><td>--</td><td>32</td><td>--</td><td>--</td><td>16</td><td>32</td><td>--</td><td>--</td><td>2</td><td>32</td><td>--</td><td>--</td><td>2</td><td>32</td><td>0.163863</td><td>0.1745354</td><td>1</td><td>0</td><td>--</td><td>--</td><td>4</td><td>32</td><td>--</td><td>--</td><td>--</td><td>32</td><td>--</td><td>--</td><td>--</td><td>32</td><td>--</td><td>--</td><td>2</td><td>32</td><td>--</td><td>--</td><td>1</td><td>32</td><td>53.22113195853</td><td>-68.67480027452</td><td>6.9448</td><td>0.0141</td><td>143.394475173609010</td><td>143.102579738791007</td><td>143.687542609767007</td><td>509.572275021421</td><td>36.203999</td><td>0.183000</td><td>35.907078</td><td>1.795988</td><td>0</td><td>0.0465</td><td>6.3133</td><td>17.3633</td><td>31.2749</td><td>29.0652</td><td>0</td><td>13.705686</td><td>11.396</td><td>0.023</td><td>10.728</td><td>0.022</td><td>10.607</td><td>0.021</td><td>AAA</td><td>10.558</td><td>0.019</td><td>AAAU</td><td>0.083</td><td>0.027</td><td>2.198110</td><td>1.098764</td><td>53.22113195853</td><td>-68.67480027452</td></tr>\n",
       "<tr><td>2</td><td>03345385-6836362</td><td>131116000501003</td><td>4667362989451832448</td><td>4667362989451832448</td><td>galah_main</td><td>138</td><td>0</td><td>10k_0</td><td>lbol</td><td>256</td><td>3622.74</td><td>104.98</td><td>--</td><td>--</td><td></td><td>4.691505</td><td>0.198562</td><td>--</td><td>--</td><td>17</td><td>0.340292</td><td>0.799639</td><td>14.891972</td><td>2.424655</td><td>2.1497</td><td>--</td><td>--</td><td>--</td><td>32</td><td>0.44743</td><td>0.13102</td><td>--</td><td>--</td><td>--</td><td>32</td><td>--</td><td>--</td><td>--</td><td>32</td><td>--</td><td>--</td><td>--</td><td>32</td><td>--</td><td>--</td><td>--</td><td>32</td><td>--</td><td>--</td><td>--</td><td>32</td><td>--</td><td>--</td><td>--</td><td>32</td><td>--</td><td>--</td><td>--</td><td>32</td><td>--</td><td>--</td><td>--</td><td>32</td><td>--</td><td>--</td><td>--</td><td>32</td><td>--</td><td>--</td><td>--</td><td>32</td><td>--</td><td>--</td><td>0</td><td>0</td><td>--</td><td>--</td><td>--</td><td>32</td><td>--</td><td>--</td><td>--</td><td>32</td><td>--</td><td>--</td><td>--</td><td>32</td><td>--</td><td>--</td><td>--</td><td>32</td><td>--</td><td>--</td><td>0</td><td>0</td><td>--</td><td>--</td><td>--</td><td>32</td><td>--</td><td>--</td><td>--</td><td>32</td><td>--</td><td>--</td><td>--</td><td>32</td><td>--</td><td>--</td><td>--</td><td>32</td><td>--</td><td>--</td><td>--</td><td>32</td><td>--</td><td>--</td><td>--</td><td>32</td><td>--</td><td>--</td><td>--</td><td>32</td><td>--</td><td>--</td><td>--</td><td>32</td><td>--</td><td>--</td><td>--</td><td>32</td><td>--</td><td>--</td><td>--</td><td>32</td><td>--</td><td>--</td><td>--</td><td>32</td><td>--</td><td>--</td><td>--</td><td>32</td><td>--</td><td>--</td><td>--</td><td>32</td><td>--</td><td>--</td><td>--</td><td>32</td><td>--</td><td>--</td><td>--</td><td>32</td><td>--</td><td>--</td><td>--</td><td>32</td><td>--</td><td>--</td><td>--</td><td>32</td><td>53.72602065860</td><td>-68.61105093015</td><td>10.3603</td><td>0.0160</td><td>96.252969701842503</td><td>96.103515110368306</td><td>96.402881588531599</td><td>508.606084882748</td><td>55.373326</td><td>0.731789</td><td>--</td><td>--</td><td>0</td><td>0.0000</td><td>6.4556</td><td>18.4625</td><td>35.2540</td><td>32.2474</td><td>0</td><td>13.426032</td><td>11.060</td><td>0.024</td><td>10.425</td><td>0.023</td><td>10.255</td><td>0.025</td><td>AAA</td><td>10.121</td><td>0.021</td><td>AAAU</td><td>0.000</td><td>0.000</td><td>2.669922</td><td>1.184694</td><td>53.72602065860</td><td>-68.61105093015</td></tr>\n",
       "<tr><td>3</td><td>03422255-6841522</td><td>131116000501004</td><td>4667324643983679744</td><td>4667324643983679744</td><td>galah_main</td><td>138</td><td>0</td><td>10k_26</td><td>lbol</td><td>0</td><td>4852.48</td><td>172.75</td><td>4925</td><td>0.037000</td><td>sfd</td><td>2.466885</td><td>0.223199</td><td>-1.170157</td><td>0.181902</td><td>0</td><td>-1.147935</td><td>1.202963</td><td>8.185776</td><td>2.876024</td><td>0.27336</td><td>0.273048</td><td>0.0853665</td><td>7</td><td>0</td><td>0.52245</td><td>0.32454</td><td>1.070449</td><td>0.1353659</td><td>1</td><td>1</td><td>--</td><td>--</td><td>1</td><td>32</td><td>0.759033</td><td>0.2293689</td><td>1</td><td>1</td><td>-0.091090</td><td>0.1290669</td><td>1</td><td>0</td><td>0.107714</td><td>0.2216480</td><td>1</td><td>0</td><td>0.526840</td><td>0.1278229</td><td>1</td><td>1</td><td>0.335639</td><td>0.1248841</td><td>1</td><td>0</td><td>0.034968</td><td>0.1812267</td><td>1</td><td>0</td><td>0.260766</td><td>0.1376875</td><td>1</td><td>0</td><td>0.245278</td><td>0.1166290</td><td>1</td><td>0</td><td>--</td><td>--</td><td>0</td><td>0</td><td>--</td><td>--</td><td>--</td><td>32</td><td>--</td><td>--</td><td>--</td><td>32</td><td>0.746994</td><td>0.3376535</td><td>2</td><td>1</td><td>0.317531</td><td>0.1679778</td><td>1</td><td>1</td><td>--</td><td>--</td><td>0</td><td>0</td><td>-0.430755</td><td>0.2124721</td><td>1</td><td>0</td><td>0.750166</td><td>0.2450680</td><td>8</td><td>1</td><td>-0.006910</td><td>0.2047128</td><td>2</td><td>0</td><td>-0.400982</td><td>0.1479942</td><td>2</td><td>1</td><td>--</td><td>--</td><td>--</td><td>32</td><td>--</td><td>--</td><td>--</td><td>32</td><td>--</td><td>--</td><td>1</td><td>32</td><td>--</td><td>--</td><td>2</td><td>32</td><td>--</td><td>--</td><td>--</td><td>32</td><td>--</td><td>--</td><td>2</td><td>32</td><td>--</td><td>--</td><td>--</td><td>32</td><td>-0.033738</td><td>0.1924346</td><td>1</td><td>0</td><td>1.096292</td><td>0.1456544</td><td>4</td><td>1</td><td>0.911001</td><td>0.1932610</td><td>1</td><td>1</td><td>1.395719</td><td>0.1238827</td><td>2</td><td>1</td><td>1.039035</td><td>0.1667521</td><td>2</td><td>1</td><td>0.831204</td><td>0.1446061</td><td>1</td><td>1</td><td>55.59397924125</td><td>-68.69793128381</td><td>0.2665</td><td>0.0119</td><td>3359.017111026189923</td><td>3230.060002478679962</td><td>3498.388825407940203</td><td>506.137800107038</td><td>95.877998</td><td>0.151000</td><td>--</td><td>--</td><td>0</td><td>0.0387</td><td>6.7358</td><td>14.2009</td><td>24.7487</td><td>19.9224</td><td>0</td><td>13.730144</td><td>11.981</td><td>0.023</td><td>11.468</td><td>0.024</td><td>11.374</td><td>0.019</td><td>AAA</td><td>11.379</td><td>0.021</td><td>AABU</td><td>0.008</td><td>0.029</td><td>1.989632</td><td>0.991040</td><td>55.59397924125</td><td>-68.69793128381</td></tr>\n",
       "<tr><td>4</td><td>03373408-6841062</td><td>131116000501005</td><td>4667335913977929728</td><td>4667335913977929728</td><td>galah_main</td><td>138</td><td>0</td><td>10k_33</td><td>lbol</td><td>1</td><td>5588.50</td><td>104.29</td><td>5504</td><td>0.037000</td><td>sfd</td><td>3.999357</td><td>0.186127</td><td>0.052395</td><td>0.099372</td><td>0</td><td>0.058992</td><td>1.111983</td><td>12.291694</td><td>2.374440</td><td>0.4437</td><td>-0.015430</td><td>0.0537132</td><td>159</td><td>0</td><td>0.6112</td><td>0.87341</td><td>0.534573</td><td>0.1116042</td><td>1</td><td>1</td><td>-0.012350</td><td>0.1591032</td><td>1</td><td>1</td><td>-0.019165</td><td>0.1774236</td><td>1</td><td>0</td><td>0.043523</td><td>0.0846133</td><td>1</td><td>0</td><td>0.086088</td><td>0.1306075</td><td>1</td><td>0</td><td>0.244746</td><td>0.0970286</td><td>1</td><td>0</td><td>-0.066913</td><td>0.0868888</td><td>1</td><td>0</td><td>-0.009887</td><td>0.1280316</td><td>1</td><td>0</td><td>0.056808</td><td>0.1042127</td><td>1</td><td>0</td><td>0.022938</td><td>0.0826951</td><td>1</td><td>0</td><td>--</td><td>--</td><td>0</td><td>0</td><td>-0.143159</td><td>0.1545055</td><td>18</td><td>0</td><td>0.101520</td><td>0.1690924</td><td>2</td><td>0</td><td>--</td><td>--</td><td>--</td><td>32</td><td>0.206086</td><td>0.1170130</td><td>1</td><td>0</td><td>--</td><td>--</td><td>0</td><td>0</td><td>0.103309</td><td>0.1319130</td><td>1</td><td>0</td><td>0.197035</td><td>0.1996328</td><td>8</td><td>1</td><td>-0.194399</td><td>0.1514577</td><td>2</td><td>0</td><td>0.044643</td><td>0.0859053</td><td>3</td><td>0</td><td>-0.092225</td><td>0.1592912</td><td>3</td><td>0</td><td>--</td><td>--</td><td>--</td><td>32</td><td>--</td><td>--</td><td>1</td><td>32</td><td>-0.017366</td><td>0.2637916</td><td>2</td><td>0</td><td>--</td><td>--</td><td>16</td><td>32</td><td>--</td><td>--</td><td>2</td><td>32</td><td>--</td><td>--</td><td>2</td><td>32</td><td>-0.059826</td><td>0.1347136</td><td>1</td><td>0</td><td>--</td><td>--</td><td>4</td><td>32</td><td>--</td><td>--</td><td>1</td><td>32</td><td>--</td><td>--</td><td>2</td><td>32</td><td>--</td><td>--</td><td>2</td><td>32</td><td>--</td><td>--</td><td>1</td><td>32</td><td>54.39207232859</td><td>-68.68500209687</td><td>1.2146</td><td>0.0187</td><td>804.187683047385008</td><td>792.207993641737971</td><td>816.528454022354026</td><td>508.102011350455</td><td>7.130000</td><td>0.126000</td><td>--</td><td>--</td><td>0</td><td>0.0000</td><td>16.0023</td><td>26.1768</td><td>39.7826</td><td>27.7542</td><td>0</td><td>13.439095</td><td>12.135</td><td>0.024</td><td>11.760</td><td>0.022</td><td>11.710</td><td>0.023</td><td>AAA</td><td>11.730</td><td>0.021</td><td>AABU</td><td>0.000</td><td>0.028</td><td>1.577001</td><td>1.629809</td><td>54.39207232859</td><td>-68.68500209687</td></tr>\n",
       "<tr><td>5</td><td>03430488-6843208</td><td>131116000501006</td><td>4667323681911007232</td><td>4667323681911007232</td><td>galah_main</td><td>138</td><td>0</td><td>10k_41</td><td>lbol</td><td>1</td><td>5709.50</td><td>109.20</td><td>5725</td><td>0.040000</td><td>sfd</td><td>4.181905</td><td>0.184704</td><td>-0.013732</td><td>0.111376</td><td>0</td><td>-0.012599</td><td>1.138507</td><td>12.961143</td><td>2.481610</td><td>0.36644</td><td>0.081023</td><td>0.0803724</td><td>149</td><td>0</td><td>0.58534</td><td>1.0215</td><td>1.037844</td><td>0.1181471</td><td>1</td><td>0</td><td>0.122847</td><td>0.1675327</td><td>1</td><td>1</td><td>-0.030804</td><td>0.1911048</td><td>1</td><td>0</td><td>-0.067560</td><td>0.0954831</td><td>1</td><td>0</td><td>0.064595</td><td>0.1519049</td><td>1</td><td>0</td><td>-0.080545</td><td>0.1051416</td><td>1</td><td>0</td><td>-0.143940</td><td>0.0963779</td><td>1</td><td>0</td><td>0.319648</td><td>0.1414635</td><td>1</td><td>0</td><td>0.116323</td><td>0.1129703</td><td>1</td><td>0</td><td>0.073589</td><td>0.0913681</td><td>1</td><td>0</td><td>--</td><td>--</td><td>0</td><td>0</td><td>0.018990</td><td>0.1737806</td><td>18</td><td>0</td><td>--</td><td>--</td><td>--</td><td>32</td><td>--</td><td>--</td><td>--</td><td>32</td><td>0.041848</td><td>0.1299250</td><td>1</td><td>0</td><td>--</td><td>--</td><td>0</td><td>0</td><td>0.012897</td><td>0.1513188</td><td>1</td><td>0</td><td>0.387603</td><td>0.2121625</td><td>8</td><td>1</td><td>0.005661</td><td>0.1653903</td><td>2</td><td>0</td><td>-0.126564</td><td>0.1163683</td><td>2</td><td>0</td><td>-0.181010</td><td>0.1789739</td><td>3</td><td>0</td><td>--</td><td>--</td><td>--</td><td>32</td><td>--</td><td>--</td><td>1</td><td>32</td><td>0.118394</td><td>0.2996743</td><td>2</td><td>0</td><td>--</td><td>--</td><td>--</td><td>32</td><td>--</td><td>--</td><td>2</td><td>32</td><td>--</td><td>--</td><td>--</td><td>32</td><td>0.022582</td><td>0.1493013</td><td>1</td><td>0</td><td>--</td><td>--</td><td>4</td><td>32</td><td>--</td><td>--</td><td>1</td><td>32</td><td>--</td><td>--</td><td>2</td><td>32</td><td>--</td><td>--</td><td>2</td><td>32</td><td>--</td><td>--</td><td>1</td><td>32</td><td>55.77049402235</td><td>-68.72245271416</td><td>2.3611</td><td>0.0196</td><td>418.433567707081977</td><td>415.005773705544982</td><td>421.917428971084007</td><td>505.910006831732</td><td>24.816000</td><td>0.163000</td><td>28.709490</td><td>1.654053</td><td>0</td><td>0.0000</td><td>14.3958</td><td>22.5937</td><td>36.0870</td><td>26.4495</td><td>0</td><td>12.554296</td><td>11.248</td><td>0.024</td><td>10.883</td><td>0.022</td><td>10.822</td><td>0.021</td><td>AAA</td><td>10.827</td><td>0.021</td><td>AAAU</td><td>0.000</td><td>0.028</td><td>1.508929</td><td>1.403180</td><td>55.77049402235</td><td>-68.72245271416</td></tr>\n",
       "<tr><td>6</td><td>03425716-6844462</td><td>131116000501007</td><td>4667323544472053888</td><td>4667323544472053888</td><td>galah_main</td><td>138</td><td>0</td><td>10k_57</td><td>lbol</td><td>1</td><td>6235.31</td><td>108.19</td><td>6064</td><td>0.039000</td><td>sfd</td><td>4.100623</td><td>0.191124</td><td>-0.323570</td><td>0.146219</td><td>0</td><td>-0.313760</td><td>1.389806</td><td>9.967797</td><td>2.706815</td><td>0.27493</td><td>0.059425</td><td>0.0971063</td><td>5</td><td>0</td><td>0.45449</td><td>0.331</td><td>1.903001</td><td>0.1225532</td><td>1</td><td>0</td><td>0.132234</td><td>0.1731669</td><td>1</td><td>1</td><td>0.290999</td><td>0.2005899</td><td>1</td><td>0</td><td>0.210656</td><td>0.1033814</td><td>1</td><td>0</td><td>-0.040137</td><td>0.1678051</td><td>1</td><td>0</td><td>0.221765</td><td>0.1107652</td><td>1</td><td>1</td><td>--</td><td>--</td><td>--</td><td>32</td><td>-0.238516</td><td>0.1510295</td><td>1</td><td>0</td><td>0.109552</td><td>0.1190682</td><td>1</td><td>0</td><td>0.137791</td><td>0.0974977</td><td>1</td><td>0</td><td>--</td><td>--</td><td>0</td><td>0</td><td>--</td><td>--</td><td>--</td><td>32</td><td>--</td><td>--</td><td>--</td><td>32</td><td>--</td><td>--</td><td>--</td><td>32</td><td>-0.029113</td><td>0.1391013</td><td>1</td><td>0</td><td>--</td><td>--</td><td>0</td><td>0</td><td>-0.235930</td><td>0.1655503</td><td>1</td><td>0</td><td>1.170723</td><td>0.2205919</td><td>8</td><td>1</td><td>--</td><td>--</td><td>2</td><td>32</td><td>--</td><td>--</td><td>2</td><td>32</td><td>-0.056398</td><td>0.1930188</td><td>3</td><td>0</td><td>--</td><td>--</td><td>1</td><td>32</td><td>--</td><td>--</td><td>--</td><td>32</td><td>0.140577</td><td>0.2467552</td><td>3</td><td>0</td><td>--</td><td>--</td><td>--</td><td>32</td><td>--</td><td>--</td><td>--</td><td>32</td><td>--</td><td>--</td><td>--</td><td>32</td><td>0.159156</td><td>0.1596847</td><td>1</td><td>0</td><td>--</td><td>--</td><td>4</td><td>32</td><td>--</td><td>--</td><td>1</td><td>32</td><td>--</td><td>--</td><td>2</td><td>32</td><td>--</td><td>--</td><td>2</td><td>32</td><td>--</td><td>--</td><td>1</td><td>32</td><td>55.73830057159</td><td>-68.74617973122</td><td>1.6241</td><td>0.0575</td><td>605.529389660267043</td><td>585.011568776895047</td><td>627.509417322287050</td><td>506.076392030802</td><td>-38.360001</td><td>0.136000</td><td>-28.930613</td><td>1.929695</td><td>0</td><td>0.0000</td><td>13.3899</td><td>20.3132</td><td>31.9329</td><td>22.2356</td><td>0</td><td>12.806710</td><td>11.576</td><td>0.027</td><td>11.222</td><td>0.022</td><td>11.185</td><td>0.021</td><td>AAA</td><td>11.165</td><td>0.020</td><td>AAAU</td><td>0.000</td><td>0.027</td><td>1.222464</td><td>2.656854</td><td>55.73830057159</td><td>-68.74617973122</td></tr>\n",
       "<tr><td>...</td><td>...</td><td>...</td><td>...</td><td>...</td><td>...</td><td>...</td><td>...</td><td>...</td><td>...</td><td>...</td><td>...</td><td>...</td><td>...</td><td>...</td><td>...</td><td>...</td><td>...</td><td>...</td><td>...</td><td>...</td><td>...</td><td>...</td><td>...</td><td>...</td><td>...</td><td>...</td><td>...</td><td>...</td><td>...</td><td>...</td><td>...</td><td>...</td><td>...</td><td>...</td><td>...</td><td>...</td><td>...</td><td>...</td><td>...</td><td>...</td><td>...</td><td>...</td><td>...</td><td>...</td><td>...</td><td>...</td><td>...</td><td>...</td><td>...</td><td>...</td><td>...</td><td>...</td><td>...</td><td>...</td><td>...</td><td>...</td><td>...</td><td>...</td><td>...</td><td>...</td><td>...</td><td>...</td><td>...</td><td>...</td><td>...</td><td>...</td><td>...</td><td>...</td><td>...</td><td>...</td><td>...</td><td>...</td><td>...</td><td>...</td><td>...</td><td>...</td><td>...</td><td>...</td><td>...</td><td>...</td><td>...</td><td>...</td><td>...</td><td>...</td><td>...</td><td>...</td><td>...</td><td>...</td><td>...</td><td>...</td><td>...</td><td>...</td><td>...</td><td>...</td><td>...</td><td>...</td><td>...</td><td>...</td><td>...</td><td>...</td><td>...</td><td>...</td><td>...</td><td>...</td><td>...</td><td>...</td><td>...</td><td>...</td><td>...</td><td>...</td><td>...</td><td>...</td><td>...</td><td>...</td><td>...</td><td>...</td><td>...</td><td>...</td><td>...</td><td>...</td><td>...</td><td>...</td><td>...</td><td>...</td><td>...</td><td>...</td><td>...</td><td>...</td><td>...</td><td>...</td><td>...</td><td>...</td><td>...</td><td>...</td><td>...</td><td>...</td><td>...</td><td>...</td><td>...</td><td>...</td><td>...</td><td>...</td><td>...</td><td>...</td><td>...</td><td>...</td><td>...</td><td>...</td><td>...</td><td>...</td><td>...</td><td>...</td><td>...</td><td>...</td><td>...</td><td>...</td><td>...</td><td>...</td><td>...</td><td>...</td><td>...</td><td>...</td><td>...</td><td>...</td><td>...</td><td>...</td><td>...</td><td>...</td><td>...</td><td>...</td><td>...</td><td>...</td><td>...</td><td>...</td><td>...</td><td>...</td><td>...</td><td>...</td><td>...</td><td>...</td><td>...</td><td>...</td><td>...</td><td>...</td><td>...</td><td>...</td><td>...</td><td>...</td><td>...</td><td>...</td><td>...</td><td>...</td><td>...</td><td>...</td><td>...</td><td>...</td><td>...</td><td>...</td><td>...</td></tr>\n",
       "<tr><td>588566</td><td>15141216-4414570</td><td>190225005301394</td><td>6003344109124763008</td><td>6003344109124763008</td><td>galah_main</td><td>4235</td><td>0</td><td>190225</td><td>lbol</td><td>0</td><td>5995.72</td><td>82.80</td><td>--</td><td>--</td><td></td><td>3.467682</td><td>0.188053</td><td>-0.310327</td><td>0.076692</td><td>0</td><td>-0.337332</td><td>1.247865</td><td>13.993375</td><td>2.251986</td><td>0.98479</td><td>0.022985</td><td>0.0306351</td><td>15</td><td>0</td><td>0.38518</td><td>1.6133</td><td>2.202974</td><td>0.0766680</td><td>1</td><td>0</td><td>-0.013794</td><td>0.1125159</td><td>1</td><td>0</td><td>-0.282473</td><td>0.1132808</td><td>1</td><td>0</td><td>-0.017580</td><td>0.0428995</td><td>1</td><td>0</td><td>0.075282</td><td>0.0574018</td><td>1</td><td>0</td><td>-0.066679</td><td>0.0589593</td><td>1</td><td>0</td><td>0.005811</td><td>0.0484163</td><td>1</td><td>0</td><td>-0.316931</td><td>0.0719621</td><td>1</td><td>0</td><td>-0.012343</td><td>0.0639222</td><td>1</td><td>0</td><td>-0.136088</td><td>0.0452866</td><td>1</td><td>0</td><td>--</td><td>--</td><td>0</td><td>0</td><td>0.147011</td><td>0.0614248</td><td>19</td><td>0</td><td>0.077282</td><td>0.0440870</td><td>15</td><td>0</td><td>--</td><td>--</td><td>--</td><td>32</td><td>0.085285</td><td>0.0626269</td><td>1</td><td>0</td><td>--</td><td>--</td><td>0</td><td>0</td><td>-0.097591</td><td>0.0602150</td><td>1</td><td>0</td><td>--</td><td>--</td><td>--</td><td>32</td><td>0.207192</td><td>0.0873571</td><td>2</td><td>0</td><td>0.139583</td><td>0.0583563</td><td>2</td><td>0</td><td>-0.113024</td><td>0.0783470</td><td>3</td><td>0</td><td>--</td><td>--</td><td>--</td><td>32</td><td>--</td><td>--</td><td>--</td><td>32</td><td>-0.192745</td><td>0.1054217</td><td>3</td><td>0</td><td>--</td><td>--</td><td>--</td><td>32</td><td>--</td><td>--</td><td>--</td><td>32</td><td>--</td><td>--</td><td>--</td><td>32</td><td>0.154013</td><td>0.0736737</td><td>1</td><td>0</td><td>0.719095</td><td>0.1357619</td><td>4</td><td>0</td><td>0.359204</td><td>0.1259444</td><td>1</td><td>0</td><td>--</td><td>--</td><td>2</td><td>32</td><td>--</td><td>--</td><td>2</td><td>32</td><td>0.469799</td><td>0.0890417</td><td>1</td><td>0</td><td>228.55059920730</td><td>-44.24923801385</td><td>1.2593</td><td>0.0451</td><td>777.684365441396949</td><td>751.086033623244020</td><td>806.199155554508025</td><td>1687.690702773990</td><td>-39.066002</td><td>0.127000</td><td>--</td><td>--</td><td>0</td><td>0.0434</td><td>37.1851</td><td>51.1421</td><td>70.7939</td><td>75.0388</td><td>0</td><td>11.329287</td><td>10.155</td><td>0.022</td><td>9.857</td><td>0.023</td><td>9.791</td><td>0.019</td><td>AAA</td><td>9.760</td><td>0.020</td><td>AAAB</td><td>0.016</td><td>0.028</td><td>1.346967</td><td>1.061647</td><td>228.55059920730</td><td>-44.24923801385</td></tr>\n",
       "<tr><td>588567</td><td>15142072-4415325</td><td>190225005301395</td><td>6003344796319529600</td><td>6003344796319529600</td><td>galah_main</td><td>4235</td><td>0</td><td>190225</td><td>lbol</td><td>0</td><td>4531.22</td><td>71.12</td><td>--</td><td>--</td><td></td><td>2.410332</td><td>0.183002</td><td>-0.293808</td><td>0.042971</td><td>0</td><td>-0.306821</td><td>1.378539</td><td>6.775260</td><td>2.066991</td><td>19.34</td><td>0.157508</td><td>0.0118508</td><td>487</td><td>0</td><td>0.74911</td><td>38.746</td><td>--</td><td>--</td><td>--</td><td>32</td><td>--</td><td>--</td><td>--</td><td>32</td><td>0.356744</td><td>0.0558147</td><td>1</td><td>0</td><td>0.023999</td><td>0.0232194</td><td>1</td><td>0</td><td>0.149684</td><td>0.0324143</td><td>1</td><td>0</td><td>0.383338</td><td>0.0247525</td><td>1</td><td>0</td><td>0.147312</td><td>0.0269472</td><td>1</td><td>0</td><td>-0.045211</td><td>0.0376820</td><td>1</td><td>0</td><td>0.179958</td><td>0.0300790</td><td>1</td><td>0</td><td>0.096098</td><td>0.0198959</td><td>1</td><td>0</td><td>--</td><td>--</td><td>0</td><td>0</td><td>0.149812</td><td>0.0154327</td><td>61</td><td>0</td><td>0.171644</td><td>0.0243652</td><td>9</td><td>0</td><td>0.106224</td><td>0.0358404</td><td>1</td><td>0</td><td>-0.091567</td><td>0.0284147</td><td>1</td><td>0</td><td>--</td><td>--</td><td>0</td><td>0</td><td>-0.187020</td><td>0.0300102</td><td>1</td><td>0</td><td>0.074199</td><td>0.0139511</td><td>15</td><td>0</td><td>0.020483</td><td>0.0216757</td><td>3</td><td>0</td><td>0.128096</td><td>0.0194307</td><td>3</td><td>0</td><td>0.034457</td><td>0.0323300</td><td>3</td><td>0</td><td>0.096183</td><td>0.0386455</td><td>1</td><td>0</td><td>--</td><td>--</td><td>--</td><td>32</td><td>-0.146589</td><td>0.0615012</td><td>2</td><td>0</td><td>-0.053032</td><td>0.0475738</td><td>8</td><td>0</td><td>--</td><td>--</td><td>--</td><td>32</td><td>--</td><td>--</td><td>2</td><td>32</td><td>-0.178400</td><td>0.0360717</td><td>1</td><td>0</td><td>-0.052660</td><td>0.0227880</td><td>7</td><td>0</td><td>-0.162081</td><td>0.0343300</td><td>1</td><td>0</td><td>0.193944</td><td>0.0255775</td><td>3</td><td>0</td><td>-0.072258</td><td>0.0465248</td><td>1</td><td>0</td><td>0.346274</td><td>0.0195159</td><td>1</td><td>0</td><td>228.58631509566</td><td>-44.25905814780</td><td>2.8018</td><td>0.0439</td><td>353.407322277523974</td><td>347.964579984074021</td><td>359.019896012344020</td><td>1689.559850510700</td><td>58.425999</td><td>0.057000</td><td>--</td><td>--</td><td>0</td><td>0.1937</td><td>107.6280</td><td>165.4102</td><td>252.8660</td><td>261.6769</td><td>0</td><td>9.369889</td><td>7.189</td><td>0.030</td><td>6.621</td><td>0.044</td><td>6.438</td><td>0.020</td><td>AAA</td><td>6.453</td><td>0.025</td><td>AAAA</td><td>0.081</td><td>0.046</td><td>2.122558</td><td>0.841033</td><td>228.58631509566</td><td>-44.25905814780</td></tr>\n",
       "<tr><td>588568</td><td>15151322-4415182</td><td>190225005301396</td><td>6000435312445129984</td><td>6000435312445129984</td><td>galah_main</td><td>4235</td><td>0</td><td>190225</td><td>lbol</td><td>0</td><td>6059.50</td><td>89.92</td><td>--</td><td>--</td><td></td><td>3.519315</td><td>0.190539</td><td>-0.045074</td><td>0.091634</td><td>0</td><td>-0.114182</td><td>1.281166</td><td>15.524404</td><td>2.353061</td><td>0.41318</td><td>0.003647</td><td>0.0408309</td><td>151</td><td>0</td><td>0.40449</td><td>0.56577</td><td>1.365148</td><td>0.0941238</td><td>1</td><td>0</td><td>-0.340566</td><td>0.1361643</td><td>1</td><td>0</td><td>0.193027</td><td>0.1433604</td><td>1</td><td>0</td><td>0.020073</td><td>0.0604249</td><td>1</td><td>0</td><td>-0.112607</td><td>0.0861496</td><td>1</td><td>0</td><td>-0.133977</td><td>0.0768196</td><td>1</td><td>0</td><td>-0.014719</td><td>0.0651013</td><td>1</td><td>0</td><td>0.394344</td><td>0.0966795</td><td>1</td><td>0</td><td>0.167712</td><td>0.0826336</td><td>1</td><td>0</td><td>-0.028787</td><td>0.0620762</td><td>1</td><td>0</td><td>--</td><td>--</td><td>0</td><td>0</td><td>-0.045090</td><td>0.1099732</td><td>18</td><td>0</td><td>0.056150</td><td>0.0682143</td><td>15</td><td>0</td><td>--</td><td>--</td><td>--</td><td>32</td><td>-0.120502</td><td>0.0867218</td><td>1</td><td>0</td><td>--</td><td>--</td><td>0</td><td>0</td><td>0.051603</td><td>0.0896627</td><td>1</td><td>0</td><td>--</td><td>--</td><td>--</td><td>32</td><td>-0.304121</td><td>0.1404214</td><td>2</td><td>0</td><td>-0.198695</td><td>0.0812988</td><td>2</td><td>0</td><td>-0.081270</td><td>0.1136634</td><td>3</td><td>0</td><td>--</td><td>--</td><td>1</td><td>32</td><td>--</td><td>--</td><td>--</td><td>32</td><td>0.243867</td><td>0.1493070</td><td>3</td><td>0</td><td>--</td><td>--</td><td>16</td><td>32</td><td>--</td><td>--</td><td>--</td><td>32</td><td>--</td><td>--</td><td>--</td><td>32</td><td>0.590739</td><td>0.1006179</td><td>1</td><td>0</td><td>--</td><td>--</td><td>4</td><td>32</td><td>--</td><td>--</td><td>1</td><td>32</td><td>--</td><td>--</td><td>2</td><td>32</td><td>--</td><td>--</td><td>2</td><td>32</td><td>--</td><td>--</td><td>--</td><td>32</td><td>228.80508885499</td><td>-44.25505274537</td><td>1.1588</td><td>0.0462</td><td>843.799825746561055</td><td>811.860487788639944</td><td>878.305780257374977</td><td>1698.539343725610</td><td>0.277000</td><td>0.110000</td><td>-2.481919</td><td>0.183686</td><td>0</td><td>0.1919</td><td>25.7535</td><td>37.1784</td><td>50.6914</td><td>52.7832</td><td>0</td><td>11.562480</td><td>10.465</td><td>0.022</td><td>10.209</td><td>0.021</td><td>10.139</td><td>0.021</td><td>AAA</td><td>10.102</td><td>0.020</td><td>AAAU</td><td>0.025</td><td>0.027</td><td>1.232041</td><td>0.915573</td><td>228.80508885499</td><td>-44.25505274537</td></tr>\n",
       "<tr><td>588569</td><td>15162269-4414571</td><td>190225005301397</td><td>6000421607212226048</td><td>6000421607212226048</td><td>galah_main</td><td>4235</td><td>0</td><td>190225</td><td>lbol</td><td>0</td><td>4132.97</td><td>83.46</td><td>--</td><td>--</td><td></td><td>0.959392</td><td>0.302143</td><td>-1.003942</td><td>0.065257</td><td>0</td><td>-1.067936</td><td>1.710803</td><td>7.007711</td><td>2.178454</td><td>1.6364</td><td>0.125895</td><td>0.0282023</td><td>475</td><td>0</td><td>0.70449</td><td>2.2946</td><td>--</td><td>--</td><td>--</td><td>32</td><td>--</td><td>--</td><td>--</td><td>32</td><td>--</td><td>--</td><td>--</td><td>32</td><td>-0.166336</td><td>0.0448869</td><td>1</td><td>0</td><td>0.087043</td><td>0.0604637</td><td>1</td><td>0</td><td>-0.096362</td><td>0.0612105</td><td>1</td><td>0</td><td>0.091532</td><td>0.0503660</td><td>1</td><td>0</td><td>-0.195607</td><td>0.0748957</td><td>1</td><td>0</td><td>0.351721</td><td>0.0662574</td><td>1</td><td>0</td><td>-0.037584</td><td>0.0473138</td><td>1</td><td>0</td><td>--</td><td>--</td><td>0</td><td>0</td><td>0.166899</td><td>0.0411857</td><td>59</td><td>0</td><td>0.182843</td><td>0.0536946</td><td>11</td><td>0</td><td>0.043472</td><td>0.1276800</td><td>1</td><td>0</td><td>-0.165051</td><td>0.0655002</td><td>1</td><td>0</td><td>--</td><td>--</td><td>0</td><td>0</td><td>-0.473146</td><td>0.0634845</td><td>1</td><td>0</td><td>-0.069679</td><td>0.0484793</td><td>15</td><td>0</td><td>-0.133717</td><td>0.0674589</td><td>3</td><td>0</td><td>-0.390652</td><td>0.0498856</td><td>3</td><td>0</td><td>0.069870</td><td>0.0824867</td><td>3</td><td>0</td><td>--</td><td>--</td><td>--</td><td>32</td><td>--</td><td>--</td><td>--</td><td>32</td><td>-0.012379</td><td>0.1105656</td><td>3</td><td>0</td><td>0.229428</td><td>0.0717874</td><td>28</td><td>0</td><td>0.054921</td><td>0.0721895</td><td>1</td><td>0</td><td>0.285206</td><td>0.1616207</td><td>1</td><td>0</td><td>0.202001</td><td>0.0768756</td><td>1</td><td>0</td><td>-0.061486</td><td>0.0714188</td><td>7</td><td>0</td><td>-0.855644</td><td>0.1290500</td><td>1</td><td>1</td><td>0.094407</td><td>0.0834810</td><td>3</td><td>0</td><td>-0.161347</td><td>0.0884684</td><td>3</td><td>0</td><td>0.178091</td><td>0.0893206</td><td>1</td><td>0</td><td>229.09450990906</td><td>-44.24920983868</td><td>0.3596</td><td>0.0492</td><td>2593.821603463939937</td><td>2286.872753594159803</td><td>2992.162615020949943</td><td>1710.072933092500</td><td>37.006001</td><td>0.067000</td><td>36.910324</td><td>0.379971</td><td>0</td><td>0.2270</td><td>27.9751</td><td>49.0351</td><td>78.5613</td><td>90.9814</td><td>0</td><td>11.327100</td><td>8.327</td><td>0.023</td><td>7.558</td><td>0.044</td><td>7.364</td><td>0.026</td><td>AAA</td><td>7.309</td><td>0.020</td><td>AAAB</td><td>0.155</td><td>0.044</td><td>2.401451</td><td>1.114932</td><td>229.09450990906</td><td>-44.24920983868</td></tr>\n",
       "<tr><td>588570</td><td>15161847-4418028</td><td>190225005301398</td><td>6000420675196587392</td><td>6000420675196587392</td><td>galah_main</td><td>4235</td><td>0</td><td>190225</td><td>lbol</td><td>0</td><td>4776.93</td><td>98.42</td><td>--</td><td>--</td><td></td><td>2.420797</td><td>0.220919</td><td>0.007314</td><td>0.073834</td><td>0</td><td>-0.066665</td><td>1.236826</td><td>7.417721</td><td>2.221344</td><td>1.2783</td><td>-0.022905</td><td>0.0371292</td><td>443</td><td>0</td><td>0.73667</td><td>2.4514</td><td>--</td><td>--</td><td>--</td><td>32</td><td>--</td><td>--</td><td>--</td><td>32</td><td>0.196151</td><td>0.1390455</td><td>1</td><td>0</td><td>0.150166</td><td>0.0576755</td><td>1</td><td>0</td><td>-0.029941</td><td>0.0814087</td><td>1</td><td>0</td><td>0.186801</td><td>0.0742585</td><td>1</td><td>0</td><td>-0.005100</td><td>0.0625477</td><td>1</td><td>0</td><td>-0.095060</td><td>0.0929456</td><td>1</td><td>0</td><td>0.168311</td><td>0.0799269</td><td>1</td><td>0</td><td>-0.094739</td><td>0.0595767</td><td>1</td><td>0</td><td>--</td><td>--</td><td>0</td><td>0</td><td>-0.033849</td><td>0.0559991</td><td>55</td><td>0</td><td>0.064232</td><td>0.0867459</td><td>9</td><td>0</td><td>0.461299</td><td>0.1713294</td><td>2</td><td>0</td><td>-0.027923</td><td>0.0830965</td><td>1</td><td>0</td><td>--</td><td>--</td><td>0</td><td>0</td><td>-0.004177</td><td>0.0849630</td><td>1</td><td>0</td><td>-0.131556</td><td>0.0639353</td><td>14</td><td>0</td><td>0.094594</td><td>0.0812880</td><td>3</td><td>0</td><td>-0.008000</td><td>0.0603510</td><td>3</td><td>0</td><td>0.254711</td><td>0.1309684</td><td>2</td><td>0</td><td>--</td><td>--</td><td>--</td><td>32</td><td>0.436551</td><td>0.2001525</td><td>1</td><td>1</td><td>0.008444</td><td>0.1749198</td><td>2</td><td>0</td><td>--</td><td>--</td><td>16</td><td>32</td><td>--</td><td>--</td><td>--</td><td>32</td><td>--</td><td>--</td><td>2</td><td>32</td><td>0.342329</td><td>0.0965520</td><td>1</td><td>0</td><td>-0.196084</td><td>0.1029593</td><td>3</td><td>0</td><td>-0.134269</td><td>0.1451714</td><td>1</td><td>0</td><td>0.078830</td><td>0.1516768</td><td>1</td><td>0</td><td>-0.610879</td><td>0.1363161</td><td>2</td><td>1</td><td>0.020479</td><td>0.1027437</td><td>1</td><td>0</td><td>229.07692284226</td><td>-44.30079895838</td><td>0.6311</td><td>0.0435</td><td>1522.402542005289888</td><td>1425.561285508520086</td><td>1633.063341116270067</td><td>1711.191321646810</td><td>-69.571999</td><td>0.056000</td><td>-68.999001</td><td>0.332995</td><td>0</td><td>0.2364</td><td>25.4703</td><td>38.8635</td><td>57.2860</td><td>62.8536</td><td>0</td><td>11.495899</td><td>9.502</td><td>0.024</td><td>8.971</td><td>0.040</td><td>8.810</td><td>0.019</td><td>AAA</td><td>8.841</td><td>0.020</td><td>BAAB</td><td>0.046</td><td>0.041</td><td>1.967848</td><td>0.926810</td><td>229.07692284226</td><td>-44.30079895838</td></tr>\n",
       "<tr><td>588571</td><td>15132160-4416479</td><td>190225005301399</td><td>6003341772662216960</td><td>6003341772662216960</td><td>galah_main</td><td>4235</td><td>0</td><td>190225</td><td>lbol</td><td>0</td><td>6125.68</td><td>75.33</td><td>--</td><td>--</td><td></td><td>3.717687</td><td>0.178001</td><td>-0.002151</td><td>0.054652</td><td>0</td><td>-0.055994</td><td>1.319161</td><td>8.356025</td><td>2.139274</td><td>1.1636</td><td>-0.096706</td><td>0.0213100</td><td>155</td><td>0</td><td>0.53061</td><td>2.0197</td><td>--</td><td>--</td><td>--</td><td>32</td><td>0.037284</td><td>0.0814829</td><td>1</td><td>0</td><td>-0.024127</td><td>0.0820994</td><td>1</td><td>0</td><td>0.007420</td><td>0.0293753</td><td>1</td><td>0</td><td>-0.122840</td><td>0.0386235</td><td>1</td><td>0</td><td>-0.066928</td><td>0.0404219</td><td>1</td><td>0</td><td>-0.058969</td><td>0.0344410</td><td>1</td><td>0</td><td>0.081673</td><td>0.0503451</td><td>1</td><td>0</td><td>0.174382</td><td>0.0450508</td><td>1</td><td>0</td><td>0.048421</td><td>0.0298775</td><td>1</td><td>0</td><td>--</td><td>--</td><td>0</td><td>0</td><td>-0.117463</td><td>0.0381053</td><td>19</td><td>0</td><td>-0.042300</td><td>0.0331880</td><td>11</td><td>0</td><td>--</td><td>--</td><td>--</td><td>32</td><td>-0.189216</td><td>0.0412726</td><td>1</td><td>0</td><td>--</td><td>--</td><td>0</td><td>0</td><td>-0.082423</td><td>0.0387510</td><td>1</td><td>0</td><td>--</td><td>--</td><td>--</td><td>32</td><td>-0.124481</td><td>0.0493517</td><td>3</td><td>0</td><td>0.040120</td><td>0.0348538</td><td>3</td><td>0</td><td>0.119957</td><td>0.0486386</td><td>3</td><td>0</td><td>--</td><td>--</td><td>--</td><td>32</td><td>--</td><td>--</td><td>--</td><td>32</td><td>0.020054</td><td>0.0685914</td><td>3</td><td>0</td><td>--</td><td>--</td><td>--</td><td>32</td><td>--</td><td>--</td><td>--</td><td>32</td><td>--</td><td>--</td><td>--</td><td>32</td><td>0.273038</td><td>0.0500259</td><td>1</td><td>0</td><td>--</td><td>--</td><td>--</td><td>32</td><td>--</td><td>--</td><td>--</td><td>32</td><td>--</td><td>--</td><td>--</td><td>32</td><td>--</td><td>--</td><td>--</td><td>32</td><td>--</td><td>--</td><td>--</td><td>32</td><td>228.33977880986</td><td>-44.28004431788</td><td>2.1439</td><td>0.0320</td><td>460.395918797011007</td><td>453.653061617989977</td><td>467.338550194594973</td><td>1679.821555868640</td><td>-62.751999</td><td>0.089000</td><td>-61.969482</td><td>1.812960</td><td>0</td><td>0.1879</td><td>66.9391</td><td>76.4623</td><td>100.6163</td><td>94.9991</td><td>0</td><td>10.823439</td><td>9.720</td><td>0.023</td><td>9.490</td><td>0.022</td><td>9.391</td><td>0.019</td><td>AAA</td><td>9.384</td><td>0.020</td><td>AAAU</td><td>0.024</td><td>0.027</td><td>1.199032</td><td>0.932165</td><td>228.33977880986</td><td>-44.28004431788</td></tr>\n",
       "</table></div>"
      ],
      "text/plain": [
       "<Table length=588571>\n",
       "recno       _2MASS           GALAH      ...     _RA.icrs        _DE.icrs   \n",
       "                                        ...       deg             deg      \n",
       "int32       str16            int64      ...     float64         float64    \n",
       "------ ---------------- --------------- ... --------------- ---------------\n",
       "     1 03325271-6840304 131116000501002 ...  53.22113195853 -68.67480027452\n",
       "     2 03345385-6836362 131116000501003 ...  53.72602065860 -68.61105093015\n",
       "     3 03422255-6841522 131116000501004 ...  55.59397924125 -68.69793128381\n",
       "     4 03373408-6841062 131116000501005 ...  54.39207232859 -68.68500209687\n",
       "     5 03430488-6843208 131116000501006 ...  55.77049402235 -68.72245271416\n",
       "     6 03425716-6844462 131116000501007 ...  55.73830057159 -68.74617973122\n",
       "   ...              ...             ... ...             ...             ...\n",
       "588566 15141216-4414570 190225005301394 ... 228.55059920730 -44.24923801385\n",
       "588567 15142072-4415325 190225005301395 ... 228.58631509566 -44.25905814780\n",
       "588568 15151322-4415182 190225005301396 ... 228.80508885499 -44.25505274537\n",
       "588569 15162269-4414571 190225005301397 ... 229.09450990906 -44.24920983868\n",
       "588570 15161847-4418028 190225005301398 ... 229.07692284226 -44.30079895838\n",
       "588571 15132160-4416479 190225005301399 ... 228.33977880986 -44.28004431788"
      ]
     },
     "execution_count": 3,
     "metadata": {},
     "output_type": "execute_result"
    }
   ],
   "source": [
    "#retrieve the GALAH DR3 dataset from Vizier\n",
    "#reading in the catalogue\n",
    "catalog = Vizier(catalog='J/MNRAS/506/150/stars', columns=['**'], row_limit=-1).query_constraints()\n",
    "catalog[0]"
   ]
  },
  {
   "cell_type": "code",
   "execution_count": 5,
   "id": "89ad96b7-d62e-492c-bd91-7a3f75be8a3b",
   "metadata": {},
   "outputs": [],
   "source": [
    "#choosing our GALAH columns\n",
    "#we take the 2MASS id and any chemistry data we want\n",
    "galah = catalog[0][['_2MASS', '__C_Fe_']]\n",
    "galah.rename_column('_2MASS', 'twomass_id')\n",
    "\n",
    "galah['survey'] = ['galah']*len(galah)"
   ]
  },
  {
   "cell_type": "code",
   "execution_count": null,
   "id": "0b12ee8b-4c7f-45d6-9d73-a1f25b98c201",
   "metadata": {},
   "outputs": [],
   "source": [
    "#threshing galah data\n"
   ]
  },
  {
   "cell_type": "code",
   "execution_count": 15,
   "id": "01dd0255-8778-49c0-a829-ad85f8793950",
   "metadata": {},
   "outputs": [],
   "source": [
    "data = vstack([apogee, galah])"
   ]
  },
  {
   "cell_type": "code",
   "execution_count": 18,
   "id": "6566e5fd-1e8b-4b41-8982-1cc55245bad7",
   "metadata": {},
   "outputs": [
    {
     "name": "stdout",
     "output_type": "stream",
     "text": [
      "INFO: Login to gaia TAP server [astroquery.gaia.core]\n",
      "OK\n",
      "INFO: Login to gaia data server [astroquery.gaia.core]\n",
      "OK\n",
      "INFO: Query finished. [astroquery.utils.tap.core]\n",
      "Table 'chemistry_stars' deleted.\n",
      "Removed jobs: '1718905275927O'.\n",
      "INFO: Gaia TAP server logout OK [astroquery.gaia.core]\n",
      "INFO: Gaia data server logout OK [astroquery.gaia.core]\n"
     ]
    }
   ],
   "source": [
    "#Query Gaia ESA ADQL server using apogee_ids to match to Gaia stars and obtain proper motion to calculate uvw as well as photometric data\n",
    "\n",
    "#log in to Gaia Server - Can change to different credentials file for a different user\n",
    "Gaia.login(credentials_file='../common/gaia_credentials.txt')\n",
    "\n",
    "#grab username from file\n",
    "file = open('../common/gaia_credentials.txt', 'r')\n",
    "username = file.readline().strip()\n",
    "\n",
    "# #Upload table (table name will be forced to lowercase)\n",
    "# job = Gaia.upload_table(upload_resource=data[['twomass_id']], table_name=\"chemistry_stars\", format=\"csv\")\n",
    "\n",
    "#Query Gaia DR3 source for parallaxes\n",
    "#Potentially want Bailer Jones distances pending figuring out the parallax error issue\n",
    "job = Gaia.launch_job_async(\"select a.twomass_id, \"\n",
    "                            \"gaia_match.source_id, \"\n",
    "                            \"bj.r_med_geo, bj.r_hi_geo, bj.r_lo_geo, bj.r_med_photogeo, bj.r_hi_photogeo, bj.r_lo_photogeo, \"\n",
    "                            \"c.ra, c.dec, c.pmra, c.pmdec, c.radial_velocity, c.phot_g_mean_mag, c.bp_g, c.teff_gspphot \"\n",
    "                            \"from user_\"+username+\".chemistry_stars a inner join gaiadr3.tmass_psc_xsc_best_neighbour gaia_match on a.twomass_id = gaia_match.original_ext_source_id \"\n",
    "                            \"inner join external.gaiaedr3_distance bj on gaia_match.source_id = bj.source_id \"\n",
    "                            \"inner join gaiadr3.gaia_source c on gaia_match.source_id = c.source_id\",\n",
    "                            dump_to_file=False)\n",
    "\n",
    "#put the resulting table into a dataframe and fix the dtype of the apogee_id column\n",
    "query_data = job.get_results()\n",
    "query_data['twomass_id'] = query_data.Column(data=[str(query_data['twomass_id'][i]) for i in range(len(query_data))],\n",
    "                                                   meta=collections.OrderedDict([('ucd', 'meta.id.tmass')]), \n",
    "                                                   description='2MASS ID')\n",
    "\n",
    "#Deleting table and job from Gaia ESA server so we don't clog the memory\n",
    "Gaia.delete_user_table('chemistry_stars')\n",
    "Gaia.remove_jobs(job.jobid)\n",
    "\n",
    "Gaia.logout()"
   ]
  },
  {
   "cell_type": "code",
   "execution_count": 19,
   "id": "24a80845-a6d0-4078-9226-516bdfe110f3",
   "metadata": {},
   "outputs": [
    {
     "name": "stderr",
     "output_type": "stream",
     "text": [
      "WARNING: MergeConflictWarning: Cannot merge meta key 'ucd' types <class 'str'> and <class 'str'>, choosing ucd='meta.id.tmass' [astropy.utils.metadata]\n",
      "WARNING: MergeConflictWarning: In merged column 'twomass_id' the 'description' attribute does not match (2MASS identifier (star_id) != 2MASS ID).  Using 2MASS ID for merged output [astropy.utils.metadata]\n"
     ]
    },
    {
     "data": {
      "text/html": [
       "<div><i>Table length=1186931</i>\n",
       "<table id=\"table4564689552\" class=\"table-striped table-bordered table-condensed\">\n",
       "<thead><tr><th>apogee_id</th><th>c_fe</th><th>twomass_id</th><th>survey</th><th>__C_Fe_</th><th>SOURCE_ID</th><th>r_med_geo</th><th>r_hi_geo</th><th>r_lo_geo</th><th>r_med_photogeo</th><th>r_hi_photogeo</th><th>r_lo_photogeo</th><th>ra</th><th>dec</th><th>pmra</th><th>pmdec</th><th>radial_velocity</th><th>phot_g_mean_mag</th><th>bp_g</th><th>teff_gspphot</th></tr></thead>\n",
       "<thead><tr><th></th><th></th><th></th><th></th><th></th><th></th><th>pc</th><th>pc</th><th>pc</th><th>pc</th><th>pc</th><th>pc</th><th>deg</th><th>deg</th><th>mas / yr</th><th>mas / yr</th><th>km / s</th><th>mag</th><th>mag</th><th>K</th></tr></thead>\n",
       "<thead><tr><th>str19</th><th>float64</th><th>str18</th><th>str6</th><th>float64</th><th>int64</th><th>float32</th><th>float32</th><th>float32</th><th>float32</th><th>float32</th><th>float32</th><th>float64</th><th>float64</th><th>float64</th><th>float64</th><th>float32</th><th>float32</th><th>float32</th><th>float32</th></tr></thead>\n",
       "<tr><td>2M00000002+7417074</td><td>0.009294704</td><td>00000002+7417074</td><td>apogee</td><td>--</td><td>538028216707715712</td><td>3234.5747</td><td>3464.5564</td><td>3027.0295</td><td>3268.601</td><td>3507.7324</td><td>3115.693</td><td>0.0002052024238820092</td><td>74.28543607186924</td><td>0.048581990982767526</td><td>0.5222484917399337</td><td>-52.478863</td><td>11.698828</td><td>1.5734205</td><td>3739.0503</td></tr>\n",
       "<tr><td>--</td><td>--</td><td>00000011+0522500</td><td>galah</td><td>--</td><td>2745049530295263232</td><td>149.40038</td><td>149.9331</td><td>148.93335</td><td>149.60596</td><td>150.17287</td><td>148.91833</td><td>0.0005898233877197715</td><td>5.380517264865798</td><td>22.18405851553606</td><td>-10.296050520511521</td><td>11.894795</td><td>12.95553</td><td>0.63337135</td><td>4491.7026</td></tr>\n",
       "<tr><td>2M00000019-1924498</td><td>0.061738</td><td>00000019-1924498</td><td>apogee</td><td>--</td><td>2413929812587459072</td><td>2294.9001</td><td>3922.614</td><td>1648.5955</td><td>888.34845</td><td>970.81085</td><td>797.92316</td><td>0.0009695048054116059</td><td>-19.41392221986823</td><td>20.290022745668313</td><td>-10.34126036057617</td><td>16.96445</td><td>12.288161</td><td>0.22672176</td><td>--</td></tr>\n",
       "<tr><td>--</td><td>--</td><td>00000023-5709445</td><td>galah</td><td>--</td><td>4922452332795612416</td><td>349.86786</td><td>352.48358</td><td>347.00424</td><td>350.31863</td><td>352.661</td><td>348.21082</td><td>0.0013749931265087923</td><td>-57.162456775555796</td><td>48.08107589962254</td><td>-26.27555941516259</td><td>-16.979082</td><td>13.600912</td><td>0.44777012</td><td>5534.2793</td></tr>\n",
       "<tr><td>--</td><td>--</td><td>00000024-5742487</td><td>galah</td><td>--</td><td>4919409709243747968</td><td>644.3016</td><td>660.44946</td><td>631.9431</td><td>642.3535</td><td>652.86273</td><td>627.6807</td><td>0.0007863545834172339</td><td>-57.7136167776798</td><td>-25.856213632249286</td><td>-19.84587011280216</td><td>34.557667</td><td>13.280836</td><td>0.31631756</td><td>--</td></tr>\n",
       "<tr><td>--</td><td>--</td><td>00000025-7541166</td><td>galah</td><td>--</td><td>4685221429109310080</td><td>259.58597</td><td>260.12106</td><td>258.87897</td><td>259.54593</td><td>260.17944</td><td>258.923</td><td>0.0015526068490404113</td><td>-75.68803023457961</td><td>36.991525552861845</td><td>-3.5607094414381435</td><td>22.977255</td><td>12.207837</td><td>0.37499428</td><td>5422.1064</td></tr>\n",
       "<tr><td>...</td><td>...</td><td>...</td><td>...</td><td>...</td><td>...</td><td>...</td><td>...</td><td>...</td><td>...</td><td>...</td><td>...</td><td>...</td><td>...</td><td>...</td><td>...</td><td>...</td><td>...</td><td>...</td><td>...</td></tr>\n",
       "<tr><td>2M23595886-2009435</td><td>-9999.0</td><td>23595886-2009435</td><td>apogee</td><td>--</td><td>2341765776376373376</td><td>680.94275</td><td>690.2706</td><td>671.04486</td><td>681.72614</td><td>692.326</td><td>674.2222</td><td>359.9952946082676</td><td>-20.16216642717209</td><td>10.243935790870314</td><td>-0.7526317006135734</td><td>-0.78612643</td><td>12.903441</td><td>0.37759304</td><td>5500.4463</td></tr>\n",
       "<tr><td>--</td><td>--</td><td>23595898-5651040</td><td>galah</td><td>0.081072</td><td>6496480434289248128</td><td>366.24893</td><td>368.21307</td><td>364.2643</td><td>366.57364</td><td>368.43942</td><td>364.8622</td><td>359.9959353466922</td><td>-56.85107173451508</td><td>16.441995769299215</td><td>-0.7710942029922533</td><td>-5.3790965</td><td>12.869012</td><td>0.3879919</td><td>5458.01</td></tr>\n",
       "<tr><td>2M23595921+5609479</td><td>-0.011308</td><td>23595921+5609479</td><td>apogee</td><td>--</td><td>1994741318040223232</td><td>2739.8916</td><td>2854.3762</td><td>2628.9268</td><td>2770.0015</td><td>2901.1992</td><td>2663.0718</td><td>359.99671563987823</td><td>56.16334468796897</td><td>-1.9080034815106133</td><td>0.926537360703486</td><td>-54.815273</td><td>13.981819</td><td>0.7293663</td><td>--</td></tr>\n",
       "<tr><td>2M23595949-7342592</td><td>-0.6536099</td><td>23595949-7342592</td><td>apogee</td><td>--</td><td>6379914575198998272</td><td>7217.628</td><td>11551.601</td><td>5376.3735</td><td>10558.043</td><td>12214.619</td><td>6803.6196</td><td>359.99782322179146</td><td>-73.71647810372073</td><td>0.4537070427669345</td><td>-1.4541927446385943</td><td>--</td><td>17.56277</td><td>0.621788</td><td>5042.1333</td></tr>\n",
       "<tr><td>--</td><td>--</td><td>23595970-6314456</td><td>galah</td><td>0.347231</td><td>6487444097976387328</td><td>709.277</td><td>714.3981</td><td>704.1501</td><td>707.5937</td><td>713.4816</td><td>702.6089</td><td>359.99873843809155</td><td>-63.24598736163873</td><td>-4.295911051994346</td><td>-1.0621478384899212</td><td>24.041374</td><td>12.703551</td><td>0.2711544</td><td>6238.0137</td></tr>\n",
       "<tr><td>2M23595980+1528407</td><td>0.21044</td><td>23595980+1528407</td><td>apogee</td><td>--</td><td>2772098031734496512</td><td>485.76892</td><td>490.17908</td><td>481.5992</td><td>484.00714</td><td>489.51236</td><td>479.61798</td><td>359.99928240824806</td><td>15.477949905374071</td><td>28.069420985317763</td><td>-3.352729556132174</td><td>-5.661035</td><td>11.662208</td><td>0.25240993</td><td>6449.789</td></tr>\n",
       "</table></div>"
      ],
      "text/plain": [
       "<Table length=1186931>\n",
       "    apogee_id          c_fe       twomass_id    ...    bp_g    teff_gspphot\n",
       "                                                ...    mag          K      \n",
       "      str19          float64        str18       ...  float32     float32   \n",
       "------------------ ----------- ---------------- ... ---------- ------------\n",
       "2M00000002+7417074 0.009294704 00000002+7417074 ...  1.5734205    3739.0503\n",
       "                --          -- 00000011+0522500 ... 0.63337135    4491.7026\n",
       "2M00000019-1924498    0.061738 00000019-1924498 ... 0.22672176           --\n",
       "                --          -- 00000023-5709445 ... 0.44777012    5534.2793\n",
       "                --          -- 00000024-5742487 ... 0.31631756           --\n",
       "                --          -- 00000025-7541166 ... 0.37499428    5422.1064\n",
       "               ...         ...              ... ...        ...          ...\n",
       "2M23595886-2009435     -9999.0 23595886-2009435 ... 0.37759304    5500.4463\n",
       "                --          -- 23595898-5651040 ...  0.3879919      5458.01\n",
       "2M23595921+5609479   -0.011308 23595921+5609479 ...  0.7293663           --\n",
       "2M23595949-7342592  -0.6536099 23595949-7342592 ...   0.621788    5042.1333\n",
       "                --          -- 23595970-6314456 ...  0.2711544    6238.0137\n",
       "2M23595980+1528407     0.21044 23595980+1528407 ... 0.25240993     6449.789"
      ]
     },
     "execution_count": 19,
     "metadata": {},
     "output_type": "execute_result"
    }
   ],
   "source": [
    "#join table onto data\n",
    "data = unique(join(data, query_data, keys='twomass_id', join_type='inner'), keys=['twomass_id', 'SOURCE_ID'])\n",
    "data"
   ]
  },
  {
   "cell_type": "code",
   "execution_count": 12,
   "id": "dbd314ed-1920-481c-bbb9-b94e8c959b1c",
   "metadata": {},
   "outputs": [
    {
     "data": {
      "text/html": [
       "<div><i>Table length=640474</i>\n",
       "<table id=\"table4428244752\" class=\"table-striped table-bordered table-condensed\">\n",
       "<thead><tr><th>twomass_id</th><th>c_fe</th><th>apogee_id</th><th>SOURCE_ID</th><th>r_med_geo</th><th>r_hi_geo</th><th>r_lo_geo</th><th>r_med_photogeo</th><th>r_hi_photogeo</th><th>r_lo_photogeo</th><th>ra</th><th>dec</th><th>pmra</th><th>pmdec</th><th>radial_velocity</th><th>phot_g_mean_mag</th><th>bp_g</th><th>teff_gspphot</th></tr></thead>\n",
       "<thead><tr><th></th><th></th><th></th><th></th><th>pc</th><th>pc</th><th>pc</th><th>pc</th><th>pc</th><th>pc</th><th>deg</th><th>deg</th><th>mas / yr</th><th>mas / yr</th><th>km / s</th><th>mag</th><th>mag</th><th>K</th></tr></thead>\n",
       "<thead><tr><th>str19</th><th>float64</th><th>str18</th><th>int64</th><th>float32</th><th>float32</th><th>float32</th><th>float32</th><th>float32</th><th>float32</th><th>float64</th><th>float64</th><th>float64</th><th>float64</th><th>float32</th><th>float32</th><th>float32</th><th>float32</th></tr></thead>\n",
       "<tr><td>2M00000002+7417074</td><td>0.009294704</td><td>00000002+7417074</td><td>538028216707715712</td><td>3234.5747</td><td>3464.5564</td><td>3027.0295</td><td>3268.601</td><td>3507.7324</td><td>3115.693</td><td>0.0002052024238820092</td><td>74.28543607186924</td><td>0.048581990982767526</td><td>0.5222484917399337</td><td>-52.478863</td><td>11.698828</td><td>1.5734205</td><td>3739.0503</td></tr>\n",
       "<tr><td>2M00000019-1924498</td><td>0.061738</td><td>00000019-1924498</td><td>2413929812587459072</td><td>2294.9001</td><td>3922.614</td><td>1648.5955</td><td>888.34845</td><td>970.81085</td><td>797.92316</td><td>0.0009695048054116059</td><td>-19.41392221986823</td><td>20.290022745668313</td><td>-10.34126036057617</td><td>16.96445</td><td>12.288161</td><td>0.22672176</td><td>--</td></tr>\n",
       "<tr><td>2M00000032+5737103</td><td>0.11273</td><td>00000032+5737103</td><td>422596679964513792</td><td>762.9458</td><td>767.3334</td><td>758.2913</td><td>761.33</td><td>766.5322</td><td>756.7403</td><td>0.001331957360681545</td><td>57.61950659485637</td><td>-0.41027406737342575</td><td>-3.226601467860171</td><td>-21.289434</td><td>12.220947</td><td>0.42905617</td><td>6385.489</td></tr>\n",
       "<tr><td>2M00000035-7323394</td><td>-0.31207</td><td>00000035-7323394</td><td>4689447878791422208</td><td>12516.2295</td><td>17395.037</td><td>8956.699</td><td>7310.7515</td><td>11760.366</td><td>5323.142</td><td>0.001480676840787791</td><td>-73.39432281286818</td><td>0.2554080386547546</td><td>-1.2691755061727426</td><td>--</td><td>16.747824</td><td>0.6383133</td><td>4877.1636</td></tr>\n",
       "<tr><td>2M00000068+5710233</td><td>-0.025731</td><td>00000068+5710233</td><td>421077597267551104</td><td>718.71344</td><td>727.03937</td><td>709.5037</td><td>715.0294</td><td>723.68005</td><td>706.5003</td><td>0.0029132576484154813</td><td>57.17307485094373</td><td>5.7917245260706105</td><td>-12.73558885217783</td><td>-13.462213</td><td>12.275905</td><td>0.5551958</td><td>--</td></tr>\n",
       "<tr><td>2M00000103+1525513</td><td>0.04991698</td><td>00000103+1525513</td><td>2772097619417608704</td><td>473.27496</td><td>477.08853</td><td>469.28427</td><td>473.27005</td><td>477.71826</td><td>468.36456</td><td>0.004303599118235232</td><td>15.430910675117346</td><td>-3.242845148588203</td><td>-8.75144181996673</td><td>-14.599077</td><td>12.282099</td><td>0.29906178</td><td>6298.066</td></tr>\n",
       "<tr><td>...</td><td>...</td><td>...</td><td>...</td><td>...</td><td>...</td><td>...</td><td>...</td><td>...</td><td>...</td><td>...</td><td>...</td><td>...</td><td>...</td><td>...</td><td>...</td><td>...</td><td>...</td></tr>\n",
       "<tr><td>2M23595867-7339039</td><td>-0.68267</td><td>23595867-7339039</td><td>6379920759951899648</td><td>7137.5376</td><td>10031.347</td><td>5492.0244</td><td>8901.245</td><td>13811.388</td><td>7045.2617</td><td>359.99448902420573</td><td>-73.65115033981152</td><td>0.45637612140011596</td><td>-1.471292803970081</td><td>--</td><td>17.396803</td><td>0.6019535</td><td>5399.588</td></tr>\n",
       "<tr><td>2M23595886+5726058</td><td>-0.06031398</td><td>23595886+5726058</td><td>1998097371124974720</td><td>2162.025</td><td>2241.0505</td><td>2091.7512</td><td>2252.5095</td><td>2339.1506</td><td>2161.6626</td><td>359.99526785974535</td><td>57.43491814033981</td><td>-0.45806001901752236</td><td>-2.7345454064460712</td><td>-60.273693</td><td>13.82872</td><td>0.9020519</td><td>5213.753</td></tr>\n",
       "<tr><td>2M23595886-2009435</td><td>-9999.0</td><td>23595886-2009435</td><td>2341765776376373376</td><td>680.94275</td><td>690.2706</td><td>671.04486</td><td>681.72614</td><td>692.326</td><td>674.2222</td><td>359.9952946082676</td><td>-20.16216642717209</td><td>10.243935790870314</td><td>-0.7526317006135734</td><td>-0.78612643</td><td>12.903441</td><td>0.37759304</td><td>5500.4463</td></tr>\n",
       "<tr><td>2M23595921+5609479</td><td>-0.011308</td><td>23595921+5609479</td><td>1994741318040223232</td><td>2739.8916</td><td>2854.3762</td><td>2628.9268</td><td>2770.0015</td><td>2901.1992</td><td>2663.0718</td><td>359.99671563987823</td><td>56.16334468796897</td><td>-1.9080034815106133</td><td>0.926537360703486</td><td>-54.815273</td><td>13.981819</td><td>0.7293663</td><td>--</td></tr>\n",
       "<tr><td>2M23595949-7342592</td><td>-0.6536099</td><td>23595949-7342592</td><td>6379914575198998272</td><td>7217.628</td><td>11551.601</td><td>5376.3735</td><td>10558.043</td><td>12214.619</td><td>6803.6196</td><td>359.99782322179146</td><td>-73.71647810372073</td><td>0.4537070427669345</td><td>-1.4541927446385943</td><td>--</td><td>17.56277</td><td>0.621788</td><td>5042.1333</td></tr>\n",
       "<tr><td>2M23595980+1528407</td><td>0.21044</td><td>23595980+1528407</td><td>2772098031734496512</td><td>485.76892</td><td>490.17908</td><td>481.5992</td><td>484.00714</td><td>489.51236</td><td>479.61798</td><td>359.99928240824806</td><td>15.477949905374071</td><td>28.069420985317763</td><td>-3.352729556132174</td><td>-5.661035</td><td>11.662208</td><td>0.25240993</td><td>6449.789</td></tr>\n",
       "</table></div>"
      ],
      "text/plain": [
       "<Table length=640474>\n",
       "    twomass_id         c_fe       apogee_id     ...    bp_g    teff_gspphot\n",
       "                                                ...    mag          K      \n",
       "      str19          float64        str18       ...  float32     float32   \n",
       "------------------ ----------- ---------------- ... ---------- ------------\n",
       "2M00000002+7417074 0.009294704 00000002+7417074 ...  1.5734205    3739.0503\n",
       "2M00000019-1924498    0.061738 00000019-1924498 ... 0.22672176           --\n",
       "2M00000032+5737103     0.11273 00000032+5737103 ... 0.42905617     6385.489\n",
       "2M00000035-7323394    -0.31207 00000035-7323394 ...  0.6383133    4877.1636\n",
       "2M00000068+5710233   -0.025731 00000068+5710233 ...  0.5551958           --\n",
       "2M00000103+1525513  0.04991698 00000103+1525513 ... 0.29906178     6298.066\n",
       "               ...         ...              ... ...        ...          ...\n",
       "2M23595867-7339039    -0.68267 23595867-7339039 ...  0.6019535     5399.588\n",
       "2M23595886+5726058 -0.06031398 23595886+5726058 ...  0.9020519     5213.753\n",
       "2M23595886-2009435     -9999.0 23595886-2009435 ... 0.37759304    5500.4463\n",
       "2M23595921+5609479   -0.011308 23595921+5609479 ...  0.7293663           --\n",
       "2M23595949-7342592  -0.6536099 23595949-7342592 ...   0.621788    5042.1333\n",
       "2M23595980+1528407     0.21044 23595980+1528407 ... 0.25240993     6449.789"
      ]
     },
     "execution_count": 12,
     "metadata": {},
     "output_type": "execute_result"
    }
   ],
   "source": [
    "data"
   ]
  },
  {
   "cell_type": "code",
   "execution_count": 13,
   "id": "31cef462-3eed-4b07-87f1-497a8101f163",
   "metadata": {},
   "outputs": [],
   "source": [
    "#setting dcalc based on r_med_geo (if>500pc and photogeo exists, we choose photogeo and set dcalc to 1, else geo and dcalc to 2)\n",
    "data['dcalc'] = [1 if((not(np.ma.is_masked(data['r_med_photogeo'][i])))and(data['r_med_geo'][i]>500)) else 2 for i in range(len(data))]\n",
    "\n",
    "#setting metadata for dcalc\n",
    "data['dcalc'] = data.Column(data['dcalc'],\n",
    "                            meta=collections.OrderedDict([('ucd', 'meta.dcalc')]),\n",
    "                            description='Distance Indicator: 1 indicates a Bailer-Jones photogeometric distance; 2 indicates a Bailer-Jones geometric distance')\n",
    "\n",
    "#Choosing distance based on dcalc\n",
    "data['bj_distance'] = [data['r_med_photogeo'][i] if data['dcalc'][i]==1 else data['r_med_geo'][i] for i in range(len(data))]\n",
    "data['bj_distance'].unit=u.pc\n",
    "\n",
    "#Choosing and calculating distance error based on the distance we chose\n",
    "data['e_bj_dist'] = [((data['r_hi_photogeo'][i]-data['r_lo_photogeo'][i])/2)*u.pc if((not(np.ma.is_masked(data['r_med_photogeo'][i])))and(data['r_med_geo'][i]>500)) else ((data['r_hi_geo'][i]-data['r_lo_geo'][i])/2)*u.pc for i in range(len(data))]"
   ]
  },
  {
   "cell_type": "code",
   "execution_count": 14,
   "id": "5efe190b-0d12-401e-9ec6-814abb917e30",
   "metadata": {},
   "outputs": [],
   "source": [
    "#calculating distance in light years and parsecs\n",
    "calculations.get_distance(data, dist='bj_distance', use='distance')"
   ]
  },
  {
   "cell_type": "code",
   "execution_count": 16,
   "id": "4d8dd508-17a7-45b9-ade1-1e15f33e01fa",
   "metadata": {},
   "outputs": [],
   "source": [
    "#calculating cartesian coordinates\n",
    "calculations.get_cartesian(data, ra='ra', dec='dec', pmra='pmra', pmde='pmdec', radial_velocity='radial_velocity', frame='icrs')"
   ]
  },
  {
   "cell_type": "code",
   "execution_count": 17,
   "id": "c450f2bb-89ff-4f2b-8594-d7ecc59051e2",
   "metadata": {},
   "outputs": [
    {
     "name": "stderr",
     "output_type": "stream",
     "text": [
      "/Users/zackreeves/anaconda3/lib/python3.11/site-packages/numpy/ma/core.py:2820: UserWarning: Warning: converting a masked element to nan.\n",
      "  _data = np.array(data, dtype=dtype, copy=copy,\n",
      "/Users/zackreeves/anaconda3/lib/python3.11/site-packages/astropy/table/column.py:555: UserWarning: Warning: converting a masked element to nan.\n",
      "  self_data = np.array(data, dtype=dtype, copy=copy)\n"
     ]
    }
   ],
   "source": [
    "#calculating absolute magnitudes\n",
    "#calculate absolute V mag based on apparent magnitude and distance\n",
    "data['appmag'] = data.MaskedColumn(data=data['phot_g_mean_mag'],\n",
    "                             unit=u.mag,\n",
    "                             meta=collections.OrderedDict([('ucd', 'phot.mag;em.opt.G')]),\n",
    "                             format='{:.6f}',\n",
    "                             description='Apparent magnitude in Gaia G-band')\n",
    "data['absmag'] = data.MaskedColumn(data=[data['appmag'][i]+5-5*np.log10(data['dist_pc'][i]) for i in range(len(data))],\n",
    "                             unit=u.mag,\n",
    "                             meta=collections.OrderedDict([('ucd', 'phot.magAbs;em.opt.G')]),\n",
    "                             format='{:.6f}',\n",
    "                             description='Absolute magnitude in Gaia G-band')"
   ]
  },
  {
   "cell_type": "code",
   "execution_count": 18,
   "id": "bb67af81-a83d-4117-a37f-0eedf1e86fdb",
   "metadata": {},
   "outputs": [],
   "source": [
    "#calculate luminosity based on absolute magnitude\n",
    "data['lum'] = [10**(1.89 - 0.4*data['absmag'][i]) for i in range(len(data))]\n",
    "small_luminosities = np.where((data['lum']>0.0) & (data['lum']<0.001))[0]\n",
    "data['lum'][small_luminosities] = [0.001]*len(small_luminosities)\n",
    "\n",
    "data['lum'] = data.MaskedColumn(data=data['lum'],\n",
    "                             unit=u.solLum,\n",
    "                             meta=collections.OrderedDict([('ucd', 'phys.luminosity')]),\n",
    "                             format='{:.6f}',\n",
    "                             description='Stellar Luminosity')"
   ]
  },
  {
   "cell_type": "code",
   "execution_count": 19,
   "id": "0b93a04a-27d9-44a4-9056-656022df5cc8",
   "metadata": {},
   "outputs": [
    {
     "data": {
      "text/plain": [
       "(array([1.0000e+00, 0.0000e+00, 1.0000e+00, 1.0000e+00, 0.0000e+00,\n",
       "        0.0000e+00, 0.0000e+00, 0.0000e+00, 0.0000e+00, 2.0000e+00,\n",
       "        0.0000e+00, 0.0000e+00, 2.0000e+00, 0.0000e+00, 0.0000e+00,\n",
       "        0.0000e+00, 0.0000e+00, 0.0000e+00, 0.0000e+00, 0.0000e+00,\n",
       "        1.0000e+00, 0.0000e+00, 1.0000e+00, 2.0000e+00, 0.0000e+00,\n",
       "        0.0000e+00, 0.0000e+00, 0.0000e+00, 1.0000e+00, 1.0000e+00,\n",
       "        0.0000e+00, 0.0000e+00, 0.0000e+00, 0.0000e+00, 2.0000e+00,\n",
       "        3.0000e+00, 1.0000e+00, 0.0000e+00, 1.0000e+00, 1.0000e+00,\n",
       "        1.0000e+00, 2.0000e+00, 1.0000e+00, 2.0000e+00, 1.0000e+00,\n",
       "        0.0000e+00, 2.0000e+00, 2.0000e+00, 1.0000e+00, 2.0000e+00,\n",
       "        1.0000e+00, 1.0000e+00, 2.0000e+00, 1.0000e+00, 2.0000e+00,\n",
       "        2.0000e+00, 1.0000e+00, 2.0000e+00, 3.0000e+00, 6.0000e+00,\n",
       "        4.0000e+00, 5.0000e+00, 2.0000e+00, 4.0000e+00, 3.0000e+00,\n",
       "        1.2000e+01, 5.0000e+00, 6.0000e+00, 8.0000e+00, 9.0000e+00,\n",
       "        6.0000e+00, 4.0000e+00, 8.0000e+00, 6.0000e+00, 7.0000e+00,\n",
       "        2.0000e+00, 4.0000e+00, 6.0000e+00, 5.0000e+00, 5.0000e+00,\n",
       "        1.0000e+01, 7.0000e+00, 7.0000e+00, 7.0000e+00, 3.0000e+00,\n",
       "        8.0000e+00, 9.0000e+00, 6.0000e+00, 1.0000e+01, 1.1000e+01,\n",
       "        8.0000e+00, 1.2000e+01, 1.0000e+01, 1.7000e+01, 7.0000e+00,\n",
       "        2.3000e+01, 3.6000e+01, 3.2000e+01, 3.7000e+01, 4.6000e+01,\n",
       "        3.4000e+01, 5.2000e+01, 7.9000e+01, 8.7000e+01, 1.1400e+02,\n",
       "        1.4200e+02, 1.5800e+02, 1.8100e+02, 2.1000e+02, 2.4300e+02,\n",
       "        2.5600e+02, 3.4900e+02, 6.1500e+02, 1.5800e+03, 3.4810e+03,\n",
       "        4.8020e+03, 5.0880e+03, 5.5650e+03, 7.0230e+03, 1.2278e+04,\n",
       "        2.4179e+04, 3.6366e+04, 2.9186e+04, 2.4079e+04, 3.5465e+04,\n",
       "        4.6674e+04, 4.5384e+04, 3.7472e+04, 3.0374e+04, 2.5945e+04,\n",
       "        2.2809e+04, 2.0357e+04, 1.8545e+04, 1.7150e+04, 1.5266e+04,\n",
       "        1.3854e+04, 1.2202e+04, 1.0898e+04, 9.7090e+03, 8.7730e+03,\n",
       "        7.8720e+03, 7.0930e+03, 6.6050e+03, 6.2460e+03, 5.8500e+03,\n",
       "        5.2270e+03, 4.8390e+03, 4.3370e+03, 4.1200e+03, 3.7240e+03,\n",
       "        3.4090e+03, 3.1590e+03, 2.9390e+03, 2.6630e+03, 2.5250e+03,\n",
       "        2.3790e+03, 2.1780e+03, 2.0710e+03, 1.9090e+03, 1.7380e+03,\n",
       "        1.6480e+03, 1.5240e+03, 1.5080e+03, 1.4500e+03, 1.3220e+03,\n",
       "        1.2660e+03, 1.2440e+03, 1.1520e+03, 1.0480e+03, 9.9800e+02,\n",
       "        9.8100e+02, 9.3100e+02, 8.4300e+02, 8.1900e+02, 7.2300e+02,\n",
       "        6.8300e+02, 6.4300e+02, 6.3900e+02, 5.6200e+02, 5.4300e+02,\n",
       "        4.3600e+02, 4.3000e+02, 4.0200e+02, 4.4600e+02, 4.0100e+02,\n",
       "        3.6900e+02, 3.1700e+02, 3.1100e+02, 3.1100e+02, 2.9200e+02,\n",
       "        3.3800e+02, 2.4700e+02, 2.6600e+02, 2.0000e+02, 2.2500e+02,\n",
       "        2.2400e+02, 2.0900e+02, 2.2600e+02, 1.8900e+02, 1.6700e+02,\n",
       "        1.7800e+02, 1.5500e+02, 1.3000e+02, 1.4900e+02, 1.2400e+02,\n",
       "        1.0800e+02, 1.1300e+02, 1.0700e+02, 9.8000e+01, 1.0200e+02,\n",
       "        9.9000e+01, 8.3000e+01, 8.3000e+01, 5.8000e+01, 8.3000e+01,\n",
       "        6.8000e+01, 7.3000e+01, 5.1000e+01, 4.3000e+01, 4.6000e+01,\n",
       "        4.1000e+01, 3.7000e+01, 3.0000e+01, 2.0000e+01, 2.9000e+01,\n",
       "        2.2000e+01, 2.1000e+01, 1.5000e+01, 2.0000e+01, 1.3000e+01,\n",
       "        1.1000e+01, 1.2000e+01, 1.0000e+00, 1.2000e+01, 8.0000e+00,\n",
       "        4.0000e+00, 5.0000e+00, 3.0000e+00, 3.0000e+00, 1.0000e+00,\n",
       "        2.0000e+00, 1.0000e+00, 3.0000e+00, 2.0000e+00, 0.0000e+00,\n",
       "        1.0000e+00, 0.0000e+00, 0.0000e+00, 0.0000e+00, 1.0000e+00]),\n",
       " array([-5.18147564, -5.13618088, -5.09088612, -5.04559135, -5.00029659,\n",
       "        -4.95500183, -4.90970707, -4.86441278, -4.81911802, -4.77382326,\n",
       "        -4.7285285 , -4.68323374, -4.63793898, -4.59264421, -4.54734945,\n",
       "        -4.50205469, -4.45675993, -4.41146517, -4.36617041, -4.32087564,\n",
       "        -4.27558088, -4.2302866 , -4.18499184, -4.13969707, -4.09440231,\n",
       "        -4.04910755, -4.00381279, -3.95851803, -3.91322327, -3.8679285 ,\n",
       "        -3.82263374, -3.77733898, -3.73204446, -3.6867497 , -3.64145494,\n",
       "        -3.59616017, -3.55086541, -3.50557065, -3.46027589, -3.41498137,\n",
       "        -3.3696866 , -3.32439184, -3.27909708, -3.23380232, -3.18850756,\n",
       "        -3.1432128 , -3.09791827, -3.05262351, -3.00732875, -2.96203399,\n",
       "        -2.91673923, -2.87144446, -2.8261497 , -2.78085518, -2.73556042,\n",
       "        -2.69026566, -2.64497089, -2.59967613, -2.55438137, -2.50908661,\n",
       "        -2.46379209, -2.41849732, -2.37320256, -2.3279078 , -2.28261304,\n",
       "        -2.23731828, -2.19202375, -2.14672899, -2.10143423, -2.05613947,\n",
       "        -2.01084471, -1.96554995, -1.9202553 , -1.87496054, -1.82966578,\n",
       "        -1.78437114, -1.73907638, -1.69378161, -1.64848685, -1.60319221,\n",
       "        -1.55789745, -1.51260269, -1.46730804, -1.42201328, -1.37671852,\n",
       "        -1.33142376, -1.28612912, -1.24083436, -1.19553959, -1.15024495,\n",
       "        -1.10495019, -1.05965543, -1.01436067, -0.96906602, -0.92377126,\n",
       "        -0.87847656, -0.8331818 , -0.7878871 , -0.74259233, -0.69729763,\n",
       "        -0.65200293, -0.60670817, -0.56141347, -0.51611871, -0.470824  ,\n",
       "        -0.42552927, -0.38023454, -0.33493981, -0.28964508, -0.24435036,\n",
       "        -0.19905563, -0.15376091, -0.10846618, -0.06317145, -0.01787672,\n",
       "         0.027418  ,  0.07271273,  0.11800746,  0.16330218,  0.20859692,\n",
       "         0.25389165,  0.29918638,  0.34448108,  0.38977581,  0.43507054,\n",
       "         0.48036528,  0.52565998,  0.57095474,  0.61624944,  0.6615442 ,\n",
       "         0.70683891,  0.75213367,  0.79742837,  0.84272307,  0.88801783,\n",
       "         0.93331254,  0.9786073 ,  1.02390206,  1.0691967 ,  1.11449146,\n",
       "         1.15978622,  1.20508087,  1.25037563,  1.29567039,  1.34096515,\n",
       "         1.38625979,  1.43155456,  1.47684932,  1.52214396,  1.56743872,\n",
       "         1.61273348,  1.65802824,  1.70332289,  1.74861765,  1.79391241,\n",
       "         1.83920705,  1.88450181,  1.92979658,  1.97509122,  2.02038598,\n",
       "         2.06568074,  2.1109755 ,  2.15627027,  2.20156503,  2.24685955,\n",
       "         2.29215431,  2.33744907,  2.38274384,  2.4280386 ,  2.47333336,\n",
       "         2.51862812,  2.56392264,  2.60921741,  2.65451217,  2.69980693,\n",
       "         2.74510169,  2.79039645,  2.83569121,  2.88098574,  2.9262805 ,\n",
       "         2.97157526,  3.01687002,  3.06216478,  3.10745955,  3.15275431,\n",
       "         3.19804883,  3.24334359,  3.28863835,  3.33393312,  3.37922788,\n",
       "         3.42452264,  3.46981716,  3.51511192,  3.56040668,  3.60570145,\n",
       "         3.65099621,  3.69629097,  3.74158573,  3.78688025,  3.83217502,\n",
       "         3.87746978,  3.92276454,  3.9680593 ,  4.01335382,  4.05864859,\n",
       "         4.10394335,  4.14923811,  4.19453287,  4.23982763,  4.28512239,\n",
       "         4.33041716,  4.37571192,  4.42100668,  4.46630144,  4.5115962 ,\n",
       "         4.55689096,  4.60218525,  4.64748001,  4.69277477,  4.73806953,\n",
       "         4.7833643 ,  4.82865906,  4.87395382,  4.91924858,  4.96454334,\n",
       "         5.0098381 ,  5.05513287,  5.10042763,  5.14572239,  5.19101715,\n",
       "         5.23631144,  5.2816062 ,  5.32690096,  5.37219572,  5.41749048,\n",
       "         5.46278524,  5.50808001,  5.55337477,  5.59866953,  5.64396429,\n",
       "         5.68925905,  5.73455381,  5.77984858,  5.82514334,  5.87043762,\n",
       "         5.91573238,  5.96102715,  6.00632191,  6.05161667,  6.09691143,\n",
       "         6.14220619]),\n",
       " <BarContainer object of 250 artists>)"
      ]
     },
     "execution_count": 19,
     "metadata": {},
     "output_type": "execute_result"
    },
    {
     "data": {
      "image/png": "[encoded data removed]",
      "text/plain": [
       "<Figure size 640x480 with 1 Axes>"
      ]
     },
     "metadata": {},
     "output_type": "display_data"
    }
   ],
   "source": [
    "#setting color and visualizing\n",
    "data['color'] = data.MaskedColumn(data=data['bp_g'],\n",
    "                             unit=u.solLum,\n",
    "                             meta=collections.OrderedDict([('ucd', 'phys.color')]),\n",
    "                             format='{:.2f}',\n",
    "                             description='Gaia BP-G color')\n",
    "plt.hist(data['color'], bins=250)"
   ]
  },
  {
   "cell_type": "code",
   "execution_count": 20,
   "id": "e01dd110-8d24-43e1-a459-74955f0f2d13",
   "metadata": {},
   "outputs": [
    {
     "data": {
      "text/plain": [
       "<function matplotlib.pyplot.show(close=None, block=None)>"
      ]
     },
     "execution_count": 20,
     "metadata": {},
     "output_type": "execute_result"
    },
    {
     "data": {
      "image/png": "[encoded data removed]",
      "text/plain": [
       "<Figure size 1000x400 with 2 Axes>"
      ]
     },
     "metadata": {},
     "output_type": "display_data"
    }
   ],
   "source": [
    "#2D Visualization\n",
    "fig, ax = plt.subplots(1, 2)\n",
    "\n",
    "#XY Plane\n",
    "ax[0].scatter(data['x'], data['y'])\n",
    "ax[0].set_title('XY Plane')\n",
    "\n",
    "#XZ Plane\n",
    "ax[1].scatter(data['x'], data['z'])\n",
    "ax[1].set_title('XZ Plane')\n",
    "\n",
    "#set good spacing\n",
    "fig.tight_layout()\n",
    "fig.set_size_inches(10, 4, forward=True)\n",
    "plt.show"
   ]
  },
  {
   "cell_type": "code",
   "execution_count": 21,
   "id": "50ba44b4-8df1-4e8d-9488-ef2abcfc75a0",
   "metadata": {},
   "outputs": [],
   "source": [
    "#construct a speck comment column\n",
    "data['speck_label'] = data.Column(data=['#__'+str(name) for name in data['SOURCE_ID']], \n",
    "                                  meta=collections.OrderedDict([('ucd', 'meta.id')]),\n",
    "                                  description='Gaia DR3 Source ID')\n",
    "\n",
    "#construct a label column\n",
    "data['label'] = ['GaiaDR3_'+ str(source) for source in data['SOURCE_ID']]  #leaving for now in case we want to add other labels"
   ]
  },
  {
   "cell_type": "code",
   "execution_count": 22,
   "id": "61bea618-bef6-430c-848c-7f8445168490",
   "metadata": {},
   "outputs": [],
   "source": [
    "#setting texture number column\n",
    "data['texnum'] = data.Column(data=[1]*len(data), \n",
    "                                  meta=collections.OrderedDict([('ucd', 'meta.texnum')]),\n",
    "                                  description='Texture Number')"
   ]
  },
  {
   "cell_type": "code",
   "execution_count": 23,
   "id": "3b0a629b-e047-4546-949b-0b93e3dee4c3",
   "metadata": {},
   "outputs": [
    {
     "data": {
      "text/html": [
       "<div>\n",
       "<style scoped>\n",
       "    .dataframe tbody tr th:only-of-type {\n",
       "        vertical-align: middle;\n",
       "    }\n",
       "\n",
       "    .dataframe tbody tr th {\n",
       "        vertical-align: top;\n",
       "    }\n",
       "\n",
       "    .dataframe thead th {\n",
       "        text-align: right;\n",
       "    }\n",
       "</style>\n",
       "<table border=\"1\" class=\"dataframe\">\n",
       "  <thead>\n",
       "    <tr style=\"text-align: right;\">\n",
       "      <th></th>\n",
       "      <th>name</th>\n",
       "      <th>unit</th>\n",
       "      <th>datatype</th>\n",
       "      <th>width</th>\n",
       "      <th>precision</th>\n",
       "      <th>arraysize</th>\n",
       "      <th>ucd</th>\n",
       "      <th>description</th>\n",
       "    </tr>\n",
       "  </thead>\n",
       "  <tbody>\n",
       "    <tr>\n",
       "      <th>0</th>\n",
       "      <td>x</td>\n",
       "      <td>pc</td>\n",
       "      <td>float64</td>\n",
       "      <td></td>\n",
       "      <td>6</td>\n",
       "      <td></td>\n",
       "      <td>pos.cartesian.x</td>\n",
       "      <td>Position (x coordinate) in pc</td>\n",
       "    </tr>\n",
       "    <tr>\n",
       "      <th>1</th>\n",
       "      <td>y</td>\n",
       "      <td>pc</td>\n",
       "      <td>float64</td>\n",
       "      <td></td>\n",
       "      <td>6</td>\n",
       "      <td></td>\n",
       "      <td>pos.cartesian.y</td>\n",
       "      <td>Position (y coordinate) in pc</td>\n",
       "    </tr>\n",
       "    <tr>\n",
       "      <th>2</th>\n",
       "      <td>z</td>\n",
       "      <td>pc</td>\n",
       "      <td>float64</td>\n",
       "      <td></td>\n",
       "      <td>6</td>\n",
       "      <td></td>\n",
       "      <td>pos.cartesian.z</td>\n",
       "      <td>Position (z coordinate) in pc</td>\n",
       "    </tr>\n",
       "    <tr>\n",
       "      <th>3</th>\n",
       "      <td>color</td>\n",
       "      <td>solLum</td>\n",
       "      <td>float32</td>\n",
       "      <td></td>\n",
       "      <td>2</td>\n",
       "      <td></td>\n",
       "      <td>phys.color</td>\n",
       "      <td>Gaia BP-G color</td>\n",
       "    </tr>\n",
       "    <tr>\n",
       "      <th>4</th>\n",
       "      <td>lum</td>\n",
       "      <td>solLum</td>\n",
       "      <td>float64</td>\n",
       "      <td></td>\n",
       "      <td>6</td>\n",
       "      <td></td>\n",
       "      <td>phys.luminosity</td>\n",
       "      <td>Stellar Luminosity</td>\n",
       "    </tr>\n",
       "    <tr>\n",
       "      <th>5</th>\n",
       "      <td>absmag</td>\n",
       "      <td>mag</td>\n",
       "      <td>float64</td>\n",
       "      <td></td>\n",
       "      <td>6</td>\n",
       "      <td></td>\n",
       "      <td>phot.magAbs;em.opt.G</td>\n",
       "      <td>Absolute magnitude in Gaia G-band</td>\n",
       "    </tr>\n",
       "    <tr>\n",
       "      <th>6</th>\n",
       "      <td>appmag</td>\n",
       "      <td>mag</td>\n",
       "      <td>float32</td>\n",
       "      <td></td>\n",
       "      <td>6</td>\n",
       "      <td></td>\n",
       "      <td>phot.mag;em.opt.G</td>\n",
       "      <td>Apparent magnitude in Gaia G-band</td>\n",
       "    </tr>\n",
       "    <tr>\n",
       "      <th>7</th>\n",
       "      <td>texnum</td>\n",
       "      <td></td>\n",
       "      <td>int64</td>\n",
       "      <td></td>\n",
       "      <td></td>\n",
       "      <td></td>\n",
       "      <td>meta.texnum</td>\n",
       "      <td>Texture Number</td>\n",
       "    </tr>\n",
       "    <tr>\n",
       "      <th>8</th>\n",
       "      <td>dist_ly</td>\n",
       "      <td>lyr</td>\n",
       "      <td>float32</td>\n",
       "      <td></td>\n",
       "      <td>1</td>\n",
       "      <td></td>\n",
       "      <td>pos.distance</td>\n",
       "      <td>Distance from Sun (lyr)</td>\n",
       "    </tr>\n",
       "    <tr>\n",
       "      <th>9</th>\n",
       "      <td>dcalc</td>\n",
       "      <td></td>\n",
       "      <td>int64</td>\n",
       "      <td></td>\n",
       "      <td></td>\n",
       "      <td></td>\n",
       "      <td>meta.dcalc</td>\n",
       "      <td>Distance Indicator: 1 indicates a Bailer-Jones...</td>\n",
       "    </tr>\n",
       "    <tr>\n",
       "      <th>10</th>\n",
       "      <td>u</td>\n",
       "      <td>km / s</td>\n",
       "      <td>float64</td>\n",
       "      <td></td>\n",
       "      <td>6</td>\n",
       "      <td></td>\n",
       "      <td>vel.cartesian.u</td>\n",
       "      <td>Heliocentric velocity towards Galactic Center</td>\n",
       "    </tr>\n",
       "    <tr>\n",
       "      <th>11</th>\n",
       "      <td>v</td>\n",
       "      <td>km / s</td>\n",
       "      <td>float64</td>\n",
       "      <td></td>\n",
       "      <td>6</td>\n",
       "      <td></td>\n",
       "      <td>vel.cartesian.v</td>\n",
       "      <td>Heliocentric velocity towards Galactic Rotation</td>\n",
       "    </tr>\n",
       "    <tr>\n",
       "      <th>12</th>\n",
       "      <td>w</td>\n",
       "      <td>km / s</td>\n",
       "      <td>float64</td>\n",
       "      <td></td>\n",
       "      <td>6</td>\n",
       "      <td></td>\n",
       "      <td>vel.cartesian.w</td>\n",
       "      <td>Heliocentric velocity towards Galactic North Pole</td>\n",
       "    </tr>\n",
       "    <tr>\n",
       "      <th>13</th>\n",
       "      <td>speed</td>\n",
       "      <td></td>\n",
       "      <td>float64</td>\n",
       "      <td></td>\n",
       "      <td>6</td>\n",
       "      <td></td>\n",
       "      <td>vel.speed</td>\n",
       "      <td>Total heliocentric velocity</td>\n",
       "    </tr>\n",
       "    <tr>\n",
       "      <th>14</th>\n",
       "      <td>speck_label</td>\n",
       "      <td></td>\n",
       "      <td>str</td>\n",
       "      <td></td>\n",
       "      <td></td>\n",
       "      <td>*</td>\n",
       "      <td>meta.id</td>\n",
       "      <td>Gaia DR3 Source ID</td>\n",
       "    </tr>\n",
       "  </tbody>\n",
       "</table>\n",
       "</div>"
      ],
      "text/plain": [
       "           name    unit datatype width precision arraysize  \\\n",
       "0             x      pc  float64               6             \n",
       "1             y      pc  float64               6             \n",
       "2             z      pc  float64               6             \n",
       "3         color  solLum  float32               2             \n",
       "4           lum  solLum  float64               6             \n",
       "5        absmag     mag  float64               6             \n",
       "6        appmag     mag  float32               6             \n",
       "7        texnum            int64                             \n",
       "8       dist_ly     lyr  float32               1             \n",
       "9         dcalc            int64                             \n",
       "10            u  km / s  float64               6             \n",
       "11            v  km / s  float64               6             \n",
       "12            w  km / s  float64               6             \n",
       "13        speed          float64               6             \n",
       "14  speck_label              str                         *   \n",
       "\n",
       "                     ucd                                        description  \n",
       "0        pos.cartesian.x                      Position (x coordinate) in pc  \n",
       "1        pos.cartesian.y                      Position (y coordinate) in pc  \n",
       "2        pos.cartesian.z                      Position (z coordinate) in pc  \n",
       "3             phys.color                                    Gaia BP-G color  \n",
       "4        phys.luminosity                                 Stellar Luminosity  \n",
       "5   phot.magAbs;em.opt.G                  Absolute magnitude in Gaia G-band  \n",
       "6      phot.mag;em.opt.G                  Apparent magnitude in Gaia G-band  \n",
       "7            meta.texnum                                     Texture Number  \n",
       "8           pos.distance                            Distance from Sun (lyr)  \n",
       "9             meta.dcalc  Distance Indicator: 1 indicates a Bailer-Jones...  \n",
       "10       vel.cartesian.u      Heliocentric velocity towards Galactic Center  \n",
       "11       vel.cartesian.v    Heliocentric velocity towards Galactic Rotation  \n",
       "12       vel.cartesian.w  Heliocentric velocity towards Galactic North Pole  \n",
       "13             vel.speed                        Total heliocentric velocity  \n",
       "14               meta.id                                 Gaia DR3 Source ID  "
      ]
     },
     "execution_count": 23,
     "metadata": {},
     "output_type": "execute_result"
    }
   ],
   "source": [
    "#Getting the column metadata\n",
    "columns = file_functions.get_metadata(data, columns=['x', 'y', 'z', 'color', 'lum', 'absmag', 'appmag', 'texnum', 'dist_ly', 'dcalc', 'u', 'v', 'w', 'speed', 'speck_label'])\n",
    "columns"
   ]
  },
  {
   "cell_type": "code",
   "execution_count": 24,
   "id": "c081bd9a-1a92-4ba0-af1f-ac70cfd0c75a",
   "metadata": {},
   "outputs": [],
   "source": [
    "# Print the csv file using the to_csv function in file_functions\n",
    "file_functions.to_csv(metadata, Table.to_pandas(data), columns)"
   ]
  },
  {
   "cell_type": "code",
   "execution_count": 25,
   "id": "0a74a481-de90-4912-b328-516f002c7a8e",
   "metadata": {},
   "outputs": [],
   "source": [
    "# Print the speck file using the to_speck function in file_functions\n",
    "file_functions.to_speck(metadata, Table.to_pandas(data), columns)"
   ]
  },
  {
   "cell_type": "code",
   "execution_count": 26,
   "id": "76a8f5d3-6dc3-4509-988c-be275ce451c0",
   "metadata": {},
   "outputs": [],
   "source": [
    "# Print the label file using the to_label function in file_functions\n",
    "file_functions.to_label(metadata, Table.to_pandas(data))"
   ]
  },
  {
   "cell_type": "code",
   "execution_count": null,
   "id": "eb7d7e32-b514-4df8-9730-be0a7ebf6c22",
   "metadata": {},
   "outputs": [],
   "source": []
  }
 ],
 "metadata": {
  "kernelspec": {
   "display_name": "Python 3 (ipykernel)",
   "language": "python",
   "name": "python3"
  },
  "language_info": {
   "codemirror_mode": {
    "name": "ipython",
    "version": 3
   },
   "file_extension": ".py",
   "mimetype": "text/x-python",
   "name": "python",
   "nbconvert_exporter": "python",
   "pygments_lexer": "ipython3",
   "version": "3.11.8"
  }
 },
 "nbformat": 4,
 "nbformat_minor": 5
}

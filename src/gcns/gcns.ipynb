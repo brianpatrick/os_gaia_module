{
 "cells": [
  {
   "cell_type": "code",
   "execution_count": null,
   "id": "2647cbca",
   "metadata": {},
   "outputs": [],
   "source": [
    "# PROCESS THE GAIA CATALOG OF NEARBY STARS:\n",
    "# https://cdsarc.cds.unistra.fr/viz-bin/cat/J/MNRAS/508/3877#/browse\n",
    "#\n",
    "#\n",
    "# ZACK REEVES\n",
    "# CREATED: 2024\n",
    "#\n",
    "# VERSIONS:\n",
    "#  1.1  FEB 2024 CREATE JUPYTER NOTEBOOK"
   ]
  },
  {
   "cell_type": "code",
   "execution_count": null,
   "id": "7600ed4c",
   "metadata": {},
   "outputs": [],
   "source": [
    "import pandas as pd\n",
    "import numpy as np\n",
    "import sys\n",
    "import os\n",
    "import collections\n",
    "\n",
    "import astropy.units as u\n",
    "import astropy.coordinates\n",
    "from astropy.table import Table\n",
    "\n",
    "from astroquery.gaia import Gaia\n",
    "\n",
    "sys.path.insert(0, '..')\n",
    "from common import file_functions, calculations\n",
    "\n",
    "from matplotlib import pyplot as plt, colors"
   ]
  },
  {
   "cell_type": "code",
   "execution_count": null,
   "id": "d537c56a",
   "metadata": {},
   "outputs": [],
   "source": [
    "# Define the metadata for the data set. \n",
    "metadata = {}\n",
    "\n",
    "metadata['project'] = 'Digital Universe Atlas Gaia Subsets'\n",
    "metadata['sub_project'] = 'Gaia Catalog of Nearby Stars'\n",
    "\n",
    "metadata['catalog'] = 'The Gaia Catalogue of Nearby Stars (Gaia Collaboration, 2021)'\n",
    "metadata['catalog_author'] = 'Gaia Collaboration'\n",
    "metadata['catalog_year'] = '2021'\n",
    "metadata['catalog_doi'] = 'doi:10.1051/0004-6361/202039498'\n",
    "metadata['catalog_bibcode'] = '2021A&A...649A...6G'\n",
    "\n",
    "metadata['prepared_by'] = 'Brian Abbott, Zack Reeves'\n",
    "metadata['version'] = '1.1'\n",
    "\n",
    "metadata['dir'] = metadata['sub_project'].replace(' ', '_').lower()\n",
    "metadata['raw_data_dir'] = ''\n",
    "\n",
    "metadata['data_group_title'] = 'GCNS'\n",
    "metadata['data_group_desc'] = 'Nearby stars in the Milky Way mapped by Gaia'\n",
    "metadata['data_group_desc_long'] = 'Have you ever wondered what’s out there in space? Now, thanks to Gaia EDR3, the solar neighbourhood has been mapped with great precision out to 100 pc (326 light years)'\n",
    "metadata['fileroot'] = 'gcns'\n",
    "\n",
    "file_functions.generate_license_file(metadata)"
   ]
  },
  {
   "cell_type": "code",
   "execution_count": null,
   "id": "af0a52e7",
   "metadata": {},
   "outputs": [],
   "source": [
    "# Define the metadata for the data set. ---- THIS IS OLD???\n",
    "# metadata = {}\n",
    "\n",
    "# metadata['project'] = 'Digital Universe Atlas Gaia Subsets'\n",
    "# metadata['sub_project'] = 'Gaia Catalog of Nearby Stars'\n",
    "\n",
    "# metadata['catalog'] = 'The Gaia Catalogue of Nearby Stars (Gaia Collaboration, 2021)'\n",
    "# metadata['author'] = 'Gaia Collaboration'\n",
    "# metadata['prepared_by'] = 'Zack Reeves (AMNH)'\n",
    "# metadata['version'] = '1.1'\n",
    "\n",
    "# metadata['dir'] = metadata['sub_project'].replace(' ', '_').lower()\n",
    "# metadata['raw_data_dir'] = ''\n",
    "\n",
    "# metadata['data_group_title'] = 'GCNS'\n",
    "# metadata['data_group_desc'] = 'GCNS'\n",
    "# metadata['fileroot'] = 'gcns'"
   ]
  },
  {
   "cell_type": "code",
   "execution_count": null,
   "id": "cfccda67",
   "metadata": {},
   "outputs": [],
   "source": [
    "#reading in the data\n",
    "\n",
    "#log in to Gaia Server - Can change to different credentials file for a different user\n",
    "Gaia.login(credentials_file='../common/gaia_credentials.txt')\n",
    "    \n",
    "#get username from credentials file for query\n",
    "with open('../common/gaia_credentials.txt', 'r') as file:\n",
    "    username = file.readline()\n",
    "\n",
    "#Query Gaia DR3 source for parallaxes\n",
    "#add distances and error\n",
    "job = Gaia.launch_job_async(\"select a.source_id, a.ra, a.dec, a.dist_50, a.dist_16, a.dist_84, a.pmra, a.pmdec, a.adoptedrv as radial_velocity, \"\n",
    "                            \"bj.r_med_geo, bj.r_hi_geo, bj.r_lo_geo, bj.r_med_photogeo, bj.r_hi_photogeo, bj.r_lo_photogeo, \"\n",
    "                            \"c.phot_g_mean_mag, c.bp_g, c.teff_gspphot \"\n",
    "                            \"from external.gaiaedr3_gcns_main_1 a inner join external.gaiaedr3_distance bj on a.source_id = bj.source_id \"\n",
    "                            \"inner join gaiadr3.gaia_source c on a.source_id = c.source_id\",\n",
    "                            dump_to_file=False)\n",
    "\n",
    "#Put the resulting table into a Table\n",
    "data = job.get_results()\n",
    "    \n",
    "#Deleting job from Gaia ESA server so we don't clog the memory\n",
    "Gaia.remove_jobs(job.jobid)\n",
    "\n",
    "Gaia.logout()"
   ]
  },
  {
   "cell_type": "code",
   "execution_count": null,
   "id": "4387c69a",
   "metadata": {},
   "outputs": [],
   "source": [
    "data"
   ]
  },
  {
   "cell_type": "code",
   "execution_count": null,
   "id": "d64b916c",
   "metadata": {},
   "outputs": [],
   "source": [
    "# #read in stars.csv to remove the overlap?\n",
    "# stars = Table.read('stars.csv')\n",
    "# data.remove_rows([i for i in range(len(data)) if(data['source_id'][i] in stars['GaiaDR3'])])"
   ]
  },
  {
   "cell_type": "code",
   "execution_count": null,
   "id": "25639e2e",
   "metadata": {},
   "outputs": [],
   "source": [
    "len(data[data['teff_gspphot']>0])"
   ]
  },
  {
   "cell_type": "code",
   "execution_count": null,
   "id": "bf987a41",
   "metadata": {},
   "outputs": [],
   "source": [
    "#setting dcalc based on r_med_geo (if>500pc and photogeo exists, we choose photogeo and set dcalc to 1, else geo and dcalc to 2)\n",
    "data['dcalc'] = [1 if((not(np.ma.is_masked(data['r_med_photogeo'][i])))and(data['r_med_geo'][i]>500)) else 2 for i in range(len(data))]\n",
    "\n",
    "#setting metadata for dcalc\n",
    "data['dcalc'] = data.Column(data['dcalc'],\n",
    "                            meta=collections.OrderedDict([('ucd', 'meta.dcalc')]),\n",
    "                            description='Distance Indicator: 1 indicates a Bailer-Jones photogeometric distance; 2 indicates a Bailer-Jones geometric distance')\n",
    "\n",
    "#Choosing distance based on dcalc\n",
    "data['bj_distance'] = [data['r_med_photogeo'][i] if data['dcalc'][i]==1 else data['r_med_geo'][i] for i in range(len(data))]\n",
    "data['bj_distance'].unit=u.pc\n",
    "\n",
    "#Choosing and calculating distance error based on the distance we chose\n",
    "data['e_bj_dist'] = [((data['r_hi_photogeo'][i]-data['r_lo_photogeo'][i])/2)*u.pc if((not(np.ma.is_masked(data['r_med_photogeo'][i])))and(data['r_med_geo'][i]>500)) else ((data['r_hi_geo'][i]-data['r_lo_geo'][i])/2)*u.pc for i in range(len(data))]"
   ]
  },
  {
   "cell_type": "code",
   "execution_count": null,
   "id": "0e9ca685",
   "metadata": {},
   "outputs": [],
   "source": [
    "data.remove_rows(np.where(data['bj_distance']>500)[0])"
   ]
  },
  {
   "cell_type": "code",
   "execution_count": null,
   "id": "e1b10cf0",
   "metadata": {},
   "outputs": [],
   "source": [
    "#calculating distance in light years and parsecs\n",
    "calculations.get_distance(data, dist='bj_distance', use='distance')"
   ]
  },
  {
   "cell_type": "code",
   "execution_count": null,
   "id": "993bc605",
   "metadata": {},
   "outputs": [],
   "source": [
    "#calculating cartesian coordinates\n",
    "calculations.get_cartesian(data, ra='ra', dec='dec', pmra='pmra', pmde='pmdec', radial_velocity='radial_velocity', frame='icrs')"
   ]
  },
  {
   "cell_type": "code",
   "execution_count": null,
   "id": "8b90457b",
   "metadata": {},
   "outputs": [],
   "source": [
    "#calculating absolute magnitudes\n",
    "#calculate absolute V mag based on apparent magnitude and distance\n",
    "data['appmag'] = data.MaskedColumn(data=data['phot_g_mean_mag'],\n",
    "                             unit=u.mag,\n",
    "                             meta=collections.OrderedDict([('ucd', 'phot.mag;em.opt.G')]),\n",
    "                             format='{:.6f}',\n",
    "                             description='Apparent magnitude in Gaia G-band')\n",
    "data['absmag'] = data.MaskedColumn(data=[data['appmag'][i]+5-5*np.log10(data['dist_pc'][i]) for i in range(len(data))],\n",
    "                             unit=u.mag,\n",
    "                             meta=collections.OrderedDict([('ucd', 'phot.magAbs;em.opt.G')]),\n",
    "                             format='{:.6f}',\n",
    "                             description='Absolute magnitude in Gaia G-band')"
   ]
  },
  {
   "cell_type": "code",
   "execution_count": null,
   "id": "a0684d20",
   "metadata": {},
   "outputs": [],
   "source": [
    "#calculate luminosity based on absolute magnitude\n",
    "data['lum'] = [10**(1.89 - 0.4*data['absmag'][i]) for i in range(len(data))]\n",
    "small_luminosities = np.where((data['lum']>0.0) & (data['lum']<0.001))[0]\n",
    "data['lum'][small_luminosities] = [0.001]*len(small_luminosities)\n",
    "\n",
    "data['lum'] = data.MaskedColumn(data=data['lum'],\n",
    "                             unit=u.solLum,\n",
    "                             meta=collections.OrderedDict([('ucd', 'phys.luminosity')]),\n",
    "                             format='{:.6f}',\n",
    "                             description='Stellar Luminosity')"
   ]
  },
  {
   "cell_type": "code",
   "execution_count": null,
   "id": "3fdbab18",
   "metadata": {},
   "outputs": [],
   "source": [
    "data.columns"
   ]
  },
  {
   "cell_type": "code",
   "execution_count": null,
   "id": "9b7cc075",
   "metadata": {},
   "outputs": [],
   "source": [
    "#setting color and visualizing\n",
    "data['color'] = data.MaskedColumn(data=data['bp_g'],\n",
    "                             unit=u.solLum,\n",
    "                             meta=collections.OrderedDict([('ucd', 'phys.color')]),\n",
    "                             format='{:.2f}',\n",
    "                             description='Gaia BP-G color')\n",
    "plt.hist(data['color'], bins=250)"
   ]
  },
  {
   "cell_type": "code",
   "execution_count": null,
   "id": "6cf17b30",
   "metadata": {},
   "outputs": [],
   "source": [
    "#2D Visualization\n",
    "fig, ax = plt.subplots(1, 2)\n",
    "\n",
    "#XY Plane\n",
    "ax[0].scatter(data['x'], data['y'])\n",
    "ax[0].set_title('XY Plane')\n",
    "\n",
    "#XZ Plane\n",
    "ax[1].scatter(data['x'], data['z'])\n",
    "ax[1].set_title('XZ Plane')\n",
    "\n",
    "#set good spacing\n",
    "fig.tight_layout()\n",
    "fig.set_size_inches(10, 4, forward=True)\n",
    "plt.show"
   ]
  },
  {
   "cell_type": "code",
   "execution_count": null,
   "id": "638e91bc",
   "metadata": {},
   "outputs": [],
   "source": [
    "#2D Density Visualization\n",
    "fig, ax = plt.subplots(1, 2)\n",
    "\n",
    "#XY Plane\n",
    "ax[0].hist2d(data['x'], data['y'], \n",
    "           bins = 200,  \n",
    "           norm = colors.LogNorm(),  \n",
    "           cmap = \"RdYlGn_r\",) \n",
    "ax[0].set_title('XY Plane')\n",
    "\n",
    "#XZ Plane\n",
    "ax[1].hist2d(data['x'], data['z'], \n",
    "           bins = 200,  \n",
    "           norm = colors.LogNorm(),  \n",
    "           cmap = \"RdYlGn_r\",) \n",
    "ax[1].set_title('XZ Plane')\n",
    "\n",
    "#set good spacing\n",
    "fig.tight_layout()\n",
    "fig.set_size_inches(10, 4, forward=True)\n",
    "#plt.show"
   ]
  },
  {
   "cell_type": "code",
   "execution_count": null,
   "id": "11f43fd8",
   "metadata": {},
   "outputs": [],
   "source": [
    "#construct a speck comment column\n",
    "data['speck_label'] = data.Column(data=['#__'+str(name) for name in data['source_id']], \n",
    "                                  meta=collections.OrderedDict([('ucd', 'meta.id')]),\n",
    "                                  description='Gaia EDR3 Source ID')\n",
    "\n",
    "#construct a label column\n",
    "data['label'] = ['GaiaEDR3_'+ str(source) for source in data['source_id']]  #leaving for now in case we want to add other labels"
   ]
  },
  {
   "cell_type": "code",
   "execution_count": null,
   "id": "55aa8018",
   "metadata": {},
   "outputs": [],
   "source": [
    "#setting texture number column\n",
    "data['texnum'] = data.Column(data=[1]*len(data), \n",
    "                                  meta=collections.OrderedDict([('ucd', 'meta.texnum')]),\n",
    "                                  description='Texture Number')"
   ]
  },
  {
   "cell_type": "code",
   "execution_count": null,
   "id": "9d38c337",
   "metadata": {},
   "outputs": [],
   "source": [
    "#Getting the column metadata\n",
    "columns = file_functions.get_metadata(data, columns=['x', 'y', 'z', 'color', 'lum', 'absmag', 'appmag', 'texnum', 'dist_ly', 'dcalc', 'u', 'v', 'w', 'speed', 'speck_label'])\n",
    "columns"
   ]
  },
  {
   "cell_type": "code",
   "execution_count": null,
   "id": "64111bfc",
   "metadata": {},
   "outputs": [],
   "source": [
    "# #construct a metadata table\n",
    "# columns = file_functions.get_metadata(data, columns=['x', 'y', 'z', 'dist_ly', 'u', 'v', 'w', 'speck_label'])\n",
    "# columns"
   ]
  },
  {
   "cell_type": "code",
   "execution_count": null,
   "id": "97fe65e1",
   "metadata": {},
   "outputs": [],
   "source": [
    "# Print the csv file using the to_csv function in file_functions\n",
    "file_functions.to_csv(metadata, Table.to_pandas(data), columns)"
   ]
  },
  {
   "cell_type": "code",
   "execution_count": null,
   "id": "0ad3bbea",
   "metadata": {},
   "outputs": [],
   "source": [
    "# Print the speck file using the to_speck function in file_functions\n",
    "file_functions.to_speck(metadata, Table.to_pandas(data), columns)"
   ]
  },
  {
   "cell_type": "code",
   "execution_count": null,
   "id": "4ce179bc",
   "metadata": {},
   "outputs": [],
   "source": [
    "# Print the label file using the to_label function in file_functions\n",
    "file_functions.to_label(metadata, Table.to_pandas(data))"
   ]
  },
  {
   "cell_type": "code",
   "execution_count": null,
   "id": "2183463a",
   "metadata": {},
   "outputs": [],
   "source": []
  }
 ],
 "metadata": {
  "kernelspec": {
   "display_name": "Python 3 (ipykernel)",
   "language": "python",
   "name": "python3"
  },
  "language_info": {
   "codemirror_mode": {
    "name": "ipython",
    "version": 3
   },
   "file_extension": ".py",
   "mimetype": "text/x-python",
   "name": "python",
   "nbconvert_exporter": "python",
   "pygments_lexer": "ipython3",
   "version": "3.12.4"
  }
 },
 "nbformat": 4,
 "nbformat_minor": 5
}

{
 "cells": [
  {
   "cell_type": "code",
   "execution_count": 1,
   "id": "d58ec4c7",
   "metadata": {},
   "outputs": [],
   "source": [
    "# PROCESS THE BAILER-JONES NEAR ENCOUNTERS CATALOG:\n",
    "# https://cdsarc.cds.unistra.fr/viz-bin/cat/J/ApJ/935/L9\n",
    "#\n",
    "#\n",
    "# ZACK REEVES\n",
    "# CREATED: 2024\n",
    "#\n",
    "# VERSIONS:\n",
    "#  1.1  MAR 2024 CREATE JUPYTER NOTEBOOK"
   ]
  },
  {
   "cell_type": "code",
   "execution_count": 3,
   "id": "5deba57a",
   "metadata": {},
   "outputs": [],
   "source": [
    "# Define the metadata for the data set. \n",
    "metadata = {}\n",
    "\n",
    "metadata['project'] = 'Digital Universe Atlas Gaia Subsets'\n",
    "metadata['sub_project'] = 'Close encounters to the Sun'\n",
    "\n",
    "metadata['catalog'] = 'Close encounters to the Sun in Gaia DR3 (Bailer-Jones, 2022)'\n",
    "metadata['catalog_author'] = 'Bailer-Jones'\n",
    "metadata['catalog_year'] = '2022'\n",
    "metadata['catalog_doi'] = 'doi:10.1051/0004-6361/202039498'  #need to fix\n",
    "metadata['catalog_bibcode'] = '2021A&A...649A...6G' #need to fix\n",
    "\n",
    "metadata['prepared_by'] = 'Zack Reeves (AMNH)'\n",
    "metadata['version'] = '1.1'\n",
    "\n",
    "metadata['dir'] = metadata['sub_project'].replace(' ', '_').lower()\n",
    "metadata['raw_data_dir'] = ''\n",
    "\n",
    "metadata['data_group_title'] = 'Near Encounters to the Sun'\n",
    "metadata['data_group_desc'] = 'Near Encounters to the Sun'\n",
    "metadata['data_group_desc_long'] = '' #need to write\n",
    "\n",
    "metadata['fileroot'] = 'nearstars'"
   ]
  },
  {
   "cell_type": "code",
   "execution_count": 4,
   "id": "3d8d3348",
   "metadata": {},
   "outputs": [],
   "source": [
    "import pandas as pd\n",
    "import numpy as np\n",
    "import sys\n",
    "import os\n",
    "import collections\n",
    "\n",
    "import astropy.units as u\n",
    "import astropy.coordinates\n",
    "from astropy.table import Table, join\n",
    "\n",
    "from astroquery.vizier import Vizier\n",
    "from astroquery.gaia import Gaia\n",
    "\n",
    "sys.path.insert(0, '..')\n",
    "from common import file_functions, calculations\n",
    "\n",
    "from matplotlib import pyplot as plt, colors"
   ]
  },
  {
   "cell_type": "code",
   "execution_count": 5,
   "id": "bdc23ad0",
   "metadata": {},
   "outputs": [
    {
     "data": {
      "text/html": [
       "<div><i>Table length=61</i>\n",
       "<table id=\"table2134393119184\" class=\"table-striped table-bordered table-condensed\">\n",
       "<thead><tr><th>recno</th><th>Flag</th><th>Seq</th><th>GaiaDR3</th><th>tphmed</th><th>tph5</th><th>tph95</th><th>dphmed</th><th>dph5</th><th>dph95</th><th>vphmed</th><th>vph5</th><th>vph95</th><th>Plx</th><th>e_Plx</th><th>PM</th><th>e_PM</th><th>RV</th><th>e_RV</th><th>rv_vt</th><th>Gmag</th><th>BP-RP</th><th>GMAG</th><th>RUWE</th><th>Solved</th><th>IPDfmp</th><th>RVS_N</th><th>o_RV</th><th>GLON</th><th>GLAT</th><th>Simbad</th><th>_RA.icrs</th><th>_DE.icrs</th></tr></thead>\n",
       "<thead><tr><th></th><th></th><th></th><th></th><th>kyr</th><th>kyr</th><th>kyr</th><th>pc</th><th>pc</th><th>pc</th><th>km / s</th><th>km / s</th><th>km / s</th><th>mas</th><th>mas</th><th>mas / yr</th><th>mas / yr</th><th>km / s</th><th>km / s</th><th></th><th>mag</th><th>mag</th><th>mag</th><th></th><th></th><th></th><th></th><th></th><th>deg</th><th>deg</th><th></th><th>deg</th><th>deg</th></tr></thead>\n",
       "<thead><tr><th>int32</th><th>str3</th><th>int16</th><th>int64</th><th>float32</th><th>float32</th><th>float32</th><th>float32</th><th>float32</th><th>float32</th><th>float32</th><th>float32</th><th>float32</th><th>float32</th><th>float32</th><th>float64</th><th>float32</th><th>float32</th><th>float32</th><th>int16</th><th>float64</th><th>float64</th><th>float64</th><th>float64</th><th>int16</th><th>int16</th><th>float64</th><th>int16</th><th>float64</th><th>float64</th><th>str6</th><th>float64</th><th>float64</th></tr></thead>\n",
       "<tr><td>1</td><td></td><td>1</td><td>4270814637616488064</td><td>1292.1</td><td>1257.1</td><td>1334.1</td><td>0.0636</td><td>0.0595</td><td>0.0678</td><td>14.43</td><td>13.98</td><td>14.83</td><td>52.433</td><td>0.017</td><td>0.428</td><td>0.021</td><td>-14.42</td><td>0.26</td><td>373</td><td>9.0630880</td><td>1.69372460</td><td>7.65959119436154</td><td>0.91285527</td><td>31</td><td>0</td><td>132.5779300</td><td>6</td><td>27.58082464307</td><td>6.13044513408</td><td>Simbad</td><td>274.96183809552</td><td>-1.93861094464</td></tr>\n",
       "<tr><td>2</td><td></td><td>2</td><td>510911618569239040</td><td>-2761.0</td><td>-2797.9</td><td>-2719.5</td><td>0.0641</td><td>0.0191</td><td>0.1171</td><td>26.77</td><td>26.44</td><td>27.15</td><td>13.236</td><td>0.032</td><td>0.144</td><td>0.023</td><td>26.76</td><td>0.21</td><td>517</td><td>8.8913190</td><td>0.76438330</td><td>4.49613702909893</td><td>2.01492600</td><td>31</td><td>0</td><td>188.8394600</td><td>18</td><td>126.35232283848</td><td>-0.79589376133</td><td>Simbad</td><td>20.13165681910</td><td>61.88252018577</td></tr>\n",
       "<tr><td>3</td><td>d</td><td>3</td><td>5544743925212648320</td><td>29.2</td><td>28.2</td><td>30.4</td><td>0.1172</td><td>0.1135</td><td>0.1218</td><td>374.30</td><td>359.71</td><td>387.07</td><td>89.545</td><td>0.015</td><td>71.697</td><td>0.018</td><td>-373.74</td><td>8.18</td><td>98</td><td>14.3463080</td><td>0.68349360</td><td>14.10557883436490</td><td>1.03885290</td><td>31</td><td>0</td><td>6.2259560</td><td>16</td><td>253.12281091169</td><td>-0.79831954224</td><td>Simbad</td><td>123.11242065286</td><td>-35.49549871571</td></tr>\n",
       "<tr><td>4</td><td></td><td>4</td><td>213090546082530816</td><td>8316.4</td><td>7874.3</td><td>8873.6</td><td>0.2482</td><td>0.0716</td><td>0.4848</td><td>22.98</td><td>21.48</td><td>24.29</td><td>5.072</td><td>0.014</td><td>0.449</td><td>0.013</td><td>-23.47</td><td>0.82</td><td>56</td><td>12.0621170</td><td>0.99363330</td><td>5.57620054069361</td><td>1.04663180</td><td>31</td><td>0</td><td>38.7788850</td><td>25</td><td>160.61555218994</td><td>4.85171776544</td><td>Simbad</td><td>77.83893301907</td><td>47.76355101445</td></tr>\n",
       "<tr><td>5</td><td>b</td><td>5</td><td>5571232118090082816</td><td>-1156.7</td><td>-1165.9</td><td>-1145.9</td><td>0.2601</td><td>0.2491</td><td>0.2695</td><td>82.56</td><td>81.91</td><td>83.30</td><td>10.244</td><td>0.009</td><td>0.471</td><td>0.011</td><td>82.48</td><td>0.42</td><td>379</td><td>11.7818800</td><td>1.49293330</td><td>6.83210707658509</td><td>0.92668910</td><td>31</td><td>26</td><td>31.2480100</td><td>9</td><td>249.97666255354</td><td>-25.12032678659</td><td>Simbad</td><td>92.73103563880</td><td>-42.76760945426</td></tr>\n",
       "<tr><td>6</td><td></td><td>6</td><td>5469802896279029504</td><td>11118.7</td><td>10280.8</td><td>12221.8</td><td>0.3483</td><td>0.2487</td><td>0.7277</td><td>3.16</td><td>2.90</td><td>3.39</td><td>29.399</td><td>0.016</td><td>2.388</td><td>0.017</td><td>-2.66</td><td>0.17</td><td>7</td><td>10.0763570</td><td>1.62006000</td><td>7.41587625017846</td><td>1.29775880</td><td>31</td><td>0</td><td>119.3018500</td><td>13</td><td>270.54048828644</td><td>28.69009058190</td><td>Simbad</td><td>161.29825559238</td><td>-26.12585043867</td></tr>\n",
       "<tr><td>7</td><td></td><td>7</td><td>3372104035275483392</td><td>1706.1</td><td>1518.4</td><td>1981.6</td><td>0.3603</td><td>0.2952</td><td>0.4412</td><td>47.65</td><td>40.98</td><td>53.49</td><td>12.032</td><td>0.035</td><td>0.709</td><td>0.040</td><td>-47.45</td><td>3.74</td><td>170</td><td>15.3076030</td><td>2.57186600</td><td>10.69964832006420</td><td>0.96581580</td><td>31</td><td>0</td><td>3.7097740</td><td>8</td><td>193.63472146147</td><td>3.51275108579</td><td>Simbad</td><td>97.04831160984</td><td>18.75357940164</td></tr>\n",
       "<tr><td>8</td><td>d</td><td>8</td><td>3207963476278403200</td><td>-513.9</td><td>-528.9</td><td>-498.5</td><td>0.3620</td><td>0.3078</td><td>0.4179</td><td>515.14</td><td>506.06</td><td>525.50</td><td>3.694</td><td>0.048</td><td>0.810</td><td>0.039</td><td>515.46</td><td>5.81</td><td>496</td><td>14.8894010</td><td>2.63412950</td><td>7.69206662385014</td><td>1.07850600</td><td>95</td><td>28</td><td>4.2067556</td><td>9</td><td>207.53118686822</td><td>-25.14150339684</td><td>Simbad</td><td>78.03144470178</td><td>-6.77071774137</td></tr>\n",
       "<tr><td>9</td><td></td><td>9</td><td>3106500096597409792</td><td>-8694.9</td><td>-9598.5</td><td>-7822.8</td><td>0.3650</td><td>0.0884</td><td>1.0270</td><td>36.18</td><td>32.71</td><td>40.11</td><td>3.091</td><td>0.014</td><td>0.480</td><td>0.014</td><td>36.88</td><td>2.17</td><td>50</td><td>12.7874440</td><td>0.89303684</td><td>5.22039495268728</td><td>0.98813310</td><td>31</td><td>0</td><td>15.9218400</td><td>11</td><td>214.44289976143</td><td>-3.42318241811</td><td>Simbad</td><td>100.49867812788</td><td>-2.90343036982</td></tr>\n",
       "<tr><td>...</td><td>...</td><td>...</td><td>...</td><td>...</td><td>...</td><td>...</td><td>...</td><td>...</td><td>...</td><td>...</td><td>...</td><td>...</td><td>...</td><td>...</td><td>...</td><td>...</td><td>...</td><td>...</td><td>...</td><td>...</td><td>...</td><td>...</td><td>...</td><td>...</td><td>...</td><td>...</td><td>...</td><td>...</td><td>...</td><td>...</td><td>...</td><td>...</td></tr>\n",
       "<tr><td>52</td><td></td><td>52</td><td>2020810807491120896</td><td>-1559.8</td><td>-1936.3</td><td>-1269.9</td><td>0.9219</td><td>0.2574</td><td>2.0505</td><td>76.75</td><td>68.80</td><td>85.80</td><td>8.191</td><td>0.821</td><td>0.838</td><td>0.664</td><td>77.03</td><td>5.09</td><td>159</td><td>14.7888350</td><td>1.96234420</td><td>9.34152420643126</td><td>8.06978700</td><td>95</td><td>30</td><td>9.1579920</td><td>33</td><td>60.64342740401</td><td>0.71885479987</td><td>Simbad</td><td>295.64345056748</td><td>24.80620446629</td></tr>\n",
       "<tr><td>53</td><td></td><td>53</td><td>1926461164913660160</td><td>36.5</td><td>36.4</td><td>36.6</td><td>0.9345</td><td>0.9313</td><td>0.9381</td><td>80.91</td><td>80.60</td><td>81.19</td><td>316.535</td><td>0.044</td><td>1595.623</td><td>0.027</td><td>-77.29</td><td>0.19</td><td>3</td><td>10.3792770</td><td>3.52941420</td><td>12.88101672177910</td><td>1.02732840</td><td>31</td><td>8</td><td>142.5045800</td><td>12</td><td>109.98933805856</td><td>-16.94735049426</td><td>Simbad</td><td>355.48001899448</td><td>44.17037499376</td></tr>\n",
       "<tr><td>54</td><td></td><td>54</td><td>3142271161216457472</td><td>-455.5</td><td>-496.4</td><td>-415.2</td><td>0.9363</td><td>0.8496</td><td>1.0252</td><td>114.02</td><td>104.53</td><td>124.86</td><td>18.833</td><td>0.050</td><td>8.518</td><td>0.060</td><td>114.40</td><td>6.08</td><td>53</td><td>15.7540930</td><td>3.13058950</td><td>12.12158639823250</td><td>1.13678190</td><td>31</td><td>0</td><td>3.6997886</td><td>11</td><td>211.05226981656</td><td>13.12748764526</td><td>Simbad</td><td>113.76691445286</td><td>7.58467539800</td></tr>\n",
       "<tr><td>55</td><td></td><td>55</td><td>5896469620419457536</td><td>5478.7</td><td>4940.4</td><td>6240.5</td><td>0.9557</td><td>0.8150</td><td>1.0472</td><td>20.57</td><td>18.04</td><td>22.80</td><td>8.680</td><td>0.016</td><td>0.783</td><td>0.015</td><td>-20.46</td><td>1.42</td><td>48</td><td>13.5303420</td><td>1.97581770</td><td>8.21294703594234</td><td>0.97140515</td><td>31</td><td>1</td><td>16.9509470</td><td>24</td><td>313.71606344753</td><td>6.72461275148</td><td>Simbad</td><td>211.55706719560</td><td>-54.57361625696</td></tr>\n",
       "<tr><td>56</td><td></td><td>56</td><td>5853498713190525696</td><td>26.6</td><td>26.6</td><td>26.7</td><td>0.9577</td><td>0.9509</td><td>0.9653</td><td>32.39</td><td>32.14</td><td>32.62</td><td>768.089</td><td>0.050</td><td>3859.228</td><td>0.026</td><td>-21.94</td><td>0.22</td><td>1</td><td>8.9847490</td><td>3.80458020</td><td>13.41174306776910</td><td>0.97145325</td><td>95</td><td>11</td><td>222.2683900</td><td>7</td><td>313.92549558327</td><td>-1.91775442329</td><td>Simbad</td><td>217.39232521181</td><td>-62.67607328213</td></tr>\n",
       "<tr><td>57</td><td></td><td>57</td><td>1726458694148645888</td><td>5582.8</td><td>4868.6</td><td>6666.3</td><td>0.9651</td><td>0.3329</td><td>2.6665</td><td>37.46</td><td>31.46</td><td>42.78</td><td>4.733</td><td>0.016</td><td>1.142</td><td>0.020</td><td>-35.95</td><td>3.50</td><td>31</td><td>14.6497320</td><td>1.95347120</td><td>8.01125382982656</td><td>1.03304090</td><td>31</td><td>0</td><td>8.2381760</td><td>23</td><td>123.59457453441</td><td>32.41543084323</td><td>Simbad</td><td>186.81313408548</td><td>84.68166872472</td></tr>\n",
       "<tr><td>58</td><td>d</td><td>58</td><td>418338821185634048</td><td>3098.1</td><td>2653.7</td><td>3813.2</td><td>0.9737</td><td>0.8337</td><td>1.1723</td><td>24.24</td><td>19.65</td><td>28.26</td><td>13.036</td><td>0.043</td><td>0.941</td><td>0.042</td><td>-24.01</td><td>2.58</td><td>70</td><td>14.7630510</td><td>2.86822500</td><td>10.33059474596080</td><td>2.12237860</td><td>31</td><td>0</td><td>11.1224740</td><td>30</td><td>121.70761581351</td><td>-7.52163549710</td><td>Simbad</td><td>10.72543370377</td><td>55.32981999333</td></tr>\n",
       "<tr><td>59</td><td>b</td><td>59</td><td>6899603831309106560</td><td>2459.7</td><td>2156.4</td><td>2921.1</td><td>0.9769</td><td>0.8401</td><td>1.1814</td><td>53.03</td><td>44.62</td><td>60.40</td><td>7.513</td><td>0.027</td><td>0.923</td><td>0.021</td><td>-52.44</td><td>4.74</td><td>90</td><td>14.7632690</td><td>2.14974700</td><td>9.12851954525706</td><td>1.16089960</td><td>31</td><td>0</td><td>7.5810880</td><td>18</td><td>31.56640010074</td><td>-29.21783025942</td><td>Simbad</td><td>308.82709293354</td><td>-13.95090803988</td></tr>\n",
       "<tr><td>60</td><td></td><td>60</td><td>3676827188919831936</td><td>7335.3</td><td>7202.4</td><td>7490.2</td><td>0.9907</td><td>0.8697</td><td>1.1050</td><td>13.88</td><td>13.62</td><td>14.11</td><td>10.100</td><td>0.017</td><td>1.635</td><td>0.023</td><td>-11.84</td><td>0.17</td><td>15</td><td>10.1225080</td><td>0.88490295</td><td>5.13682130597232</td><td>0.96920973</td><td>31</td><td>0</td><td>134.1845200</td><td>31</td><td>301.64012791277</td><td>56.97198419323</td><td>Simbad</td><td>192.15169372096</td><td>-5.89266327200</td></tr>\n",
       "<tr><td>61</td><td>d</td><td>61</td><td>5614610776700908672</td><td>-718.0</td><td>-792.9</td><td>-653.9</td><td>0.9984</td><td>0.8232</td><td>1.2063</td><td>88.43</td><td>81.95</td><td>95.83</td><td>15.378</td><td>0.487</td><td>4.499</td><td>0.302</td><td>88.68</td><td>4.15</td><td>64</td><td>14.3593560</td><td>1.04935170</td><td>10.28852987384230</td><td>29.74098800</td><td>95</td><td>27</td><td>8.0589430</td><td>41</td><td>240.86012059169</td><td>-0.33498283603</td><td>Simbad</td><td>116.12904249276</td><td>-24.80288904898</td></tr>\n",
       "</table></div>"
      ],
      "text/plain": [
       "<Table length=61>\n",
       "recno Flag  Seq        GaiaDR3       ... Simbad     _RA.icrs        _DE.icrs   \n",
       "                                     ...              deg             deg      \n",
       "int32 str3 int16        int64        ...  str6      float64         float64    \n",
       "----- ---- ----- ------------------- ... ------ --------------- ---------------\n",
       "    1          1 4270814637616488064 ... Simbad 274.96183809552  -1.93861094464\n",
       "    2          2  510911618569239040 ... Simbad  20.13165681910  61.88252018577\n",
       "    3    d     3 5544743925212648320 ... Simbad 123.11242065286 -35.49549871571\n",
       "    4          4  213090546082530816 ... Simbad  77.83893301907  47.76355101445\n",
       "    5    b     5 5571232118090082816 ... Simbad  92.73103563880 -42.76760945426\n",
       "    6          6 5469802896279029504 ... Simbad 161.29825559238 -26.12585043867\n",
       "    7          7 3372104035275483392 ... Simbad  97.04831160984  18.75357940164\n",
       "    8    d     8 3207963476278403200 ... Simbad  78.03144470178  -6.77071774137\n",
       "    9          9 3106500096597409792 ... Simbad 100.49867812788  -2.90343036982\n",
       "  ...  ...   ...                 ... ...    ...             ...             ...\n",
       "   52         52 2020810807491120896 ... Simbad 295.64345056748  24.80620446629\n",
       "   53         53 1926461164913660160 ... Simbad 355.48001899448  44.17037499376\n",
       "   54         54 3142271161216457472 ... Simbad 113.76691445286   7.58467539800\n",
       "   55         55 5896469620419457536 ... Simbad 211.55706719560 -54.57361625696\n",
       "   56         56 5853498713190525696 ... Simbad 217.39232521181 -62.67607328213\n",
       "   57         57 1726458694148645888 ... Simbad 186.81313408548  84.68166872472\n",
       "   58    d    58  418338821185634048 ... Simbad  10.72543370377  55.32981999333\n",
       "   59    b    59 6899603831309106560 ... Simbad 308.82709293354 -13.95090803988\n",
       "   60         60 3676827188919831936 ... Simbad 192.15169372096  -5.89266327200\n",
       "   61    d    61 5614610776700908672 ... Simbad 116.12904249276 -24.80288904898"
      ]
     },
     "execution_count": 5,
     "metadata": {},
     "output_type": "execute_result"
    }
   ],
   "source": [
    "#reading in the catalogue\n",
    "catalog = Vizier(catalog='J/ApJ/935/L9/table12', columns=['**'], row_limit=-1).query_constraints()\n",
    "catalog[0]"
   ]
  },
  {
   "cell_type": "code",
   "execution_count": 6,
   "id": "46c7fc18",
   "metadata": {},
   "outputs": [],
   "source": [
    "#reducing data down to the necessary columns\n",
    "data = catalog[0][['GaiaDR3', 'tphmed', 'dphmed', 'vphmed', 'Plx', 'e_Plx', 'RV', 'Gmag', 'GMAG', 'GLON', 'GLAT']]"
   ]
  },
  {
   "cell_type": "code",
   "execution_count": 7,
   "id": "531cc691-5274-42cc-94bd-973557cbe2cf",
   "metadata": {},
   "outputs": [
    {
     "name": "stdout",
     "output_type": "stream",
     "text": [
      "INFO: Login to gaia TAP server [astroquery.gaia.core]\n",
      "INFO: OK [astroquery.utils.tap.core]\n",
      "INFO: Login to gaia data server [astroquery.gaia.core]\n",
      "INFO: OK [astroquery.utils.tap.core]\n",
      "INFO: Sending pytable. [astroquery.utils.tap.core]\n",
      "INFO: Uploaded table 'near_encounters'. [astroquery.utils.tap.core]\n",
      "INFO: Query finished. [astroquery.utils.tap.core]\n"
     ]
    },
    {
     "ename": "TypeError",
     "evalue": "TapPlus.delete_user_table() takes 1 positional argument but 2 were given",
     "output_type": "error",
     "traceback": [
      "\u001b[1;31m---------------------------------------------------------------------------\u001b[0m",
      "\u001b[1;31mTypeError\u001b[0m                                 Traceback (most recent call last)",
      "Cell \u001b[1;32mIn[7], line 23\u001b[0m\n\u001b[0;32m     20\u001b[0m data \u001b[38;5;241m=\u001b[39m join(data, job\u001b[38;5;241m.\u001b[39mget_results(), keys\u001b[38;5;241m=\u001b[39m\u001b[38;5;124m'\u001b[39m\u001b[38;5;124mGaiaDR3\u001b[39m\u001b[38;5;124m'\u001b[39m, join_type\u001b[38;5;241m=\u001b[39m\u001b[38;5;124m'\u001b[39m\u001b[38;5;124mleft\u001b[39m\u001b[38;5;124m'\u001b[39m)\n\u001b[0;32m     21\u001b[0m \u001b[38;5;66;03m# data.remove_column('xhip_main_oid')\u001b[39;00m\n\u001b[0;32m     22\u001b[0m \u001b[38;5;66;03m#Deleting table and job from Gaia ESA server so we don't clog the memory\u001b[39;00m\n\u001b[1;32m---> 23\u001b[0m Gaia\u001b[38;5;241m.\u001b[39mdelete_user_table(\u001b[38;5;124m'\u001b[39m\u001b[38;5;124mnear_encounters\u001b[39m\u001b[38;5;124m'\u001b[39m)\n\u001b[0;32m     24\u001b[0m Gaia\u001b[38;5;241m.\u001b[39mremove_jobs(job\u001b[38;5;241m.\u001b[39mjobid)\n\u001b[0;32m     26\u001b[0m Gaia\u001b[38;5;241m.\u001b[39mlogout()\n",
      "\u001b[1;31mTypeError\u001b[0m: TapPlus.delete_user_table() takes 1 positional argument but 2 were given"
     ]
    }
   ],
   "source": [
    "#Query Gaia ESA ADQL server using Gaia EDR3 IDs to obtain proper motion and RA/DEC to calculate uvw\n",
    "\n",
    "#log in to Gaia Server - Can change to different credentials file for a different user\n",
    "Gaia.login(credentials_file='../common/gaia_credentials.txt')\n",
    "\n",
    "#grab username from file\n",
    "file = open('../common/gaia_credentials.txt', 'r')\n",
    "username = file.readline().strip()\n",
    "\n",
    "#Upload table (table name will be forced to lowercase)\n",
    "job = Gaia.upload_table(upload_resource=data[['GaiaDR3']], table_name=\"near_encounters\", format=\"csv\")\n",
    "\n",
    "#Query Gaia DR3 source for parallaxes\n",
    "#Potentially want Bailer Jones distances pending figuring out the parallax error issue\n",
    "job = Gaia.launch_job_async(\"select a.GaiaDR3, b.ra, b.dec, b.pmra, b.pmdec, bp_g \"\n",
    "                            \"from user_\"+username+\".near_encounters a left join gaiadr3.gaia_source b on a.GaiaDR3 = b.source_id \",\n",
    "                            dump_to_file=False)\n",
    "\n",
    "#put the resulting table into a dataframe and drop the unnecessary index column\n",
    "data = join(data, job.get_results(), keys='GaiaDR3', join_type='left')\n",
    "# data.remove_column('xhip_main_oid')\n",
    "#Deleting table and job from Gaia ESA server so we don't clog the memory\n",
    "Gaia.delete_user_table('near_encounters')\n",
    "Gaia.remove_jobs(job.jobid)\n",
    "\n",
    "Gaia.logout()"
   ]
  },
  {
   "cell_type": "code",
   "execution_count": 8,
   "id": "85ae9a6a-24d9-4a90-acd8-f15bb1061c20",
   "metadata": {},
   "outputs": [
    {
     "data": {
      "text/html": [
       "<div><i>Table length=61</i>\n",
       "<table id=\"table2134399014992\" class=\"table-striped table-bordered table-condensed\">\n",
       "<thead><tr><th>GaiaDR3</th><th>tphmed</th><th>dphmed</th><th>vphmed</th><th>Plx</th><th>e_Plx</th><th>RV</th><th>Gmag</th><th>GMAG</th><th>GLON</th><th>GLAT</th><th>ra</th><th>dec</th><th>pmra</th><th>pmdec</th><th>bp_g</th></tr></thead>\n",
       "<thead><tr><th></th><th>kyr</th><th>pc</th><th>km / s</th><th>mas</th><th>mas</th><th>km / s</th><th>mag</th><th>mag</th><th>deg</th><th>deg</th><th>deg</th><th>deg</th><th>mas / yr</th><th>mas / yr</th><th>mag</th></tr></thead>\n",
       "<thead><tr><th>int64</th><th>float32</th><th>float32</th><th>float32</th><th>float32</th><th>float32</th><th>float32</th><th>float64</th><th>float64</th><th>float64</th><th>float64</th><th>float64</th><th>float64</th><th>float64</th><th>float64</th><th>float32</th></tr></thead>\n",
       "<tr><td>213090546082530816</td><td>8316.4</td><td>0.2482</td><td>22.98</td><td>5.072</td><td>0.014</td><td>-23.47</td><td>12.0621170</td><td>5.57620054069361</td><td>160.61555218994</td><td>4.85171776544</td><td>77.83893167087938</td><td>47.763553049882645</td><td>0.16587197548712088</td><td>0.4176529570702126</td><td>0.41483498</td></tr>\n",
       "<tr><td>398496965625177216</td><td>467.2</td><td>0.7280</td><td>151.90</td><td>13.780</td><td>0.038</td><td>-151.36</td><td>15.4469030</td><td>11.13513634677770</td><td>127.91560069737</td><td>-14.93150767306</td><td>20.01900262146951</td><td>47.662932194043655</td><td>-2.8174090607918645</td><td>-3.042727145758387</td><td>1.623846</td></tr>\n",
       "<tr><td>418338821185634048</td><td>3098.1</td><td>0.9737</td><td>24.24</td><td>13.036</td><td>0.043</td><td>-24.01</td><td>14.7630510</td><td>10.33059474596080</td><td>121.70761581351</td><td>-7.52163549710</td><td>10.72542940722463</td><td>55.329821190695284</td><td>0.34725148630665087</td><td>-0.874112797966536</td><td>1.6328154</td></tr>\n",
       "<tr><td>510911618569239040</td><td>-2761.0</td><td>0.0641</td><td>26.77</td><td>13.236</td><td>0.032</td><td>26.76</td><td>8.8913190</td><td>4.49613702909893</td><td>126.35232283848</td><td>-0.79589376133</td><td>20.131652206655247</td><td>61.882521645503466</td><td>0.1441100950163912</td><td>0.009536279528663762</td><td>0.29331017</td></tr>\n",
       "<tr><td>775766686745320960</td><td>-305.3</td><td>0.8633</td><td>394.31</td><td>8.143</td><td>0.592</td><td>394.66</td><td>15.9094150</td><td>10.44882150881190</td><td>183.26495053035</td><td>61.79661517396</td><td>161.64425758064007</td><td>37.59181657550111</td><td>3.393809191863159</td><td>2.285896456616913</td><td>1.5529661</td></tr>\n",
       "<tr><td>899893234465049216</td><td>1122.2</td><td>0.8787</td><td>41.54</td><td>20.992</td><td>0.042</td><td>-41.11</td><td>14.9554040</td><td>11.56008591461730</td><td>180.07070529149</td><td>21.80807415381</td><td>110.23268055691338</td><td>38.15199999039882</td><td>2.6069333955335554</td><td>2.7609506774113166</td><td>1.526722</td></tr>\n",
       "<tr><td>911145876981562496</td><td>3660.3</td><td>0.7485</td><td>31.19</td><td>8.607</td><td>0.094</td><td>-30.75</td><td>12.4792290</td><td>7.14999255559838</td><td>183.55200783181</td><td>35.01928308742</td><td>127.51198996040647</td><td>38.261132803450515</td><td>0.8138178765586955</td><td>-0.11189176314922761</td><td>0.69585896</td></tr>\n",
       "<tr><td>929788371508812288</td><td>-364.1</td><td>0.4625</td><td>195.27</td><td>13.758</td><td>0.059</td><td>195.68</td><td>15.8339710</td><td>11.51721403377860</td><td>173.12420882032</td><td>31.67510268892</td><td>121.3709965904039</td><td>46.41437668268302</td><td>-2.042764880298999</td><td>3.2324141403546154</td><td>1.901804</td></tr>\n",
       "<tr><td>1132123559268892288</td><td>2581.2</td><td>0.9036</td><td>78.00</td><td>4.867</td><td>0.013</td><td>-77.26</td><td>13.6416300</td><td>7.06495214931845</td><td>132.75988132423</td><td>34.49848636484</td><td>146.4240617097901</td><td>78.80555096508473</td><td>0.37421417258869816</td><td>-0.04844220756031197</td><td>0.64481735</td></tr>\n",
       "<tr><td>...</td><td>...</td><td>...</td><td>...</td><td>...</td><td>...</td><td>...</td><td>...</td><td>...</td><td>...</td><td>...</td><td>...</td><td>...</td><td>...</td><td>...</td><td>...</td></tr>\n",
       "<tr><td>5571232118090082816</td><td>-1156.7</td><td>0.2601</td><td>82.56</td><td>10.244</td><td>0.009</td><td>82.48</td><td>11.7818800</td><td>6.83210707658509</td><td>249.97666255354</td><td>-25.12032678659</td><td>92.73103292856273</td><td>-42.767607601890234</td><td>0.0940182143946459</td><td>0.4613715179271358</td><td>0.66374207</td></tr>\n",
       "<tr><td>5614610776700908672</td><td>-718.0</td><td>0.9984</td><td>88.43</td><td>15.378</td><td>0.487</td><td>88.68</td><td>14.3593560</td><td>10.28852987384230</td><td>240.86012059169</td><td>-0.33498283603</td><td>116.12903991705649</td><td>-24.802887724642595</td><td>-4.108517154337329</td><td>1.8328496524816247</td><td>0.42848778</td></tr>\n",
       "<tr><td>5853498713190525696</td><td>26.6</td><td>0.9577</td><td>32.39</td><td>768.089</td><td>0.050</td><td>-21.94</td><td>8.9847490</td><td>13.41174306776910</td><td>313.92549558327</td><td>-1.91775442329</td><td>217.39232147200883</td><td>-62.67607511676666</td><td>-3781.741008265163</td><td>769.4650146478623</td><td>2.3883667</td></tr>\n",
       "<tr><td>5896469620419457536</td><td>5478.7</td><td>0.9557</td><td>20.57</td><td>8.680</td><td>0.016</td><td>-20.46</td><td>13.5303420</td><td>8.21294703594234</td><td>313.71606344753</td><td>6.72461275148</td><td>211.55706372240405</td><td>-54.573617981961995</td><td>-0.6179675002413209</td><td>0.48093276615355274</td><td>0.98946095</td></tr>\n",
       "<tr><td>6224087389269263488</td><td>-1722.2</td><td>0.9091</td><td>18.04</td><td>31.473</td><td>0.150</td><td>18.03</td><td>10.6440090</td><td>8.13103355850090</td><td>334.08258931134</td><td>25.88340049360</td><td>225.0397172818248</td><td>-29.09102153998009</td><td>-3.234749105087727</td><td>-0.5529266650261873</td><td>0.8664398</td></tr>\n",
       "<tr><td>6483100752169539584</td><td>-3836.6</td><td>0.7872</td><td>34.89</td><td>7.351</td><td>0.039</td><td>34.43</td><td>15.5204520</td><td>9.83784527394876</td><td>353.08563669954</td><td>-41.55507873678</td><td>315.763094476269</td><td>-46.81893778005333</td><td>-1.4770485355364946</td><td>-0.1710261687487783</td><td>1.3162012</td></tr>\n",
       "<tr><td>6608946489396474752</td><td>-2768.0</td><td>0.5544</td><td>44.81</td><td>7.945</td><td>0.015</td><td>43.82</td><td>12.2665170</td><td>6.76412235508426</td><td>23.59100186518</td><td>-61.35109688719</td><td>340.46248378068725</td><td>-27.996400193200564</td><td>-0.6504235910447358</td><td>-0.31396487077539437</td><td>0.6515856</td></tr>\n",
       "<tr><td>6726602067616477056</td><td>-2056.8</td><td>0.8152</td><td>26.85</td><td>17.703</td><td>0.026</td><td>26.88</td><td>9.1819030</td><td>5.41827199675180</td><td>354.41422224624</td><td>-11.89781741792</td><td>275.8318004955399</td><td>-39.52000097196355</td><td>-1.7835032182720998</td><td>0.19283918433205002</td><td>0.39239597</td></tr>\n",
       "<tr><td>6899603831309106560</td><td>2459.7</td><td>0.9769</td><td>53.03</td><td>7.513</td><td>0.027</td><td>-52.44</td><td>14.7632690</td><td>9.12851954525706</td><td>31.56640010074</td><td>-29.21783025942</td><td>308.82709156134223</td><td>-13.95090897988789</td><td>0.5436628846261071</td><td>-0.745777940391386</td><td>1.1071224</td></tr>\n",
       "<tr><td>6913732624445112832</td><td>2908.1</td><td>0.4641</td><td>105.16</td><td>3.208</td><td>0.024</td><td>-104.06</td><td>14.5331980</td><td>7.03594187649402</td><td>43.34128069658</td><td>-30.30501323246</td><td>314.3528430251829</td><td>-5.2361814426691975</td><td>0.7250229845699543</td><td>-0.10573587460728098</td><td>0.62186813</td></tr>\n",
       "</table></div>"
      ],
      "text/plain": [
       "<Table length=61>\n",
       "      GaiaDR3        tphmed  dphmed ...        pmdec            bp_g   \n",
       "                      kyr      pc   ...       mas / yr          mag    \n",
       "       int64        float32 float32 ...       float64         float32  \n",
       "------------------- ------- ------- ... -------------------- ----------\n",
       " 213090546082530816  8316.4  0.2482 ...   0.4176529570702126 0.41483498\n",
       " 398496965625177216   467.2  0.7280 ...   -3.042727145758387   1.623846\n",
       " 418338821185634048  3098.1  0.9737 ...   -0.874112797966536  1.6328154\n",
       " 510911618569239040 -2761.0  0.0641 ... 0.009536279528663762 0.29331017\n",
       " 775766686745320960  -305.3  0.8633 ...    2.285896456616913  1.5529661\n",
       " 899893234465049216  1122.2  0.8787 ...   2.7609506774113166   1.526722\n",
       " 911145876981562496  3660.3  0.7485 ... -0.11189176314922761 0.69585896\n",
       " 929788371508812288  -364.1  0.4625 ...   3.2324141403546154   1.901804\n",
       "1132123559268892288  2581.2  0.9036 ... -0.04844220756031197 0.64481735\n",
       "                ...     ...     ... ...                  ...        ...\n",
       "5571232118090082816 -1156.7  0.2601 ...   0.4613715179271358 0.66374207\n",
       "5614610776700908672  -718.0  0.9984 ...   1.8328496524816247 0.42848778\n",
       "5853498713190525696    26.6  0.9577 ...    769.4650146478623  2.3883667\n",
       "5896469620419457536  5478.7  0.9557 ...  0.48093276615355274 0.98946095\n",
       "6224087389269263488 -1722.2  0.9091 ...  -0.5529266650261873  0.8664398\n",
       "6483100752169539584 -3836.6  0.7872 ...  -0.1710261687487783  1.3162012\n",
       "6608946489396474752 -2768.0  0.5544 ... -0.31396487077539437  0.6515856\n",
       "6726602067616477056 -2056.8  0.8152 ...  0.19283918433205002 0.39239597\n",
       "6899603831309106560  2459.7  0.9769 ...   -0.745777940391386  1.1071224\n",
       "6913732624445112832  2908.1  0.4641 ... -0.10573587460728098 0.62186813"
      ]
     },
     "execution_count": 8,
     "metadata": {},
     "output_type": "execute_result"
    }
   ],
   "source": [
    "data"
   ]
  },
  {
   "cell_type": "code",
   "execution_count": 9,
   "id": "0a54d0f6",
   "metadata": {},
   "outputs": [],
   "source": [
    "#calculating distance in light years and parsecs\n",
    "calculations.get_distance(data, parallax='Plx', use='parallax')"
   ]
  },
  {
   "cell_type": "code",
   "execution_count": 10,
   "id": "08581054",
   "metadata": {},
   "outputs": [],
   "source": [
    "#calculating cartesian coordinates\n",
    "calculations.get_cartesian(data, ra='ra', dec='dec', pmra='pmra', pmde='pmdec', radial_velocity='RV', frame='icrs')"
   ]
  },
  {
   "cell_type": "code",
   "execution_count": 11,
   "id": "e090319a-c48d-4afa-9d12-36544cf26c16",
   "metadata": {},
   "outputs": [
    {
     "data": {
      "text/html": [
       "<div><i>Table length=61</i>\n",
       "<table id=\"table2134399014992\" class=\"table-striped table-bordered table-condensed\">\n",
       "<thead><tr><th>GaiaDR3</th><th>tphmed</th><th>dphmed</th><th>vphmed</th><th>Plx</th><th>e_Plx</th><th>RV</th><th>Gmag</th><th>GMAG</th><th>GLON</th><th>GLAT</th><th>ra</th><th>dec</th><th>pmra</th><th>pmdec</th><th>bp_g</th><th>dist_pc</th><th>dist_ly</th><th>x</th><th>y</th><th>z</th><th>u</th><th>v</th><th>w</th><th>speed</th></tr></thead>\n",
       "<thead><tr><th></th><th>kyr</th><th>pc</th><th>km / s</th><th>mas</th><th>mas</th><th>km / s</th><th>mag</th><th>mag</th><th>deg</th><th>deg</th><th>deg</th><th>deg</th><th>mas / yr</th><th>mas / yr</th><th>mag</th><th>pc</th><th>lyr</th><th>pc</th><th>pc</th><th>pc</th><th>km / s</th><th>km / s</th><th>km / s</th><th></th></tr></thead>\n",
       "<thead><tr><th>int64</th><th>float32</th><th>float32</th><th>float32</th><th>float32</th><th>float32</th><th>float32</th><th>float64</th><th>float64</th><th>float64</th><th>float64</th><th>float64</th><th>float64</th><th>float64</th><th>float64</th><th>float32</th><th>float32</th><th>float32</th><th>float64</th><th>float64</th><th>float64</th><th>float64</th><th>float64</th><th>float64</th><th>float64</th></tr></thead>\n",
       "<tr><td>213090546082530816</td><td>8316.4</td><td>0.2482</td><td>22.98</td><td>5.072</td><td>0.014</td><td>-23.47</td><td>12.0621170</td><td>5.57620054069361</td><td>160.61555218994</td><td>4.85171776544</td><td>77.83893167087938</td><td>47.763553049882645</td><td>0.16587197548712088</td><td>0.4176529570702126</td><td>0.41483498</td><td>197.160889</td><td>643.1</td><td>-185.317996</td><td>65.204211</td><td>16.675344</td><td>22.163167</td><td>-7.559714</td><td>-1.631570</td><td>23.473757</td></tr>\n",
       "<tr><td>398496965625177216</td><td>467.2</td><td>0.7280</td><td>151.90</td><td>13.780</td><td>0.038</td><td>-151.36</td><td>15.4469030</td><td>11.13513634677770</td><td>127.91560069737</td><td>-14.93150767306</td><td>20.01900262146951</td><td>47.662932194043655</td><td>-2.8174090607918645</td><td>-3.042727145758387</td><td>1.623846</td><td>72.568939</td><td>236.7</td><td>-43.087898</td><td>55.317749</td><td>-18.698413</td><td>90.717225</td><td>-115.094665</td><td>37.887835</td><td>151.366723</td></tr>\n",
       "<tr><td>418338821185634048</td><td>3098.1</td><td>0.9737</td><td>24.24</td><td>13.036</td><td>0.043</td><td>-24.01</td><td>14.7630510</td><td>10.33059474596080</td><td>121.70761581351</td><td>-7.52163549710</td><td>10.72542940722463</td><td>55.329821190695284</td><td>0.34725148630665087</td><td>-0.874112797966536</td><td>1.6328154</td><td>76.710648</td><td>250.2</td><td>-39.971037</td><td>64.699371</td><td>-10.041464</td><td>12.434528</td><td>-20.347134</td><td>2.823781</td><td>24.012436</td></tr>\n",
       "<tr><td>510911618569239040</td><td>-2761.0</td><td>0.0641</td><td>26.77</td><td>13.236</td><td>0.032</td><td>26.76</td><td>8.8913190</td><td>4.49613702909893</td><td>126.35232283848</td><td>-0.79589376133</td><td>20.131652206655247</td><td>61.882521645503466</td><td>0.1441100950163912</td><td>0.009536279528663762</td><td>0.29331017</td><td>75.551521</td><td>246.4</td><td>-44.778768</td><td>60.842362</td><td>-1.049447</td><td>-15.901503</td><td>21.520016</td><td>-0.362501</td><td>26.760050</td></tr>\n",
       "<tr><td>775766686745320960</td><td>-305.3</td><td>0.8633</td><td>394.31</td><td>8.143</td><td>0.592</td><td>394.66</td><td>15.9094150</td><td>10.44882150881190</td><td>183.26495053035</td><td>61.79661517396</td><td>161.64425758064007</td><td>37.59181657550111</td><td>3.393809191863159</td><td>2.285896456616913</td><td>1.5529661</td><td>122.804871</td><td>400.5</td><td>-57.943719</td><td>-3.305460</td><td>108.224931</td><td>-184.871833</td><td>-8.814017</td><td>348.578415</td><td>394.667192</td></tr>\n",
       "<tr><td>899893234465049216</td><td>1122.2</td><td>0.8787</td><td>41.54</td><td>20.992</td><td>0.042</td><td>-41.11</td><td>14.9554040</td><td>11.56008591461730</td><td>180.07070529149</td><td>21.80807415381</td><td>110.23268055691338</td><td>38.15199999039882</td><td>2.6069333955335554</td><td>2.7609506774113166</td><td>1.526722</td><td>47.637196</td><td>155.4</td><td>-44.227933</td><td>-0.054584</td><td>17.697157</td><td>38.447133</td><td>0.457548</td><td>-14.573129</td><td>41.118943</td></tr>\n",
       "<tr><td>911145876981562496</td><td>3660.3</td><td>0.7485</td><td>31.19</td><td>8.607</td><td>0.094</td><td>-30.75</td><td>12.4792290</td><td>7.14999255559838</td><td>183.55200783181</td><td>35.01928308742</td><td>127.51198996040647</td><td>38.261132803450515</td><td>0.8138178765586955</td><td>-0.11189176314922761</td><td>0.69585896</td><td>116.184502</td><td>378.9</td><td>-94.967548</td><td>-5.895006</td><td>66.672724</td><td>25.390761</td><td>1.444843</td><td>-17.291295</td><td>30.753328</td></tr>\n",
       "<tr><td>929788371508812288</td><td>-364.1</td><td>0.4625</td><td>195.27</td><td>13.758</td><td>0.059</td><td>195.68</td><td>15.8339710</td><td>11.51721403377860</td><td>173.12420882032</td><td>31.67510268892</td><td>121.3709965904039</td><td>46.41437668268302</td><td>-2.042764880298999</td><td>3.2324141403546154</td><td>1.901804</td><td>72.684982</td><td>237.1</td><td>-61.412900</td><td>7.405443</td><td>38.167025</td><td>-165.479633</td><td>21.158133</td><td>102.280106</td><td>195.684428</td></tr>\n",
       "<tr><td>1132123559268892288</td><td>2581.2</td><td>0.9036</td><td>78.00</td><td>4.867</td><td>0.013</td><td>-77.26</td><td>13.6416300</td><td>7.06495214931845</td><td>132.75988132423</td><td>34.49848636484</td><td>146.4240617097901</td><td>78.80555096508473</td><td>0.37421417258869816</td><td>-0.04844220756031197</td><td>0.64481735</td><td>205.465378</td><td>670.1</td><td>-114.964460</td><td>124.324807</td><td>116.372406</td><td>43.489936</td><td>-46.750966</td><td>-43.499605</td><td>77.260876</td></tr>\n",
       "<tr><td>...</td><td>...</td><td>...</td><td>...</td><td>...</td><td>...</td><td>...</td><td>...</td><td>...</td><td>...</td><td>...</td><td>...</td><td>...</td><td>...</td><td>...</td><td>...</td><td>...</td><td>...</td><td>...</td><td>...</td><td>...</td><td>...</td><td>...</td><td>...</td><td>...</td></tr>\n",
       "<tr><td>5571232118090082816</td><td>-1156.7</td><td>0.2601</td><td>82.56</td><td>10.244</td><td>0.009</td><td>82.48</td><td>11.7818800</td><td>6.83210707658509</td><td>249.97666255354</td><td>-25.12032678659</td><td>92.73103292856273</td><td>-42.767607601890234</td><td>0.0940182143946459</td><td>0.4613715179271358</td><td>0.66374207</td><td>97.618111</td><td>318.4</td><td>-30.263345</td><td>-83.042621</td><td>-41.440905</td><td>-25.768005</td><td>-70.136105</td><td>-34.927569</td><td>82.480291</td></tr>\n",
       "<tr><td>5614610776700908672</td><td>-718.0</td><td>0.9984</td><td>88.43</td><td>15.378</td><td>0.487</td><td>88.68</td><td>14.3593560</td><td>10.28852987384230</td><td>240.86012059169</td><td>-0.33498283603</td><td>116.12903991705649</td><td>-24.802887724642595</td><td>-4.108517154337329</td><td>1.8328496524816247</td><td>0.42848778</td><td>65.027962</td><td>212.1</td><td>-31.664392</td><td>-56.796633</td><td>-0.380187</td><td>-44.159249</td><td>-76.904154</td><td>-1.333264</td><td>88.690843</td></tr>\n",
       "<tr><td>5853498713190525696</td><td>26.6</td><td>0.9577</td><td>32.39</td><td>768.089</td><td>0.050</td><td>-21.94</td><td>8.9847490</td><td>13.41174306776910</td><td>313.92549558327</td><td>-1.91775442329</td><td>217.39232147200883</td><td>-62.67607511676666</td><td>-3781.741008265163</td><td>769.4650146478623</td><td>2.3883667</td><td>1.301932</td><td>4.2</td><td>0.902674</td><td>-0.937182</td><td>-0.043569</td><td>-29.263491</td><td>1.652933</td><td>13.769163</td><td>32.383236</td></tr>\n",
       "<tr><td>5896469620419457536</td><td>5478.7</td><td>0.9557</td><td>20.57</td><td>8.680</td><td>0.016</td><td>-20.46</td><td>13.5303420</td><td>8.21294703594234</td><td>313.71606344753</td><td>6.72461275148</td><td>211.55706372240405</td><td>-54.573617981961995</td><td>-0.6179675002413209</td><td>0.48093276615355274</td><td>0.98946095</td><td>115.207375</td><td>375.8</td><td>79.070369</td><td>-82.695967</td><td>13.490475</td><td>-14.249645</td><td>14.544447</td><td>-2.049669</td><td>20.464468</td></tr>\n",
       "<tr><td>6224087389269263488</td><td>-1722.2</td><td>0.9091</td><td>18.04</td><td>31.473</td><td>0.150</td><td>18.03</td><td>10.6440090</td><td>8.13103355850090</td><td>334.08258931134</td><td>25.88340049360</td><td>225.0397172818248</td><td>-29.09102153998009</td><td>-3.234749105087727</td><td>-0.5529266650261873</td><td>0.8664398</td><td>31.773266</td><td>103.6</td><td>25.710883</td><td>-12.494187</td><td>13.870337</td><td>14.316682</td><td>-7.466390</td><td>8.038090</td><td>18.036775</td></tr>\n",
       "<tr><td>6483100752169539584</td><td>-3836.6</td><td>0.7872</td><td>34.89</td><td>7.351</td><td>0.039</td><td>34.43</td><td>15.5204520</td><td>9.83784527394876</td><td>353.08563669954</td><td>-41.55507873678</td><td>315.763094476269</td><td>-46.81893778005333</td><td>-1.4770485355364946</td><td>-0.1710261687487783</td><td>1.3162012</td><td>136.035919</td><td>443.7</td><td>101.057819</td><td>-12.255033</td><td>-90.238033</td><td>26.200425</td><td>-3.236257</td><td>-22.122584</td><td>34.443350</td></tr>\n",
       "<tr><td>6608946489396474752</td><td>-2768.0</td><td>0.5544</td><td>44.81</td><td>7.945</td><td>0.015</td><td>43.82</td><td>12.2665170</td><td>6.76412235508426</td><td>23.59100186518</td><td>-61.35109688719</td><td>340.46248378068725</td><td>-27.996400193200564</td><td>-0.6504235910447358</td><td>-0.31396487077539437</td><td>0.6515856</td><td>125.865318</td><td>410.5</td><td>55.301696</td><td>24.150386</td><td>-110.456144</td><td>19.638743</td><td>8.328931</td><td>-38.279586</td><td>43.822119</td></tr>\n",
       "<tr><td>6726602067616477056</td><td>-2056.8</td><td>0.8152</td><td>26.85</td><td>17.703</td><td>0.026</td><td>26.88</td><td>9.1819030</td><td>5.41827199675180</td><td>354.41422224624</td><td>-11.89781741792</td><td>275.8318004955399</td><td>-39.52000097196355</td><td>-1.7835032182720998</td><td>0.19283918433205002</td><td>0.39239597</td><td>56.487606</td><td>184.2</td><td>55.011610</td><td>-5.380143</td><td>-11.645878</td><td>26.255190</td><td>-2.727401</td><td>-5.098177</td><td>26.884291</td></tr>\n",
       "<tr><td>6899603831309106560</td><td>2459.7</td><td>0.9769</td><td>53.03</td><td>7.513</td><td>0.027</td><td>-52.44</td><td>14.7632690</td><td>9.12851954525706</td><td>31.56640010074</td><td>-29.21783025942</td><td>308.82709156134223</td><td>-13.95090897988789</td><td>0.5436628846261071</td><td>-0.745777940391386</td><td>1.1071224</td><td>133.102615</td><td>434.1</td><td>98.979082</td><td>60.812372</td><td>-64.971555</td><td>-39.050801</td><td>-24.338183</td><td>25.159101</td><td>52.443232</td></tr>\n",
       "<tr><td>6913732624445112832</td><td>2908.1</td><td>0.4641</td><td>105.16</td><td>3.208</td><td>0.024</td><td>-104.06</td><td>14.5331980</td><td>7.03594187649402</td><td>43.34128069658</td><td>-30.30501323246</td><td>314.3528430251829</td><td>-5.2361814426691975</td><td>0.7250229845699543</td><td>-0.10573587460728098</td><td>0.62186813</td><td>311.720703</td><td>1016.7</td><td>195.728425</td><td>184.711617</td><td>-157.295261</td><td>-65.968229</td><td>-61.741579</td><td>51.631633</td><td>104.065630</td></tr>\n",
       "</table></div>"
      ],
      "text/plain": [
       "<Table length=61>\n",
       "      GaiaDR3        tphmed  dphmed ...      v          w        speed   \n",
       "                      kyr      pc   ...    km / s     km / s             \n",
       "       int64        float32 float32 ...   float64    float64    float64  \n",
       "------------------- ------- ------- ... ----------- ---------- ----------\n",
       " 213090546082530816  8316.4  0.2482 ...   -7.559714  -1.631570  23.473757\n",
       " 398496965625177216   467.2  0.7280 ... -115.094665  37.887835 151.366723\n",
       " 418338821185634048  3098.1  0.9737 ...  -20.347134   2.823781  24.012436\n",
       " 510911618569239040 -2761.0  0.0641 ...   21.520016  -0.362501  26.760050\n",
       " 775766686745320960  -305.3  0.8633 ...   -8.814017 348.578415 394.667192\n",
       " 899893234465049216  1122.2  0.8787 ...    0.457548 -14.573129  41.118943\n",
       " 911145876981562496  3660.3  0.7485 ...    1.444843 -17.291295  30.753328\n",
       " 929788371508812288  -364.1  0.4625 ...   21.158133 102.280106 195.684428\n",
       "1132123559268892288  2581.2  0.9036 ...  -46.750966 -43.499605  77.260876\n",
       "                ...     ...     ... ...         ...        ...        ...\n",
       "5571232118090082816 -1156.7  0.2601 ...  -70.136105 -34.927569  82.480291\n",
       "5614610776700908672  -718.0  0.9984 ...  -76.904154  -1.333264  88.690843\n",
       "5853498713190525696    26.6  0.9577 ...    1.652933  13.769163  32.383236\n",
       "5896469620419457536  5478.7  0.9557 ...   14.544447  -2.049669  20.464468\n",
       "6224087389269263488 -1722.2  0.9091 ...   -7.466390   8.038090  18.036775\n",
       "6483100752169539584 -3836.6  0.7872 ...   -3.236257 -22.122584  34.443350\n",
       "6608946489396474752 -2768.0  0.5544 ...    8.328931 -38.279586  43.822119\n",
       "6726602067616477056 -2056.8  0.8152 ...   -2.727401  -5.098177  26.884291\n",
       "6899603831309106560  2459.7  0.9769 ...  -24.338183  25.159101  52.443232\n",
       "6913732624445112832  2908.1  0.4641 ...  -61.741579  51.631633 104.065630"
      ]
     },
     "execution_count": 11,
     "metadata": {},
     "output_type": "execute_result"
    }
   ],
   "source": [
    "data"
   ]
  },
  {
   "cell_type": "code",
   "execution_count": 12,
   "id": "dc19911c",
   "metadata": {},
   "outputs": [],
   "source": [
    "#setting dcalc\n",
    "#setting metadata for dcalc\n",
    "#since we calculate distance only using parallax in this dataset, dcalc is always 2\n",
    "data['dcalc'] = data.Column(data=[2]*len(data),\n",
    "                            meta=collections.OrderedDict([('ucd', 'meta.dcalc')]),\n",
    "                            description='Distance Indicator: 1 indicates a Bailer-Jones photogeometric distance; 2 indicates a Bailer-Jones geometric distance')"
   ]
  },
  {
   "cell_type": "code",
   "execution_count": 14,
   "id": "8385895e",
   "metadata": {},
   "outputs": [],
   "source": [
    "#calculating absolute magnitudes\n",
    "#calculate absolute V mag based on apparent magnitude and distance\n",
    "data['appmag'] = data.MaskedColumn(data=data['Gmag'],\n",
    "                             unit=u.mag,\n",
    "                             meta=collections.OrderedDict([('ucd', 'phot.mag;em.opt.G')]),\n",
    "                             format='{:.6f}',\n",
    "                             description='Apparent magnitude in Gaia G-band')\n",
    "data['absmag'] = data.MaskedColumn(data=[data['appmag'][i]+5-5*np.log10(data['dist_pc'][i]) for i in range(len(data))],\n",
    "                             unit=u.mag,\n",
    "                             meta=collections.OrderedDict([('ucd', 'phot.magAbs;em.opt.G')]),\n",
    "                             format='{:.6f}',\n",
    "                             description='Absolute magnitude in Gaia G-band')"
   ]
  },
  {
   "cell_type": "code",
   "execution_count": 17,
   "id": "4f042ce9",
   "metadata": {},
   "outputs": [],
   "source": [
    "#calculate luminosity based on absolute magnitude\n",
    "data['lum'] = [10**(1.89 - 0.4*data['absmag'][i]) for i in range(len(data))]\n",
    "small_luminosities = np.where((data['lum']>0.0) & (data['lum']<0.001))[0]\n",
    "data['lum'][small_luminosities] = [0.001]*len(small_luminosities)\n",
    "\n",
    "data['lum'] = data.MaskedColumn(data=data['lum'],\n",
    "                             unit=u.solLum,\n",
    "                             meta=collections.OrderedDict([('ucd', 'phys.luminosity')]),\n",
    "                             format='{:.6f}',\n",
    "                             description='Stellar Luminosity')"
   ]
  },
  {
   "cell_type": "code",
   "execution_count": 19,
   "id": "652c11c5",
   "metadata": {},
   "outputs": [
    {
     "data": {
      "text/plain": [
       "(array([12.,  6.,  9.,  7.,  7.,  7.,  8.,  2.,  2.,  1.]),\n",
       " array([0.18293858, 0.40348139, 0.62402421, 0.844567  , 1.06510985,\n",
       "        1.28565264, 1.50619543, 1.72673821, 1.94728112, 2.16782379,\n",
       "        2.3883667 ]),\n",
       " <BarContainer object of 10 artists>)"
      ]
     },
     "execution_count": 19,
     "metadata": {},
     "output_type": "execute_result"
    },
    {
     "data": {
      "image/png": "[encoded data removed]",
      "text/plain": [
       "<Figure size 640x480 with 1 Axes>"
      ]
     },
     "metadata": {},
     "output_type": "display_data"
    }
   ],
   "source": [
    "#setting color and visualizing\n",
    "data['color'] = data.MaskedColumn(data=data['bp_g'],\n",
    "                             unit=u.solLum,\n",
    "                             meta=collections.OrderedDict([('ucd', 'phys.color')]),\n",
    "                             format='{:.2f}',\n",
    "                             description='Gaia BP-G color')\n",
    "plt.hist(data['color'], bins=10)"
   ]
  },
  {
   "cell_type": "code",
   "execution_count": 20,
   "id": "802228aa",
   "metadata": {},
   "outputs": [
    {
     "data": {
      "text/plain": [
       "<function matplotlib.pyplot.show(close=None, block=None)>"
      ]
     },
     "execution_count": 20,
     "metadata": {},
     "output_type": "execute_result"
    },
    {
     "data": {
      "image/png": "[encoded data removed]",
      "text/plain": [
       "<Figure size 1000x400 with 2 Axes>"
      ]
     },
     "metadata": {},
     "output_type": "display_data"
    }
   ],
   "source": [
    "#2D Visualization\n",
    "fig, ax = plt.subplots(1, 2)\n",
    "\n",
    "#XY Plane\n",
    "ax[0].scatter(data['x'], data['y'])\n",
    "ax[0].set_title('XY Plane')\n",
    "\n",
    "#XZ Plane\n",
    "ax[1].scatter(data['x'], data['z'])\n",
    "ax[1].set_title('XZ Plane')\n",
    "\n",
    "#set good spacing\n",
    "fig.tight_layout()\n",
    "fig.set_size_inches(10, 4, forward=True)\n",
    "plt.show"
   ]
  },
  {
   "cell_type": "code",
   "execution_count": 21,
   "id": "a4ce1de4",
   "metadata": {},
   "outputs": [],
   "source": [
    "data['error_over_parallax']=[data['e_Plx'][i]/data['Plx'][i] for i in range(len(data))]"
   ]
  },
  {
   "cell_type": "code",
   "execution_count": 22,
   "id": "65b7a0b5",
   "metadata": {},
   "outputs": [
    {
     "data": {
      "text/plain": [
       "0"
      ]
     },
     "execution_count": 22,
     "metadata": {},
     "output_type": "execute_result"
    }
   ],
   "source": [
    "len(data[data['error_over_parallax']>0.2])"
   ]
  },
  {
   "cell_type": "code",
   "execution_count": 23,
   "id": "44e1dd20",
   "metadata": {},
   "outputs": [],
   "source": [
    "#construct a speck comment column\n",
    "data['speck_label'] = data.Column(data=['#__'+str(name) for name in data['GaiaDR3']], \n",
    "                                  meta=collections.OrderedDict([('ucd', 'meta.id')]),\n",
    "                                  description='Gaia DR3 Source ID')\n",
    "\n",
    "#construct a label column\n",
    "data['label'] = ['GaiaDR3_'+ str(source) for source in data['GaiaDR3']]  #leaving for now in case we want to add other labels"
   ]
  },
  {
   "cell_type": "code",
   "execution_count": 31,
   "id": "63c9d343",
   "metadata": {},
   "outputs": [],
   "source": [
    "#setting texture number column\n",
    "data['texnum'] = data.Column(data=[1]*len(data), \n",
    "                                  meta=collections.OrderedDict([('ucd', 'meta.texnum')]),\n",
    "                                  description='Texture Number')"
   ]
  },
  {
   "cell_type": "code",
   "execution_count": 33,
   "id": "7e3c80d8",
   "metadata": {},
   "outputs": [
    {
     "data": {
      "text/html": [
       "<div>\n",
       "<style scoped>\n",
       "    .dataframe tbody tr th:only-of-type {\n",
       "        vertical-align: middle;\n",
       "    }\n",
       "\n",
       "    .dataframe tbody tr th {\n",
       "        vertical-align: top;\n",
       "    }\n",
       "\n",
       "    .dataframe thead th {\n",
       "        text-align: right;\n",
       "    }\n",
       "</style>\n",
       "<table border=\"1\" class=\"dataframe\">\n",
       "  <thead>\n",
       "    <tr style=\"text-align: right;\">\n",
       "      <th></th>\n",
       "      <th>name</th>\n",
       "      <th>unit</th>\n",
       "      <th>datatype</th>\n",
       "      <th>width</th>\n",
       "      <th>precision</th>\n",
       "      <th>arraysize</th>\n",
       "      <th>ucd</th>\n",
       "      <th>description</th>\n",
       "    </tr>\n",
       "  </thead>\n",
       "  <tbody>\n",
       "    <tr>\n",
       "      <th>0</th>\n",
       "      <td>x</td>\n",
       "      <td>pc</td>\n",
       "      <td>float64</td>\n",
       "      <td></td>\n",
       "      <td>6</td>\n",
       "      <td></td>\n",
       "      <td>pos.cartesian.x</td>\n",
       "      <td>Position (x coordinate) in pc</td>\n",
       "    </tr>\n",
       "    <tr>\n",
       "      <th>1</th>\n",
       "      <td>y</td>\n",
       "      <td>pc</td>\n",
       "      <td>float64</td>\n",
       "      <td></td>\n",
       "      <td>6</td>\n",
       "      <td></td>\n",
       "      <td>pos.cartesian.y</td>\n",
       "      <td>Position (y coordinate) in pc</td>\n",
       "    </tr>\n",
       "    <tr>\n",
       "      <th>2</th>\n",
       "      <td>z</td>\n",
       "      <td>pc</td>\n",
       "      <td>float64</td>\n",
       "      <td></td>\n",
       "      <td>6</td>\n",
       "      <td></td>\n",
       "      <td>pos.cartesian.z</td>\n",
       "      <td>Position (z coordinate) in pc</td>\n",
       "    </tr>\n",
       "    <tr>\n",
       "      <th>3</th>\n",
       "      <td>color</td>\n",
       "      <td>solLum</td>\n",
       "      <td>float32</td>\n",
       "      <td></td>\n",
       "      <td>2</td>\n",
       "      <td></td>\n",
       "      <td>phys.color</td>\n",
       "      <td>Gaia BP-G color</td>\n",
       "    </tr>\n",
       "    <tr>\n",
       "      <th>4</th>\n",
       "      <td>lum</td>\n",
       "      <td>solLum</td>\n",
       "      <td>float64</td>\n",
       "      <td></td>\n",
       "      <td>6</td>\n",
       "      <td></td>\n",
       "      <td>phys.luminosity</td>\n",
       "      <td>Stellar Luminosity</td>\n",
       "    </tr>\n",
       "    <tr>\n",
       "      <th>5</th>\n",
       "      <td>absmag</td>\n",
       "      <td>mag</td>\n",
       "      <td>float64</td>\n",
       "      <td></td>\n",
       "      <td>6</td>\n",
       "      <td></td>\n",
       "      <td>phot.magAbs;em.opt.G</td>\n",
       "      <td>Absolute magnitude in Gaia G-band</td>\n",
       "    </tr>\n",
       "    <tr>\n",
       "      <th>6</th>\n",
       "      <td>appmag</td>\n",
       "      <td>mag</td>\n",
       "      <td>float64</td>\n",
       "      <td></td>\n",
       "      <td>6</td>\n",
       "      <td></td>\n",
       "      <td>phot.mag;em.opt.G</td>\n",
       "      <td>Apparent magnitude in Gaia G-band</td>\n",
       "    </tr>\n",
       "    <tr>\n",
       "      <th>7</th>\n",
       "      <td>texnum</td>\n",
       "      <td></td>\n",
       "      <td>int32</td>\n",
       "      <td></td>\n",
       "      <td></td>\n",
       "      <td></td>\n",
       "      <td>meta.texnum</td>\n",
       "      <td>Texture Number</td>\n",
       "    </tr>\n",
       "    <tr>\n",
       "      <th>8</th>\n",
       "      <td>dist_ly</td>\n",
       "      <td>lyr</td>\n",
       "      <td>float32</td>\n",
       "      <td></td>\n",
       "      <td>1</td>\n",
       "      <td></td>\n",
       "      <td>pos.distance</td>\n",
       "      <td>Distance from Sun (lyr)</td>\n",
       "    </tr>\n",
       "    <tr>\n",
       "      <th>9</th>\n",
       "      <td>dcalc</td>\n",
       "      <td></td>\n",
       "      <td>int32</td>\n",
       "      <td></td>\n",
       "      <td></td>\n",
       "      <td></td>\n",
       "      <td>meta.dcalc</td>\n",
       "      <td>Distance Indicator: 1 indicates a Bailer-Jones...</td>\n",
       "    </tr>\n",
       "    <tr>\n",
       "      <th>10</th>\n",
       "      <td>u</td>\n",
       "      <td>km / s</td>\n",
       "      <td>float64</td>\n",
       "      <td></td>\n",
       "      <td>6</td>\n",
       "      <td></td>\n",
       "      <td>vel.cartesian.u</td>\n",
       "      <td>Heliocentric velocity towards Galactic Center</td>\n",
       "    </tr>\n",
       "    <tr>\n",
       "      <th>11</th>\n",
       "      <td>v</td>\n",
       "      <td>km / s</td>\n",
       "      <td>float64</td>\n",
       "      <td></td>\n",
       "      <td>6</td>\n",
       "      <td></td>\n",
       "      <td>vel.cartesian.v</td>\n",
       "      <td>Heliocentric velocity towards Galactic Rotation</td>\n",
       "    </tr>\n",
       "    <tr>\n",
       "      <th>12</th>\n",
       "      <td>w</td>\n",
       "      <td>km / s</td>\n",
       "      <td>float64</td>\n",
       "      <td></td>\n",
       "      <td>6</td>\n",
       "      <td></td>\n",
       "      <td>vel.cartesian.w</td>\n",
       "      <td>Heliocentric velocity towards Galactic North Pole</td>\n",
       "    </tr>\n",
       "    <tr>\n",
       "      <th>13</th>\n",
       "      <td>speed</td>\n",
       "      <td></td>\n",
       "      <td>float64</td>\n",
       "      <td></td>\n",
       "      <td>6</td>\n",
       "      <td></td>\n",
       "      <td>vel.speed</td>\n",
       "      <td>Total heliocentric velocity</td>\n",
       "    </tr>\n",
       "    <tr>\n",
       "      <th>14</th>\n",
       "      <td>tphmed</td>\n",
       "      <td>kyr</td>\n",
       "      <td>float32</td>\n",
       "      <td>7</td>\n",
       "      <td>1</td>\n",
       "      <td></td>\n",
       "      <td>TIME_MISC</td>\n",
       "      <td>Median perihelion time</td>\n",
       "    </tr>\n",
       "    <tr>\n",
       "      <th>15</th>\n",
       "      <td>dphmed</td>\n",
       "      <td>pc</td>\n",
       "      <td>float32</td>\n",
       "      <td>7</td>\n",
       "      <td>4</td>\n",
       "      <td></td>\n",
       "      <td>ORBIT_DISTANCE</td>\n",
       "      <td>Median perihelion distance</td>\n",
       "    </tr>\n",
       "    <tr>\n",
       "      <th>16</th>\n",
       "      <td>vphmed</td>\n",
       "      <td>km / s</td>\n",
       "      <td>float32</td>\n",
       "      <td>6</td>\n",
       "      <td>2</td>\n",
       "      <td></td>\n",
       "      <td>VELOC_HC</td>\n",
       "      <td>Median perihelion velocity</td>\n",
       "    </tr>\n",
       "    <tr>\n",
       "      <th>17</th>\n",
       "      <td>speck_label</td>\n",
       "      <td></td>\n",
       "      <td>str</td>\n",
       "      <td></td>\n",
       "      <td></td>\n",
       "      <td>*</td>\n",
       "      <td>meta.id</td>\n",
       "      <td>Gaia DR3 Source ID</td>\n",
       "    </tr>\n",
       "  </tbody>\n",
       "</table>\n",
       "</div>"
      ],
      "text/plain": [
       "           name    unit datatype width precision arraysize  \\\n",
       "0             x      pc  float64               6             \n",
       "1             y      pc  float64               6             \n",
       "2             z      pc  float64               6             \n",
       "3         color  solLum  float32               2             \n",
       "4           lum  solLum  float64               6             \n",
       "5        absmag     mag  float64               6             \n",
       "6        appmag     mag  float64               6             \n",
       "7        texnum            int32                             \n",
       "8       dist_ly     lyr  float32               1             \n",
       "9         dcalc            int32                             \n",
       "10            u  km / s  float64               6             \n",
       "11            v  km / s  float64               6             \n",
       "12            w  km / s  float64               6             \n",
       "13        speed          float64               6             \n",
       "14       tphmed     kyr  float32     7         1             \n",
       "15       dphmed      pc  float32     7         4             \n",
       "16       vphmed  km / s  float32     6         2             \n",
       "17  speck_label              str                         *   \n",
       "\n",
       "                     ucd                                        description  \n",
       "0        pos.cartesian.x                      Position (x coordinate) in pc  \n",
       "1        pos.cartesian.y                      Position (y coordinate) in pc  \n",
       "2        pos.cartesian.z                      Position (z coordinate) in pc  \n",
       "3             phys.color                                    Gaia BP-G color  \n",
       "4        phys.luminosity                                 Stellar Luminosity  \n",
       "5   phot.magAbs;em.opt.G                  Absolute magnitude in Gaia G-band  \n",
       "6      phot.mag;em.opt.G                  Apparent magnitude in Gaia G-band  \n",
       "7            meta.texnum                                     Texture Number  \n",
       "8           pos.distance                            Distance from Sun (lyr)  \n",
       "9             meta.dcalc  Distance Indicator: 1 indicates a Bailer-Jones...  \n",
       "10       vel.cartesian.u      Heliocentric velocity towards Galactic Center  \n",
       "11       vel.cartesian.v    Heliocentric velocity towards Galactic Rotation  \n",
       "12       vel.cartesian.w  Heliocentric velocity towards Galactic North Pole  \n",
       "13             vel.speed                        Total heliocentric velocity  \n",
       "14             TIME_MISC                             Median perihelion time  \n",
       "15        ORBIT_DISTANCE                         Median perihelion distance  \n",
       "16              VELOC_HC                         Median perihelion velocity  \n",
       "17               meta.id                                 Gaia DR3 Source ID  "
      ]
     },
     "execution_count": 33,
     "metadata": {},
     "output_type": "execute_result"
    }
   ],
   "source": [
    "#Getting the column metadata\n",
    "columns = file_functions.get_metadata(data, columns=['x', 'y', 'z', 'color', 'lum', 'absmag', 'appmag', 'texnum', 'dist_ly', 'dcalc', 'u', 'v', 'w', 'speed', 'tphmed', 'dphmed', 'vphmed', 'speck_label'])\n",
    "columns"
   ]
  },
  {
   "cell_type": "code",
   "execution_count": 34,
   "id": "fbc97ae8-ce19-45cd-9f3b-07a92b6fd03d",
   "metadata": {},
   "outputs": [],
   "source": [
    "# Print the csv file using the to_csv function in file_functions\n",
    "file_functions.to_csv(metadata, Table.to_pandas(data), columns)"
   ]
  },
  {
   "cell_type": "code",
   "execution_count": 35,
   "id": "1e6ef287",
   "metadata": {},
   "outputs": [],
   "source": [
    "# Print the speck file using the to_speck function in file_functions\n",
    "file_functions.to_speck(metadata, Table.to_pandas(data), columns)"
   ]
  },
  {
   "cell_type": "code",
   "execution_count": 36,
   "id": "07bd3b35",
   "metadata": {},
   "outputs": [],
   "source": [
    "# Print the label file using the to_label function in file_functions\n",
    "file_functions.to_label(metadata, Table.to_pandas(data))"
   ]
  },
  {
   "cell_type": "code",
   "execution_count": 21,
   "id": "c31dcd40",
   "metadata": {},
   "outputs": [],
   "source": [
    "from astropy.units import imperial"
   ]
  },
  {
   "cell_type": "code",
   "execution_count": 22,
   "id": "819605ad",
   "metadata": {},
   "outputs": [
    {
     "data": {
      "text/latex": [
       "$1.2194354 \\times 10^{12} \\; \\mathrm{mi}$"
      ],
      "text/plain": [
       "<Quantity 1.21943541e+12 mi>"
      ]
     },
     "execution_count": 22,
     "metadata": {},
     "output_type": "execute_result"
    }
   ],
   "source": [
    "min(data['dphmed'].quantity).to(imperial.mile)"
   ]
  },
  {
   "cell_type": "code",
   "execution_count": null,
   "id": "99b2cc8b",
   "metadata": {},
   "outputs": [],
   "source": [
    "data[data['dphmed']<0.07]"
   ]
  },
  {
   "cell_type": "code",
   "execution_count": null,
   "id": "0959c262",
   "metadata": {},
   "outputs": [],
   "source": [
    "[1,2,3]-[4,5,6]"
   ]
  },
  {
   "cell_type": "code",
   "execution_count": null,
   "id": "84fcae1b",
   "metadata": {},
   "outputs": [],
   "source": [
    "data"
   ]
  }
 ],
 "metadata": {
  "kernelspec": {
   "display_name": "Python 3 (ipykernel)",
   "language": "python",
   "name": "python3"
  },
  "language_info": {
   "codemirror_mode": {
    "name": "ipython",
    "version": 3
   },
   "file_extension": ".py",
   "mimetype": "text/x-python",
   "name": "python",
   "nbconvert_exporter": "python",
   "pygments_lexer": "ipython3",
   "version": "3.11.7"
  }
 },
 "nbformat": 4,
 "nbformat_minor": 5
}

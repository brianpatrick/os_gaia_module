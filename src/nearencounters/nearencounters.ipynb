{
 "cells": [
  {
   "cell_type": "code",
   "execution_count": null,
   "id": "d58ec4c7",
   "metadata": {},
   "outputs": [],
   "source": [
    "# PROCESS THE BAILER-JONES NEAR ENCOUNTERS CATALOG:\n",
    "# https://cdsarc.cds.unistra.fr/viz-bin/cat/J/ApJ/935/L9\n",
    "#\n",
    "#\n",
    "# ZACK REEVES\n",
    "# CREATED: 2024\n",
    "#\n",
    "# VERSIONS:\n",
    "#  1.1  MAR 2024 CREATE JUPYTER NOTEBOOK"
   ]
  },
  {
   "cell_type": "code",
   "execution_count": null,
   "id": "3d8d3348",
   "metadata": {},
   "outputs": [],
   "source": [
    "import pandas as pd\n",
    "import numpy as np\n",
    "import sys\n",
    "import os\n",
    "import collections\n",
    "\n",
    "import astropy.units as u\n",
    "import astropy.coordinates\n",
    "from astropy.table import Table, join\n",
    "\n",
    "from astroquery.vizier import Vizier\n",
    "from astroquery.gaia import Gaia\n",
    "\n",
    "sys.path.insert(0, '..')\n",
    "from common import file_functions, calculations\n",
    "\n",
    "from matplotlib import pyplot as plt, colors"
   ]
  },
  {
   "cell_type": "code",
   "execution_count": null,
   "id": "5deba57a",
   "metadata": {},
   "outputs": [],
   "source": [
    "# Define the metadata for the data set. \n",
    "metadata = {}\n",
    "\n",
    "metadata['project'] = 'Digital Universe Atlas Gaia Subsets'\n",
    "metadata['sub_project'] = 'Close encounters to the Sun'\n",
    "\n",
    "metadata['catalog'] = 'Close encounters to the Sun in Gaia DR3 (Bailer-Jones, 2022)'\n",
    "metadata['catalog_author'] = 'Bailer-Jones'\n",
    "metadata['catalog_year'] = '2022'\n",
    "metadata['catalog_doi'] = 'doi:10.1051/0004-6361/202039498'  #need to fix\n",
    "metadata['catalog_bibcode'] = '2021A&A...649A...6G' #need to fix\n",
    "\n",
    "metadata['prepared_by'] = 'Zack Reeves (AMNH)'\n",
    "metadata['version'] = '1.1'\n",
    "\n",
    "metadata['dir'] = metadata['sub_project'].replace(' ', '_').lower()\n",
    "metadata['raw_data_dir'] = ''\n",
    "\n",
    "metadata['data_group_title'] = 'Near Encounters to the Sun'\n",
    "metadata['data_group_desc'] = 'Near Encounters to the Sun'\n",
    "metadata['data_group_desc_long'] = '' #need to write\n",
    "\n",
    "metadata['fileroot'] = 'near_encounters'\n",
    "file_functions.generate_license_file(metadata)\n",
    "file_functions.generate_asset_file(metadata)"
   ]
  },
  {
   "cell_type": "code",
   "execution_count": null,
   "id": "bdc23ad0",
   "metadata": {},
   "outputs": [],
   "source": [
    "#reading in the catalogue\n",
    "catalog = Vizier(catalog='J/ApJ/935/L9/table12', columns=['**'], row_limit=-1).query_constraints()\n",
    "catalog[0]"
   ]
  },
  {
   "cell_type": "code",
   "execution_count": null,
   "id": "46c7fc18",
   "metadata": {},
   "outputs": [],
   "source": [
    "#reducing data down to the necessary columns\n",
    "data = catalog[0][['GaiaDR3', 'tphmed', 'dphmed', 'vphmed', 'Plx', 'e_Plx', 'RV', 'Gmag', 'GMAG', 'GLON', 'GLAT']]"
   ]
  },
  {
   "cell_type": "code",
   "execution_count": null,
   "id": "531cc691-5274-42cc-94bd-973557cbe2cf",
   "metadata": {},
   "outputs": [],
   "source": [
    "#Query Gaia ESA ADQL server using Gaia EDR3 IDs to obtain proper motion and RA/DEC to calculate uvw\n",
    "\n",
    "#log in to Gaia Server - Can change to different credentials file for a different user\n",
    "Gaia.login(credentials_file='../common/gaia_credentials.txt')\n",
    "\n",
    "#grab username from file\n",
    "file = open('../common/gaia_credentials.txt', 'r')\n",
    "username = file.readline().strip()\n",
    "\n",
    "#Upload table (table name will be forced to lowercase)\n",
    "job = Gaia.upload_table(upload_resource=data[['GaiaDR3']], table_name=\"near_encounters\", format=\"csv\")\n",
    "\n",
    "#Query Gaia DR3 source for parallaxes\n",
    "#Potentially want Bailer Jones distances pending figuring out the parallax error issue\n",
    "job = Gaia.launch_job_async(\"select a.GaiaDR3, b.ra, b.dec, b.pmra, b.pmdec, bp_g \"\n",
    "                            \"from user_\"+username+\".near_encounters a left join gaiadr3.gaia_source b on a.GaiaDR3 = b.source_id \",\n",
    "                            dump_to_file=False)\n",
    "\n",
    "#put the resulting table into a dataframe and drop the unnecessary index column\n",
    "data = join(data, job.get_results(), keys='GaiaDR3', join_type='left')\n",
    "# data.remove_column('xhip_main_oid')\n",
    "#Deleting table and job from Gaia ESA server so we don't clog the memory\n",
    "#Gaia.delete_user_table('near_encounters')\n",
    "Gaia.remove_jobs(job.jobid)\n",
    "\n",
    "Gaia.logout()"
   ]
  },
  {
   "cell_type": "code",
   "execution_count": null,
   "id": "85ae9a6a-24d9-4a90-acd8-f15bb1061c20",
   "metadata": {},
   "outputs": [],
   "source": [
    "data"
   ]
  },
  {
   "cell_type": "code",
   "execution_count": null,
   "id": "0a54d0f6",
   "metadata": {},
   "outputs": [],
   "source": [
    "#calculating distance in light years and parsecs\n",
    "calculations.get_distance(data, parallax='Plx', use='parallax')"
   ]
  },
  {
   "cell_type": "code",
   "execution_count": null,
   "id": "08581054",
   "metadata": {},
   "outputs": [],
   "source": [
    "#calculating cartesian coordinates\n",
    "#calculations.get_cartesian(data, ra='ra', dec='dec', pmra='pmra', pmde='pmdec', radial_velocity='RV', frame='icrs')\n",
    "calculations.get_cartesian(data, glon='GLON', glat='GLAT', pmra='pmra', pmde='pmdec', radial_velocity='RV', frame='icrs')"
   ]
  },
  {
   "cell_type": "code",
   "execution_count": null,
   "id": "e090319a-c48d-4afa-9d12-36544cf26c16",
   "metadata": {},
   "outputs": [],
   "source": [
    "data"
   ]
  },
  {
   "cell_type": "code",
   "execution_count": null,
   "id": "dc19911c",
   "metadata": {},
   "outputs": [],
   "source": [
    "#setting dcalc\n",
    "#setting metadata for dcalc\n",
    "#since we calculate distance only using parallax in this dataset, dcalc is always 2\n",
    "data['dcalc'] = data.Column(data=[2]*len(data),\n",
    "                            meta=collections.OrderedDict([('ucd', 'meta.dcalc')]),\n",
    "                            description='Distance Indicator: 1 indicates a Bailer-Jones photogeometric distance; 2 indicates a Bailer-Jones geometric distance')"
   ]
  },
  {
   "cell_type": "code",
   "execution_count": null,
   "id": "8385895e",
   "metadata": {},
   "outputs": [],
   "source": [
    "#calculating absolute magnitudes\n",
    "#calculate absolute V mag based on apparent magnitude and distance\n",
    "data['appmag'] = data.MaskedColumn(data=data['Gmag'],\n",
    "                             unit=u.mag,\n",
    "                             meta=collections.OrderedDict([('ucd', 'phot.mag;em.opt.G')]),\n",
    "                             format='{:.6f}',\n",
    "                             description='Apparent magnitude in Gaia G-band')\n",
    "data['absmag'] = data.MaskedColumn(data=[data['appmag'][i]+5-5*np.log10(data['dist_pc'][i]) for i in range(len(data))],\n",
    "                             unit=u.mag,\n",
    "                             meta=collections.OrderedDict([('ucd', 'phot.magAbs;em.opt.G')]),\n",
    "                             format='{:.6f}',\n",
    "                             description='Absolute magnitude in Gaia G-band')"
   ]
  },
  {
   "cell_type": "code",
   "execution_count": null,
   "id": "4f042ce9",
   "metadata": {},
   "outputs": [],
   "source": [
    "#calculate luminosity based on absolute magnitude\n",
    "data['lum'] = [10**(1.89 - 0.4*data['absmag'][i]) for i in range(len(data))]\n",
    "small_luminosities = np.where((data['lum']>0.0) & (data['lum']<0.001))[0]\n",
    "data['lum'][small_luminosities] = [0.001]*len(small_luminosities)\n",
    "\n",
    "data['lum'] = data.MaskedColumn(data=data['lum'],\n",
    "                             unit=u.solLum,\n",
    "                             meta=collections.OrderedDict([('ucd', 'phys.luminosity')]),\n",
    "                             format='{:.6f}',\n",
    "                             description='Stellar Luminosity')"
   ]
  },
  {
   "cell_type": "code",
   "execution_count": null,
   "id": "652c11c5",
   "metadata": {},
   "outputs": [],
   "source": [
    "#setting color and visualizing\n",
    "data['color'] = data.MaskedColumn(data=data['bp_g'],\n",
    "                             unit=u.solLum,\n",
    "                             meta=collections.OrderedDict([('ucd', 'phys.color')]),\n",
    "                             format='{:.2f}',\n",
    "                             description='Gaia BP-G color')\n",
    "plt.hist(data['color'], bins=10)"
   ]
  },
  {
   "cell_type": "code",
   "execution_count": null,
   "id": "802228aa",
   "metadata": {},
   "outputs": [],
   "source": [
    "#2D Visualization\n",
    "fig, ax = plt.subplots(1, 2)\n",
    "\n",
    "#XY Plane\n",
    "ax[0].scatter(data['x'], data['y'])\n",
    "ax[0].set_title('XY Plane')\n",
    "\n",
    "#XZ Plane\n",
    "ax[1].scatter(data['x'], data['z'])\n",
    "ax[1].set_title('XZ Plane')\n",
    "\n",
    "#set good spacing\n",
    "fig.tight_layout()\n",
    "fig.set_size_inches(10, 4, forward=True)\n",
    "plt.show"
   ]
  },
  {
   "cell_type": "code",
   "execution_count": null,
   "id": "a4ce1de4",
   "metadata": {},
   "outputs": [],
   "source": [
    "data['error_over_parallax']=[data['e_Plx'][i]/data['Plx'][i] for i in range(len(data))]"
   ]
  },
  {
   "cell_type": "code",
   "execution_count": null,
   "id": "65b7a0b5",
   "metadata": {},
   "outputs": [],
   "source": [
    "len(data[data['error_over_parallax']>0.2])"
   ]
  },
  {
   "cell_type": "code",
   "execution_count": null,
   "id": "44e1dd20",
   "metadata": {},
   "outputs": [],
   "source": [
    "#construct a speck comment column\n",
    "data['speck_label'] = data.Column(data=['#__'+str(name) for name in data['GaiaDR3']], \n",
    "                                  meta=collections.OrderedDict([('ucd', 'meta.id')]),\n",
    "                                  description='Gaia DR3 Source ID')\n",
    "\n",
    "#construct a label column\n",
    "data['label'] = ['GaiaDR3_'+ str(source) for source in data['GaiaDR3']]  #leaving for now in case we want to add other labels"
   ]
  },
  {
   "cell_type": "code",
   "execution_count": null,
   "id": "63c9d343",
   "metadata": {},
   "outputs": [],
   "source": [
    "#setting texture number column\n",
    "data['texnum'] = data.Column(data=[1]*len(data), \n",
    "                                  meta=collections.OrderedDict([('ucd', 'meta.texnum')]),\n",
    "                                  description='Texture Number')"
   ]
  },
  {
   "cell_type": "code",
   "execution_count": null,
   "id": "7e3c80d8",
   "metadata": {},
   "outputs": [],
   "source": [
    "#Getting the column metadata\n",
    "columns = file_functions.get_metadata(data, columns=['x', 'y', 'z', 'color', 'lum', 'absmag', 'appmag', 'texnum', 'dist_ly', 'dcalc', 'u', 'v', 'w', 'speed', 'tphmed', 'dphmed', 'vphmed', 'speck_label'])\n",
    "columns"
   ]
  },
  {
   "cell_type": "code",
   "execution_count": null,
   "id": "fbc97ae8-ce19-45cd-9f3b-07a92b6fd03d",
   "metadata": {},
   "outputs": [],
   "source": [
    "# Print the csv file using the to_csv function in file_functions\n",
    "file_functions.to_csv(metadata, Table.to_pandas(data), columns)"
   ]
  },
  {
   "cell_type": "code",
   "execution_count": null,
   "id": "1e6ef287",
   "metadata": {},
   "outputs": [],
   "source": [
    "# Print the speck file using the to_speck function in file_functions\n",
    "file_functions.to_speck(metadata, Table.to_pandas(data), columns)"
   ]
  },
  {
   "cell_type": "code",
   "execution_count": null,
   "id": "07bd3b35",
   "metadata": {},
   "outputs": [],
   "source": [
    "# Print the label file using the to_label function in file_functions\n",
    "file_functions.to_label(metadata, Table.to_pandas(data))"
   ]
  },
  {
   "cell_type": "code",
   "execution_count": null,
   "id": "c31dcd40",
   "metadata": {},
   "outputs": [],
   "source": [
    "from astropy.units import imperial"
   ]
  },
  {
   "cell_type": "code",
   "execution_count": null,
   "id": "819605ad",
   "metadata": {},
   "outputs": [],
   "source": [
    "min(data['dphmed'].quantity).to(imperial.mile)"
   ]
  },
  {
   "cell_type": "code",
   "execution_count": null,
   "id": "99b2cc8b",
   "metadata": {},
   "outputs": [],
   "source": [
    "data[data['dphmed']<0.07]"
   ]
  },
  {
   "cell_type": "code",
   "execution_count": null,
   "id": "84fcae1b",
   "metadata": {},
   "outputs": [],
   "source": [
    "data"
   ]
  }
 ],
 "metadata": {
  "kernelspec": {
   "display_name": "Python 3 (ipykernel)",
   "language": "python",
   "name": "python3"
  },
  "language_info": {
   "codemirror_mode": {
    "name": "ipython",
    "version": 3
   },
   "file_extension": ".py",
   "mimetype": "text/x-python",
   "name": "python",
   "nbconvert_exporter": "python",
   "pygments_lexer": "ipython3",
   "version": "3.12.4"
  }
 },
 "nbformat": 4,
 "nbformat_minor": 5
}
